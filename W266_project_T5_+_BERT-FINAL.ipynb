{
  "cells": [
    {
      "cell_type": "markdown",
      "metadata": {
        "id": "6EypGRemr5p_"
      },
      "source": [
        "## Import Data"
      ]
    },
    {
      "cell_type": "code",
      "execution_count": 1,
      "metadata": {
        "colab": {
          "base_uri": "https://localhost:8080/"
        },
        "id": "FTUIhpHu0k66",
        "outputId": "4d133c38-a6fb-4d41-c1ca-4ca0fbab1192"
      },
      "outputs": [
        {
          "output_type": "stream",
          "name": "stdout",
          "text": [
            "Mounted at /content/gdrive\n"
          ]
        }
      ],
      "source": [
        "import numpy as np \n",
        "import pandas as pd \n",
        "import json\n",
        "\n",
        "from google.colab import drive\n",
        "drive.mount('/content/gdrive')\n",
        "data_path = '/content/gdrive/MyDrive/MIDS/W266: NLP'"
      ]
    },
    {
      "cell_type": "code",
      "execution_count": 2,
      "metadata": {
        "colab": {
          "base_uri": "https://localhost:8080/"
        },
        "id": "A8gG0UtYvVrg",
        "outputId": "0f059bf1-e737-4232-e15f-a63554ddb8a4"
      },
      "outputs": [
        {
          "output_type": "stream",
          "name": "stdout",
          "text": [
            "\u001b[2K     \u001b[90m━━━━━━━━━━━━━━━━━━━━━━━━━━━━━━━━━━━━━━━━\u001b[0m \u001b[32m7.0/7.0 MB\u001b[0m \u001b[31m53.6 MB/s\u001b[0m eta \u001b[36m0:00:00\u001b[0m\n",
            "\u001b[2K     \u001b[90m━━━━━━━━━━━━━━━━━━━━━━━━━━━━━━━━━━━━━━━━\u001b[0m \u001b[32m7.8/7.8 MB\u001b[0m \u001b[31m105.1 MB/s\u001b[0m eta \u001b[36m0:00:00\u001b[0m\n",
            "\u001b[2K     \u001b[90m━━━━━━━━━━━━━━━━━━━━━━━━━━━━━━━━━━━━━━\u001b[0m \u001b[32m200.1/200.1 kB\u001b[0m \u001b[31m25.6 MB/s\u001b[0m eta \u001b[36m0:00:00\u001b[0m\n",
            "\u001b[2K     \u001b[90m━━━━━━━━━━━━━━━━━━━━━━━━━━━━━━━━━━━━━━━\u001b[0m \u001b[32m588.3/588.3 MB\u001b[0m \u001b[31m2.1 MB/s\u001b[0m eta \u001b[36m0:00:00\u001b[0m\n",
            "\u001b[2K     \u001b[90m━━━━━━━━━━━━━━━━━━━━━━━━━━━━━━━━━━━━━━\u001b[0m \u001b[32m439.2/439.2 kB\u001b[0m \u001b[31m39.4 MB/s\u001b[0m eta \u001b[36m0:00:00\u001b[0m\n",
            "\u001b[2K     \u001b[90m━━━━━━━━━━━━━━━━━━━━━━━━━━━━━━━━━━━━━━━━\u001b[0m \u001b[32m6.0/6.0 MB\u001b[0m \u001b[31m78.9 MB/s\u001b[0m eta \u001b[36m0:00:00\u001b[0m\n",
            "\u001b[2K     \u001b[90m━━━━━━━━━━━━━━━━━━━━━━━━━━━━━━━━━━━━━━━━\u001b[0m \u001b[32m1.7/1.7 MB\u001b[0m \u001b[31m80.8 MB/s\u001b[0m eta \u001b[36m0:00:00\u001b[0m\n",
            "\u001b[2K     \u001b[90m━━━━━━━━━━━━━━━━━━━━━━━━━━━━━━━━━━━━━━━━\u001b[0m \u001b[32m1.1/1.1 MB\u001b[0m \u001b[31m74.8 MB/s\u001b[0m eta \u001b[36m0:00:00\u001b[0m\n",
            "\u001b[2K     \u001b[90m━━━━━━━━━━━━━━━━━━━━━━━━━━━━━━━━━━━━━━━━\u001b[0m \u001b[32m4.9/4.9 MB\u001b[0m \u001b[31m102.7 MB/s\u001b[0m eta \u001b[36m0:00:00\u001b[0m\n",
            "\u001b[2K     \u001b[90m━━━━━━━━━━━━━━━━━━━━━━━━━━━━━━━━━━━━━━━━\u001b[0m \u001b[32m1.3/1.3 MB\u001b[0m \u001b[31m17.4 MB/s\u001b[0m eta \u001b[36m0:00:00\u001b[0m\n",
            "\u001b[2K     \u001b[90m━━━━━━━━━━━━━━━━━━━━━━━━━━━━━━━━━━━━━━━\u001b[0m \u001b[32m468.7/468.7 kB\u001b[0m \u001b[31m8.7 MB/s\u001b[0m eta \u001b[36m0:00:00\u001b[0m\n",
            "\u001b[2K     \u001b[90m━━━━━━━━━━━━━━━━━━━━━━━━━━━━━━━━━━━━━━\u001b[0m \u001b[32m132.9/132.9 kB\u001b[0m \u001b[31m18.3 MB/s\u001b[0m eta \u001b[36m0:00:00\u001b[0m\n",
            "\u001b[2K     \u001b[90m━━━━━━━━━━━━━━━━━━━━━━━━━━━━━━━━━━━━━━━━\u001b[0m \u001b[32m1.0/1.0 MB\u001b[0m \u001b[31m41.1 MB/s\u001b[0m eta \u001b[36m0:00:00\u001b[0m\n",
            "\u001b[2K     \u001b[90m━━━━━━━━━━━━━━━━━━━━━━━━━━━━━━━━━━━━━━\u001b[0m \u001b[32m212.2/212.2 kB\u001b[0m \u001b[31m26.3 MB/s\u001b[0m eta \u001b[36m0:00:00\u001b[0m\n",
            "\u001b[2K     \u001b[90m━━━━━━━━━━━━━━━━━━━━━━━━━━━━━━━━━━━━━━\u001b[0m \u001b[32m110.5/110.5 kB\u001b[0m \u001b[31m15.6 MB/s\u001b[0m eta \u001b[36m0:00:00\u001b[0m\n",
            "\u001b[2K     \u001b[90m━━━━━━━━━━━━━━━━━━━━━━━━━━━━━━━━━━━━━━\u001b[0m \u001b[32m158.8/158.8 kB\u001b[0m \u001b[31m21.2 MB/s\u001b[0m eta \u001b[36m0:00:00\u001b[0m\n",
            "\u001b[2K     \u001b[90m━━━━━━━━━━━━━━━━━━━━━━━━━━━━━━━━━━━━━━\u001b[0m \u001b[32m264.6/264.6 kB\u001b[0m \u001b[31m30.5 MB/s\u001b[0m eta \u001b[36m0:00:00\u001b[0m\n",
            "\u001b[2K     \u001b[90m━━━━━━━━━━━━━━━━━━━━━━━━━━━━━━━━━━━━━━\u001b[0m \u001b[32m114.2/114.2 kB\u001b[0m \u001b[31m15.4 MB/s\u001b[0m eta \u001b[36m0:00:00\u001b[0m\n",
            "\u001b[?25h"
          ]
        }
      ],
      "source": [
        "!pip install transformers --quiet\n",
        "!pip install -U tensorflow==2.11 --quiet\n",
        "!pip install sentencepiece --quiet\n",
        "!pip install nltk --quiet\n",
        "!pip install Datasets --quiet"
      ]
    },
    {
      "cell_type": "code",
      "execution_count": 3,
      "metadata": {
        "colab": {
          "base_uri": "https://localhost:8080/"
        },
        "id": "bWuvek3Gnpqt",
        "outputId": "4bd8ac6b-6af7-4c53-e974-5f442ec1dca3"
      },
      "outputs": [
        {
          "output_type": "stream",
          "name": "stdout",
          "text": [
            "2.11.0\n"
          ]
        }
      ],
      "source": [
        "from tensorflow import keras\n",
        "from transformers import BertTokenizer, TFBertModel\n",
        "import tensorflow as tf\n",
        "from sklearn.utils import shuffle\n",
        "from sklearn.model_selection import train_test_split\n",
        "from datasets import load_dataset, concatenate_datasets, Dataset\n",
        "from sklearn.metrics import classification_report\n",
        "print(tf.__version__)"
      ]
    },
    {
      "cell_type": "markdown",
      "metadata": {
        "id": "-wn-m2S4sA9d"
      },
      "source": [
        "## Data Pipeline"
      ]
    },
    {
      "cell_type": "code",
      "execution_count": 4,
      "metadata": {
        "id": "R_R9frLeYalh"
      },
      "outputs": [],
      "source": [
        "sentfin_df = pd.read_csv(data_path + \"/SEntFiN-v1.1.csv\")\n",
        "entities_df = pd.read_csv(data_path + \"/entity_list_comprehensive.csv\")\n",
        "fiqa_df = pd.read_csv(data_path + \"/fiqa_cleaned.csv\")\n",
        "semval_df = pd.read_csv(data_path + \"/semval_cleaned.csv\")"
      ]
    },
    {
      "cell_type": "code",
      "source": [
        "fiqa_df.rename(columns = {'title':'Title'}, \n",
        "               inplace = True)\n",
        "fiqa_df = fiqa_df[[\"Title\", \"sentiment\", \"company\", \"Decisions\"]]\n",
        "semval_df.rename(columns = {'title':'Title'}, \n",
        "               inplace = True)\n",
        "semval_df = semval_df [[\"Title\", \"sentiment\", \"company\", \"Decisions\"]]"
      ],
      "metadata": {
        "id": "EvnY3Cxx11tw"
      },
      "execution_count": 5,
      "outputs": []
    },
    {
      "cell_type": "code",
      "source": [
        "fiqa_df = pd.concat([fiqa_df, semval_df])"
      ],
      "metadata": {
        "id": "baYQHvMTxSln"
      },
      "execution_count": 6,
      "outputs": []
    },
    {
      "cell_type": "code",
      "execution_count": 7,
      "metadata": {
        "id": "qnHB33755plt"
      },
      "outputs": [],
      "source": [
        "def num_entities(x):\n",
        "  n = x.Decisions.count(\":\")\n",
        "  return n\n",
        "\n",
        "def get_sent_dict(x):\n",
        "  sent_dict = json.loads(x.Decisions)\n",
        "  return sent_dict\n",
        "\n",
        "def get_entities(x):\n",
        "  sent_dict = json.loads(x.Decisions)\n",
        "  entities = list(sent_dict.keys())\n",
        "  return entities\n",
        "\n",
        "def get_sents(x):\n",
        "  sent_dict = json.loads(x.Decisions)\n",
        "  sent_vals = list(sent_dict.values())\n",
        "  return sent_vals\n",
        "\n",
        "def get_sentence_target(x):\n",
        "  sentences = []\n",
        "  for t in x.entities:\n",
        "    s = x.Title\n",
        "    s = s.replace(t, \"TGT\")\n",
        "\n",
        "    sentences.append(s)\n",
        "  return sentences\n",
        "\n",
        "def get_entities_str(x):\n",
        "  ent_str = ', '.join(x.entities)\n",
        "  return ent_str\n",
        "\n",
        "sentfin_df[\"num_entities\"] = sentfin_df.apply(num_entities, axis=1)\n",
        "sentfin_df[\"sent_dict\"] = sentfin_df.apply(get_sent_dict, axis=1)\n",
        "sentfin_df[\"entities\"] = sentfin_df.apply(get_entities, axis=1)\n",
        "sentfin_df[\"entities_str\"] = sentfin_df.apply(get_entities_str, axis=1)\n",
        "sentfin_df[\"sent_vals\"] = sentfin_df.apply(get_sents, axis=1)\n",
        "sentfin_df['sentences_input'] = sentfin_df.apply(get_sentence_target, axis=1)\n"
      ]
    },
    {
      "cell_type": "code",
      "source": [
        "def get_conflicting_sents(df):\n",
        "  count = 0\n",
        "  for index, row in df.iterrows():\n",
        "    if \"negative\" in row.sent_vals:\n",
        "      if \"positive\" in row.sent_vals:\n",
        "        print(row.Title)\n",
        "        print(row.Decisions)\n",
        "        count += 1\n",
        "  return count\n",
        "\n",
        "num_conflict = get_conflicting_sents(sentfin_df)\n",
        "print(num_conflict)"
      ],
      "metadata": {
        "colab": {
          "base_uri": "https://localhost:8080/"
        },
        "id": "3nvLVzIg7EpG",
        "outputId": "36fa9838-ed6d-4d88-8464-a123d4af4e7a"
      },
      "execution_count": 8,
      "outputs": [
        {
          "output_type": "stream",
          "name": "stdout",
          "text": [
            "Gold shines on seasonal demand; Silver dull\n",
            "{\"Gold\": \"positive\", \"Silver\": \"negative\"}\n",
            "Larger companies reverse trend, beat SMEs in Q3 results\n",
            "{\"Larger companies\": \"positive\", \"SMEs\": \"negative\"}\n",
            "Rice bran oil set to smoke out olive oil\n",
            "{\"Rice bran oil\": \"positive\", \"olive oil\": \"negative\"}\n",
            "War clouds over Crimea: Sensex ends below 21K, gold glitters\n",
            "{\"gold\": \"positive\", \"Sensex\": \"negative\"}\n",
            "Dollar hits 6-year high vs yen on Fed study, sterling woes continue\n",
            "{\"Dollar\": \"positive\", \"sterling\": \"negative\", \"yen\": \"neutral\"}\n",
            "State-run oil retailers gain on weak crude prices\n",
            "{\"oil retailers\": \"positive\", \"crude\": \"negative\"}\n",
            "Nikkei rises as yen plumbs 6-year lows\n",
            "{\"Nikkei\": \"positive\", \"yen\": \"negative\"}\n",
            "Large-caps better than mid-caps IT cos: Prateek Agarwal\n",
            "{\"Large-caps\": \"positive\", \"mid-caps IT cos\": \"negative\"}\n",
            "Export-oriented cos to outdo domestic cyclicals: Hemindra Hazari\n",
            "{\"Export-oriented cos\": \"positive\", \"domestic cyclicals\": \"negative\"}\n",
            "Lacklustre factory data hits world stocks, dollar up\n",
            "{\"dollar\": \"positive\", \"world stocks\": \"negative\"}\n",
            "Germany's DAX outperforms European shares after strong data\n",
            "{\"DAX\": \"positive\", \"European shares\": \"negative\"}\n",
            "Asian shares prove resilient to euro jitters\n",
            "{\"Asian shares\": \"positive\", \"euro\": \"negative\"}\n",
            "FPIs stay bullish on India despite China, US worries\n",
            "{\"India\": \"positive\", \"China\": \"negative\", \"US\": \"negative\"}\n",
            "MphasiS Q3 profit rises 7%; HP still a drag\n",
            "{\"MphasiS\": \"positive\", \"HP\": \"negative\"}\n",
            "Greece hopes keep euro near 3-week high vs stalling dollar\n",
            "{\"euro\": \"positive\", \"dollar\": \"negative\"}\n",
            "IRB better bet than ARSS in infra pack: Technical Trends\n",
            "{\"IRB\": \"positive\", \"ARSS\": \"negative\"}\n",
            "Oil, copper and gold retreat as dollar strengthens over yuan devaluation\n",
            "{\"dollar\": \"positive\", \"Oil\": \"negative\", \"copper\": \"negative\", \"gold\": \"negative\", \"yuan\": \"negative\"}\n",
            "Dollar's retreat lifts Asia FX; yuan up on central bank stabilisation moves\n",
            "{\"yuan\": \"positive\", \"Dollar\": \"negative\"}\n",
            "Pressure on rupee continues on dollar strength; here's why RBI will not let it depreciate\n",
            "{\"dollar\": \"positive\", \"rupee\": \"negative\"}\n",
            "Spurt in LNG prices, under-utilisation, to hurt Petronet\n",
            "{\"LNG\": \"positive\", \"Petronet\": \"negative\"}\n",
            "British pound slips against buoyant Fed-boosted dollar\n",
            "{\"dollar\": \"positive\", \"British pound\": \"negative\"}\n",
            "Weaker miners push Britain's FTSE lower; BP gains\n",
            "{\"BP\": \"positive\", \"miners\": \"negative\", \"FTSE\": \"negative\"}\n",
            "Appreciating rupee responsible for CNX IT downfall: Pankaj Pandey\n",
            "{\"rupee\": \"positive\", \"CNX IT\": \"negative\"}\n",
            "Egypt may extend gains; more earnings misses in Gulf\n",
            "{\"Egypt\": \"positive\", \"Gulf\": \"negative\"}\n",
            "Gold below $1,300 on stronger dollar, interest rate fears\n",
            "{\"dollar\": \"positive\", \"Gold\": \"negative\"}\n",
            "High pressure on pharma margins; buy JB Chemicals: Sharekhan\n",
            "{\"JB Chemicals\": \"positive\", \"pharma\": \"negative\"}\n",
            "Pulse prices dip by 4% -5% but tur defiant\n",
            "{\"tur\": \"positive\", \"Pulse\": \"negative\"}\n",
            "IT stocks fall as much as 5% on strong rupee\n",
            "{\"rupee\": \"positive\", \"IT stocks\": \"negative\"}\n",
            "Midcaps rebound from August 2013 lows as large caps struggle\n",
            "{\"Midcaps\": \"positive\", \"large caps\": \"negative\"}\n",
            "Stocks head for worst quarter since euro crisis, dollar reigns\n",
            "{\"dollar\": \"positive\", \"Stocks\": \"negative\"}\n",
            "Euro, bond yields dip as looser European Central Bank policy eyed\n",
            "{\"bond\": \"positive\", \"Euro\": \"negative\"}\n",
            "Gold declines by Rs 140 on weak global cues; silver recovers\n",
            "{\"silver\": \"positive\", \"Gold\": \"negative\"}\n",
            "Nifty may show signs of weakness; IT, banks hold the key\n",
            "{\"IT\": \"positive\", \"banks\": \"positive\", \"Nifty\": \"negative\"}\n",
            "Spike in brent prices may cause sell off in oil stocks: Mayuresh Joshi\n",
            "{\"brent\": \"positive\", \"oil stocks\": \"negative\"}\n",
            "Equity outflows at 15-week high as investors seek bond safety: Bank of America Merrill Lynch\n",
            "{\"bond\": \"positive\", \"Equity\": \"negative\", \"Bank of America Merrill Lynch\": \"neutral\"}\n",
            "Dismal US retail sales data lifts Asia Forex, South Korean Won up ahead of central bank rate decision\n",
            "{\"Asia Forex\": \"positive\", \"South Korean Won\": \"positive\", \"US retail\": \"negative\"}\n",
            "Difficult for Bank Nifty to get past 15,300; action seen in midcap, small cap stocks: Ashwani Gujral\n",
            "{\"midcap\": \"positive\", \"small cap stocks\": \"positive\", \"Bank Nifty\": \"negative\"}\n",
            "IPOs fail to live up to their price; power, realty fare badly and FMCG the best\n",
            "{\"FMCG\": \"positive\", \"power\": \"negative\", \"realty\": \"negative\"}\n",
            "Meltdown in China has helped India with some FIIs taking aggressive bets in Nifty futures: Analysts\n",
            "{\"Nifty futures\": \"positive\", \"China\": \"negative\"}\n",
            "Broader market outshines Sensex in April; top 10 midcap stocks to track this earnings season\n",
            "{\"Broader market\": \"positive\", \"Sensex\": \"negative\"}\n",
            "Investor should focus on equipment manufacturers rather than telecom players: Avinash Gorakshekar, Anagram Capital Ltd\n",
            "{\"equipment manufacturers\": \"positive\", \"telecom players\": \"negative\", \"Anagram Capital\": \"neutral\"}\n",
            "Exposure increased to oil and gas space; look at energy sector more favourably: David Pezarkar\n",
            "{\"energy sector\": \"positive\", \"oil and gas space\": \"negative\"}\n",
            "HPCL, BPCL, IOC rally even as global crude oil prices on the boil, rupee declines\n",
            "{\"HPCL\": \"positive\", \"BPCL\": \"positive\", \"IOC\": \"positive\", \"global crude oil\": \"positive\", \"rupee\": \"negative\"}\n",
            "Have 'sell' rating on Tata Motors; prefer Hero MotoCorp among auto stocks: Harendra Kumar\n",
            "{\"Hero MotoCorp\": \"positive\", \"Tata Motors\": \"negative\"}\n",
            "Private sector banks may do well, sell on PSU banks: Centrum Wealth Management\n",
            "{\"Private sector banks\": \"positive\", \"PSU banks\": \"negative\", \"Centrum Wealth Management\": \"neutral\"}\n",
            "South Korean shares inch lower, falls stymied as Hyundai gains 6%; won lower\n",
            "{\"Hyundai\": \"positive\", \"South Korean shares\": \"negative\", \"won\": \"negative\"}\n",
            "Australian dollar struggles ahead of RBA review, New Zealand dollar edges up\n",
            "{\"New Zealand dollar\": \"positive\", \"Australian dollar\": \"negative\"}\n",
            "Euro falls to two-year low against dollar, European shares and Bunds rise\n",
            "{\"European shares\": \"positive\", \"Bunds\": \"positive\", \"Euro\": \"negative\"}\n",
            "S.Korean shares up as energy counters rally on oil rebound; won slips\n",
            "{\"S.Korean shares\": \"positive\", \"energy\": \"positive\", \"won\": \"negative\"}\n",
            "GDP lifts Dow over 18k; biotechs have worst day since April\n",
            "{\"Dow\": \"positive\", \"biotechs\": \"negative\"}\n",
            "Two-wheeler stocks available at compelling valuations, prefer Hero MotoCorp: Harendra Kumar\n",
            "{\"Hero MotoCorp\": \"positive\", \"Two-wheeler stocks\": \"negative\"}\n",
            "SAIL, Sterlite to exit Nifty index; UltraTech, Lupin to move in\n",
            "{\"UltraTech\": \"positive\", \"Lupin\": \"positive\", \"SAIL\": \"negative\", \"Sterlite\": \"negative\"}\n",
            "Seoul shares fall on China PMI, won retreats as dollar rallies\n",
            "{\"dollar\": \"positive\", \"Seoul shares\": \"negative\", \"won\": \"negative\"}\n",
            "Watch out for ICICI Bank, SBI next week : Technical Trends\n",
            "{\"ICICI Bank\": \"positive\", \"SBI\": \"negative\"}\n",
            "10-year bond yield slips to 8.17% as oil falls further\n",
            "{\"10-year bond\": \"positive\", \"oil\": \"negative\"}\n",
            "Asian markets retreat, oil near 3-month high on Iraq concerns\n",
            "{\"oil\": \"positive\", \"Asian markets\": \"negative\"}\n",
            "Nikkei hits 2-month high on China PMI; Dai-ichi Life dives\n",
            "{\"Nikkei\": \"positive\", \"Dai-ichi Life\": \"negative\"}\n",
            "Chill on street continues; Sensex slips 93 points, Infosys shines\n",
            "{\"Infosys\": \"positive\", \"Sensex\": \"negative\"}\n",
            "Seoul shares poised to gain for 3rd day, won eases\n",
            "{\"Seoul shares\": \"positive\", \"won\": \"negative\"}\n",
            "Dow, S&P 500 fall on Fed nervousness; Nasdaq inches up\n",
            "{\"Nasdaq\": \"positive\", \"Dow\": \"negative\", \"S&P 500\": \"negative\"}\n",
            "Upbeat China PMI lifts Asia shares and commodities, euro wobbly\n",
            "{\"Asia shares and commodities\": \"positive\", \"euro\": \"negative\"}\n",
            "Gloomy French data hits European stocks, Iraq keeps oil high\n",
            "{\"oil\": \"positive\", \"European stocks\": \"negative\"}\n",
            "Italy leads Europe shares higher, France lags in election aftermath\n",
            "{\"Europe shares\": \"positive\", \"Italy\": \"positive\", \"France\": \"negative\"}\n",
            "Lupin, UltraTech gain; to replace SAIL, Sterlite in NSE index\n",
            "{\"Lupin\": \"positive\", \"UltraTech\": \"positive\", \"SAIL\": \"negative\", \"Sterlite\": \"negative\"}\n",
            "Markets@record high: TCS, HCL lose sheen, down on strong rupee\n",
            "{\"rupee\": \"positive\", \"TCS\": \"negative\", \"HCL\": \"negative\"}\n",
            "Yuan weakens, backs away from gains as dollar appetite returns\n",
            "{\"dollar\": \"positive\", \"Yuan\": \"negative\"}\n",
            "Brent drops towards $107; strong dollar overshadows global tensions\n",
            "{\"dollar\": \"positive\", \"Brent\": \"negative\"}\n",
            "Euro, yen rally as risk aversion intensifies, Aussie sinks\n",
            "{\"Euro\": \"positive\", \"yen\": \"positive\", \"Aussie\": \"negative\"}\n",
            "Gold continues to fall on weak demand; silver rebounds\n",
            "{\"silver\": \"positive\", \"Gold\": \"negative\"}\n",
            "Iraq fears hit European shares, German bond yields fall\n",
            "{\"German bond\": \"positive\", \"European shares\": \"negative\"}\n",
            "Iraq jitters hit European shares, German bond yields slip\n",
            "{\"German bond\": \"positive\", \"European shares\": \"negative\"}\n",
            "Nikkei advances on weaker yen; investors await earnings season\n",
            "{\"Nikkei\": \"positive\", \"yen\": \"negative\"}\n",
            "S&P 500, Nasdaq break 3-day slide but Dow dips\n",
            "{\"S&P 500\": \"positive\", \"Nasdaq\": \"positive\", \"Dow\": \"negative\"}\n",
            "Avoid sugar stocks, go for frontline stocks: Jagannadham Thunuguntla\n",
            "{\"frontline stocks\": \"positive\", \"sugar stocks\": \"negative\"}\n",
            "US Federal Reserve optimism lifts Asia stocks, dollar struggles\n",
            "{\"Asia stocks\": \"positive\", \"dollar\": \"negative\"}\n",
            "Gold dives on selling by stockists, silver rises\n",
            "{\"silver\": \"positive\", \"Gold\": \"negative\"}\n",
            "Gold extends gains on festive buying, weak rupee\n",
            "{\"Gold\": \"positive\", \"rupee\": \"negative\"}\n",
            "Gold extends gains on festive buying, weak rupee\n",
            "{\"Gold\": \"positive\", \"rupee\": \"negative\"}\n",
            "Yogesh Munjal to quit Hero stake for Showa\n",
            "{\"Showa\": \"positive\", \"Hero\": \"negative\"}\n",
            "S.Korean stocks slip for 3rd consecutive session, won up\n",
            "{\"won\": \"positive\", \"S.Korean stocks\": \"negative\"}\n",
            "NBFCs may outperform strong banks: BP Singh\n",
            "{\"NBFC\": \"positive\", \"strong banks\": \"negative\"}\n",
            "Two-wheeler: Weak rupee will add to companies' margins\n",
            "{\"Two-wheeler\": \"positive\", \"rupee\": \"negative\"}\n",
            "US Federal relief lifts Asian stocks, dents dollar\n",
            "{\"Asian stocks\": \"positive\", \"dollar\": \"negative\"}\n",
            "Dollar gains on uptick in USCPI, euro banking concerns\n",
            "{\"Dollar\": \"positive\", \"USCPI\": \"positive\", \"euro\": \"negative\"}\n",
            "Hindustan Zinc climbs 6% after Glencore's production cut announcement\n",
            "{\"Hindustan Zinc\": \"positive\", \"Glencore\": \"negative\"}\n",
            "Private sector banks poised to outdo PSU peers: Mayuresh Joshi, Angel Broking\n",
            "{\"Private sector banks\": \"positive\", \"PSU\": \"negative\", \"Angel Broking\": \"neutral\"}\n",
            "Fading monsoon concerns may lift agri stocks; positive on Rallis India: Pankaj Pandey\n",
            "{\"Rallis India\": \"positive\", \"agri stocks\": \"negative\"}\n",
            "Platinum becomes cheaper than gold; demand up 40-50% in Indian markets in Feb-March\n",
            "{\"gold\": \"positive\", \"Platinum\": \"negative\"}\n",
            "Brazilian sugar threat to Indian millers\n",
            "{\"Brazilian sugar\": \"positive\", \"Indian millers\": \"negative\"}\n",
            "OPEC decision knocks oil down; dollar gains\n",
            "{\"dollar\": \"positive\", \"oil\": \"negative\", \"OPEC\": \"neutral\"}\n",
            "JGB prices fall as Greek deal boosts Japanese stocks\n",
            "{\"Japanese stocks\": \"positive\", \"JGB\": \"negative\"}\n",
            "Oil hits two-year low; dollar rises ahead of Fed\n",
            "{\"dollar\": \"positive\", \"Oil\": \"negative\"}\n",
            "Gold down as dollar rises on US rate hike talk\n",
            "{\"dollar\": \"positive\", \"Gold\": \"negative\"}\n",
            "Hero MotoCorp replaces HUL as JPMorgan top stock to avoid\n",
            "{\"HUL\": \"positive\", \"Hero MotoCorp\": \"negative\", \"JPMorgan\": \"neutral\"}\n",
            "Nikkei extends losses into fourth day on yen's sudden revival\n",
            "{\"yen\": \"positive\", \"Nikkei\": \"negative\"}\n",
            "Shift from large caps to midcaps for near term: Ashwani Gujral\n",
            "{\"midcaps\": \"positive\", \"large caps\": \"negative\"}\n",
            "Africa operations taking a toll on Bharti's earnings, prefer Idea: Hemindra Hazari\n",
            "{\"Idea\": \"positive\", \"Bharti\": \"negative\"}\n",
            "FY16 not a good year for large drug makers; prefer midcap pharma stocks: Hemindra Hazari\n",
            "{\"midcap pharma stocks\": \"positive\", \"large drug makers\": \"negative\"}\n",
            "Baba Ramdev's Patanjali bigger than Emami and Jyothy Labs, wish it was listed: CLSA report\n",
            "{\"Patanjali\": \"positive\", \"Emami\": \"negative\", \"Jyothy Labs\": \"negative\", \"CLSA\": \"neutral\"}\n",
            "Coca-Cola takes on Pepsi, woos IPL fans outside stadium venues at Rs 10-15 per bottle\n",
            "{\"Coca-Cola\": \"positive\", \"Pepsi\": \"negative\"}\n",
            "Not easy to make money in Maruti; Tata Motors top bet in auto: Mehraboon Irani\n",
            "{\"Tata Motors\": \"positive\", \"Maruti\": \"negative\"}\n",
            "Unlike Facebook, Alibaba is not eligible for membership in the S&P 500: David Blitzer\n",
            "{\"Facebook\": \"positive\", \"Alibaba\": \"negative\"}\n",
            "Overweight on the ancillaries and underweight on the auto at this point: BP Singh\n",
            "{\"ancillaries\": \"positive\", \"auto\": \"negative\"}\n",
            "Banking sector getting over the hump; exercise caution on IT counters: Ajay Bodke\n",
            "{\"Banking sector\": \"positive\", \"IT\": \"negative\"}\n",
            "Nikkei falls as anti-austerity party wins Greek election; stronger yen weighs on market\n",
            "{\"yen\": \"positive\", \"Nikkei\": \"negative\"}\n",
            "Nikkei falls as yen bounces after Swiss jolt; down for a third week\n",
            "{\"yen\": \"positive\", \"Nikkei\": \"negative\"}\n",
            "South Korea stocks edge down on profit taking, won hovers at 6-year high\n",
            "{\"won\": \"positive\", \"South Korea stocks\": \"negative\"}\n",
            "Airtel, Idea, RCom plunge upto 6.6% as Reliance Jio raises 2G auction bar\n",
            "{\"Reliance Jio\": \"positive\", \"Airtel\": \"negative\", \"Idea\": \"negative\", \"RCom\": \"negative\"}\n",
            "Mutual funds sell IT, banking stocks in March; go long on auto, pharma\n",
            "{\"auto\": \"positive\", \"pharma\": \"positive\", \"IT\": \"negative\", \"banking\": \"negative\"}\n",
            "South Korean shares slide to 3-week low on China growth worries; won up\n",
            "{\"won\": \"positive\", \"South Korean shares\": \"negative\"}\n",
            "Cautious on IT stocks, bullish on banking: Arindam Ghosh, BlackRidge Capital Advisors\n",
            "{\"banking\": \"positive\", \"IT stocks\": \"negative\", \"BlackRidge Capital Advisors\": \"neutral\"}\n",
            "Prefer Hero Motocorp over Bajaj Auto in  two-wheeler space: Mehraboon Irani\n",
            "{\"Hero Motocorp\": \"positive\", \"Bajaj Auto\": \"negative\"}\n",
            "Seoul shares fall as foreigners' 5-day buying streak ends; won edges up\n",
            "{\"won\": \"positive\", \"Seoul shares\": \"negative\"}\n",
            "Ukraine crisis over? Oil marketing companies gain as rupee appreciates, crude slips\n",
            "{\"Oil marketing companies\": \"positive\", \"rupee\": \"positive\", \"crude\": \"negative\"}\n",
            "Book profits with Sesa Sterlite, stay with Hindustan Zinc: Deven Choksey\n",
            "{\"Hindustan Zinc\": \"positive\", \"Sesa Sterlite\": \"negative\"}\n",
            "CERC tariff order: NTPC at 5-year low, Tata Power zooms 7%\n",
            "{\"Tata Power\": \"positive\", \"NTPC\": \"negative\", \"CERC\": \"neutral\"}\n",
            "Emerging stocks at new 13-month high; politics weigh on rouble, shekel\n",
            "{\"Emerging stocks\": \"positive\", \"rouble\": \"negative\", \"shekel\": \"negative\"}\n",
            "IT stocks to underperform market; cyclicals look more attractive: Parag Thakkar\n",
            "{\"cyclicals\": \"positive\", \"IT stocks\": \"negative\"}\n",
            "Rupee, rupiah lead Asia FX losses as Iraq tension boosts oil\n",
            "{\"oil\": \"positive\", \"Rupee\": \"negative\", \"rupiah\": \"negative\"}\n",
            "Wall Street rebounds with small-caps; Dow, S&P 500 dip for week\n",
            "{\"Wall Street\": \"positive\", \"Dow\": \"negative\", \"S&P 500\": \"negative\"}\n",
            "10-year bonds hit over 13-month high; fall in crude helps\n",
            "{\"10-year bonds\": \"positive\", \"crude\": \"negative\"}\n",
            "Biotechs lift Wall Street; Dow back in black for 2014\n",
            "{\"Biotechs\": \"positive\", \"Wall Street\": \"positive\", \"Dow\": \"negative\"}\n",
            "Brent oil dips below $102 on demand fears, strong dollar\n",
            "{\"dollar\": \"positive\", \"Brent oil\": \"negative\"}\n",
            "China Yuan edges lower on Dollar demand for dividend payments\n",
            "{\"Dollar\": \"positive\", \"China Yuan\": \"negative\"}\n",
            "Nikkei falls to 1-week low; MUFG rises on brokerage upgrade\n",
            "{\"MUFG\": \"positive\", \"Nikkei\": \"negative\"}\n",
            "Akshaya Tritiya turns inauspicious for gold, Sensex bags the medal\n",
            "{\"Sensex\": \"positive\", \"gold\": \"negative\"}\n",
            "Gloomy French data hits European shares, Iraq keeps oil high\n",
            "{\"oil\": \"positive\", \"European shares\": \"negative\"}\n",
            "Gloomy French data hits European stocks, Iraq keeps oil high\n",
            "{\"oil\": \"positive\", \"European stocks\": \"negative\"}\n",
            "M&M, Tata Motors outperformers in July; TVS and Maruti underperform\n",
            "{\"M&M\": \"positive\", \"Tata Motors\": \"positive\", \"TVS\": \"negative\", \"Maruti\": \"negative\"}\n",
            "Nifty, Sensex start on a cautious note; Infosys, TCS up\n",
            "{\"Infosys\": \"positive\", \"TCS\": \"positive\", \"Nifty\": \"negative\", \"Sensex\": \"negative\"}\n",
            "Nikkei falls on Greece worries, weak oil prices; Sony surges\n",
            "{\"Sony\": \"positive\", \"Nikkei\": \"negative\", \"oil\": \"negative\"}\n",
            "Nikkei rises to 3-week high as weaker yen helps sentiment\n",
            "{\"Nikkei\": \"positive\", \"yen\": \"negative\"}\n",
            "Nikkei rises to fresh 2-month high as Yen supports sentiment\n",
            "{\"Nikkei\": \"positive\", \"Yen\": \"negative\"}\n",
            "PEs to buy into HIPL; Hero Honda down over 2%\n",
            "{\"HIPL\": \"positive\", \"Hero Honda\": \"negative\"}\n",
            "S.Korean stocks post best day in 4-weeks; won closes weaker\n",
            "{\"S.Korean stocks\": \"positive\", \"won\": \"negative\"}\n",
            "Sensex starts on a cautious note; Nifty tests 6500 levels\n",
            "{\"Nifty\": \"positive\", \"Sensex\": \"negative\"}\n",
            "South Korea stocks reach fresh 3-year high, won trads water\n",
            "{\"South Korea stocks\": \"positive\", \"won\": \"negative\"}\n",
            "Actis, FTIL and IFCI plan to sell NSE shares\n",
            "{\"Actis\": \"positive\", \"FTIL\": \"positive\", \"IFCI\": \"positive\", \"NSE\": \"negative\"}\n",
            "Citi downgrades Reliance Industries to neutral; prefers Cairn India\n",
            "{\"Cairn India\": \"positive\", \"Reliance Industries\": \"negative\", \"Citi\": \"neutral\"}\n",
            "Dollar jumps on yen, gives Japanese stocks a lift\n",
            "{\"Dollar\": \"positive\", \"Japanese stocks\": \"positive\", \"yen\": \"negative\"}\n",
            "German data brings relief to euro, dollar rise stalls\n",
            "{\"euro\": \"positive\", \"dollar\": \"negative\"}\n",
            "Gold climbs to fresh two-week high on softer dollar\n",
            "{\"Gold\": \"positive\", \"dollar\": \"negative\"}\n",
            "Gold crawls back on modest buying; silver edges lower\n",
            "{\"Gold\": \"positive\", \"silver\": \"negative\"}\n",
            "IT companies to benefit on weak rupee: Dipan Mehta\n",
            "{\"IT companies\": \"positive\", \"rupee\": \"negative\"}\n",
            "Prefer HDFC Bank over ICICI, Axis Bank: Sonam Udasi\n",
            "{\"HDFC Bank\": \"positive\", \"ICICI\": \"negative\", \"Axis Bank\": \"negative\"}\n",
            "Prefer Infosys over TCS in IT sector: Prashastha Seth\n",
            "{\"Infosys\": \"positive\", \"TCS\": \"negative\", \"IT sector\": \"neutral\"}\n",
            "Rouble drops against dollar as oil price slumps again\n",
            "{\"dollar\": \"positive\", \"Rouble\": \"negative\", \"oil\": \"negative\"}\n",
            "Sensex slips over 200 points; Infosys Q2 beat estimates\n",
            "{\"Infosys\": \"positive\", \"Sensex\": \"negative\"}\n",
            "Shares cautious on Ukraine anxiety; China, India lead gains\n",
            "{\"China\": \"positive\", \"India\": \"positive\", \"Shares\": \"negative\"}\n",
            "Gulf markets's decline eases as China markets recover\n",
            "{\"China markets\": \"positive\", \"Gulf markets\": \"negative\"}\n",
            "Prefer Indian FMCG companies to HUL: Dipan Mehta\n",
            "{\"Indian FMCG companies\": \"positive\", \"HUL\": \"negative\"}\n",
            "Gold recovers on scattered buying; silver remains weak\n",
            "{\"Gold\": \"positive\", \"silver\": \"negative\"}\n",
            "Recommend TCS over HCL Tech: Pankaj Pandey\n",
            "{\"TCS\": \"positive\", \"HCL Tech\": \"negative\"}\n",
            "Asian shares edge higher, oil nurses losses\n",
            "{\"Asian shares\": \"positive\", \"oil\": \"negative\"}\n",
            "Southeast Asia stocks-mostly weak; Indonesia bucks trend\n",
            "{\"Indonesia\": \"positive\", \"Southeast Asia stocks\": \"negative\"}\n",
            "Sterling hits three-week high against weaker dollar\n",
            "{\"Sterling\": \"positive\", \"dollar\": \"negative\"}\n",
            "156\n"
          ]
        }
      ]
    },
    {
      "cell_type": "code",
      "source": [
        "def get_fiqa_entities(x):\n",
        "  l = x.company[1:-1].replace(\"'\", '').split(\", \")\n",
        "  return l\n",
        "\n",
        "def get_fiqa_sents(x):\n",
        "  #print(x.Decisions.replace(\"'\",'\"'))\n",
        "  try:\n",
        "    sent_dict = json.loads(x.Decisions.replace(\"'\",'\"'))\n",
        "    sent_vals = list(sent_dict.values())\n",
        "    if len(sent_vals) != len(x.entities):\n",
        "      sent_vals = \" \"\n",
        "\n",
        "  except:\n",
        "    sent_vals = \" \"\n",
        "  return sent_vals\n",
        "\n",
        "\n",
        "fiqa_df[\"entities\"] = fiqa_df.apply(get_fiqa_entities, axis=1)\n",
        "fiqa_df['sentences_input'] = fiqa_df.apply(get_sentence_target, axis=1)\n",
        "fiqa_df[\"sent_vals\"] = fiqa_df.apply(get_fiqa_sents, axis=1)\n",
        "fiqa_df = fiqa_df[fiqa_df.sent_vals != \" \"]"
      ],
      "metadata": {
        "id": "qh2u5fUA3VU0"
      },
      "execution_count": 9,
      "outputs": []
    },
    {
      "cell_type": "code",
      "execution_count": 10,
      "metadata": {
        "id": "38qUJFBXZGh7"
      },
      "outputs": [],
      "source": [
        "## Train, Validation, Test Data\n",
        "train_df, valid_test_df = train_test_split(sentfin_df, test_size=0.3,  random_state=8)\n",
        "test_df, valid_df = train_test_split(valid_test_df, test_size=0.666, random_state=8)\n",
        "\n",
        "fiqa_train_df, fiqa_valid_df = train_test_split(fiqa_df, test_size=0.3,  random_state=8)\n"
      ]
    },
    {
      "cell_type": "code",
      "execution_count": 11,
      "metadata": {
        "id": "FhvbBWWxf41g"
      },
      "outputs": [],
      "source": [
        "## Bert data\n",
        "\n",
        "bert_train_input = []\n",
        "for index, row in train_df.iterrows():\n",
        "  bert_train_input.extend(row.sentences_input)\n",
        "\n",
        "bert_valid_input = []\n",
        "for index, row in valid_df.iterrows():\n",
        "  bert_valid_input.extend(row.sentences_input)\n",
        "\n",
        "bert_test_input = []\n",
        "for index, row in test_df.iterrows():\n",
        "  bert_test_input.extend(row.sentences_input)\n",
        "\n",
        "bert_train_labels = []\n",
        "for index, row in train_df.iterrows():\n",
        "  bert_train_labels.extend(row.sent_vals)\n",
        "\n",
        "bert_valid_labels = []\n",
        "for index, row in valid_df.iterrows():\n",
        "  bert_valid_labels.extend(row.sent_vals)\n",
        "\n",
        "bert_test_labels = []\n",
        "for index, row in test_df.iterrows():\n",
        "  bert_test_labels.extend(row.sent_vals)\n",
        "\n",
        "from sklearn.preprocessing import LabelEncoder  \n",
        "\n",
        "le = LabelEncoder()\n",
        "bert_train_labels = le.fit_transform(bert_train_labels)\n",
        "bert_valid_labels = le.fit_transform(bert_valid_labels)\n",
        "bert_test_labels = le.fit_transform(bert_test_labels)"
      ]
    },
    {
      "cell_type": "code",
      "source": [
        "## FiQA\n",
        "\n",
        "fiqa_bert_train_input = []\n",
        "for index, row in fiqa_train_df.iterrows():\n",
        "  fiqa_bert_train_input.extend(row.sentences_input)\n",
        "\n",
        "fiqa_bert_valid_input = []\n",
        "for index, row in fiqa_valid_df.iterrows():\n",
        "  fiqa_bert_valid_input.extend(row.sentences_input)\n",
        "\n",
        "fiqa_bert_train_labels = []\n",
        "for index, row in fiqa_train_df.iterrows():\n",
        "  fiqa_bert_train_labels.extend(row.sent_vals)\n",
        "\n",
        "fiqa_bert_valid_labels = []\n",
        "for index, row in fiqa_valid_df.iterrows():\n",
        "  fiqa_bert_valid_labels.extend(row.sent_vals)\n",
        "\n",
        "from sklearn.preprocessing import LabelEncoder  \n",
        "\n",
        "le = LabelEncoder()\n",
        "fiqa_bert_train_labels = le.fit_transform(fiqa_bert_train_labels)\n",
        "fiqa_bert_valid_labels = le.fit_transform(fiqa_bert_valid_labels)\n"
      ],
      "metadata": {
        "id": "ZGZJZfnV-9AP"
      },
      "execution_count": 12,
      "outputs": []
    },
    {
      "cell_type": "code",
      "source": [
        "print(len(fiqa_bert_train_input),\n",
        "      len(fiqa_bert_train_labels),\n",
        "      len(fiqa_bert_valid_input),\n",
        "      len(fiqa_bert_valid_labels))"
      ],
      "metadata": {
        "colab": {
          "base_uri": "https://localhost:8080/"
        },
        "id": "m5HdpR3-zcCr",
        "outputId": "6543f175-6e9b-4ed8-b6b9-5f2b6d7b89d4"
      },
      "execution_count": 13,
      "outputs": [
        {
          "output_type": "stream",
          "name": "stdout",
          "text": [
            "1131 1131 477 477\n"
          ]
        }
      ]
    },
    {
      "cell_type": "code",
      "execution_count": 14,
      "metadata": {
        "colab": {
          "base_uri": "https://localhost:8080/"
        },
        "id": "V1jwofQlg_n_",
        "outputId": "edfd5e38-593d-48db-f417-6740c0a8364b"
      },
      "outputs": [
        {
          "output_type": "stream",
          "name": "stdout",
          "text": [
            "10121 2832 1456\n"
          ]
        }
      ],
      "source": [
        "print(len(bert_train_input), \n",
        "      len(bert_valid_input), \n",
        "      len(bert_test_input))"
      ]
    },
    {
      "cell_type": "markdown",
      "metadata": {
        "id": "j1s8yJMY6Q9Q"
      },
      "source": [
        "# Models\n"
      ]
    },
    {
      "cell_type": "markdown",
      "metadata": {
        "id": "9rTZ51lFVCjh"
      },
      "source": [
        "## BERT\n"
      ]
    },
    {
      "cell_type": "code",
      "execution_count": null,
      "metadata": {
        "colab": {
          "base_uri": "https://localhost:8080/",
          "height": 362,
          "referenced_widgets": [
            "107be313df9f4d7ca45fcc75671ed99a",
            "c95f9bde7a2341c88a116e4ff77367c9",
            "7045ad1018f6470db2a969e3e75dab9d",
            "7ce5ebbecae1472fbd27e0cbeee4df46",
            "06367ae1dfa64897b47b2df48c8e8bb5",
            "b20608ef499f457ba4cdea623c531e29",
            "8aad7ff1f8ac47a68988f04e1dbd8f65",
            "a11b79d254bf4228b03ede6829db1dc4",
            "ebcdd21ed8ae482e81e393960e79a79c",
            "a0a7b2d6760141a694f3e98632558568",
            "0c164088d1d54de1814c8d167d9b7d5c",
            "71de8e839a61488d937454429f2d834b",
            "929d0fd63fc641cc98c2dbe867d2891c",
            "36b52691fc5c4a4ca30987c9201a2ae0",
            "f451fe07e7b941c4a1150328b66d65bb",
            "3ffc9397153648ff964d95033e792f98",
            "3129a94deb1a4b4f9653dac2bf4bf392",
            "ba3a8c4db05f4cde968f1b025a186412",
            "1169f0c19aea44bc9830a2aeee35e7eb",
            "d6163efecab44b29b9b3b894d8447099",
            "04eb1594e1ab424591b16d6f8eb2467e",
            "626c782ad6234cda86eb0e9aef51a21b",
            "dd036c1e1ed6432cb96e207296008724",
            "fdc8d283630b450fa4bec1931dad90e1",
            "ef29ca7ddf424adfa10d9823910a4f23",
            "270dd3a16bb64451b07b34e676fe6037",
            "396573cf7f9f4ae3ba117170b6ab8a70",
            "1dfd9cde169348ba9fd7e47b48ed251b",
            "969f9d8c9b1047c3b3777b5006a65399",
            "e63b709b7ddd4b0abb0e0b5e1aebc60e",
            "a7385a94d192404b871ebbc27d817b80",
            "8ac3e2687bec41dbbfe91b5d3ad7e258",
            "759e7e8fadb342f49898e667f53c9c87",
            "2621bec3935044e096259aba54955cbe",
            "b5f94ec0cb1d47fa849c829d48728f21",
            "05dafb5882a84211b13b56abbdfef81c",
            "44e05868e45e4c7b9758c570f4d65aa4",
            "a1635228fc2b418d94736042065d6911",
            "54397c0f506345aea83e31ad4db97672",
            "0470000de82e45a0b5321c21b7ad2193",
            "202e97a105f7482bb64e75584fe8985e",
            "87c0bbf30e9b4c158846cf8b87f6524b",
            "9b3e21d911624775ad6bcaa4144cbb78",
            "5c1f9dc92f2049f093beb5385ff9bf6e"
          ]
        },
        "id": "DAX1FtU46puL",
        "outputId": "e5ec3105-0320-4629-f09f-5f25dde86518"
      },
      "outputs": [
        {
          "output_type": "display_data",
          "data": {
            "text/plain": [
              "Downloading (…)solve/main/vocab.txt:   0%|          | 0.00/213k [00:00<?, ?B/s]"
            ],
            "application/vnd.jupyter.widget-view+json": {
              "version_major": 2,
              "version_minor": 0,
              "model_id": "107be313df9f4d7ca45fcc75671ed99a"
            }
          },
          "metadata": {}
        },
        {
          "output_type": "display_data",
          "data": {
            "text/plain": [
              "Downloading (…)okenizer_config.json:   0%|          | 0.00/29.0 [00:00<?, ?B/s]"
            ],
            "application/vnd.jupyter.widget-view+json": {
              "version_major": 2,
              "version_minor": 0,
              "model_id": "71de8e839a61488d937454429f2d834b"
            }
          },
          "metadata": {}
        },
        {
          "output_type": "display_data",
          "data": {
            "text/plain": [
              "Downloading (…)lve/main/config.json:   0%|          | 0.00/570 [00:00<?, ?B/s]"
            ],
            "application/vnd.jupyter.widget-view+json": {
              "version_major": 2,
              "version_minor": 0,
              "model_id": "dd036c1e1ed6432cb96e207296008724"
            }
          },
          "metadata": {}
        },
        {
          "output_type": "display_data",
          "data": {
            "text/plain": [
              "Downloading tf_model.h5:   0%|          | 0.00/527M [00:00<?, ?B/s]"
            ],
            "application/vnd.jupyter.widget-view+json": {
              "version_major": 2,
              "version_minor": 0,
              "model_id": "2621bec3935044e096259aba54955cbe"
            }
          },
          "metadata": {}
        },
        {
          "output_type": "stream",
          "name": "stderr",
          "text": [
            "Some layers from the model checkpoint at bert-base-cased were not used when initializing TFBertModel: ['mlm___cls', 'nsp___cls']\n",
            "- This IS expected if you are initializing TFBertModel from the checkpoint of a model trained on another task or with another architecture (e.g. initializing a BertForSequenceClassification model from a BertForPreTraining model).\n",
            "- This IS NOT expected if you are initializing TFBertModel from the checkpoint of a model that you expect to be exactly identical (initializing a BertForSequenceClassification model from a BertForSequenceClassification model).\n",
            "All the layers of TFBertModel were initialized from the model checkpoint at bert-base-cased.\n",
            "If your task is similar to the task the model of the checkpoint was trained on, you can already use TFBertModel for predictions without further training.\n"
          ]
        }
      ],
      "source": [
        "bert_tokenizer = BertTokenizer.from_pretrained('bert-base-cased')\n",
        "bert_model = TFBertModel.from_pretrained('bert-base-cased')"
      ]
    },
    {
      "cell_type": "code",
      "execution_count": null,
      "metadata": {
        "id": "Z3ZNoOkzcHwe"
      },
      "outputs": [],
      "source": [
        "max_length = 30\n",
        "\n",
        "bert_train_tokenized = bert_tokenizer(bert_train_input,       \n",
        "              truncation=True,\n",
        "              padding='max_length',\n",
        "              max_length=max_length,\n",
        "              return_tensors='tf')\n",
        "\n",
        "bert_train_labels = np.array(bert_train_labels)\n",
        "\n",
        "bert_valid_tokenized = bert_tokenizer(bert_valid_input,     \n",
        "              truncation=True,\n",
        "              padding='max_length',\n",
        "              max_length=max_length,\n",
        "              return_tensors='tf')\n",
        "\n",
        "bert_valid_labels = np.array(bert_valid_labels)\n",
        "\n",
        "bert_test_tokenized = bert_tokenizer(bert_test_input,     \n",
        "              truncation=True,\n",
        "              padding='max_length',\n",
        "              max_length=max_length,\n",
        "              return_tensors='tf')\n",
        "\n",
        "bert_test_labels = np.array(bert_test_labels)\n",
        "\n",
        "\n",
        "model_checkpoint = 'bert-base-cased'"
      ]
    },
    {
      "cell_type": "code",
      "execution_count": null,
      "metadata": {
        "id": "TTN6Py0Gadcg"
      },
      "outputs": [],
      "source": [
        "def create_bert_multiclass_model(checkpoint = model_checkpoint,\n",
        "                                 num_classes = 3,\n",
        "                                 hidden_size = 30, \n",
        "                                 dropout=0.2,\n",
        "                                 learning_rate=0.00002):\n",
        "   \n",
        "    bert_model = TFBertModel.from_pretrained(checkpoint)                                     \n",
        "\n",
        "    \n",
        "    bert_model.trainable = True\n",
        "    \n",
        "    input_ids = tf.keras.layers.Input(shape=(max_length,), dtype=tf.int64, name='input_ids_layer')\n",
        "    token_type_ids = tf.keras.layers.Input(shape=(max_length,), dtype=tf.int64, name='token_type_ids_layer')\n",
        "    attention_mask = tf.keras.layers.Input(shape=(max_length,), dtype=tf.int64, name='attention_mask_layer')\n",
        "\n",
        "    bert_inputs = {'input_ids': input_ids,\n",
        "                   'token_type_ids': token_type_ids,\n",
        "                   'attention_mask': attention_mask}      \n",
        "\n",
        "    bert_out = bert_model(bert_inputs)\n",
        "\n",
        "    pooler_token = bert_out[1]\n",
        "\n",
        "    hidden = tf.keras.layers.Dense(hidden_size, activation='relu', name='hidden_layer')(pooler_token)\n",
        "\n",
        "    hidden = tf.keras.layers.Dropout(dropout)(hidden)  \n",
        "\n",
        "    classification = tf.keras.layers.Dense(num_classes, activation='softmax',name='classification_layer')(hidden)\n",
        "    \n",
        "    classification_model = tf.keras.Model(inputs=[input_ids, token_type_ids, attention_mask], outputs=[classification])\n",
        "    \n",
        "    classification_model.compile(optimizer=tf.keras.optimizers.Adam(learning_rate=learning_rate,weight_decay=0.01),\n",
        "                                 loss=tf.keras.losses.SparseCategoricalCrossentropy(from_logits=False), \n",
        "                                 metrics='accuracy')\n",
        "\n",
        "    ### END YOUR CODE\n",
        "    return classification_model"
      ]
    },
    {
      "cell_type": "code",
      "execution_count": null,
      "metadata": {
        "colab": {
          "base_uri": "https://localhost:8080/"
        },
        "id": "VWiXQ9SNeT8k",
        "outputId": "21fa244c-13d5-4a5f-a475-eb55373080d6"
      },
      "outputs": [
        {
          "output_type": "stream",
          "name": "stderr",
          "text": [
            "Some layers from the model checkpoint at bert-base-cased were not used when initializing TFBertModel: ['mlm___cls', 'nsp___cls']\n",
            "- This IS expected if you are initializing TFBertModel from the checkpoint of a model trained on another task or with another architecture (e.g. initializing a BertForSequenceClassification model from a BertForPreTraining model).\n",
            "- This IS NOT expected if you are initializing TFBertModel from the checkpoint of a model that you expect to be exactly identical (initializing a BertForSequenceClassification model from a BertForSequenceClassification model).\n",
            "All the layers of TFBertModel were initialized from the model checkpoint at bert-base-cased.\n",
            "If your task is similar to the task the model of the checkpoint was trained on, you can already use TFBertModel for predictions without further training.\n"
          ]
        }
      ],
      "source": [
        "pooler_bert_model = create_bert_multiclass_model(checkpoint=model_checkpoint, num_classes=3)"
      ]
    },
    {
      "cell_type": "code",
      "execution_count": null,
      "metadata": {
        "colab": {
          "base_uri": "https://localhost:8080/"
        },
        "id": "Xx6wHx1qR-FT",
        "outputId": "3673861b-264d-4364-b4fd-63a6badc5ddc"
      },
      "outputs": [
        {
          "output_type": "stream",
          "name": "stdout",
          "text": [
            "Epoch 1/5\n",
            "317/317 [==============================] - 79s 110ms/step - loss: 0.6367 - accuracy: 0.7364 - val_loss: 0.4257 - val_accuracy: 0.8404\n",
            "Epoch 2/5\n",
            "317/317 [==============================] - 23s 73ms/step - loss: 0.3416 - accuracy: 0.8779 - val_loss: 0.3889 - val_accuracy: 0.8581\n",
            "Epoch 3/5\n",
            "317/317 [==============================] - 22s 71ms/step - loss: 0.2245 - accuracy: 0.9275 - val_loss: 0.3981 - val_accuracy: 0.8690\n",
            "Epoch 4/5\n",
            "317/317 [==============================] - 23s 72ms/step - loss: 0.1507 - accuracy: 0.9514 - val_loss: 0.4203 - val_accuracy: 0.8771\n",
            "Epoch 5/5\n",
            "317/317 [==============================] - 23s 71ms/step - loss: 0.0998 - accuracy: 0.9688 - val_loss: 0.5075 - val_accuracy: 0.8715\n"
          ]
        }
      ],
      "source": [
        "pooler_bert_model_history = pooler_bert_model.fit([bert_train_tokenized.input_ids, bert_train_tokenized.token_type_ids, bert_train_tokenized.attention_mask], \n",
        "                                                  bert_train_labels,   \n",
        "                                                  validation_data=([bert_valid_tokenized.input_ids, bert_valid_tokenized.token_type_ids, bert_valid_tokenized.attention_mask],\n",
        "                                                  bert_valid_labels),    \n",
        "                                                  batch_size=32, \n",
        "                                                  epochs=5)  "
      ]
    },
    {
      "cell_type": "code",
      "source": [
        "bert_only_results = pd.DataFrame(pooler_bert_model_history.history)\n",
        "bert_only_results.to_csv(data_path + '/bert_only_results_3.csv')"
      ],
      "metadata": {
        "id": "JhCI4vdkpiyo"
      },
      "execution_count": null,
      "outputs": []
    },
    {
      "cell_type": "code",
      "source": [
        "bert_uncompiled_results = pooler_bert_model([bert_test_tokenized.input_ids, \n",
        "                                             bert_test_tokenized.token_type_ids, \n",
        "                                             bert_test_tokenized.attention_mask])\n",
        "\n",
        "bert_uncompiled_results = le.inverse_transform(tf.argmax(bert_uncompiled_results, axis=-1))\n"
      ],
      "metadata": {
        "id": "tQFoXpoMx3ry"
      },
      "execution_count": null,
      "outputs": []
    },
    {
      "cell_type": "code",
      "source": [
        "def run_bert(df, model, model_tokenizer):\n",
        "  output = []\n",
        "  for index, row in df.iterrows():\n",
        "    input_str = row.Title\n",
        "    tgt_entities = row.entities\n",
        "    row_output = {}\n",
        "    for e in tgt_entities:\n",
        "      single_output = run_single_ent(input_str, e, model, model_tokenizer)\n",
        "      row_output[e] = single_output\n",
        "    output.append(row_output)\n",
        "  return output\n",
        "\n",
        "def run_single_ent(input_str, tgt_ent, model, model_tokenizer):\n",
        "  input_str = input_str.replace(tgt_ent, 'TGT')\n",
        "  input = model_tokenizer(input_str,\n",
        "                         max_length=max_length,\n",
        "                         truncation=True,\n",
        "                         padding='max_length',\n",
        "                         return_tensors='tf')\n",
        "  single_output = model([input.input_ids, input.token_type_ids, input.attention_mask])\n",
        "  single_output = le.inverse_transform(tf.argmax(single_output, axis=-1))[0]\n",
        "  return single_output"
      ],
      "metadata": {
        "id": "iHXECPipsC-E"
      },
      "execution_count": null,
      "outputs": []
    },
    {
      "cell_type": "code",
      "source": [
        "bert_only_test_results = run_bert(test_df, pooler_bert_model, bert_tokenizer)"
      ],
      "metadata": {
        "id": "12eT7BsVsRcu"
      },
      "execution_count": null,
      "outputs": []
    },
    {
      "cell_type": "code",
      "source": [
        "def count_correct(df,results):\n",
        "  num_correct = 0\n",
        "  num_incorrect = 0\n",
        "  i = 0\n",
        "  for index, row in df.iterrows():\n",
        "    decision = row.Decisions.replace('\"',\"'\")\n",
        "    if decision == str(results[i]):\n",
        "      num_correct += 1\n",
        "    else:\n",
        "      num_incorrect += 1\n",
        "    i += 1\n",
        "  return num_correct, num_incorrect, num_correct/len(results)"
      ],
      "metadata": {
        "id": "fVmLINRZs4HQ"
      },
      "execution_count": 29,
      "outputs": []
    },
    {
      "cell_type": "code",
      "source": [
        "print(\"BERT only test results: \", count_correct(test_df, bert_only_test_results))\n"
      ],
      "metadata": {
        "colab": {
          "base_uri": "https://localhost:8080/"
        },
        "id": "bpLLW0pXtl3H",
        "outputId": "b4f3b50e-8850-48b8-cb31-6c27304c4111"
      },
      "execution_count": null,
      "outputs": [
        {
          "output_type": "stream",
          "name": "stdout",
          "text": [
            "BERT only test results:  (912, 165, 0.8467966573816156)\n"
          ]
        }
      ]
    },
    {
      "cell_type": "code",
      "source": [
        "bert_only_classification_report = pd.DataFrame(classification_report(le.inverse_transform(bert_test_labels), bert_uncompiled_results,output_dict=True))\n",
        "bert_only_classification_report.to_csv(data_path + \"/bert_only_classification_report_3.csv\")\n",
        "print(classification_report(le.inverse_transform(bert_test_labels), bert_uncompiled_results))"
      ],
      "metadata": {
        "id": "ejk69brQy0US",
        "colab": {
          "base_uri": "https://localhost:8080/"
        },
        "outputId": "3af59f67-3307-45a7-9a0f-dc3a2c892888"
      },
      "execution_count": null,
      "outputs": [
        {
          "output_type": "stream",
          "name": "stdout",
          "text": [
            "              precision    recall  f1-score   support\n",
            "\n",
            "    negative       0.88      0.88      0.88       402\n",
            "     neutral       0.83      0.87      0.85       580\n",
            "    positive       0.90      0.84      0.87       474\n",
            "\n",
            "    accuracy                           0.86      1456\n",
            "   macro avg       0.87      0.86      0.86      1456\n",
            "weighted avg       0.86      0.86      0.86      1456\n",
            "\n"
          ]
        }
      ]
    },
    {
      "cell_type": "markdown",
      "metadata": {
        "id": "pdHgQoDfc5NJ"
      },
      "source": [
        "## FinBERT"
      ]
    },
    {
      "cell_type": "code",
      "execution_count": null,
      "metadata": {
        "colab": {
          "base_uri": "https://localhost:8080/",
          "height": 257,
          "referenced_widgets": [
            "43c1701af67f49d1ba204be5f4f2672e",
            "f34863fbf79945b88cc6cb65d7b438c8",
            "a0d8034045194d298ab7c81e1a8f7c53",
            "a8bf999d27dc439193d680d247d78f23",
            "a44f96a7e9634b53ab8e85a5d5dc4196",
            "6c4aed14005440ada12a7116c2ca46c3",
            "f200b33d64374786810343374d7a5330",
            "726e772ae3a14b62831bf63c636ec86e",
            "e38a50d932e1413bba7c72f0d44660ce",
            "f8c0a02bc5434625a5db86b54293a132",
            "fb3d4263c8474fd0b4197c24f3ce2069",
            "fc904dc1646746e890adef0bdc651488",
            "154384175e384ad6b2f7a71140add9fc",
            "4e1b4120caab4cc0bd4d79d15ca3410b",
            "4f5e7b28add94e29923641ab34be4409",
            "7aa31d9bb6d1400f87de6733463be877",
            "43624c3e104948a9a4fb8708b5bd7eaa",
            "8300dcc2aa694ac38a301f057eac3bbe",
            "80ea2cd1ef2f4a439e397d92f0c06c55",
            "3fa8f2607e114b9681041b798b2cd02e",
            "0460907dbc704018a2605ececdcd58a7",
            "b653dcec78f24e29a60856f2f35fed3e",
            "7b4891de6250409f940925eb52654320",
            "fd7f6992c9c7452dad2fca611d56b0ee",
            "50976e87bec1477aba3197f4cf5e8af0",
            "e8045bdf0fe24c7aae5d1b9cb312053d",
            "67c9b6d5af1d406bad703effa2aec34e",
            "1a4db082c94d46e5aae539449b42abb0",
            "74082944fede4f11a80a40ef9828f4df",
            "03294c07175a4800b3439d65bfb433b4",
            "634cca6d80634252bc8af0cfa0d9985b",
            "77e9ab22e1b54417ada445e39272fdd6",
            "51de038b848342f58b91987a34715fba",
            "6d8ed2f8ad4d4f4eab8173c479b2bfff",
            "81c5e943a40c42abbcb15c5782f5861a",
            "a4857f987b7347f2ac4cbe5d14f1555c",
            "ad43e58cbd6849898204605558957ffe",
            "c924a40c47e942e49558aba895595da6",
            "8ac7b1221e9a423abf8f76b906291320",
            "28c395779395453db1bf5820e3b1ec03",
            "eee4ae673cdc48f993f996be292941d0",
            "ac11c07e80d844b2bce6116ec3f49b5a",
            "926867f7dee642a6b5758bf9b14623ab",
            "7f03045574ba401d927aa5492fdd2f4d"
          ]
        },
        "id": "d9_MpU9tc3jk",
        "outputId": "a68d7190-567d-4d4f-cd52-4eef2f7792e2"
      },
      "outputs": [
        {
          "output_type": "display_data",
          "data": {
            "text/plain": [
              "Downloading (…)solve/main/vocab.txt:   0%|          | 0.00/232k [00:00<?, ?B/s]"
            ],
            "application/vnd.jupyter.widget-view+json": {
              "version_major": 2,
              "version_minor": 0,
              "model_id": "43c1701af67f49d1ba204be5f4f2672e"
            }
          },
          "metadata": {}
        },
        {
          "output_type": "display_data",
          "data": {
            "text/plain": [
              "Downloading (…)cial_tokens_map.json:   0%|          | 0.00/112 [00:00<?, ?B/s]"
            ],
            "application/vnd.jupyter.widget-view+json": {
              "version_major": 2,
              "version_minor": 0,
              "model_id": "fc904dc1646746e890adef0bdc651488"
            }
          },
          "metadata": {}
        },
        {
          "output_type": "display_data",
          "data": {
            "text/plain": [
              "Downloading (…)okenizer_config.json:   0%|          | 0.00/252 [00:00<?, ?B/s]"
            ],
            "application/vnd.jupyter.widget-view+json": {
              "version_major": 2,
              "version_minor": 0,
              "model_id": "7b4891de6250409f940925eb52654320"
            }
          },
          "metadata": {}
        },
        {
          "output_type": "display_data",
          "data": {
            "text/plain": [
              "Downloading (…)lve/main/config.json:   0%|          | 0.00/758 [00:00<?, ?B/s]"
            ],
            "application/vnd.jupyter.widget-view+json": {
              "version_major": 2,
              "version_minor": 0,
              "model_id": "6d8ed2f8ad4d4f4eab8173c479b2bfff"
            }
          },
          "metadata": {}
        }
      ],
      "source": [
        "#finbert = TFBertModel.from_pretrained(\"ProsusAI/finbert\" )\n",
        "finbert_tokenizer = BertTokenizer.from_pretrained(\"ProsusAI/finbert\" )"
      ]
    },
    {
      "cell_type": "code",
      "execution_count": null,
      "metadata": {
        "id": "QalA9382cuq1"
      },
      "outputs": [],
      "source": [
        "max_length = 30\n",
        "\n",
        "finbert_train_tokenized = finbert_tokenizer(bert_train_input,       \n",
        "              truncation=True,\n",
        "              padding='max_length',\n",
        "              max_length=max_length,\n",
        "              return_tensors='tf')\n",
        "\n",
        "finbert_train_labels = np.array(bert_train_labels)\n",
        "\n",
        "finbert_valid_tokenized = finbert_tokenizer(bert_valid_input,     \n",
        "              truncation=True,\n",
        "              padding='max_length',\n",
        "              max_length=max_length,\n",
        "              return_tensors='tf')\n",
        "\n",
        "finbert_valid_labels = np.array(bert_valid_labels)\n",
        "\n",
        "finbert_test_tokenized = finbert_tokenizer(bert_test_input,     \n",
        "              truncation=True,\n",
        "              padding='max_length',\n",
        "              max_length=max_length,\n",
        "              return_tensors='tf')\n",
        "\n",
        "finbert_test_labels = np.array(bert_test_labels)"
      ]
    },
    {
      "cell_type": "code",
      "execution_count": null,
      "metadata": {
        "colab": {
          "base_uri": "https://localhost:8080/"
        },
        "id": "ieoxsRgPfAw2",
        "outputId": "9c57da47-21de-4a5e-c230-5288612c5dcd"
      },
      "outputs": [
        {
          "output_type": "stream",
          "name": "stderr",
          "text": [
            "All model checkpoint layers were used when initializing TFBertModel.\n",
            "\n",
            "All the layers of TFBertModel were initialized from the model checkpoint at ProsusAI/finbert.\n",
            "If your task is similar to the task the model of the checkpoint was trained on, you can already use TFBertModel for predictions without further training.\n"
          ]
        }
      ],
      "source": [
        "finbert_model = create_bert_multiclass_model(checkpoint=\"ProsusAI/finbert\", num_classes=3)"
      ]
    },
    {
      "cell_type": "code",
      "execution_count": null,
      "metadata": {
        "colab": {
          "base_uri": "https://localhost:8080/"
        },
        "id": "zYFNrPSyfJLA",
        "outputId": "09148a26-f65f-4429-c90f-ece81aa4b5de"
      },
      "outputs": [
        {
          "output_type": "stream",
          "name": "stdout",
          "text": [
            "Epoch 1/5\n",
            "317/317 [==============================] - 77s 103ms/step - loss: 0.6162 - accuracy: 0.7522 - val_loss: 0.4149 - val_accuracy: 0.8383\n",
            "Epoch 2/5\n",
            "317/317 [==============================] - 23s 73ms/step - loss: 0.3452 - accuracy: 0.8786 - val_loss: 0.3681 - val_accuracy: 0.8602\n",
            "Epoch 3/5\n",
            "317/317 [==============================] - 23s 73ms/step - loss: 0.2333 - accuracy: 0.9247 - val_loss: 0.3878 - val_accuracy: 0.8704\n",
            "Epoch 4/5\n",
            "317/317 [==============================] - 22s 70ms/step - loss: 0.1498 - accuracy: 0.9531 - val_loss: 0.4694 - val_accuracy: 0.8708\n",
            "Epoch 5/5\n",
            "317/317 [==============================] - 22s 70ms/step - loss: 0.1105 - accuracy: 0.9648 - val_loss: 0.4841 - val_accuracy: 0.8679\n"
          ]
        }
      ],
      "source": [
        "finbert_model_history = finbert_model.fit([finbert_train_tokenized.input_ids, finbert_train_tokenized.token_type_ids, finbert_train_tokenized.attention_mask], \n",
        "                                           finbert_train_labels,   \n",
        "                                           validation_data=([finbert_valid_tokenized.input_ids, finbert_valid_tokenized.token_type_ids, finbert_valid_tokenized.attention_mask],\n",
        "                                           finbert_valid_labels),    \n",
        "                                           batch_size=32, \n",
        "                                           epochs=5)  "
      ]
    },
    {
      "cell_type": "code",
      "source": [
        "finbert_only_results = pd.DataFrame(finbert_model_history.history)\n",
        "finbert_only_results.to_csv(data_path + '/finbert_only_results_3.csv')"
      ],
      "metadata": {
        "id": "d5PZtgqgqOOX"
      },
      "execution_count": null,
      "outputs": []
    },
    {
      "cell_type": "code",
      "source": [
        "finbert_only_test_results = run_bert(test_df, finbert_model, finbert_tokenizer)"
      ],
      "metadata": {
        "id": "xSLd9DxFvpU5"
      },
      "execution_count": null,
      "outputs": []
    },
    {
      "cell_type": "code",
      "execution_count": null,
      "metadata": {
        "id": "wBk5MYsShNpi",
        "colab": {
          "base_uri": "https://localhost:8080/"
        },
        "outputId": "9603c119-85b1-4c4c-c4e0-984436f3245c"
      },
      "outputs": [
        {
          "output_type": "stream",
          "name": "stdout",
          "text": [
            "FinBERT only test results:  (920, 157, 0.8542246982358404)\n"
          ]
        }
      ],
      "source": [
        "print(\"FinBERT only test results: \", count_correct(test_df, finbert_only_test_results))"
      ]
    },
    {
      "cell_type": "code",
      "source": [
        "finbert_uncompiled_results = finbert_model([finbert_test_tokenized.input_ids, \n",
        "                                             finbert_test_tokenized.token_type_ids, \n",
        "                                             finbert_test_tokenized.attention_mask])\n",
        "\n",
        "finbert_uncompiled_results = le.inverse_transform(tf.argmax(finbert_uncompiled_results, axis=-1))\n"
      ],
      "metadata": {
        "id": "I4yFWyLV0MRF"
      },
      "execution_count": null,
      "outputs": []
    },
    {
      "cell_type": "code",
      "source": [
        "finbert_only_classification_report = pd.DataFrame(classification_report(le.inverse_transform(finbert_test_labels), finbert_uncompiled_results, output_dict=True))\n",
        "finbert_only_classification_report.to_csv(data_path + \"/finbert_only_classification_report_3.csv\")\n",
        "print(classification_report(le.inverse_transform(finbert_test_labels), finbert_uncompiled_results))"
      ],
      "metadata": {
        "colab": {
          "base_uri": "https://localhost:8080/"
        },
        "id": "XtIbqv-u0vx2",
        "outputId": "1ecf9d50-8531-4c0d-af3c-5eef50610029"
      },
      "execution_count": null,
      "outputs": [
        {
          "output_type": "stream",
          "name": "stdout",
          "text": [
            "              precision    recall  f1-score   support\n",
            "\n",
            "    negative       0.89      0.87      0.88       402\n",
            "     neutral       0.86      0.84      0.85       580\n",
            "    positive       0.87      0.90      0.88       474\n",
            "\n",
            "    accuracy                           0.87      1456\n",
            "   macro avg       0.87      0.87      0.87      1456\n",
            "weighted avg       0.87      0.87      0.87      1456\n",
            "\n"
          ]
        }
      ]
    },
    {
      "cell_type": "markdown",
      "metadata": {
        "id": "mDBTAzTsVHB-"
      },
      "source": [
        "## RoBERTa"
      ]
    },
    {
      "cell_type": "code",
      "execution_count": 15,
      "metadata": {
        "colab": {
          "base_uri": "https://localhost:8080/",
          "height": 362,
          "referenced_widgets": [
            "f5f801e719814b4cb50907ca1265ee1b",
            "d848e7044b8d41f090c7e1d440c9767a",
            "78f2a7c135164bbb8b57a3168dda18a7",
            "377dbe4dd30a4f0e9118da997e81aae2",
            "96cafcea8c544fff83036550e9849f13",
            "79bae772acf14a94bdba9715856731ee",
            "7495cb2382714f9c9e573e8b26d9dce0",
            "081c5a0bbdeb4eb299d3babe7696fba3",
            "a279986419244eca865b23d95ff3ed63",
            "d9d4e842f6c747c28aa6351b299245bb",
            "4581d4eae8b64993b8695c18671af9c2",
            "691c7f8d054542a5859592be13ec9df6",
            "b2f4b57800f649e6b299d186dc1133dd",
            "ad0b197e0cb545838e7466c25409e3e3",
            "0146d22002c046ffac38ab33144d1ff1",
            "9710dd9309bf4fb98fa2ce4d2739cade",
            "bb79489f65294cda90b9952d245acd7d",
            "c72f30a44faf435aae3af9f1d44cc72c",
            "d2f5fd0a313440438b2b9155b79520d9",
            "1373a027179448ec8da316f7f77e8e7d",
            "4d76f90671744e08a278dd4fe9e71891",
            "d8d807ef34694699a6e682cfe42490c7",
            "7883f63b62db443f99e93386013a45c3",
            "33d832a9729341d9a08c20df388ebe35",
            "acaed442c5cf46cdb1a3eceebc493e52",
            "00e67176012f4a97a78bb4e8d93d1136",
            "748305866d9b4efcb0c020a7154ae8a9",
            "c7a061cd845d4649840683a67b909724",
            "728052a170a140a5af58f7e0392644eb",
            "d4b03cefeea1496aab9e9f8e07610000",
            "b2420daf015e4f47b7c7d894d9186a93",
            "f3696a45a67a4333a02fecccbb8ff3fc",
            "1a553f68e4ae4ca8972798d09cf8fc4c",
            "5500e7a76f5345c4a89870675b8f6453",
            "a7bae32de33448408d578374626b36eb",
            "413044330e4b403496e90bd361b22d11",
            "be4746f7868a42a4b9e9216ca2704590",
            "11da005025714df8b6effbe14a053e6f",
            "df284b59c62248e9a225e77a90a1c110",
            "08aac7848daf45fea34245bfecb14fca",
            "ef73f0d0a9314e3bb8f0e828dec9a77f",
            "67d7853844c14771b84225590fb9c3bb",
            "cb85352d4d814eabb7695b7e736603bb",
            "e41d2e400e394f26b2845a77051bd268"
          ]
        },
        "id": "OBwpCHQNVJA3",
        "outputId": "72849648-0674-4677-9289-6cb936e93f01"
      },
      "outputs": [
        {
          "output_type": "display_data",
          "data": {
            "text/plain": [
              "Downloading (…)olve/main/vocab.json:   0%|          | 0.00/899k [00:00<?, ?B/s]"
            ],
            "application/vnd.jupyter.widget-view+json": {
              "version_major": 2,
              "version_minor": 0,
              "model_id": "f5f801e719814b4cb50907ca1265ee1b"
            }
          },
          "metadata": {}
        },
        {
          "output_type": "display_data",
          "data": {
            "text/plain": [
              "Downloading (…)olve/main/merges.txt:   0%|          | 0.00/456k [00:00<?, ?B/s]"
            ],
            "application/vnd.jupyter.widget-view+json": {
              "version_major": 2,
              "version_minor": 0,
              "model_id": "691c7f8d054542a5859592be13ec9df6"
            }
          },
          "metadata": {}
        },
        {
          "output_type": "display_data",
          "data": {
            "text/plain": [
              "Downloading (…)lve/main/config.json:   0%|          | 0.00/481 [00:00<?, ?B/s]"
            ],
            "application/vnd.jupyter.widget-view+json": {
              "version_major": 2,
              "version_minor": 0,
              "model_id": "7883f63b62db443f99e93386013a45c3"
            }
          },
          "metadata": {}
        },
        {
          "output_type": "display_data",
          "data": {
            "text/plain": [
              "Downloading tf_model.h5:   0%|          | 0.00/657M [00:00<?, ?B/s]"
            ],
            "application/vnd.jupyter.widget-view+json": {
              "version_major": 2,
              "version_minor": 0,
              "model_id": "5500e7a76f5345c4a89870675b8f6453"
            }
          },
          "metadata": {}
        },
        {
          "output_type": "stream",
          "name": "stderr",
          "text": [
            "Some layers from the model checkpoint at roberta-base were not used when initializing TFRobertaModel: ['lm_head']\n",
            "- This IS expected if you are initializing TFRobertaModel from the checkpoint of a model trained on another task or with another architecture (e.g. initializing a BertForSequenceClassification model from a BertForPreTraining model).\n",
            "- This IS NOT expected if you are initializing TFRobertaModel from the checkpoint of a model that you expect to be exactly identical (initializing a BertForSequenceClassification model from a BertForSequenceClassification model).\n",
            "All the layers of TFRobertaModel were initialized from the model checkpoint at roberta-base.\n",
            "If your task is similar to the task the model of the checkpoint was trained on, you can already use TFRobertaModel for predictions without further training.\n"
          ]
        }
      ],
      "source": [
        "from transformers import RobertaTokenizer, TFRobertaModel\n",
        "roberta_tokenizer = RobertaTokenizer.from_pretrained('roberta-base')\n",
        "roberta_model = TFRobertaModel.from_pretrained('roberta-base')"
      ]
    },
    {
      "cell_type": "markdown",
      "source": [
        "### FiQA"
      ],
      "metadata": {
        "id": "QUhH5FDkqaSF"
      }
    },
    {
      "cell_type": "code",
      "source": [
        "max_length = 30\n",
        "fiqa_roberta_train_tokenized = roberta_tokenizer(fiqa_bert_train_input,       \n",
        "              truncation=True,\n",
        "              padding='max_length',\n",
        "              max_length=max_length,\n",
        "              return_tensors='tf')\n",
        "\n",
        "\n",
        "fiqa_roberta_train_labels = np.array(fiqa_bert_train_labels)\n",
        "\n",
        "fiqa_roberta_valid_tokenized = roberta_tokenizer(fiqa_bert_valid_input,     \n",
        "              truncation=True,\n",
        "              padding='max_length',\n",
        "              max_length=max_length,\n",
        "              return_tensors='tf')\n",
        "\n",
        "fiqa_roberta_valid_labels = np.array(fiqa_bert_valid_labels)\n",
        "model_checkpoint = 'roberta-base'"
      ],
      "metadata": {
        "id": "og3g4HLrqd-l"
      },
      "execution_count": 17,
      "outputs": []
    },
    {
      "cell_type": "code",
      "execution_count": 18,
      "metadata": {
        "id": "e23rYNkfWTr6"
      },
      "outputs": [],
      "source": [
        "def create_roberta_fiqa_model(checkpoint = model_checkpoint,\n",
        "                              num_classes = 3,\n",
        "                              hidden_size = 30, \n",
        "                              dropout=0.2,\n",
        "                              learning_rate=0.00002):\n",
        "   \n",
        "    roberta_model = TFRobertaModel.from_pretrained(checkpoint)                                     \n",
        "\n",
        "    \n",
        "    roberta_model.trainable = True\n",
        "    \n",
        "    input_ids = tf.keras.layers.Input(shape=(max_length,), dtype=tf.int64, name='input_ids_layer')\n",
        "    attention_mask = tf.keras.layers.Input(shape=(max_length,), dtype=tf.int64, name='attention_mask_layer')\n",
        "\n",
        "    roberta_inputs = {'input_ids': input_ids,\n",
        "                   'attention_mask': attention_mask}      \n",
        "\n",
        "    roberta_out = roberta_model(roberta_inputs)\n",
        "\n",
        "    pooler_token = roberta_out[1]\n",
        "    print(pooler_token.shape)\n",
        "\n",
        "    hidden = tf.keras.layers.Dense(hidden_size, activation='relu', name='hidden_layer')(pooler_token)\n",
        "\n",
        "    hidden = tf.keras.layers.Dropout(dropout)(hidden)  \n",
        "\n",
        "    classification = tf.keras.layers.Dense(num_classes, activation='softmax',name='classification_layer')(hidden)\n",
        "    \n",
        "    classification_model = tf.keras.Model(inputs=[input_ids, attention_mask], outputs=[classification])\n",
        "    \n",
        "    classification_model.compile(optimizer=tf.keras.optimizers.Adam(learning_rate=learning_rate, weight_decay=0.02),\n",
        "                                 loss=tf.keras.losses.SparseCategoricalCrossentropy(from_logits=False), \n",
        "                                 metrics='accuracy')\n",
        "\n",
        "    ### END YOUR CODE\n",
        "    return classification_model"
      ]
    },
    {
      "cell_type": "code",
      "source": [
        "fiqa_roberta_model = create_roberta_fiqa_model(checkpoint=model_checkpoint, \n",
        "                                               num_classes=3,\n",
        "                                               dropout=0.15,\n",
        "                                               hidden_size=30,\n",
        "                                               learning_rate=0.000005)"
      ],
      "metadata": {
        "id": "aHYP5P_tnZ4a",
        "outputId": "e9766570-5fc0-4654-c1f0-d8d877eb093b",
        "colab": {
          "base_uri": "https://localhost:8080/"
        }
      },
      "execution_count": 19,
      "outputs": [
        {
          "output_type": "stream",
          "name": "stderr",
          "text": [
            "Some layers from the model checkpoint at roberta-base were not used when initializing TFRobertaModel: ['lm_head']\n",
            "- This IS expected if you are initializing TFRobertaModel from the checkpoint of a model trained on another task or with another architecture (e.g. initializing a BertForSequenceClassification model from a BertForPreTraining model).\n",
            "- This IS NOT expected if you are initializing TFRobertaModel from the checkpoint of a model that you expect to be exactly identical (initializing a BertForSequenceClassification model from a BertForSequenceClassification model).\n",
            "All the layers of TFRobertaModel were initialized from the model checkpoint at roberta-base.\n",
            "If your task is similar to the task the model of the checkpoint was trained on, you can already use TFRobertaModel for predictions without further training.\n"
          ]
        },
        {
          "output_type": "stream",
          "name": "stdout",
          "text": [
            "(None, 768)\n"
          ]
        }
      ]
    },
    {
      "cell_type": "code",
      "source": [
        "fiqa_roberta_model_history = fiqa_roberta_model.fit([fiqa_roberta_train_tokenized.input_ids, fiqa_roberta_train_tokenized.attention_mask], \n",
        "                                                     fiqa_roberta_train_labels,   \n",
        "                                                     validation_data=([fiqa_roberta_valid_tokenized.input_ids, fiqa_roberta_valid_tokenized.attention_mask],\n",
        "                                                     fiqa_roberta_valid_labels),    \n",
        "                                                     batch_size=4, \n",
        "                                                     epochs=5) "
      ],
      "metadata": {
        "id": "5vMe2a71niRx",
        "outputId": "8e66e69e-04e5-4fcc-ffa7-fad06dc25392",
        "colab": {
          "base_uri": "https://localhost:8080/"
        }
      },
      "execution_count": 20,
      "outputs": [
        {
          "output_type": "stream",
          "name": "stdout",
          "text": [
            "Epoch 1/5\n",
            "283/283 [==============================] - 76s 111ms/step - loss: 1.0234 - accuracy: 0.4881 - val_loss: 0.6888 - val_accuracy: 0.7442\n",
            "Epoch 2/5\n",
            "283/283 [==============================] - 21s 74ms/step - loss: 0.6410 - accuracy: 0.7462 - val_loss: 0.5453 - val_accuracy: 0.7757\n",
            "Epoch 3/5\n",
            "283/283 [==============================] - 21s 74ms/step - loss: 0.4599 - accuracy: 0.8249 - val_loss: 0.5463 - val_accuracy: 0.7904\n",
            "Epoch 4/5\n",
            "283/283 [==============================] - 21s 73ms/step - loss: 0.3458 - accuracy: 0.8806 - val_loss: 0.5701 - val_accuracy: 0.7966\n",
            "Epoch 5/5\n",
            "283/283 [==============================] - 20s 72ms/step - loss: 0.2976 - accuracy: 0.8921 - val_loss: 0.5518 - val_accuracy: 0.8197\n"
          ]
        }
      ]
    },
    {
      "cell_type": "markdown",
      "source": [
        "### Sentfin"
      ],
      "metadata": {
        "id": "IlGd4nNAqib0"
      }
    },
    {
      "cell_type": "code",
      "source": [
        "max_length = 30\n",
        "roberta_train_tokenized = roberta_tokenizer(bert_train_input,       \n",
        "              truncation=True,\n",
        "              padding='max_length',\n",
        "              max_length=max_length,\n",
        "              return_tensors='tf')\n",
        "\n",
        "\n",
        "roberta_train_labels = np.array(bert_train_labels)\n",
        "\n",
        "roberta_valid_tokenized = roberta_tokenizer(bert_valid_input,     \n",
        "              truncation=True,\n",
        "              padding='max_length',\n",
        "              max_length=max_length,\n",
        "              return_tensors='tf')\n",
        "\n",
        "roberta_valid_labels = np.array(bert_valid_labels)\n",
        "\n",
        "roberta_test_tokenized = roberta_tokenizer(bert_test_input,     \n",
        "              truncation=True,\n",
        "              padding='max_length',\n",
        "              max_length=max_length,\n",
        "              return_tensors='tf')\n",
        "\n",
        "roberta_test_labels = np.array(bert_test_labels)\n",
        "\n",
        "model_checkpoint = 'roberta-base'"
      ],
      "metadata": {
        "id": "yV4b4bNpqn38"
      },
      "execution_count": 21,
      "outputs": []
    },
    {
      "cell_type": "code",
      "source": [
        "def create_roberta_multiclass_model(#checkpoint = model_checkpoint,\n",
        "                                    model=fiqa_roberta_model,\n",
        "                              num_classes = 3,\n",
        "                              hidden_size = 30, \n",
        "                              dropout=0.2,\n",
        "                              learning_rate=0.00002):\n",
        "\n",
        "    roberta_model = model.layers[2] \n",
        "    #roberta_model = TFRobertaModel.from_pretrained(checkpoint)                               \n",
        "    \n",
        "    roberta_model.trainable = True\n",
        "    \n",
        "    input_ids = tf.keras.layers.Input(shape=(max_length,), dtype=tf.int64, name='input_ids_layer')\n",
        "    attention_mask = tf.keras.layers.Input(shape=(max_length,), dtype=tf.int64, name='attention_mask_layer')\n",
        "\n",
        "    roberta_inputs = {'input_ids': input_ids,\n",
        "                   'attention_mask': attention_mask}      \n",
        "\n",
        "    roberta_out = roberta_model(roberta_inputs)\n",
        "\n",
        "    pooler_token = roberta_out[1]\n",
        "    print(pooler_token.shape)\n",
        "\n",
        "    hidden = tf.keras.layers.Dense(hidden_size, activation='relu', name='hidden_layer')(pooler_token)\n",
        "\n",
        "    hidden = tf.keras.layers.Dropout(dropout)(hidden)  \n",
        "\n",
        "    classification = tf.keras.layers.Dense(num_classes, activation='softmax',name='classification_layer')(hidden)\n",
        "    \n",
        "    classification_model = tf.keras.Model(inputs=[input_ids, attention_mask], outputs=[classification])\n",
        "    \n",
        "    classification_model.compile(optimizer=tf.keras.optimizers.Adam(learning_rate=learning_rate, weight_decay=0.02),\n",
        "                                 loss=tf.keras.losses.SparseCategoricalCrossentropy(from_logits=False), \n",
        "                                 metrics='accuracy')\n",
        "\n",
        "    ### END YOUR CODE\n",
        "    return classification_model"
      ],
      "metadata": {
        "id": "TOStCgfssR4Q"
      },
      "execution_count": 119,
      "outputs": []
    },
    {
      "cell_type": "code",
      "source": [
        "roberta_model = create_roberta_multiclass_model(num_classes=3,\n",
        "                                               dropout=0.2,\n",
        "                                               hidden_size=30,\n",
        "                                               learning_rate=0.000005)"
      ],
      "metadata": {
        "colab": {
          "base_uri": "https://localhost:8080/"
        },
        "id": "qvhFpmdSeEn1",
        "outputId": "1d8e1905-d72c-40a8-eca6-edc88837dc9c"
      },
      "execution_count": 23,
      "outputs": [
        {
          "output_type": "stream",
          "name": "stderr",
          "text": [
            "Some layers from the model checkpoint at roberta-base were not used when initializing TFRobertaModel: ['lm_head']\n",
            "- This IS expected if you are initializing TFRobertaModel from the checkpoint of a model trained on another task or with another architecture (e.g. initializing a BertForSequenceClassification model from a BertForPreTraining model).\n",
            "- This IS NOT expected if you are initializing TFRobertaModel from the checkpoint of a model that you expect to be exactly identical (initializing a BertForSequenceClassification model from a BertForSequenceClassification model).\n",
            "All the layers of TFRobertaModel were initialized from the model checkpoint at roberta-base.\n",
            "If your task is similar to the task the model of the checkpoint was trained on, you can already use TFRobertaModel for predictions without further training.\n"
          ]
        },
        {
          "output_type": "stream",
          "name": "stdout",
          "text": [
            "(None, 768)\n"
          ]
        }
      ]
    },
    {
      "cell_type": "code",
      "execution_count": 24,
      "metadata": {
        "colab": {
          "base_uri": "https://localhost:8080/"
        },
        "id": "0rNsv5RaXc18",
        "outputId": "c39c1d48-9a3a-463d-b26e-b745cc2c3d9b"
      },
      "outputs": [
        {
          "output_type": "stream",
          "name": "stdout",
          "text": [
            "Epoch 1/5\n",
            "317/317 [==============================] - 84s 122ms/step - loss: 0.7017 - accuracy: 0.6856 - val_loss: 0.4040 - val_accuracy: 0.8404\n",
            "Epoch 2/5\n",
            "317/317 [==============================] - 25s 78ms/step - loss: 0.3910 - accuracy: 0.8578 - val_loss: 0.3365 - val_accuracy: 0.8750\n",
            "Epoch 3/5\n",
            "317/317 [==============================] - 22s 70ms/step - loss: 0.3045 - accuracy: 0.8931 - val_loss: 0.3495 - val_accuracy: 0.8842\n",
            "Epoch 4/5\n",
            "317/317 [==============================] - 23s 72ms/step - loss: 0.2687 - accuracy: 0.9079 - val_loss: 0.3052 - val_accuracy: 0.8923\n",
            "Epoch 5/5\n",
            "317/317 [==============================] - 23s 71ms/step - loss: 0.2363 - accuracy: 0.9162 - val_loss: 0.3436 - val_accuracy: 0.8948\n"
          ]
        }
      ],
      "source": [
        "roberta_model_history = roberta_model.fit([roberta_train_tokenized.input_ids, roberta_train_tokenized.attention_mask], \n",
        "                                           roberta_train_labels,   \n",
        "                                           validation_data=([roberta_valid_tokenized.input_ids, roberta_valid_tokenized.attention_mask],\n",
        "                                           roberta_valid_labels),    \n",
        "                                           batch_size=32, \n",
        "                                           epochs=5)  "
      ]
    },
    {
      "cell_type": "code",
      "source": [
        "pretrain_roberta_model = create_roberta_multiclass_model(num_classes=3,\n",
        "                                               dropout=0.2,\n",
        "                                               hidden_size=30,\n",
        "                                               learning_rate=0.000005)"
      ],
      "metadata": {
        "colab": {
          "base_uri": "https://localhost:8080/"
        },
        "id": "8ecRMVAccI7h",
        "outputId": "634b9f41-85de-435f-9459-0ac253228248"
      },
      "execution_count": 120,
      "outputs": [
        {
          "output_type": "stream",
          "name": "stdout",
          "text": [
            "(None, 768)\n"
          ]
        }
      ]
    },
    {
      "cell_type": "code",
      "source": [
        "pretrain_roberta_model_history = pretrain_roberta_model.fit([roberta_train_tokenized.input_ids, roberta_train_tokenized.attention_mask], \n",
        "                                           roberta_train_labels,   \n",
        "                                           validation_data=([roberta_valid_tokenized.input_ids, roberta_valid_tokenized.attention_mask],\n",
        "                                           roberta_valid_labels),    \n",
        "                                           batch_size=32, \n",
        "                                           epochs=5)  "
      ],
      "metadata": {
        "colab": {
          "base_uri": "https://localhost:8080/"
        },
        "id": "IWWhzgieYJn6",
        "outputId": "4929397f-4eac-4a33-bbb3-b54250272f65"
      },
      "execution_count": 121,
      "outputs": [
        {
          "output_type": "stream",
          "name": "stdout",
          "text": [
            "Epoch 1/5\n",
            "317/317 [==============================] - 79s 110ms/step - loss: 0.6002 - accuracy: 0.7623 - val_loss: 0.3995 - val_accuracy: 0.8436\n",
            "Epoch 2/5\n",
            "317/317 [==============================] - 23s 72ms/step - loss: 0.3815 - accuracy: 0.8635 - val_loss: 0.3318 - val_accuracy: 0.8821\n",
            "Epoch 3/5\n",
            "317/317 [==============================] - 23s 72ms/step - loss: 0.3053 - accuracy: 0.8924 - val_loss: 0.3340 - val_accuracy: 0.8874\n",
            "Epoch 4/5\n",
            "317/317 [==============================] - 23s 71ms/step - loss: 0.2617 - accuracy: 0.9110 - val_loss: 0.3241 - val_accuracy: 0.8941\n",
            "Epoch 5/5\n",
            "317/317 [==============================] - 22s 71ms/step - loss: 0.2332 - accuracy: 0.9202 - val_loss: 0.3341 - val_accuracy: 0.8881\n"
          ]
        }
      ]
    },
    {
      "cell_type": "code",
      "source": [
        "fiqa_roberta_only_results = pd.DataFrame(pretrain_roberta_model_history.history)\n",
        "fiqa_roberta_only_results.to_csv(data_path + '/fiqa_roberta_only_results_final.csv')"
      ],
      "metadata": {
        "id": "LmeYBDj7DJ9y"
      },
      "execution_count": 122,
      "outputs": []
    },
    {
      "cell_type": "code",
      "source": [
        "roberta_only_results = pd.DataFrame(roberta_model_history.history)\n",
        "roberta_only_results.to_csv(data_path + '/roberta_only_results_final.csv')"
      ],
      "metadata": {
        "id": "b_ruzbak64hX"
      },
      "execution_count": 25,
      "outputs": []
    },
    {
      "cell_type": "code",
      "source": [
        "def run_roberta(df, model, model_tokenizer):\n",
        "  output = []\n",
        "  for index, row in df.iterrows():\n",
        "    input_str = row.Title\n",
        "    tgt_entities = row.entities\n",
        "    row_output = {}\n",
        "    for e in tgt_entities:\n",
        "      single_output = run_single_ent_roberta(input_str, e, model, model_tokenizer)\n",
        "      row_output[e] = single_output\n",
        "    output.append(row_output)\n",
        "  return output\n",
        "\n",
        "def run_single_ent_roberta(input_str, tgt_ent, model, model_tokenizer):\n",
        "  input_str = input_str.replace(tgt_ent, 'TGT')\n",
        "  input = model_tokenizer(input_str,\n",
        "                         max_length=max_length,\n",
        "                         truncation=True,\n",
        "                         padding='max_length',\n",
        "                         return_tensors='tf')\n",
        "  single_output = model([input.input_ids, input.attention_mask])\n",
        "  single_output = le.inverse_transform(tf.argmax(single_output, axis=-1))[0]\n",
        "  return single_output"
      ],
      "metadata": {
        "id": "NBFMwDzo7jEU"
      },
      "execution_count": 123,
      "outputs": []
    },
    {
      "cell_type": "code",
      "source": [
        "roberta_only_test_results = run_roberta(test_df, roberta_model, roberta_tokenizer)"
      ],
      "metadata": {
        "id": "vddzTaxO64nd"
      },
      "execution_count": 27,
      "outputs": []
    },
    {
      "cell_type": "code",
      "source": [
        "print(\"RoBERTa only test results: \", count_correct(test_df, roberta_only_test_results))"
      ],
      "metadata": {
        "colab": {
          "base_uri": "https://localhost:8080/"
        },
        "id": "ZiHOKKmt64r-",
        "outputId": "fbdf635b-775d-409d-d3f2-c0908a8e3b97"
      },
      "execution_count": 30,
      "outputs": [
        {
          "output_type": "stream",
          "name": "stdout",
          "text": [
            "RoBERTa only test results:  (942, 135, 0.8746518105849582)\n"
          ]
        }
      ]
    },
    {
      "cell_type": "code",
      "source": [
        "roberta_fiqa_only_test_results = run_roberta(test_df, pretrain_roberta_model, roberta_tokenizer)"
      ],
      "metadata": {
        "id": "aCp9tneevvU4"
      },
      "execution_count": 124,
      "outputs": []
    },
    {
      "cell_type": "code",
      "source": [
        "print(\"RoBERTa+FiQA only test results: \", count_correct(test_df, roberta_fiqa_only_test_results))"
      ],
      "metadata": {
        "colab": {
          "base_uri": "https://localhost:8080/"
        },
        "id": "pZxco60Xv4HL",
        "outputId": "e7f57a7f-0f9b-4072-bc5b-fd24fbca9a98"
      },
      "execution_count": 125,
      "outputs": [
        {
          "output_type": "stream",
          "name": "stdout",
          "text": [
            "RoBERTa+FiQA only test results:  (930, 147, 0.8635097493036211)\n"
          ]
        }
      ]
    },
    {
      "cell_type": "code",
      "source": [
        "fiqa_roberta_uncompiled_results = pretrain_roberta_model([roberta_test_tokenized.input_ids,\n",
        "                                            roberta_test_tokenized.attention_mask])\n",
        "\n",
        "fiqa_roberta_uncompiled_results = le.inverse_transform(tf.argmax(fiqa_roberta_uncompiled_results, axis=-1))\n"
      ],
      "metadata": {
        "id": "hMHQ-pfaidSw"
      },
      "execution_count": 126,
      "outputs": []
    },
    {
      "cell_type": "code",
      "source": [
        "fiqa_roberta_only_classification_report = pd.DataFrame(classification_report(le.inverse_transform(roberta_test_labels), fiqa_roberta_uncompiled_results, output_dict=True))\n",
        "fiqa_roberta_only_classification_report.to_csv(data_path + \"/fiqa_roberta_only_classification_report.csv\")\n",
        "print(classification_report(le.inverse_transform(roberta_test_labels), fiqa_roberta_uncompiled_results))"
      ],
      "metadata": {
        "colab": {
          "base_uri": "https://localhost:8080/"
        },
        "id": "uRkRbKo0idcp",
        "outputId": "a3719421-ed51-4d47-bea0-acdad8ec3323"
      },
      "execution_count": 127,
      "outputs": [
        {
          "output_type": "stream",
          "name": "stdout",
          "text": [
            "              precision    recall  f1-score   support\n",
            "\n",
            "    negative       0.88      0.92      0.90       402\n",
            "     neutral       0.90      0.83      0.86       580\n",
            "    positive       0.86      0.92      0.89       474\n",
            "\n",
            "    accuracy                           0.88      1456\n",
            "   macro avg       0.88      0.89      0.89      1456\n",
            "weighted avg       0.88      0.88      0.88      1456\n",
            "\n"
          ]
        }
      ]
    },
    {
      "cell_type": "code",
      "source": [
        "roberta_uncompiled_results = roberta_model([roberta_test_tokenized.input_ids,\n",
        "                                            roberta_test_tokenized.attention_mask])\n",
        "\n",
        "roberta_uncompiled_results = le.inverse_transform(tf.argmax(roberta_uncompiled_results, axis=-1))\n"
      ],
      "metadata": {
        "id": "YCGg-9UE7DIo"
      },
      "execution_count": 33,
      "outputs": []
    },
    {
      "cell_type": "code",
      "source": [
        "roberta_only_classification_report = pd.DataFrame(classification_report(le.inverse_transform(roberta_test_labels), roberta_uncompiled_results, output_dict=True))\n",
        "roberta_only_classification_report.to_csv(data_path + \"/roberta_only_classification_report_final.csv\")\n",
        "print(classification_report(le.inverse_transform(roberta_test_labels), roberta_uncompiled_results))"
      ],
      "metadata": {
        "colab": {
          "base_uri": "https://localhost:8080/"
        },
        "id": "LYFWmQwt7DKw",
        "outputId": "369053cc-b75c-4b8d-d57c-f09c89d35764"
      },
      "execution_count": 34,
      "outputs": [
        {
          "output_type": "stream",
          "name": "stdout",
          "text": [
            "              precision    recall  f1-score   support\n",
            "\n",
            "    negative       0.90      0.90      0.90       402\n",
            "     neutral       0.88      0.87      0.87       580\n",
            "    positive       0.89      0.91      0.90       474\n",
            "\n",
            "    accuracy                           0.89      1456\n",
            "   macro avg       0.89      0.89      0.89      1456\n",
            "weighted avg       0.89      0.89      0.89      1456\n",
            "\n"
          ]
        }
      ]
    },
    {
      "cell_type": "markdown",
      "metadata": {
        "id": "4jmhuXzZyU7K"
      },
      "source": [
        "## T5 - NER"
      ]
    },
    {
      "cell_type": "code",
      "execution_count": 35,
      "metadata": {
        "id": "SnD0t5d9ZAcS"
      },
      "outputs": [],
      "source": [
        "from transformers import T5Tokenizer, TFT5Model, TFT5ForConditionalGeneration\n",
        "from transformers import AutoTokenizer, TFAutoModelForSeq2SeqLM, DataCollatorForSeq2Seq, create_optimizer"
      ]
    },
    {
      "cell_type": "code",
      "execution_count": 36,
      "metadata": {
        "id": "CnOomW9LTdCm"
      },
      "outputs": [],
      "source": [
        "from transformers import modeling_tf_utils"
      ]
    },
    {
      "cell_type": "code",
      "execution_count": 37,
      "metadata": {
        "colab": {
          "base_uri": "https://localhost:8080/",
          "height": 447,
          "referenced_widgets": [
            "358eee69c2d84df7a57789d7a1af71e7",
            "d129b701331549ca876cf0dcf68128df",
            "31a4a5290ef74d6684666e363af34515",
            "3be9f96269854d2d9976ca244761c67d",
            "0529a585e03b4ada9337f65ac7853bbb",
            "feee42395c774c69b21e3d11167eee9a",
            "1beae0cced8347b39704cc2f841fef5b",
            "c6cea9ad1bc6484d95d30499451ad809",
            "ee82013eadf24fc3b951b33f82d9d0a8",
            "42fdfbc7185e4e77bdc2154fa755d859",
            "432b094f9df34711932eac425ad37b53",
            "b85a109d4c2e435da3fbd77ce81909e0",
            "5a21e0235c4645bba2e7d296c8eab07d",
            "392fe3d498c14d248dedb3f88641bb16",
            "c80314f8cdaf40e2baf931471c3ac182",
            "a4177dd8ccfb4b9189fca2b6d1171d18",
            "2fd9422390b041d7a3fe4ed0b7cba88b",
            "902c88fc8d4d4e8ca700dc7206ce3567",
            "b25f94fd0757478db6de6d2f6e73c000",
            "e524dd6f07244dc5802526ebc3378f7f",
            "3985813c39ab4b93bfbc880d3af62a22",
            "9cf77328f15a4eefa05d712d31d2f2d0",
            "c581fd372e9c47d29bd73fb4c3623590",
            "94d7e48df3af4813a88c3feec31acfa9",
            "703bd852711e4715a7968a7e51495635",
            "4da35b3662de42828e39627e783286af",
            "2e579634f0784c02af400f830622adc7",
            "fbbb637cd1304838938d8bb678a28ab5",
            "9aefd9773ee44aa48b7182a39a9639da",
            "2d3281a9aecf439aa54c4cb1be808eb8",
            "3a9b7f5d32fd490e8afaa42316c09a97",
            "7bc4ab424a23407e802782425410db5e",
            "1bc8b71748d943e6bcc1b5ff16952416",
            "e6f6f67e620d4726abf9da223fea47d3",
            "090734df28c74f0294be45fdb73d3503",
            "8c72ac334be0472bb7285fb8fd30a93a",
            "f02c13eb98044a53a1c3d5986cc38176",
            "eb262e356d724396a20865094dd1df33",
            "7a75441b593447adaac41e68e9aaa5b0",
            "b89d28070a154047b86b1f5fe5642211",
            "77b3f5dcb4014810a8c4ea7d48845d38",
            "5a07977a94c2455a847aa0cc9f22d2a2",
            "b6764a39be0343bcb3b7257c42b4972e",
            "1c446df6e0034a7eb2f57a1ee225bd40"
          ]
        },
        "id": "u2x1Vpn70ooo",
        "outputId": "62f5014b-e795-4eed-d44f-09d8a194ac64"
      },
      "outputs": [
        {
          "output_type": "display_data",
          "data": {
            "text/plain": [
              "Downloading (…)lve/main/config.json:   0%|          | 0.00/1.21k [00:00<?, ?B/s]"
            ],
            "application/vnd.jupyter.widget-view+json": {
              "version_major": 2,
              "version_minor": 0,
              "model_id": "358eee69c2d84df7a57789d7a1af71e7"
            }
          },
          "metadata": {}
        },
        {
          "output_type": "display_data",
          "data": {
            "text/plain": [
              "Downloading tf_model.h5:   0%|          | 0.00/892M [00:00<?, ?B/s]"
            ],
            "application/vnd.jupyter.widget-view+json": {
              "version_major": 2,
              "version_minor": 0,
              "model_id": "b85a109d4c2e435da3fbd77ce81909e0"
            }
          },
          "metadata": {}
        },
        {
          "output_type": "stream",
          "name": "stderr",
          "text": [
            "All model checkpoint layers were used when initializing TFT5ForConditionalGeneration.\n",
            "\n",
            "All the layers of TFT5ForConditionalGeneration were initialized from the model checkpoint at t5-base.\n",
            "If your task is similar to the task the model of the checkpoint was trained on, you can already use TFT5ForConditionalGeneration for predictions without further training.\n"
          ]
        },
        {
          "output_type": "display_data",
          "data": {
            "text/plain": [
              "Downloading (…)neration_config.json:   0%|          | 0.00/147 [00:00<?, ?B/s]"
            ],
            "application/vnd.jupyter.widget-view+json": {
              "version_major": 2,
              "version_minor": 0,
              "model_id": "c581fd372e9c47d29bd73fb4c3623590"
            }
          },
          "metadata": {}
        },
        {
          "output_type": "display_data",
          "data": {
            "text/plain": [
              "Downloading (…)ve/main/spiece.model:   0%|          | 0.00/792k [00:00<?, ?B/s]"
            ],
            "application/vnd.jupyter.widget-view+json": {
              "version_major": 2,
              "version_minor": 0,
              "model_id": "e6f6f67e620d4726abf9da223fea47d3"
            }
          },
          "metadata": {}
        },
        {
          "output_type": "stream",
          "name": "stderr",
          "text": [
            "/usr/local/lib/python3.9/dist-packages/transformers/models/t5/tokenization_t5.py:163: FutureWarning: This tokenizer was incorrectly instantiated with a model max length of 512 which will be corrected in Transformers v5.\n",
            "For now, this behavior is kept to avoid breaking backwards compatibility when padding/encoding with `truncation is True`.\n",
            "- Be aware that you SHOULD NOT rely on t5-base automatically truncating your input to 512 when padding/encoding.\n",
            "- If you want to encode/pad to sequences longer than 512 you can either instantiate this tokenizer with `model_max_length` or pass `max_length` when encoding/padding.\n",
            "- To avoid this warning, please instantiate this tokenizer with `model_max_length` set to your preferred value.\n",
            "  warnings.warn(\n"
          ]
        }
      ],
      "source": [
        "t5_model = TFT5ForConditionalGeneration.from_pretrained('t5-base')\n",
        "t5_tokenizer = T5Tokenizer.from_pretrained('t5-base')"
      ]
    },
    {
      "cell_type": "code",
      "execution_count": 38,
      "metadata": {
        "id": "KQLjOnXq86Zv"
      },
      "outputs": [],
      "source": [
        "max_length = 30\n",
        "\n",
        "ner_train_input = train_df.Title.to_list()\n",
        "ner_train_output = train_df.entities_str.to_list()\n",
        "\n",
        "\n",
        "ner_valid_input = valid_df.Title.to_list()\n",
        "ner_valid_output = valid_df.entities_str.to_list()\n",
        "\n",
        "ner_train_input_tokenized = t5_tokenizer(ner_train_input, \n",
        "                                        truncation=True,\n",
        "                                        padding='max_length',\n",
        "                                        max_length=max_length,\n",
        "                                        return_tensors='tf')\n",
        "\n",
        "ner_train_output_tokenized = t5_tokenizer(ner_train_output, \n",
        "                                        truncation=True,\n",
        "                                        padding='max_length',\n",
        "                                        max_length=max_length,\n",
        "                                        return_tensors='tf')\n",
        "\n",
        "ner_valid_input_tokenized = t5_tokenizer(ner_valid_input, \n",
        "                                        truncation=True,\n",
        "                                        padding='max_length',\n",
        "                                        max_length=max_length,\n",
        "                                        return_tensors='tf')\n",
        "\n",
        "ner_valid_output_tokenized = t5_tokenizer(ner_valid_output, \n",
        "                                        truncation=True,\n",
        "                                        padding='max_length',\n",
        "                                        max_length=max_length,\n",
        "                                        return_tensors='tf')\n",
        "\n",
        "ner_train_encodings = {\n",
        "        'input_ids': ner_train_input_tokenized['input_ids'], \n",
        "        'attention_mask': ner_train_input_tokenized['attention_mask'],\n",
        "        'labels': ner_train_output_tokenized['input_ids']}\n",
        "\n",
        "\n",
        "ner_valid_encodings = {\n",
        "        'input_ids': ner_valid_input_tokenized['input_ids'], \n",
        "        'attention_mask': ner_valid_input_tokenized['attention_mask'],\n",
        "        'labels': ner_valid_output_tokenized['input_ids']}\n",
        "\n",
        "\n",
        "ner_train_labels = np.array(ner_train_output_tokenized.input_ids)\n",
        "for x in ner_train_labels:\n",
        "  x[x == t5_tokenizer.pad_token_id] = -100\n",
        "ner_train_labels = tf.convert_to_tensor(ner_train_labels)\n",
        "ner_train_encodings['labels'] = ner_train_labels\n",
        "\n",
        "ner_valid_labels = np.array(ner_valid_output_tokenized.input_ids)\n",
        "for x in ner_valid_labels:\n",
        "  x[x == t5_tokenizer.pad_token_id] = -100\n",
        "ner_valid_labels = tf.convert_to_tensor(ner_valid_labels)\n",
        "ner_valid_encodings['labels'] = ner_valid_labels"
      ]
    },
    {
      "cell_type": "code",
      "execution_count": 39,
      "metadata": {
        "id": "GfZ1h5KNJRqM"
      },
      "outputs": [],
      "source": [
        "ner_train_encodings = {\n",
        "        'input_ids': list(np.array(ner_train_input_tokenized['input_ids'])), \n",
        "        'attention_mask': list(np.array(ner_train_input_tokenized['attention_mask'])),\n",
        "        'labels': list(np.array(ner_train_encodings['labels']))}\n",
        "ner_valid_encodings = {\n",
        "        'input_ids': list(np.array(ner_valid_input_tokenized['input_ids'])), \n",
        "        'attention_mask': list(np.array(ner_valid_input_tokenized['attention_mask'])),\n",
        "        'labels': list(np.array(ner_valid_encodings['labels']))}\n",
        "\n",
        "ner_train_encodings['decoder_input_ids'] =  [np.zeros(30)]*len(train_df)\n",
        "ner_valid_encodings['decoder_input_ids'] =  [np.zeros(30)]*len(valid_df)"
      ]
    },
    {
      "cell_type": "code",
      "execution_count": 40,
      "metadata": {
        "id": "ukm2f78EKCeU"
      },
      "outputs": [],
      "source": [
        "ner_train_encodings_df =  Dataset.from_pandas(pd.DataFrame(ner_train_encodings))\n",
        "ner_valid_encodings_df =  Dataset.from_pandas(pd.DataFrame(ner_valid_encodings))"
      ]
    },
    {
      "cell_type": "code",
      "execution_count": 70,
      "metadata": {
        "colab": {
          "base_uri": "https://localhost:8080/"
        },
        "id": "ukkYie11KJIj",
        "outputId": "baafc75a-410c-47bb-9534-bb39ce80bd68"
      },
      "outputs": [
        {
          "output_type": "stream",
          "name": "stderr",
          "text": [
            "All model checkpoint layers were used when initializing TFT5ForConditionalGeneration.\n",
            "\n",
            "All the layers of TFT5ForConditionalGeneration were initialized from the model checkpoint at t5-base.\n",
            "If your task is similar to the task the model of the checkpoint was trained on, you can already use TFT5ForConditionalGeneration for predictions without further training.\n",
            "No loss specified in compile() - the model's internal loss computation will be used as the loss. Don't panic - this is a common way to train TensorFlow models in Transformers! To disable this behaviour please pass a loss argument, or explicitly pass `loss=None` if you do not want your model to compute a loss.\n"
          ]
        }
      ],
      "source": [
        "ner_model = TFT5ForConditionalGeneration.from_pretrained('t5-base')\n",
        "\n",
        "batch_size = 32\n",
        "num_epochs = 3\n",
        "\n",
        "data_collator = DataCollatorForSeq2Seq(tokenizer=t5_tokenizer, model=ner_model, return_tensors=\"tf\")\n",
        "\n",
        "\n",
        "tf_train = ner_train_encodings_df.to_tf_dataset(\n",
        "  columns=[\"attention_mask\", \"input_ids\", 'decoder_input_ids', 'labels'],\n",
        "  shuffle=True,\n",
        "  collate_fn=data_collator,\n",
        "  batch_size=batch_size)\n",
        "\n",
        "tf_valid = ner_valid_encodings_df.to_tf_dataset(\n",
        "  columns=[\"attention_mask\", \"input_ids\", 'decoder_input_ids', 'labels'],\n",
        "  shuffle=True,\n",
        "  collate_fn=data_collator,\n",
        "  batch_size=batch_size)\n",
        "\n",
        "num_train_steps = len(tf_train) * num_epochs\n",
        "\n",
        "# optimizer, schedule = create_optimizer(\n",
        "#     init_lr=3e-4,\n",
        "#     num_warmup_steps=0,\n",
        "#     num_train_steps=num_train_steps,\n",
        "#     weight_decay_rate=0.02)\n",
        "\n",
        "ner_model.compile(optimizer=tf.keras.optimizers.Adam(learning_rate=0.0001,weight_decay=0.02))\n",
        "\n"
      ]
    },
    {
      "cell_type": "code",
      "execution_count": 71,
      "metadata": {
        "colab": {
          "base_uri": "https://localhost:8080/"
        },
        "id": "pHvWiR9vKW_f",
        "outputId": "8843fdfa-66f4-4e31-d62c-d097026bb27f"
      },
      "outputs": [
        {
          "output_type": "stream",
          "name": "stdout",
          "text": [
            "Epoch 1/3\n",
            "236/236 [==============================] - 103s 155ms/step - loss: 0.4013 - val_loss: 0.1721\n",
            "Epoch 2/3\n",
            "236/236 [==============================] - 30s 127ms/step - loss: 0.1654 - val_loss: 0.1645\n",
            "Epoch 3/3\n",
            "236/236 [==============================] - 30s 127ms/step - loss: 0.1245 - val_loss: 0.1572\n"
          ]
        },
        {
          "output_type": "execute_result",
          "data": {
            "text/plain": [
              "<keras.callbacks.History at 0x7fcb2d9a9eb0>"
            ]
          },
          "metadata": {},
          "execution_count": 71
        }
      ],
      "source": [
        "ner_model.fit(\n",
        "  tf_train,\n",
        "  validation_data = tf_valid,\n",
        "  epochs=3,\n",
        "  batch_size=batch_size\n",
        ")"
      ]
    },
    {
      "cell_type": "code",
      "execution_count": 72,
      "metadata": {
        "id": "dRqGC9scRYTR"
      },
      "outputs": [],
      "source": [
        "ner_test_input = test_df.Title.to_list()\n",
        "ner_test_output = test_df.entities_str.to_list()\n",
        "\n",
        "ner_test_input_tokenized = t5_tokenizer(ner_test_input, \n",
        "                                        truncation=True,\n",
        "                                        padding='max_length',\n",
        "                                        max_length=max_length,\n",
        "                                        return_tensors='tf')\n",
        "\n",
        "ner_test_output_tokenized = t5_tokenizer(ner_test_output, \n",
        "                                        truncation=True,\n",
        "                                        padding='max_length',\n",
        "                                        max_length=max_length,\n",
        "                                        return_tensors='tf')"
      ]
    },
    {
      "cell_type": "code",
      "execution_count": 73,
      "metadata": {
        "id": "p0TpSoiYRrKK"
      },
      "outputs": [],
      "source": [
        "ner_test_encodings = {\n",
        "        'input_ids': ner_test_input_tokenized['input_ids'], \n",
        "        'attention_mask': ner_test_input_tokenized['attention_mask'],\n",
        "        'labels': ner_test_output_tokenized['input_ids']}\n",
        "\n",
        "\n",
        "ner_test_labels = np.array(ner_test_output_tokenized.input_ids)\n",
        "for x in ner_test_labels:\n",
        "  x[x == t5_tokenizer.pad_token_id] = -100\n",
        "ner_test_labels = tf.convert_to_tensor(ner_test_labels)\n",
        "ner_test_encodings['labels'] = ner_test_labels"
      ]
    },
    {
      "cell_type": "code",
      "execution_count": 74,
      "metadata": {
        "colab": {
          "base_uri": "https://localhost:8080/"
        },
        "id": "k0-mNnwmR-CJ",
        "outputId": "14f81de6-9dae-48ac-eba8-eca2a0e57a4f"
      },
      "outputs": [
        {
          "output_type": "stream",
          "name": "stderr",
          "text": [
            "/usr/local/lib/python3.9/dist-packages/transformers/generation/tf_utils.py:854: UserWarning: Using `max_length`'s default (20) to control the generation length. This behaviour is deprecated and will be removed from the config in v5 of Transformers -- we recommend using `max_new_tokens` to control the maximum length of the generation.\n",
            "  warnings.warn(\n"
          ]
        }
      ],
      "source": [
        "ner_test_ids = ner_model.generate(ner_test_encodings['input_ids'])\n",
        "ner_test_results = [t5_tokenizer.decode(g, skip_special_tokens=True, clean_up_tokenization_spaces=False) for g in ner_test_ids]"
      ]
    },
    {
      "cell_type": "code",
      "source": [
        "ner_results_df = pd.DataFrame(ner_test_results, ner_test_output).reset_index()\n",
        "ner_results_df.columns= [\"Model_entities\", \"True_entities\"]\n",
        "ner_results_df.to_csv(data_path + \"/t5_ner_final.csv\")"
      ],
      "metadata": {
        "id": "X1vCCp-LgFlt"
      },
      "execution_count": 75,
      "outputs": []
    },
    {
      "cell_type": "code",
      "execution_count": 76,
      "metadata": {
        "id": "4xDHj5gJR-EZ"
      },
      "outputs": [],
      "source": [
        "def count_correct_ents(df,results):\n",
        "  num_correct = 0\n",
        "  num_incorrect = 0\n",
        "  i = 0\n",
        "  for index, row in df.iterrows():\n",
        "    ents = row.entities_str\n",
        "    if ents == results[i]:\n",
        "      num_correct += 1\n",
        "    else:\n",
        "      num_incorrect += 1\n",
        "    i += 1\n",
        "  return num_correct, num_incorrect, num_correct/len(results)"
      ]
    },
    {
      "cell_type": "code",
      "execution_count": 77,
      "metadata": {
        "colab": {
          "base_uri": "https://localhost:8080/"
        },
        "id": "p-hVyjYqmnZZ",
        "outputId": "30fbca10-aa5d-4006-c08e-4ac8195b8eb3"
      },
      "outputs": [
        {
          "output_type": "execute_result",
          "data": {
            "text/plain": [
              "(870, 207, 0.807799442896936)"
            ]
          },
          "metadata": {},
          "execution_count": 77
        }
      ],
      "source": [
        "count_correct_ents(test_df, ner_test_results)"
      ]
    },
    {
      "cell_type": "markdown",
      "metadata": {
        "id": "ri-RBrBKF6MI"
      },
      "source": [
        "## T5 + BERT"
      ]
    },
    {
      "cell_type": "code",
      "execution_count": 78,
      "metadata": {
        "id": "ibflfuUSvKck"
      },
      "outputs": [],
      "source": [
        "test_df['entities_modeled'] = np.array(ner_test_results)"
      ]
    },
    {
      "cell_type": "code",
      "execution_count": 79,
      "metadata": {
        "id": "2YXRBBGnvdtk"
      },
      "outputs": [],
      "source": [
        "def get_ner_list(x):\n",
        "  ner_lst = x.entities_modeled.split(\", \")\n",
        "  return ner_lst\n",
        "\n",
        "test_df['entities_modeled_lst'] = test_df.apply(get_ner_list, axis=1)"
      ]
    },
    {
      "cell_type": "code",
      "execution_count": 80,
      "metadata": {
        "id": "UcqH1Nxuv_Pu"
      },
      "outputs": [],
      "source": [
        "def get_test_target(x):\n",
        "  sentences = []\n",
        "  for t in x.entities_modeled_lst:\n",
        "    s = x.Title\n",
        "    s = s.replace(t, \"TGT\")\n",
        "    sentences.append(s)\n",
        "  return sentences\n",
        "\n",
        "test_df['sentences_input_modeled'] = test_df.apply(get_test_target, axis=1)\n"
      ]
    },
    {
      "cell_type": "code",
      "execution_count": 81,
      "metadata": {
        "id": "aL2Hac6IxCS1"
      },
      "outputs": [],
      "source": [
        "t5_bert_test_input = []\n",
        "for index, row in test_df.iterrows():\n",
        "  t5_bert_test_input.extend(row.sentences_input_modeled)\n",
        "\n",
        "t5_bert_test_tokenized = roberta_tokenizer(t5_bert_test_input,     \n",
        "              truncation=True,\n",
        "              padding='max_length',\n",
        "              max_length=max_length,\n",
        "              return_tensors='tf')"
      ]
    },
    {
      "cell_type": "code",
      "execution_count": 128,
      "metadata": {
        "id": "lXp2-dU6yY6V"
      },
      "outputs": [],
      "source": [
        "def run_roberta(df):\n",
        "  output = []\n",
        "  for index, row in df.iterrows():\n",
        "    input_str = row.Title\n",
        "    tgt_entities = row.entities_modeled_lst\n",
        "    row_output = {}\n",
        "    for e in tgt_entities:\n",
        "      single_output = run_single_ent_roberta(input_str, e)\n",
        "      row_output[e] = single_output\n",
        "    output.append(row_output)\n",
        "  return output\n",
        "\n",
        "def run_single_ent_roberta(input_str, tgt_ent):\n",
        "  input_str = input_str.replace(tgt_ent, 'TGT')\n",
        "  input = roberta_tokenizer(input_str,\n",
        "                         max_length=max_length,\n",
        "                         truncation=True,\n",
        "                         padding='max_length',\n",
        "                         return_tensors='tf')\n",
        "  single_output = pretrain_roberta_model([input.input_ids, input.attention_mask])\n",
        "  single_output = le.inverse_transform(tf.argmax(single_output, axis=-1))[0]\n",
        "  return single_output"
      ]
    },
    {
      "cell_type": "code",
      "execution_count": 83,
      "metadata": {
        "id": "OLexd5Q0zsk5"
      },
      "outputs": [],
      "source": [
        "t5_bert_results = run_roberta(test_df)"
      ]
    },
    {
      "cell_type": "code",
      "source": [
        "t5_pretrain_bert_results = run_roberta(test_df)"
      ],
      "metadata": {
        "id": "QOR4tYtlqqeP"
      },
      "execution_count": 129,
      "outputs": []
    },
    {
      "cell_type": "code",
      "execution_count": 84,
      "metadata": {
        "id": "O2ipEmNd6B44"
      },
      "outputs": [],
      "source": [
        "def calc_result(df, results):\n",
        "  num_correct = 0\n",
        "  num_incorrect = 0\n",
        "  for y_pred, y_label in zip(df.sent_dict, results):\n",
        "    if y_pred == y_label:\n",
        "      num_correct += 1\n",
        "    else:\n",
        "      num_incorrect += 1\n",
        "  return num_correct, num_incorrect, num_correct/len(results)"
      ]
    },
    {
      "cell_type": "code",
      "execution_count": 85,
      "metadata": {
        "colab": {
          "base_uri": "https://localhost:8080/"
        },
        "id": "EuN2FbK86Z1e",
        "outputId": "d0cb43df-1c59-4995-c8ad-08c6a0a1240a"
      },
      "outputs": [
        {
          "output_type": "execute_result",
          "data": {
            "text/plain": [
              "(784, 293, 0.7279480037140205)"
            ]
          },
          "metadata": {},
          "execution_count": 85
        }
      ],
      "source": [
        "## t5+roberta\n",
        "calc_result(test_df, t5_bert_results)"
      ]
    },
    {
      "cell_type": "code",
      "source": [
        "def clean_label(labels):\n",
        "  cleaned_labels = []\n",
        "  for x in labels:\n",
        "    cleaned_x = x[1:-1].replace('\"','')\n",
        "    cleaned_labels.append(cleaned_x)\n",
        "  return cleaned_labels"
      ],
      "metadata": {
        "id": "elZeJKgTm8Z7"
      },
      "execution_count": 101,
      "outputs": []
    },
    {
      "cell_type": "code",
      "source": [
        "t5_roberta_results_df = pd.DataFrame([test_df.Title.to_list(), \n",
        "                                     t5_bert_results, \n",
        "                                     clean_label(test_df.Decisions.to_list())]).T\n",
        "t5_roberta_results_df.columns = [\"Title\", \"Model_output\", \"True_output\"]"
      ],
      "metadata": {
        "id": "Jw40Sek5lSla"
      },
      "execution_count": 110,
      "outputs": []
    },
    {
      "cell_type": "code",
      "source": [
        "t5_roberta_results_df.to_csv(data_path + \"/t5_roberta_outputs_final.csv\")"
      ],
      "metadata": {
        "id": "ZpNQVu_PmI3D"
      },
      "execution_count": 112,
      "outputs": []
    },
    {
      "cell_type": "code",
      "source": [
        "t5_pretrain_results_df = pd.DataFrame([test_df.Title.to_list(), \n",
        "                                     t5_pretrain_bert_results, \n",
        "                                     clean_label(test_df.Decisions.to_list())]).T\n",
        "t5_pretrain_results_df.columns = [\"Title\", \"Model_output\", \"True_output\"]"
      ],
      "metadata": {
        "id": "8HQbiXyI7Fp-"
      },
      "execution_count": 179,
      "outputs": []
    },
    {
      "cell_type": "code",
      "source": [
        "t5_pretrain_results_df.to_csv(data_path + \"/t5_pretrain_outputs_final.csv\")"
      ],
      "metadata": {
        "id": "QslUBSaI7Fut"
      },
      "execution_count": 180,
      "outputs": []
    },
    {
      "cell_type": "code",
      "source": [
        "def get_wrong_t5_roberta(df, results):\n",
        "  title_lst = []\n",
        "  correct_decision_lst = []\n",
        "  wrong_decision_lst = []\n",
        "  entities_lst = []\n",
        "  for y_label, y_pred, title, entities in zip(df.sent_dict, results, df.Title, df.entities_modeled_lst):\n",
        "    if y_pred != y_label:\n",
        "      title_lst.append(title)\n",
        "      correct_decision_lst.append(y_label)\n",
        "      wrong_decision_lst.append(y_pred)\n",
        "      entities_lst.append(entities)\n",
        "  return title_lst, wrong_decision_lst, correct_decision_lst, entities_lst"
      ],
      "metadata": {
        "id": "JntUFCKtNXEv"
      },
      "execution_count": 113,
      "outputs": []
    },
    {
      "cell_type": "code",
      "source": [
        "wrong_title_lst, wrong_decision_lst, correct_decision_lst, wrong_entities_lst = get_wrong_t5_roberta(test_df, t5_bert_results)"
      ],
      "metadata": {
        "id": "T-QaPYuGPu_x"
      },
      "execution_count": 114,
      "outputs": []
    },
    {
      "cell_type": "code",
      "source": [
        "wrong_df = pd.DataFrame([wrong_title_lst, wrong_decision_lst, correct_decision_lst, wrong_entities_lst]).T"
      ],
      "metadata": {
        "id": "nXuRsJr2RgZc"
      },
      "execution_count": 115,
      "outputs": []
    },
    {
      "cell_type": "code",
      "source": [
        "wrong_df.columns = [\"Title\", \"Model Decisions\", \"True Decisions\", \"Model Entities\"]"
      ],
      "metadata": {
        "id": "aGCMENzVP_L3"
      },
      "execution_count": 116,
      "outputs": []
    },
    {
      "cell_type": "code",
      "source": [
        "wrong_df.to_csv(data_path + '/t5_roberta_wrong.csv')"
      ],
      "metadata": {
        "id": "LprI7skiQC0k"
      },
      "execution_count": 117,
      "outputs": []
    },
    {
      "cell_type": "code",
      "source": [
        "## fiqa pretrain\n",
        "calc_result(test_df, t5_pretrain_bert_results)"
      ],
      "metadata": {
        "colab": {
          "base_uri": "https://localhost:8080/"
        },
        "id": "lfpe0JeuFssA",
        "outputId": "3c14f02d-4c5a-4cfc-d1e5-3ae893303b5f"
      },
      "execution_count": 130,
      "outputs": [
        {
          "output_type": "execute_result",
          "data": {
            "text/plain": [
              "(775, 302, 0.7195914577530177)"
            ]
          },
          "metadata": {},
          "execution_count": 130
        }
      ]
    },
    {
      "cell_type": "markdown",
      "metadata": {
        "id": "q4CXZL7M7z00"
      },
      "source": [
        "## T5 Unified"
      ]
    },
    {
      "cell_type": "code",
      "execution_count": 131,
      "metadata": {
        "id": "AInRCvXT04gx"
      },
      "outputs": [],
      "source": [
        "## Split samples\n",
        "\n",
        "max_length = 30\n",
        "\n",
        "def clean_label(labels):\n",
        "  cleaned_labels = []\n",
        "  for x in labels:\n",
        "    cleaned_x = x[1:-1].replace('\"','')\n",
        "    cleaned_labels.append(cleaned_x)\n",
        "  return cleaned_labels\n",
        "\n",
        "t5_train_input = train_df.Title.to_list()\n",
        "t5_train_output = train_df.Decisions.to_list()\n",
        "t5_train_output = clean_label(t5_train_output)\n",
        "\n",
        "\n",
        "t5_valid_input = valid_df.Title.to_list()\n",
        "t5_valid_output = valid_df.Decisions.to_list()\n",
        "t5_valid_output = clean_label(t5_valid_output)\n"
      ]
    },
    {
      "cell_type": "code",
      "execution_count": 132,
      "metadata": {
        "id": "51mF62L44X_L"
      },
      "outputs": [],
      "source": [
        "t5_train_input_tokenized = t5_tokenizer(t5_train_input, \n",
        "                                        truncation=True,\n",
        "                                        padding='max_length',\n",
        "                                        max_length=max_length,\n",
        "                                        return_tensors='tf')\n",
        "\n",
        "t5_train_output_tokenized = t5_tokenizer(t5_train_output, \n",
        "                                        truncation=True,\n",
        "                                        padding='max_length',\n",
        "                                        max_length=max_length,\n",
        "                                        return_tensors='tf')\n",
        "\n",
        "t5_valid_input_tokenized = t5_tokenizer(t5_valid_input, \n",
        "                                        truncation=True,\n",
        "                                        padding='max_length',\n",
        "                                        max_length=max_length,\n",
        "                                        return_tensors='tf')\n",
        "\n",
        "t5_valid_output_tokenized = t5_tokenizer(t5_valid_output, \n",
        "                                        truncation=True,\n",
        "                                        padding='max_length',\n",
        "                                        max_length=max_length,\n",
        "                                        return_tensors='tf')\n",
        "\n",
        "train_encodings = {\n",
        "        'input_ids': t5_train_input_tokenized['input_ids'], \n",
        "        'attention_mask': t5_train_input_tokenized['attention_mask'],\n",
        "        'labels': t5_train_output_tokenized['input_ids']}\n",
        "\n",
        "\n",
        "valid_encodings = {\n",
        "        'input_ids': t5_valid_input_tokenized['input_ids'], \n",
        "        'attention_mask': t5_valid_input_tokenized['attention_mask'],\n",
        "        'labels': t5_valid_output_tokenized['input_ids']}\n",
        "\n",
        "\n",
        "train_labels = np.array(t5_train_output_tokenized.input_ids)\n",
        "for x in train_labels:\n",
        "  x[x == t5_tokenizer.pad_token_id] = -100\n",
        "train_labels = tf.convert_to_tensor(train_labels)\n",
        "train_encodings['labels'] = train_labels\n",
        "\n",
        "valid_labels = np.array(t5_valid_output_tokenized.input_ids)\n",
        "for x in valid_labels:\n",
        "  x[x == t5_tokenizer.pad_token_id] = -100\n",
        "valid_labels = tf.convert_to_tensor(valid_labels)\n",
        "valid_encodings['labels'] = valid_labels"
      ]
    },
    {
      "cell_type": "code",
      "execution_count": 133,
      "metadata": {
        "id": "mO0chdI06SDE"
      },
      "outputs": [],
      "source": [
        "from transformers import AutoTokenizer, TFAutoModelForSeq2SeqLM, DataCollatorForSeq2Seq, create_optimizer"
      ]
    },
    {
      "cell_type": "code",
      "execution_count": 134,
      "metadata": {
        "id": "Ou8QqD8A8NZM"
      },
      "outputs": [],
      "source": [
        "train_encodings = {\n",
        "        'input_ids': list(np.array(t5_train_input_tokenized['input_ids'])), \n",
        "        'attention_mask': list(np.array(t5_train_input_tokenized['attention_mask'])),\n",
        "        'labels': list(np.array(train_encodings['labels']))}\n",
        "valid_encodings = {\n",
        "        'input_ids': list(np.array(t5_valid_input_tokenized['input_ids'])), \n",
        "        'attention_mask': list(np.array(t5_valid_input_tokenized['attention_mask'])),\n",
        "        'labels': list(np.array(valid_encodings['labels']))}\n",
        "\n",
        "train_encodings['decoder_input_ids'] =  [np.zeros(30)]*len(train_df)\n",
        "valid_encodings['decoder_input_ids'] =  [np.zeros(30)]*len(valid_df)"
      ]
    },
    {
      "cell_type": "code",
      "execution_count": 135,
      "metadata": {
        "id": "A6g9Fvhs9E-F"
      },
      "outputs": [],
      "source": [
        "train_encodings_df =  Dataset.from_pandas(pd.DataFrame(train_encodings))\n",
        "valid_encodings_df =  Dataset.from_pandas(pd.DataFrame(valid_encodings))"
      ]
    },
    {
      "cell_type": "code",
      "execution_count": 136,
      "metadata": {
        "colab": {
          "base_uri": "https://localhost:8080/"
        },
        "id": "Kg9Dg99C6S-j",
        "outputId": "79a62b61-a466-4c70-aa01-5b6669f47483"
      },
      "outputs": [
        {
          "output_type": "stream",
          "name": "stderr",
          "text": [
            "All model checkpoint layers were used when initializing TFT5ForConditionalGeneration.\n",
            "\n",
            "All the layers of TFT5ForConditionalGeneration were initialized from the model checkpoint at t5-base.\n",
            "If your task is similar to the task the model of the checkpoint was trained on, you can already use TFT5ForConditionalGeneration for predictions without further training.\n",
            "No loss specified in compile() - the model's internal loss computation will be used as the loss. Don't panic - this is a common way to train TensorFlow models in Transformers! To disable this behaviour please pass a loss argument, or explicitly pass `loss=None` if you do not want your model to compute a loss.\n"
          ]
        }
      ],
      "source": [
        "t5_model = TFT5ForConditionalGeneration.from_pretrained('t5-base')\n",
        "\n",
        "batch_size = 32\n",
        "num_epochs = 3\n",
        "\n",
        "data_collator = DataCollatorForSeq2Seq(tokenizer=t5_tokenizer, model=t5_model, return_tensors=\"tf\")\n",
        "\n",
        "\n",
        "tf_train = train_encodings_df.to_tf_dataset(\n",
        "  columns=[\"attention_mask\", \"input_ids\", 'decoder_input_ids', 'labels'],\n",
        "  shuffle=True,\n",
        "  collate_fn=data_collator,\n",
        "  batch_size=batch_size)\n",
        "\n",
        "tf_valid = valid_encodings_df.to_tf_dataset(\n",
        "  columns=[\"attention_mask\", \"input_ids\", 'decoder_input_ids', 'labels'],\n",
        "  shuffle=True,\n",
        "  collate_fn=data_collator,\n",
        "  batch_size=batch_size)\n",
        "\n",
        "\n",
        "t5_model.compile(optimizer=tf.keras.optimizers.Adam(learning_rate=0.00001,weight_decay=0.02))\n",
        "\n"
      ]
    },
    {
      "cell_type": "code",
      "execution_count": 137,
      "metadata": {
        "colab": {
          "base_uri": "https://localhost:8080/"
        },
        "id": "WW_iKFdL7i_B",
        "outputId": "020d86fd-6d6d-48bd-c5c1-012a97bd4e4a"
      },
      "outputs": [
        {
          "output_type": "stream",
          "name": "stdout",
          "text": [
            "Epoch 1/5\n",
            "236/236 [==============================] - 104s 161ms/step - loss: 1.6537 - val_loss: 0.4281\n",
            "Epoch 2/5\n",
            "236/236 [==============================] - 30s 127ms/step - loss: 0.4836 - val_loss: 0.2890\n",
            "Epoch 3/5\n",
            "236/236 [==============================] - 30s 128ms/step - loss: 0.3744 - val_loss: 0.2427\n",
            "Epoch 4/5\n",
            "236/236 [==============================] - 30s 128ms/step - loss: 0.3183 - val_loss: 0.2194\n",
            "Epoch 5/5\n",
            "236/236 [==============================] - 31s 131ms/step - loss: 0.2814 - val_loss: 0.1994\n"
          ]
        }
      ],
      "source": [
        "t5_model_history = t5_model.fit(tf_train,\n",
        "                                validation_data = tf_valid,\n",
        "                                epochs=5,\n",
        "                                batch_size=batch_size)"
      ]
    },
    {
      "cell_type": "code",
      "execution_count": 140,
      "metadata": {
        "id": "Hc3RnRBWJ_AT"
      },
      "outputs": [],
      "source": [
        "t5_test_input = test_df.Title.to_list()\n",
        "t5_test_output = test_df.Decisions.to_list()\n",
        "\n",
        "t5_test_input_tokenized = t5_tokenizer(t5_test_input, \n",
        "                                        truncation=True,\n",
        "                                        padding='max_length',\n",
        "                                        max_length=max_length,\n",
        "                                        return_tensors='tf')\n",
        "\n",
        "t5_test_output_tokenized = t5_tokenizer(t5_test_output, \n",
        "                                        truncation=True,\n",
        "                                        padding='max_length',\n",
        "                                        max_length=max_length,\n",
        "                                        return_tensors='tf')"
      ]
    },
    {
      "cell_type": "code",
      "execution_count": 141,
      "metadata": {
        "id": "b49xq_NXpyOk"
      },
      "outputs": [],
      "source": [
        "test_encodings = {\n",
        "        'input_ids': t5_test_input_tokenized['input_ids'], \n",
        "        'attention_mask': t5_test_input_tokenized['attention_mask'],\n",
        "        'labels': t5_test_output_tokenized['input_ids']}\n",
        "\n",
        "\n",
        "test_labels = np.array(t5_test_output_tokenized.input_ids)\n",
        "for x in test_labels:\n",
        "  x[x == t5_tokenizer.pad_token_id] = -100\n",
        "test_labels = tf.convert_to_tensor(test_labels)\n",
        "test_encodings['labels'] = test_labels"
      ]
    },
    {
      "cell_type": "code",
      "execution_count": 142,
      "metadata": {
        "colab": {
          "base_uri": "https://localhost:8080/"
        },
        "id": "InamA6UKrSCY",
        "outputId": "060f6d86-bb70-4418-f393-905a4a387d25"
      },
      "outputs": [
        {
          "output_type": "stream",
          "name": "stderr",
          "text": [
            "/usr/local/lib/python3.9/dist-packages/transformers/generation/tf_utils.py:854: UserWarning: Using `max_length`'s default (20) to control the generation length. This behaviour is deprecated and will be removed from the config in v5 of Transformers -- we recommend using `max_new_tokens` to control the maximum length of the generation.\n",
            "  warnings.warn(\n"
          ]
        }
      ],
      "source": [
        "t5_test_ids = t5_model.generate(test_encodings['input_ids'])"
      ]
    },
    {
      "cell_type": "code",
      "execution_count": 143,
      "metadata": {
        "id": "uZrZG0GUrYJV"
      },
      "outputs": [],
      "source": [
        "t5_test_results = [t5_tokenizer.decode(g, skip_special_tokens=True, clean_up_tokenization_spaces=False) for g in t5_test_ids]"
      ]
    },
    {
      "cell_type": "code",
      "execution_count": 144,
      "metadata": {
        "id": "G7NlhKlvsUec"
      },
      "outputs": [],
      "source": [
        "def count_correct(df,results):\n",
        "  num_correct = 0\n",
        "  num_incorrect = 0\n",
        "  i = 0\n",
        "  for index, row in df.iterrows():\n",
        "    decision = row.Decisions[1:-1].replace('\"','')\n",
        "    if decision == results[i]:\n",
        "      num_correct += 1\n",
        "    else:\n",
        "      num_incorrect += 1\n",
        "    i += 1\n",
        "  return num_correct, num_incorrect, num_correct/len(results)"
      ]
    },
    {
      "cell_type": "code",
      "execution_count": 145,
      "metadata": {
        "colab": {
          "base_uri": "https://localhost:8080/"
        },
        "id": "rEVhvyCut3gl",
        "outputId": "ebbeabad-fe27-4f50-bcff-961a4f0c239e"
      },
      "outputs": [
        {
          "output_type": "execute_result",
          "data": {
            "text/plain": [
              "(657, 420, 0.6100278551532033)"
            ]
          },
          "metadata": {},
          "execution_count": 145
        }
      ],
      "source": [
        "count_correct(test_df, t5_test_results)"
      ]
    },
    {
      "cell_type": "code",
      "source": [
        "t5_unified_results_df = pd.DataFrame([test_df.Title.to_list(), \n",
        "                                     t5_test_results, \n",
        "                                     clean_label(test_df.Decisions.to_list())]).T\n",
        "t5_unified_results_df.columns = [\"Title\", \"Model_output\", \"True_output\"]"
      ],
      "metadata": {
        "id": "WDUGJ0dptw9U"
      },
      "execution_count": 146,
      "outputs": []
    },
    {
      "cell_type": "code",
      "source": [
        "t5_unified_results_df.to_csv(data_path + \"/t5_unified_outputs_final.csv\")"
      ],
      "metadata": {
        "id": "bEg92Q78uCMJ"
      },
      "execution_count": 147,
      "outputs": []
    },
    {
      "cell_type": "markdown",
      "source": [
        "## FLAN-T5 + BERT"
      ],
      "metadata": {
        "id": "_Ctx5zZQ4ppF"
      }
    },
    {
      "cell_type": "code",
      "source": [
        "flan_t5_model = TFT5ForConditionalGeneration.from_pretrained('google/flan-t5-base')\n",
        "flan_t5_tokenizer = T5Tokenizer.from_pretrained('google/flan-t5-base')"
      ],
      "metadata": {
        "colab": {
          "base_uri": "https://localhost:8080/",
          "height": 499,
          "referenced_widgets": [
            "487e595339774ee999baee84be68698d",
            "e008ec34eb2641079c6a7caab2fb8351",
            "ff8bc08f8fab4712b66707e0c25f8285",
            "c104913d24b34604a446d4f504fe4516",
            "6d30644fba244f4798d9f2a8229a5811",
            "6b7585622cdc4808b3b415dcb676d028",
            "7d1545cbd86947428f1b757eaf4dc9aa",
            "8e84896e940f49cbb0b3e5198401a6fd",
            "ae617ecaa6b04b48864dfcf55b8ec2c7",
            "c29fef76307441bcae59e626d76acaf6",
            "7f5f3bc0b6674d59961c0a4872e52f4e",
            "958fbcc1075a46c591331b77b6d1f3af",
            "fa1a6583f8d3403d842b1e42c56c33a4",
            "65f83b47cca24737a6ecb9e75ca9e691",
            "9f9c393b26e0488ba701f10ceb8a2b01",
            "206c791f3a234219936aaed4bd4e953f",
            "9c557cb1f5874b8c942db772e09050ba",
            "e905df2a75554304943854b62ec242cd",
            "8a661f77aebb4f14ae4dc4b46c56a3dc",
            "fe0ce3dfe7b04ce78dca32efdd80a554",
            "bf44b677f3c34fc4ba3cb1763ab5a34c",
            "1c700ef1898145fba913d2de633360e9",
            "2ae9209bcab140f7b6769f2464048856",
            "6a8a2067129d484fa230c06dc20d9d33",
            "ab5a2c6033c542448bcbe1a1247a6038",
            "bfb657c0fa0344abad88984d07d9cdb1",
            "e78bac266f7446e791a7efe5c209a8e8",
            "b0e3b2d5f3064aa8a10e282933d48fcf",
            "27e9107a75f5459daf24b859896ef1bc",
            "39f2f1d4c8304e98890c3ab09ce1813d",
            "52f49d1707fb4f89bfac2ca31e2a59b0",
            "30db86df001e48e8ad8fe143f93fdc3c",
            "e75b10a5b4514a6a9c81ee933a199fed",
            "24307d54ab9d470888e26f945ffa0c45",
            "3efa0e2f1a094978906b7b1f8ede6bd1",
            "dfc3a6ca89254818b2d4fd2d79540407",
            "dc5f93ed8b07424ca4e4e58837002905",
            "ff4571aae5cd4696860682f464cc67bf",
            "32adbdf3223b49eb968b25d0b9ac0957",
            "0066cc5c46c6444abadd48bfb67ee284",
            "62a1824579854654b0ea69ef90871a35",
            "cef45491aa1c496c85fb37a2e2419cf6",
            "5fdc999838d64e7ea7442dbdd278af13",
            "f738aa8acb3b4ba183d8e350b55ad192",
            "4b28c4196ef946d387a774795a50d9ea",
            "26bc4924324f4e20b3fa0cb1a33cbbdc",
            "c735b9d4f96743d4b7218c2eb6c4dfa9",
            "44ae297a1b6c4068a0adeeecc09960ee",
            "a770e8202095427ea962c5222e5081ed",
            "2db7cc7e151f4541b16774a9e2c29654",
            "c7c0e31097bf4bd0b805987f22b3a876",
            "5d5f17c2c6b94944b99a8a80d91f4db0",
            "46d270dd05f3461c9e9ac9dd9c2269ed",
            "f4b4d4eccf1443d0a3f755578cc76412",
            "add9eb8277ea41da8b9c96f25e957e62",
            "75273fd16cc548189fe53ede2089796b",
            "c20954ecad174168b5484276ba793905",
            "492b31835fb0433094a7e9d3c267d0f4",
            "56ab08546af04314aa7a2aaeb9d5d720",
            "b578e251668441bb8a83f06715b3f1df",
            "5fa37b7e86164185856e07a9c9ddeb4a",
            "0c1faa55eab849edaf2135a47cc6a46b",
            "f0e5748586f24f449fc49ad6fe69175e",
            "3b1f1156cc854289821eb35d920d9cb7",
            "b57f76c854f343bbb785f19176c79e2f",
            "f8bd323fcac54779b39c98ba111bb20b"
          ]
        },
        "id": "_J_KiVqp5Wh1",
        "outputId": "8dbe988b-de60-4d48-a5e2-83d7febf7cee"
      },
      "execution_count": null,
      "outputs": [
        {
          "output_type": "display_data",
          "data": {
            "text/plain": [
              "Downloading (…)lve/main/config.json:   0%|          | 0.00/1.40k [00:00<?, ?B/s]"
            ],
            "application/vnd.jupyter.widget-view+json": {
              "version_major": 2,
              "version_minor": 0,
              "model_id": "487e595339774ee999baee84be68698d"
            }
          },
          "metadata": {}
        },
        {
          "output_type": "display_data",
          "data": {
            "text/plain": [
              "Downloading tf_model.h5:   0%|          | 0.00/1.19G [00:00<?, ?B/s]"
            ],
            "application/vnd.jupyter.widget-view+json": {
              "version_major": 2,
              "version_minor": 0,
              "model_id": "958fbcc1075a46c591331b77b6d1f3af"
            }
          },
          "metadata": {}
        },
        {
          "output_type": "stream",
          "name": "stderr",
          "text": [
            "/usr/local/lib/python3.9/dist-packages/keras/initializers/initializers_v2.py:120: UserWarning: The initializer RandomNormal is unseeded and being called multiple times, which will return identical values  each time (even if the initializer is unseeded). Please update your code to provide a seed to the initializer, or avoid using the same initalizer instance more than once.\n",
            "  warnings.warn(\n",
            "All model checkpoint layers were used when initializing TFT5ForConditionalGeneration.\n",
            "\n",
            "All the layers of TFT5ForConditionalGeneration were initialized from the model checkpoint at google/flan-t5-base.\n",
            "If your task is similar to the task the model of the checkpoint was trained on, you can already use TFT5ForConditionalGeneration for predictions without further training.\n"
          ]
        },
        {
          "output_type": "display_data",
          "data": {
            "text/plain": [
              "Downloading (…)neration_config.json:   0%|          | 0.00/147 [00:00<?, ?B/s]"
            ],
            "application/vnd.jupyter.widget-view+json": {
              "version_major": 2,
              "version_minor": 0,
              "model_id": "2ae9209bcab140f7b6769f2464048856"
            }
          },
          "metadata": {}
        },
        {
          "output_type": "display_data",
          "data": {
            "text/plain": [
              "Downloading spiece.model:   0%|          | 0.00/792k [00:00<?, ?B/s]"
            ],
            "application/vnd.jupyter.widget-view+json": {
              "version_major": 2,
              "version_minor": 0,
              "model_id": "24307d54ab9d470888e26f945ffa0c45"
            }
          },
          "metadata": {}
        },
        {
          "output_type": "display_data",
          "data": {
            "text/plain": [
              "Downloading (…)cial_tokens_map.json:   0%|          | 0.00/2.20k [00:00<?, ?B/s]"
            ],
            "application/vnd.jupyter.widget-view+json": {
              "version_major": 2,
              "version_minor": 0,
              "model_id": "4b28c4196ef946d387a774795a50d9ea"
            }
          },
          "metadata": {}
        },
        {
          "output_type": "display_data",
          "data": {
            "text/plain": [
              "Downloading (…)okenizer_config.json:   0%|          | 0.00/2.54k [00:00<?, ?B/s]"
            ],
            "application/vnd.jupyter.widget-view+json": {
              "version_major": 2,
              "version_minor": 0,
              "model_id": "75273fd16cc548189fe53ede2089796b"
            }
          },
          "metadata": {}
        }
      ]
    },
    {
      "cell_type": "code",
      "source": [
        "max_length = 30\n",
        "\n",
        "flan_ner_train_input = train_df.Title.to_list()\n",
        "flan_ner_train_output = train_df.entities_str.to_list()\n",
        "\n",
        "\n",
        "flan_ner_valid_input = valid_df.Title.to_list()\n",
        "flan_ner_valid_output = valid_df.entities_str.to_list()\n",
        "\n",
        "flan_ner_train_input_tokenized = flan_t5_tokenizer(flan_ner_train_input, \n",
        "                                        truncation=True,\n",
        "                                        padding='max_length',\n",
        "                                        max_length=max_length,\n",
        "                                        return_tensors='tf')\n",
        "\n",
        "flan_ner_train_output_tokenized = flan_t5_tokenizer(flan_ner_train_output, \n",
        "                                        truncation=True,\n",
        "                                        padding='max_length',\n",
        "                                        max_length=max_length,\n",
        "                                        return_tensors='tf')\n",
        "\n",
        "flan_ner_valid_input_tokenized = flan_t5_tokenizer(flan_ner_valid_input, \n",
        "                                        truncation=True,\n",
        "                                        padding='max_length',\n",
        "                                        max_length=max_length,\n",
        "                                        return_tensors='tf')\n",
        "\n",
        "flan_ner_valid_output_tokenized = flan_t5_tokenizer(flan_ner_valid_output, \n",
        "                                        truncation=True,\n",
        "                                        padding='max_length',\n",
        "                                        max_length=max_length,\n",
        "                                        return_tensors='tf')\n",
        "\n",
        "flan_ner_train_encodings = {\n",
        "        'input_ids': flan_ner_train_input_tokenized['input_ids'], \n",
        "        'attention_mask': flan_ner_train_input_tokenized['attention_mask'],\n",
        "        'labels': flan_ner_train_output_tokenized['input_ids']}\n",
        "\n",
        "\n",
        "flan_ner_valid_encodings = {\n",
        "        'input_ids': flan_ner_valid_input_tokenized['input_ids'], \n",
        "        'attention_mask': flan_ner_valid_input_tokenized['attention_mask'],\n",
        "        'labels': flan_ner_valid_output_tokenized['input_ids']}\n",
        "\n",
        "\n",
        "flan_ner_train_labels = np.array(flan_ner_train_output_tokenized.input_ids)\n",
        "for x in flan_ner_train_labels:\n",
        "  x[x == flan_t5_tokenizer.pad_token_id] = -100\n",
        "flan_ner_train_labels = tf.convert_to_tensor(flan_ner_train_labels)\n",
        "flan_ner_train_encodings['labels'] = flan_ner_train_labels\n",
        "\n",
        "flan_ner_valid_labels = np.array(flan_ner_valid_output_tokenized.input_ids)\n",
        "for x in flan_ner_valid_labels:\n",
        "  x[x == flan_t5_tokenizer.pad_token_id] = -100\n",
        "flan_ner_valid_labels = tf.convert_to_tensor(flan_ner_valid_labels)\n",
        "flan_ner_valid_encodings['labels'] = flan_ner_valid_labels"
      ],
      "metadata": {
        "id": "QUBy1HZY5hxp"
      },
      "execution_count": null,
      "outputs": []
    },
    {
      "cell_type": "code",
      "source": [
        "flan_ner_train_encodings = {\n",
        "        'input_ids': list(np.array(flan_ner_train_input_tokenized['input_ids'])), \n",
        "        'attention_mask': list(np.array(flan_ner_train_input_tokenized['attention_mask'])),\n",
        "        'labels': list(np.array(flan_ner_train_encodings['labels']))}\n",
        "flan_ner_valid_encodings = {\n",
        "        'input_ids': list(np.array(flan_ner_valid_input_tokenized['input_ids'])), \n",
        "        'attention_mask': list(np.array(flan_ner_valid_input_tokenized['attention_mask'])),\n",
        "        'labels': list(np.array(flan_ner_valid_encodings['labels']))}\n",
        "\n",
        "flan_ner_train_encodings['decoder_input_ids'] =  [np.zeros(30)]*len(train_df)\n",
        "flan_ner_valid_encodings['decoder_input_ids'] =  [np.zeros(30)]*len(valid_df)"
      ],
      "metadata": {
        "id": "oqryhr4a6E3t"
      },
      "execution_count": null,
      "outputs": []
    },
    {
      "cell_type": "code",
      "source": [
        "flan_ner_train_encodings_df =  Dataset.from_pandas(pd.DataFrame(flan_ner_train_encodings))\n",
        "flan_ner_valid_encodings_df =  Dataset.from_pandas(pd.DataFrame(flan_ner_valid_encodings))"
      ],
      "metadata": {
        "id": "kGfgviFn6Rzv"
      },
      "execution_count": null,
      "outputs": []
    },
    {
      "cell_type": "code",
      "source": [
        "flan_ner_model = TFT5ForConditionalGeneration.from_pretrained('google/flan-t5-base')\n",
        "\n",
        "batch_size = 32\n",
        "num_epochs = 3\n",
        "\n",
        "data_collator = DataCollatorForSeq2Seq(tokenizer=flan_t5_tokenizer, \n",
        "                                       model=flan_ner_model, \n",
        "                                       return_tensors=\"tf\")\n",
        "\n",
        "\n",
        "tf_train = flan_ner_train_encodings_df.to_tf_dataset(\n",
        "  columns=[\"attention_mask\", \"input_ids\", 'decoder_input_ids', 'labels'],\n",
        "  shuffle=True,\n",
        "  collate_fn=data_collator,\n",
        "  batch_size=batch_size)\n",
        "\n",
        "tf_valid = flan_ner_valid_encodings_df.to_tf_dataset(\n",
        "  columns=[\"attention_mask\", \"input_ids\", 'decoder_input_ids', 'labels'],\n",
        "  shuffle=True,\n",
        "  collate_fn=data_collator,\n",
        "  batch_size=batch_size)\n",
        "\n",
        "num_train_steps = len(tf_train) * num_epochs\n",
        "\n",
        "# optimizer, schedule = create_optimizer(\n",
        "#     init_lr=3e-4,\n",
        "#     num_warmup_steps=0,\n",
        "#     num_train_steps=num_train_steps,\n",
        "#     weight_decay_rate=0.02)\n",
        "\n",
        "flan_ner_model.compile(optimizer=tf.keras.optimizers.Adam(learning_rate=0.00005,weight_decay=0.02))\n",
        "\n"
      ],
      "metadata": {
        "colab": {
          "base_uri": "https://localhost:8080/"
        },
        "id": "ktaFbak86btW",
        "outputId": "24d4e38d-d474-4918-e9e4-1af3328e04ca"
      },
      "execution_count": null,
      "outputs": [
        {
          "output_type": "stream",
          "name": "stderr",
          "text": [
            "/usr/local/lib/python3.9/dist-packages/keras/initializers/initializers_v2.py:120: UserWarning: The initializer RandomNormal is unseeded and being called multiple times, which will return identical values  each time (even if the initializer is unseeded). Please update your code to provide a seed to the initializer, or avoid using the same initalizer instance more than once.\n",
            "  warnings.warn(\n",
            "All model checkpoint layers were used when initializing TFT5ForConditionalGeneration.\n",
            "\n",
            "All the layers of TFT5ForConditionalGeneration were initialized from the model checkpoint at google/flan-t5-base.\n",
            "If your task is similar to the task the model of the checkpoint was trained on, you can already use TFT5ForConditionalGeneration for predictions without further training.\n",
            "No loss specified in compile() - the model's internal loss computation will be used as the loss. Don't panic - this is a common way to train TensorFlow models in Transformers! To disable this behaviour please pass a loss argument, or explicitly pass `loss=None` if you do not want your model to compute a loss.\n"
          ]
        }
      ]
    },
    {
      "cell_type": "code",
      "source": [
        "flan_ner_model.fit(\n",
        "  tf_train,\n",
        "  validation_data = tf_valid,\n",
        "  epochs=4,\n",
        "  batch_size=batch_size\n",
        ")"
      ],
      "metadata": {
        "colab": {
          "base_uri": "https://localhost:8080/"
        },
        "id": "gfoZ5nCT87dH",
        "outputId": "68995c26-daca-4fae-f054-d40045c392c3"
      },
      "execution_count": null,
      "outputs": [
        {
          "output_type": "stream",
          "name": "stdout",
          "text": [
            "Epoch 1/4\n"
          ]
        },
        {
          "output_type": "stream",
          "name": "stderr",
          "text": [
            "WARNING:tensorflow:From /usr/local/lib/python3.9/dist-packages/tensorflow/python/autograph/pyct/static_analysis/liveness.py:83: Analyzer.lamba_check (from tensorflow.python.autograph.pyct.static_analysis.liveness) is deprecated and will be removed after 2023-09-23.\n",
            "Instructions for updating:\n",
            "Lambda fuctions will be no more assumed to be used in the statement where they are used, or at least in the same block. https://github.com/tensorflow/tensorflow/issues/56089\n"
          ]
        },
        {
          "output_type": "stream",
          "name": "stdout",
          "text": [
            "236/236 [==============================] - 209s 575ms/step - loss: 0.4169 - val_loss: 0.1920\n",
            "Epoch 2/4\n",
            "236/236 [==============================] - 131s 554ms/step - loss: 0.2193 - val_loss: 0.1680\n",
            "Epoch 3/4\n",
            "236/236 [==============================] - 132s 562ms/step - loss: 0.1738 - val_loss: 0.1573\n",
            "Epoch 4/4\n",
            "236/236 [==============================] - 133s 562ms/step - loss: 0.1460 - val_loss: 0.1557\n"
          ]
        },
        {
          "output_type": "execute_result",
          "data": {
            "text/plain": [
              "<keras.callbacks.History at 0x7f3858add910>"
            ]
          },
          "metadata": {},
          "execution_count": 20
        }
      ]
    },
    {
      "cell_type": "code",
      "source": [
        "flan_ner_test_input = test_df.Title.to_list()\n",
        "flan_ner_test_output = test_df.entities_str.to_list()\n",
        "\n",
        "flan_ner_test_input_tokenized = flan_t5_tokenizer(flan_ner_test_input, \n",
        "                                        truncation=True,\n",
        "                                        padding='max_length',\n",
        "                                        max_length=max_length,\n",
        "                                        return_tensors='tf')\n",
        "\n",
        "flan_ner_test_output_tokenized = flan_t5_tokenizer(flan_ner_test_output, \n",
        "                                        truncation=True,\n",
        "                                        padding='max_length',\n",
        "                                        max_length=max_length,\n",
        "                                        return_tensors='tf')"
      ],
      "metadata": {
        "id": "JDaMSIb69FXR"
      },
      "execution_count": null,
      "outputs": []
    },
    {
      "cell_type": "code",
      "source": [
        "flan_ner_test_encodings = {\n",
        "        'input_ids': flan_ner_test_input_tokenized['input_ids'], \n",
        "        'attention_mask': flan_ner_test_input_tokenized['attention_mask'],\n",
        "        'labels': flan_ner_test_output_tokenized['input_ids']}\n",
        "\n",
        "\n",
        "flan_ner_test_labels = np.array(flan_ner_test_output_tokenized.input_ids)\n",
        "for x in flan_ner_test_labels:\n",
        "  x[x == flan_t5_tokenizer.pad_token_id] = -100\n",
        "flan_ner_test_labels = tf.convert_to_tensor(flan_ner_test_labels)\n",
        "flan_ner_test_encodings['labels'] = flan_ner_test_labels"
      ],
      "metadata": {
        "id": "-WbTrNOF9lT3"
      },
      "execution_count": null,
      "outputs": []
    },
    {
      "cell_type": "code",
      "source": [
        "flan_ner_test_ids = flan_ner_model.generate(flan_ner_test_encodings['input_ids'])\n",
        "flan_ner_test_results = [flan_t5_tokenizer.decode(g, skip_special_tokens=True, clean_up_tokenization_spaces=False) for g in flan_ner_test_ids]"
      ],
      "metadata": {
        "colab": {
          "base_uri": "https://localhost:8080/"
        },
        "id": "BeaKlO_e9p96",
        "outputId": "a27641ea-47e5-423d-bf95-fdc322ea22ae"
      },
      "execution_count": null,
      "outputs": [
        {
          "output_type": "stream",
          "name": "stderr",
          "text": [
            "/usr/local/lib/python3.9/dist-packages/transformers/generation/tf_utils.py:854: UserWarning: Using `max_length`'s default (20) to control the generation length. This behaviour is deprecated and will be removed from the config in v5 of Transformers -- we recommend using `max_new_tokens` to control the maximum length of the generation.\n",
            "  warnings.warn(\n"
          ]
        }
      ]
    },
    {
      "cell_type": "code",
      "source": [
        "count_correct_ents(test_df, flan_ner_test_results)"
      ],
      "metadata": {
        "colab": {
          "base_uri": "https://localhost:8080/"
        },
        "id": "yBQq6XMg9tlM",
        "outputId": "8354b816-382f-4068-acaf-7d0c27f0614f"
      },
      "execution_count": null,
      "outputs": [
        {
          "output_type": "execute_result",
          "data": {
            "text/plain": [
              "(846, 231, 0.7855153203342619)"
            ]
          },
          "metadata": {},
          "execution_count": 24
        }
      ]
    },
    {
      "cell_type": "code",
      "source": [],
      "metadata": {
        "id": "eV_ZWk5E_ZUz"
      },
      "execution_count": null,
      "outputs": []
    },
    {
      "cell_type": "markdown",
      "source": [
        "# Model Analysis"
      ],
      "metadata": {
        "id": "5vdroLyGtVXr"
      }
    },
    {
      "cell_type": "code",
      "source": [
        "import pandas as pd\n",
        "from sklearn.metrics import classification_report"
      ],
      "metadata": {
        "id": "5uAYfuL85ejf"
      },
      "execution_count": 38,
      "outputs": []
    },
    {
      "cell_type": "code",
      "source": [
        "ner_results_df = pd.read_csv(data_path + '/t5_ner_final.csv')\n",
        "t5_unified_results_df = pd.read_csv(data_path + '/t5_unified_outputs_final.csv')\n",
        "t5_roberta_results_df = pd.read_csv(data_path + '/t5_roberta_outputs_final.csv')\n",
        "t5_pretrain_results_df = pd.read_csv(data_path + '/t5_pretrain_outputs_final.csv')\n",
        "t5_unified_results_df.head()"
      ],
      "metadata": {
        "colab": {
          "base_uri": "https://localhost:8080/",
          "height": 350
        },
        "id": "m33qsrhctXEQ",
        "outputId": "1033d191-d9e6-40a9-a7e8-f005a3b82867"
      },
      "execution_count": 3,
      "outputs": [
        {
          "output_type": "execute_result",
          "data": {
            "text/plain": [
              "   Unnamed: 0                                              Title  \\\n",
              "0           0  L&T in talk to supply nuclear equipments; stoc...   \n",
              "1           1  Voltas surges on cooling products-led beat in ...   \n",
              "2           2  Important that Bank Nifty captures 19150 level...   \n",
              "3           3  Gold dips on firmer equities; Middle East, Ukr...   \n",
              "4           4  Citigroup sells shares worth Rs 480 cr of 35 I...   \n",
              "\n",
              "           Model_output                               True_output  \n",
              "0         L&T: positive                             L&T: positive  \n",
              "1      Voltas: positive                          Voltas: positive  \n",
              "2  Bank Nifty: positive                       Bank Nifty: neutral  \n",
              "3        Gold: negative                            Gold: negative  \n",
              "4    Citigroup: neutral  Indian cos: negative, Citigroup: neutral  "
            ],
            "text/html": [
              "\n",
              "  <div id=\"df-b1a29329-7e46-466d-94fd-cc54494d08b1\">\n",
              "    <div class=\"colab-df-container\">\n",
              "      <div>\n",
              "<style scoped>\n",
              "    .dataframe tbody tr th:only-of-type {\n",
              "        vertical-align: middle;\n",
              "    }\n",
              "\n",
              "    .dataframe tbody tr th {\n",
              "        vertical-align: top;\n",
              "    }\n",
              "\n",
              "    .dataframe thead th {\n",
              "        text-align: right;\n",
              "    }\n",
              "</style>\n",
              "<table border=\"1\" class=\"dataframe\">\n",
              "  <thead>\n",
              "    <tr style=\"text-align: right;\">\n",
              "      <th></th>\n",
              "      <th>Unnamed: 0</th>\n",
              "      <th>Title</th>\n",
              "      <th>Model_output</th>\n",
              "      <th>True_output</th>\n",
              "    </tr>\n",
              "  </thead>\n",
              "  <tbody>\n",
              "    <tr>\n",
              "      <th>0</th>\n",
              "      <td>0</td>\n",
              "      <td>L&amp;T in talk to supply nuclear equipments; stoc...</td>\n",
              "      <td>L&amp;T: positive</td>\n",
              "      <td>L&amp;T: positive</td>\n",
              "    </tr>\n",
              "    <tr>\n",
              "      <th>1</th>\n",
              "      <td>1</td>\n",
              "      <td>Voltas surges on cooling products-led beat in ...</td>\n",
              "      <td>Voltas: positive</td>\n",
              "      <td>Voltas: positive</td>\n",
              "    </tr>\n",
              "    <tr>\n",
              "      <th>2</th>\n",
              "      <td>2</td>\n",
              "      <td>Important that Bank Nifty captures 19150 level...</td>\n",
              "      <td>Bank Nifty: positive</td>\n",
              "      <td>Bank Nifty: neutral</td>\n",
              "    </tr>\n",
              "    <tr>\n",
              "      <th>3</th>\n",
              "      <td>3</td>\n",
              "      <td>Gold dips on firmer equities; Middle East, Ukr...</td>\n",
              "      <td>Gold: negative</td>\n",
              "      <td>Gold: negative</td>\n",
              "    </tr>\n",
              "    <tr>\n",
              "      <th>4</th>\n",
              "      <td>4</td>\n",
              "      <td>Citigroup sells shares worth Rs 480 cr of 35 I...</td>\n",
              "      <td>Citigroup: neutral</td>\n",
              "      <td>Indian cos: negative, Citigroup: neutral</td>\n",
              "    </tr>\n",
              "  </tbody>\n",
              "</table>\n",
              "</div>\n",
              "      <button class=\"colab-df-convert\" onclick=\"convertToInteractive('df-b1a29329-7e46-466d-94fd-cc54494d08b1')\"\n",
              "              title=\"Convert this dataframe to an interactive table.\"\n",
              "              style=\"display:none;\">\n",
              "        \n",
              "  <svg xmlns=\"http://www.w3.org/2000/svg\" height=\"24px\"viewBox=\"0 0 24 24\"\n",
              "       width=\"24px\">\n",
              "    <path d=\"M0 0h24v24H0V0z\" fill=\"none\"/>\n",
              "    <path d=\"M18.56 5.44l.94 2.06.94-2.06 2.06-.94-2.06-.94-.94-2.06-.94 2.06-2.06.94zm-11 1L8.5 8.5l.94-2.06 2.06-.94-2.06-.94L8.5 2.5l-.94 2.06-2.06.94zm10 10l.94 2.06.94-2.06 2.06-.94-2.06-.94-.94-2.06-.94 2.06-2.06.94z\"/><path d=\"M17.41 7.96l-1.37-1.37c-.4-.4-.92-.59-1.43-.59-.52 0-1.04.2-1.43.59L10.3 9.45l-7.72 7.72c-.78.78-.78 2.05 0 2.83L4 21.41c.39.39.9.59 1.41.59.51 0 1.02-.2 1.41-.59l7.78-7.78 2.81-2.81c.8-.78.8-2.07 0-2.86zM5.41 20L4 18.59l7.72-7.72 1.47 1.35L5.41 20z\"/>\n",
              "  </svg>\n",
              "      </button>\n",
              "      \n",
              "  <style>\n",
              "    .colab-df-container {\n",
              "      display:flex;\n",
              "      flex-wrap:wrap;\n",
              "      gap: 12px;\n",
              "    }\n",
              "\n",
              "    .colab-df-convert {\n",
              "      background-color: #E8F0FE;\n",
              "      border: none;\n",
              "      border-radius: 50%;\n",
              "      cursor: pointer;\n",
              "      display: none;\n",
              "      fill: #1967D2;\n",
              "      height: 32px;\n",
              "      padding: 0 0 0 0;\n",
              "      width: 32px;\n",
              "    }\n",
              "\n",
              "    .colab-df-convert:hover {\n",
              "      background-color: #E2EBFA;\n",
              "      box-shadow: 0px 1px 2px rgba(60, 64, 67, 0.3), 0px 1px 3px 1px rgba(60, 64, 67, 0.15);\n",
              "      fill: #174EA6;\n",
              "    }\n",
              "\n",
              "    [theme=dark] .colab-df-convert {\n",
              "      background-color: #3B4455;\n",
              "      fill: #D2E3FC;\n",
              "    }\n",
              "\n",
              "    [theme=dark] .colab-df-convert:hover {\n",
              "      background-color: #434B5C;\n",
              "      box-shadow: 0px 1px 3px 1px rgba(0, 0, 0, 0.15);\n",
              "      filter: drop-shadow(0px 1px 2px rgba(0, 0, 0, 0.3));\n",
              "      fill: #FFFFFF;\n",
              "    }\n",
              "  </style>\n",
              "\n",
              "      <script>\n",
              "        const buttonEl =\n",
              "          document.querySelector('#df-b1a29329-7e46-466d-94fd-cc54494d08b1 button.colab-df-convert');\n",
              "        buttonEl.style.display =\n",
              "          google.colab.kernel.accessAllowed ? 'block' : 'none';\n",
              "\n",
              "        async function convertToInteractive(key) {\n",
              "          const element = document.querySelector('#df-b1a29329-7e46-466d-94fd-cc54494d08b1');\n",
              "          const dataTable =\n",
              "            await google.colab.kernel.invokeFunction('convertToInteractive',\n",
              "                                                     [key], {});\n",
              "          if (!dataTable) return;\n",
              "\n",
              "          const docLinkHtml = 'Like what you see? Visit the ' +\n",
              "            '<a target=\"_blank\" href=https://colab.research.google.com/notebooks/data_table.ipynb>data table notebook</a>'\n",
              "            + ' to learn more about interactive tables.';\n",
              "          element.innerHTML = '';\n",
              "          dataTable['output_type'] = 'display_data';\n",
              "          await google.colab.output.renderOutput(dataTable, element);\n",
              "          const docLink = document.createElement('div');\n",
              "          docLink.innerHTML = docLinkHtml;\n",
              "          element.appendChild(docLink);\n",
              "        }\n",
              "      </script>\n",
              "    </div>\n",
              "  </div>\n",
              "  "
            ]
          },
          "metadata": {},
          "execution_count": 3
        }
      ]
    },
    {
      "cell_type": "code",
      "source": [
        "t5_roberta_results_df.True_output[1]"
      ],
      "metadata": {
        "colab": {
          "base_uri": "https://localhost:8080/",
          "height": 35
        },
        "id": "PO9lSzte6JCH",
        "outputId": "e496886b-6954-4ee5-94ff-f4d509765b55"
      },
      "execution_count": 4,
      "outputs": [
        {
          "output_type": "execute_result",
          "data": {
            "text/plain": [
              "'Voltas: positive'"
            ],
            "application/vnd.google.colaboratory.intrinsic+json": {
              "type": "string"
            }
          },
          "metadata": {},
          "execution_count": 4
        }
      ]
    },
    {
      "cell_type": "code",
      "source": [
        "def loose_ner_accuracy(df):\n",
        "  num_correct = 0\n",
        "  num_incorrect = 0\n",
        "  correct = []\n",
        "  for index, row in df.iterrows():\n",
        "    true_entities = row.True_entities.split(\", \")\n",
        "    #print(\"true:\", true_entities)\n",
        "    model_entities = row.Model_entities.split(\", \")\n",
        "    #print(\"model:\", model_entities)\n",
        "    e_correct = 0\n",
        "    for e in true_entities:\n",
        "      w = e.split(\" \")\n",
        "      for e_m in model_entities:\n",
        "        w_m = e_m.split(\" \")\n",
        "        if w_m[0] == w[0]:\n",
        "          e_correct += 1\n",
        "    if e_correct == len(true_entities) and len(model_entities) == len(true_entities):\n",
        "      correct.append(True)\n",
        "      num_correct += 1\n",
        "    else:\n",
        "      correct.append(False)\n",
        "  return num_correct, num_correct/len(df), correct"
      ],
      "metadata": {
        "id": "fzCo_niWvbd0"
      },
      "execution_count": 5,
      "outputs": []
    },
    {
      "cell_type": "code",
      "source": [
        "ner_correct_num, ner_accuracy, ner_correct_tag = loose_ner_accuracy(ner_results_df)\n",
        "print(ner_accuracy)"
      ],
      "metadata": {
        "colab": {
          "base_uri": "https://localhost:8080/"
        },
        "id": "gseGcpLiwT0w",
        "outputId": "2739b8f8-6e7a-4592-c6b0-55dff98ff4a7"
      },
      "execution_count": 6,
      "outputs": [
        {
          "output_type": "stream",
          "name": "stdout",
          "text": [
            "0.8672237697307336\n"
          ]
        }
      ]
    },
    {
      "cell_type": "code",
      "source": [
        "def get_true_dict(df):\n",
        "  true_dict_lst = []\n",
        "  for index, row in df.iterrows():\n",
        "    true_output = row.True_output.split(\", \")\n",
        "    true_dict = {}\n",
        "    for x in true_output:\n",
        "      l = x.split(\": \")\n",
        "      try:\n",
        "        true_dict[l[0]] = l[1]\n",
        "      except:\n",
        "        pass\n",
        "        #print(true_output)\n",
        "    true_dict_lst.append(true_dict)\n",
        "  return true_dict_lst\n",
        "\n",
        "def adj_accuracy(df):\n",
        "  num_correct = 0\n",
        "  correct_tag = []\n",
        "  for index, row in df.iterrows():\n",
        "    true_output = row.True_output_dict\n",
        "    model_output = row.Model_output\n",
        "    #print(\"true:\", true_output)  \n",
        "    #print(\"model:\", model_output)\n",
        "    e_correct = 0\n",
        "    for e, s in true_output.items():\n",
        "      for e_m, s_m in model_output.items():\n",
        "        if e.split(\" \")[0] == e_m.split(\" \")[0]:\n",
        "          if s == s_m:\n",
        "            e_correct += 1\n",
        "    if e_correct == len(true_output.keys()) and len(true_output.keys()) == len(model_output.keys()):\n",
        "      num_correct += 1\n",
        "      correct_tag.append(True)\n",
        "    else:\n",
        "      correct_tag.append(False)\n",
        "     \n",
        "  return num_correct, num_correct/len(df), correct_tag\n"
      ],
      "metadata": {
        "id": "_lK3uNAT-4GL"
      },
      "execution_count": 7,
      "outputs": []
    },
    {
      "cell_type": "code",
      "source": [
        "def t5_get_true_dict(df):\n",
        "  true_dict_lst = []\n",
        "  for index, row in df.iterrows():\n",
        "    true_output = row.True_output.split(\", \")\n",
        "    true_dict = {}\n",
        "    for x in true_output:\n",
        "      l = x.split(\": \")\n",
        "      try:\n",
        "        true_dict[l[0]] = l[1]\n",
        "      except:\n",
        "        pass\n",
        "        #print(true_output)\n",
        "    true_dict_lst.append(true_dict)\n",
        "  return true_dict_lst\n",
        "\n",
        "def t5_get_model_dict(df):\n",
        "  model_dict_lst = []\n",
        "  for index, row in df.iterrows():\n",
        "    model_output_str = row.Model_output\n",
        "    if model_output_str[0] == \"{\":\n",
        "        model_output_str = model_output_str[1:-1].replace(\"'\", '')\n",
        "    model_output = model_output_str.split(\", \")\n",
        "    model_dict = {}\n",
        "    for x in model_output:\n",
        "      \n",
        "      l = x.split(\": \")\n",
        "      try:\n",
        "        model_dict[l[0]] = l[1]\n",
        "      except:\n",
        "        pass\n",
        "        #print(model_output)\n",
        "    model_dict_lst.append(model_dict)\n",
        "  return model_dict_lst\n",
        "\n",
        "def t5_adj_accuracy(df):\n",
        "  num_correct = 0\n",
        "  correct_tag = []\n",
        "  for index, row in df.iterrows():\n",
        "    true_output = row.True_output_dict\n",
        "    model_output = row.Model_output_dict\n",
        "    #print(\"true:\", true_output)  \n",
        "    #print(\"model:\", model_output)\n",
        "    e_correct = 0\n",
        "    for e, s in true_output.items():\n",
        "      for e_m, s_m in model_output.items():\n",
        "        if e.split(\" \")[0] == e_m.split(\" \")[0]:\n",
        "          if s == s_m:\n",
        "            e_correct += 1\n",
        "    if e_correct == len(true_output.keys()) and len(true_output.keys()) == len(model_output.keys()):\n",
        "      num_correct += 1\n",
        "      correct_tag.append(True)\n",
        "    else:\n",
        "      correct_tag.append(False)\n",
        "      #print(\"correct\")\n",
        "  return num_correct, num_correct/len(df), correct_tag\n"
      ],
      "metadata": {
        "id": "YF1rp_ARJwTi"
      },
      "execution_count": 8,
      "outputs": []
    },
    {
      "cell_type": "code",
      "source": [
        "t5_unified_results_df[\"True_output_dict\"] = np.array(t5_get_true_dict(t5_unified_results_df))\n",
        "t5_unified_results_df[\"Model_output_dict\"] = np.array(t5_get_model_dict(t5_unified_results_df))\n",
        "\n",
        "\n",
        "t5_unified_adj_acc, t5_unified_results_df[\"Model_correct\"] = t5_adj_accuracy(t5_unified_results_df)[1], t5_adj_accuracy(t5_unified_results_df)[2]\n",
        "\n",
        "print(\"T5 unified adj acc: \", t5_unified_adj_acc)"
      ],
      "metadata": {
        "colab": {
          "base_uri": "https://localhost:8080/"
        },
        "id": "2E16I7V2uG0e",
        "outputId": "77d2d1e9-7901-4669-893c-13f677a08811"
      },
      "execution_count": 9,
      "outputs": [
        {
          "output_type": "stream",
          "name": "stdout",
          "text": [
            "T5 unified adj acc:  0.6480965645311049\n"
          ]
        }
      ]
    },
    {
      "cell_type": "code",
      "source": [
        "t5_roberta_results_df[\"True_output_dict\"] = np.array(t5_get_true_dict(t5_roberta_results_df))\n",
        "t5_roberta_results_df[\"Model_output_dict\"] = np.array(t5_get_model_dict(t5_roberta_results_df))\n",
        "\n",
        "t5_roberta_adj_acc,  t5_roberta_results_df[\"Model_correct\"] = t5_adj_accuracy(t5_roberta_results_df)[1], t5_adj_accuracy(t5_roberta_results_df)[2]\n",
        "print(\"T5+RoBERTA adj acc: \", t5_roberta_adj_acc)\n",
        "\n",
        "t5_pretrain_results_df[\"True_output_dict\"] = np.array(t5_get_true_dict(t5_pretrain_results_df))\n",
        "t5_pretrain_results_df[\"Model_output_dict\"] = np.array(t5_get_model_dict(t5_pretrain_results_df))\n",
        "\n",
        "t5_pretrain_adj_acc, t5_pretrain_results_df[\"Model_correct\"] = t5_adj_accuracy(t5_pretrain_results_df)[1], t5_adj_accuracy(t5_pretrain_results_df)[2]\n",
        "print(\"T5+RoBERTA+pretrain adj acc: \", t5_pretrain_adj_acc)"
      ],
      "metadata": {
        "colab": {
          "base_uri": "https://localhost:8080/"
        },
        "id": "HLD5cFzk6vYj",
        "outputId": "68de5862-2f58-499d-dfda-bf2306fa5e46"
      },
      "execution_count": 10,
      "outputs": [
        {
          "output_type": "stream",
          "name": "stdout",
          "text": [
            "T5+RoBERTA adj acc:  0.7613741875580315\n",
            "T5+RoBERTA+pretrain adj acc:  0.7511606313834726\n"
          ]
        }
      ]
    },
    {
      "cell_type": "code",
      "source": [
        "def get_multi_ent(x):\n",
        "  return len(x.True_output_dict.keys())\n",
        "\n",
        "t5_unified_results_df[\"Num_Entity\"] = t5_unified_results_df.apply(get_multi_ent, axis=1)\n",
        "t5_roberta_results_df[\"Num_Entity\"] = t5_roberta_results_df.apply(get_multi_ent, axis=1)\n",
        "t5_pretrain_results_df[\"Num_Entity\"] = t5_pretrain_results_df.apply(get_multi_ent, axis=1)\n"
      ],
      "metadata": {
        "id": "7_lE6G77KFBy"
      },
      "execution_count": 11,
      "outputs": []
    },
    {
      "cell_type": "code",
      "source": [
        "t5_unified_results_df.groupby([ \"Model_correct\", \"Num_Entity\"]).count().Title"
      ],
      "metadata": {
        "colab": {
          "base_uri": "https://localhost:8080/"
        },
        "id": "R83QzHNIKnsI",
        "outputId": "46c2cb0b-eb66-4006-da18-dd09ace3e3ed"
      },
      "execution_count": 12,
      "outputs": [
        {
          "output_type": "execute_result",
          "data": {
            "text/plain": [
              "Model_correct  Num_Entity\n",
              "False          1             190\n",
              "               2             132\n",
              "               3              42\n",
              "               4              10\n",
              "               5               5\n",
              "True           1             599\n",
              "               2              86\n",
              "               3              12\n",
              "               4               1\n",
              "Name: Title, dtype: int64"
            ]
          },
          "metadata": {},
          "execution_count": 12
        }
      ]
    },
    {
      "cell_type": "code",
      "source": [
        "t5_roberta_results_df.groupby([\"Model_correct\", \"Num_Entity\"]).count().Title"
      ],
      "metadata": {
        "colab": {
          "base_uri": "https://localhost:8080/"
        },
        "id": "g1-9CyTtKrp4",
        "outputId": "1ef970af-bfce-4ac2-b104-169198f6be14"
      },
      "execution_count": 13,
      "outputs": [
        {
          "output_type": "execute_result",
          "data": {
            "text/plain": [
              "Model_correct  Num_Entity\n",
              "False          1             147\n",
              "               2              78\n",
              "               3              26\n",
              "               4               5\n",
              "               5               1\n",
              "True           1             642\n",
              "               2             140\n",
              "               3              28\n",
              "               4               6\n",
              "               5               4\n",
              "Name: Title, dtype: int64"
            ]
          },
          "metadata": {},
          "execution_count": 13
        }
      ]
    },
    {
      "cell_type": "code",
      "source": [
        "t5_pretrain_results_df.groupby([\"Model_correct\", \"Num_Entity\"]).count().Title"
      ],
      "metadata": {
        "colab": {
          "base_uri": "https://localhost:8080/"
        },
        "id": "B-yWxLfSLrct",
        "outputId": "d429dabf-90a0-414c-c349-09469ba0a6ae"
      },
      "execution_count": 14,
      "outputs": [
        {
          "output_type": "execute_result",
          "data": {
            "text/plain": [
              "Model_correct  Num_Entity\n",
              "False          1             156\n",
              "               2              79\n",
              "               3              25\n",
              "               4               7\n",
              "               5               1\n",
              "True           1             633\n",
              "               2             139\n",
              "               3              29\n",
              "               4               4\n",
              "               5               4\n",
              "Name: Title, dtype: int64"
            ]
          },
          "metadata": {},
          "execution_count": 14
        }
      ]
    },
    {
      "cell_type": "code",
      "source": [
        "t5_unified_results_df.head()"
      ],
      "metadata": {
        "colab": {
          "base_uri": "https://localhost:8080/",
          "height": 659
        },
        "id": "fLsrz-5DMZiY",
        "outputId": "0d06020b-05c1-47cb-8e8b-9ba360d3376b"
      },
      "execution_count": 15,
      "outputs": [
        {
          "output_type": "execute_result",
          "data": {
            "text/plain": [
              "   Unnamed: 0                                              Title  \\\n",
              "0           0  L&T in talk to supply nuclear equipments; stoc...   \n",
              "1           1  Voltas surges on cooling products-led beat in ...   \n",
              "2           2  Important that Bank Nifty captures 19150 level...   \n",
              "3           3  Gold dips on firmer equities; Middle East, Ukr...   \n",
              "4           4  Citigroup sells shares worth Rs 480 cr of 35 I...   \n",
              "\n",
              "           Model_output                               True_output  \\\n",
              "0         L&T: positive                             L&T: positive   \n",
              "1      Voltas: positive                          Voltas: positive   \n",
              "2  Bank Nifty: positive                       Bank Nifty: neutral   \n",
              "3        Gold: negative                            Gold: negative   \n",
              "4    Citigroup: neutral  Indian cos: negative, Citigroup: neutral   \n",
              "\n",
              "                                    True_output_dict  \\\n",
              "0                                {'L&T': 'positive'}   \n",
              "1                             {'Voltas': 'positive'}   \n",
              "2                          {'Bank Nifty': 'neutral'}   \n",
              "3                               {'Gold': 'negative'}   \n",
              "4  {'Indian cos': 'negative', 'Citigroup': 'neutr...   \n",
              "\n",
              "            Model_output_dict  Model_correct  Num_Entity  \n",
              "0         {'L&T': 'positive'}           True           1  \n",
              "1      {'Voltas': 'positive'}           True           1  \n",
              "2  {'Bank Nifty': 'positive'}          False           1  \n",
              "3        {'Gold': 'negative'}           True           1  \n",
              "4    {'Citigroup': 'neutral'}          False           2  "
            ],
            "text/html": [
              "\n",
              "  <div id=\"df-78f5a3d3-5a46-4b19-b49e-1934e9017683\">\n",
              "    <div class=\"colab-df-container\">\n",
              "      <div>\n",
              "<style scoped>\n",
              "    .dataframe tbody tr th:only-of-type {\n",
              "        vertical-align: middle;\n",
              "    }\n",
              "\n",
              "    .dataframe tbody tr th {\n",
              "        vertical-align: top;\n",
              "    }\n",
              "\n",
              "    .dataframe thead th {\n",
              "        text-align: right;\n",
              "    }\n",
              "</style>\n",
              "<table border=\"1\" class=\"dataframe\">\n",
              "  <thead>\n",
              "    <tr style=\"text-align: right;\">\n",
              "      <th></th>\n",
              "      <th>Unnamed: 0</th>\n",
              "      <th>Title</th>\n",
              "      <th>Model_output</th>\n",
              "      <th>True_output</th>\n",
              "      <th>True_output_dict</th>\n",
              "      <th>Model_output_dict</th>\n",
              "      <th>Model_correct</th>\n",
              "      <th>Num_Entity</th>\n",
              "    </tr>\n",
              "  </thead>\n",
              "  <tbody>\n",
              "    <tr>\n",
              "      <th>0</th>\n",
              "      <td>0</td>\n",
              "      <td>L&amp;T in talk to supply nuclear equipments; stoc...</td>\n",
              "      <td>L&amp;T: positive</td>\n",
              "      <td>L&amp;T: positive</td>\n",
              "      <td>{'L&amp;T': 'positive'}</td>\n",
              "      <td>{'L&amp;T': 'positive'}</td>\n",
              "      <td>True</td>\n",
              "      <td>1</td>\n",
              "    </tr>\n",
              "    <tr>\n",
              "      <th>1</th>\n",
              "      <td>1</td>\n",
              "      <td>Voltas surges on cooling products-led beat in ...</td>\n",
              "      <td>Voltas: positive</td>\n",
              "      <td>Voltas: positive</td>\n",
              "      <td>{'Voltas': 'positive'}</td>\n",
              "      <td>{'Voltas': 'positive'}</td>\n",
              "      <td>True</td>\n",
              "      <td>1</td>\n",
              "    </tr>\n",
              "    <tr>\n",
              "      <th>2</th>\n",
              "      <td>2</td>\n",
              "      <td>Important that Bank Nifty captures 19150 level...</td>\n",
              "      <td>Bank Nifty: positive</td>\n",
              "      <td>Bank Nifty: neutral</td>\n",
              "      <td>{'Bank Nifty': 'neutral'}</td>\n",
              "      <td>{'Bank Nifty': 'positive'}</td>\n",
              "      <td>False</td>\n",
              "      <td>1</td>\n",
              "    </tr>\n",
              "    <tr>\n",
              "      <th>3</th>\n",
              "      <td>3</td>\n",
              "      <td>Gold dips on firmer equities; Middle East, Ukr...</td>\n",
              "      <td>Gold: negative</td>\n",
              "      <td>Gold: negative</td>\n",
              "      <td>{'Gold': 'negative'}</td>\n",
              "      <td>{'Gold': 'negative'}</td>\n",
              "      <td>True</td>\n",
              "      <td>1</td>\n",
              "    </tr>\n",
              "    <tr>\n",
              "      <th>4</th>\n",
              "      <td>4</td>\n",
              "      <td>Citigroup sells shares worth Rs 480 cr of 35 I...</td>\n",
              "      <td>Citigroup: neutral</td>\n",
              "      <td>Indian cos: negative, Citigroup: neutral</td>\n",
              "      <td>{'Indian cos': 'negative', 'Citigroup': 'neutr...</td>\n",
              "      <td>{'Citigroup': 'neutral'}</td>\n",
              "      <td>False</td>\n",
              "      <td>2</td>\n",
              "    </tr>\n",
              "  </tbody>\n",
              "</table>\n",
              "</div>\n",
              "      <button class=\"colab-df-convert\" onclick=\"convertToInteractive('df-78f5a3d3-5a46-4b19-b49e-1934e9017683')\"\n",
              "              title=\"Convert this dataframe to an interactive table.\"\n",
              "              style=\"display:none;\">\n",
              "        \n",
              "  <svg xmlns=\"http://www.w3.org/2000/svg\" height=\"24px\"viewBox=\"0 0 24 24\"\n",
              "       width=\"24px\">\n",
              "    <path d=\"M0 0h24v24H0V0z\" fill=\"none\"/>\n",
              "    <path d=\"M18.56 5.44l.94 2.06.94-2.06 2.06-.94-2.06-.94-.94-2.06-.94 2.06-2.06.94zm-11 1L8.5 8.5l.94-2.06 2.06-.94-2.06-.94L8.5 2.5l-.94 2.06-2.06.94zm10 10l.94 2.06.94-2.06 2.06-.94-2.06-.94-.94-2.06-.94 2.06-2.06.94z\"/><path d=\"M17.41 7.96l-1.37-1.37c-.4-.4-.92-.59-1.43-.59-.52 0-1.04.2-1.43.59L10.3 9.45l-7.72 7.72c-.78.78-.78 2.05 0 2.83L4 21.41c.39.39.9.59 1.41.59.51 0 1.02-.2 1.41-.59l7.78-7.78 2.81-2.81c.8-.78.8-2.07 0-2.86zM5.41 20L4 18.59l7.72-7.72 1.47 1.35L5.41 20z\"/>\n",
              "  </svg>\n",
              "      </button>\n",
              "      \n",
              "  <style>\n",
              "    .colab-df-container {\n",
              "      display:flex;\n",
              "      flex-wrap:wrap;\n",
              "      gap: 12px;\n",
              "    }\n",
              "\n",
              "    .colab-df-convert {\n",
              "      background-color: #E8F0FE;\n",
              "      border: none;\n",
              "      border-radius: 50%;\n",
              "      cursor: pointer;\n",
              "      display: none;\n",
              "      fill: #1967D2;\n",
              "      height: 32px;\n",
              "      padding: 0 0 0 0;\n",
              "      width: 32px;\n",
              "    }\n",
              "\n",
              "    .colab-df-convert:hover {\n",
              "      background-color: #E2EBFA;\n",
              "      box-shadow: 0px 1px 2px rgba(60, 64, 67, 0.3), 0px 1px 3px 1px rgba(60, 64, 67, 0.15);\n",
              "      fill: #174EA6;\n",
              "    }\n",
              "\n",
              "    [theme=dark] .colab-df-convert {\n",
              "      background-color: #3B4455;\n",
              "      fill: #D2E3FC;\n",
              "    }\n",
              "\n",
              "    [theme=dark] .colab-df-convert:hover {\n",
              "      background-color: #434B5C;\n",
              "      box-shadow: 0px 1px 3px 1px rgba(0, 0, 0, 0.15);\n",
              "      filter: drop-shadow(0px 1px 2px rgba(0, 0, 0, 0.3));\n",
              "      fill: #FFFFFF;\n",
              "    }\n",
              "  </style>\n",
              "\n",
              "      <script>\n",
              "        const buttonEl =\n",
              "          document.querySelector('#df-78f5a3d3-5a46-4b19-b49e-1934e9017683 button.colab-df-convert');\n",
              "        buttonEl.style.display =\n",
              "          google.colab.kernel.accessAllowed ? 'block' : 'none';\n",
              "\n",
              "        async function convertToInteractive(key) {\n",
              "          const element = document.querySelector('#df-78f5a3d3-5a46-4b19-b49e-1934e9017683');\n",
              "          const dataTable =\n",
              "            await google.colab.kernel.invokeFunction('convertToInteractive',\n",
              "                                                     [key], {});\n",
              "          if (!dataTable) return;\n",
              "\n",
              "          const docLinkHtml = 'Like what you see? Visit the ' +\n",
              "            '<a target=\"_blank\" href=https://colab.research.google.com/notebooks/data_table.ipynb>data table notebook</a>'\n",
              "            + ' to learn more about interactive tables.';\n",
              "          element.innerHTML = '';\n",
              "          dataTable['output_type'] = 'display_data';\n",
              "          await google.colab.output.renderOutput(dataTable, element);\n",
              "          const docLink = document.createElement('div');\n",
              "          docLink.innerHTML = docLinkHtml;\n",
              "          element.appendChild(docLink);\n",
              "        }\n",
              "      </script>\n",
              "    </div>\n",
              "  </div>\n",
              "  "
            ]
          },
          "metadata": {},
          "execution_count": 15
        }
      ]
    },
    {
      "cell_type": "code",
      "source": [
        "def conflicting_sents(x):\n",
        "  sents = set(x.True_output_dict.values())\n",
        "  if len(sents) > 1:\n",
        "    return \"Conflict\"\n",
        "  else:\n",
        "    return \"No Conflict\"\n",
        "\n",
        "t5_unified_results_df[\"Conflict_sents\"] = t5_unified_results_df.apply(conflicting_sents, axis=1)\n",
        "t5_roberta_results_df[\"Conflict_sents\"] = t5_roberta_results_df.apply(conflicting_sents, axis=1)\n",
        "t5_pretrain_results_df[\"Conflict_sents\"] = t5_pretrain_results_df.apply(conflicting_sents, axis=1)\n"
      ],
      "metadata": {
        "id": "0tio102BPkYV"
      },
      "execution_count": 16,
      "outputs": []
    },
    {
      "cell_type": "code",
      "source": [
        "t5_unified_results_df.groupby([ \"Model_correct\", \"Conflict_sents\"]).count().Title"
      ],
      "metadata": {
        "colab": {
          "base_uri": "https://localhost:8080/"
        },
        "id": "g0GUPEggD8fS",
        "outputId": "e618372c-78a1-42d8-f8cd-46a5c231a066"
      },
      "execution_count": 17,
      "outputs": [
        {
          "output_type": "execute_result",
          "data": {
            "text/plain": [
              "Model_correct  Conflict_sents\n",
              "False          Conflict           97\n",
              "               No Conflict       282\n",
              "True           Conflict           33\n",
              "               No Conflict       665\n",
              "Name: Title, dtype: int64"
            ]
          },
          "metadata": {},
          "execution_count": 17
        }
      ]
    },
    {
      "cell_type": "code",
      "source": [
        "t5_roberta_results_df.groupby([ \"Model_correct\", \"Conflict_sents\"]).count().Title"
      ],
      "metadata": {
        "colab": {
          "base_uri": "https://localhost:8080/"
        },
        "id": "p1PxF4MiEWaN",
        "outputId": "bada92a1-e867-409d-ee6a-d03d37d15065"
      },
      "execution_count": 18,
      "outputs": [
        {
          "output_type": "execute_result",
          "data": {
            "text/plain": [
              "Model_correct  Conflict_sents\n",
              "False          Conflict           43\n",
              "               No Conflict       214\n",
              "True           Conflict           87\n",
              "               No Conflict       733\n",
              "Name: Title, dtype: int64"
            ]
          },
          "metadata": {},
          "execution_count": 18
        }
      ]
    },
    {
      "cell_type": "code",
      "source": [
        "t5_pretrain_results_df.groupby([ \"Model_correct\", \"Conflict_sents\"]).count().Title"
      ],
      "metadata": {
        "colab": {
          "base_uri": "https://localhost:8080/"
        },
        "id": "zbTUJWk0Eiwx",
        "outputId": "005d88de-5c7b-44a3-dd9f-456671692184"
      },
      "execution_count": 19,
      "outputs": [
        {
          "output_type": "execute_result",
          "data": {
            "text/plain": [
              "Model_correct  Conflict_sents\n",
              "False          Conflict           45\n",
              "               No Conflict       223\n",
              "True           Conflict           85\n",
              "               No Conflict       724\n",
              "Name: Title, dtype: int64"
            ]
          },
          "metadata": {},
          "execution_count": 19
        }
      ]
    },
    {
      "cell_type": "code",
      "source": [
        "def get_single(df):\n",
        "  correct_ent_lst =[]\n",
        "  correct_sent_lst = []\n",
        "  model_sent_lst = []\n",
        "  for index, row in df.iterrows():\n",
        "    true_ent_lst = list(row.True_output_dict.keys())\n",
        "    model_ent_lst = list(row.Model_output_dict.keys())\n",
        "    for ent in true_ent_lst:\n",
        "      if ent in model_ent_lst:\n",
        "        correct_ent_lst.append(ent)\n",
        "        correct_sent_lst.append(row.True_output_dict[ent])\n",
        "        model_sent_lst.append(row.Model_output_dict[ent])\n",
        "\n",
        "  return [correct_ent_lst, correct_sent_lst, model_sent_lst]\n",
        "\n"
      ],
      "metadata": {
        "id": "4LjwYU7mhN1C"
      },
      "execution_count": 28,
      "outputs": []
    },
    {
      "cell_type": "code",
      "source": [
        "t5_unified_single_df = pd.DataFrame(get_single(t5_unified_results_df)).T\n",
        "t5_unified_single_df.columns = [\"Entity\", \"True_Label\", \"Model_Label\"]\n",
        "t5_unified_single_df"
      ],
      "metadata": {
        "colab": {
          "base_uri": "https://localhost:8080/",
          "height": 419
        },
        "id": "_AAKUBDYElyQ",
        "outputId": "e2ed066d-c39f-49ba-cce0-982080810ed6"
      },
      "execution_count": 35,
      "outputs": [
        {
          "output_type": "execute_result",
          "data": {
            "text/plain": [
              "                      Entity True_Label Model_Label\n",
              "0                        L&T   positive    positive\n",
              "1                     Voltas   positive    positive\n",
              "2                 Bank Nifty    neutral    positive\n",
              "3                       Gold   negative    negative\n",
              "4                  Citigroup    neutral     neutral\n",
              "...                      ...        ...         ...\n",
              "1179             BNP Paribas    neutral     neutral\n",
              "1180                    Gold   negative    negative\n",
              "1181                 Havells   negative    negative\n",
              "1182  Nirmal Bang Securities    neutral     neutral\n",
              "1183                     DLF    neutral    negative\n",
              "\n",
              "[1184 rows x 3 columns]"
            ],
            "text/html": [
              "\n",
              "  <div id=\"df-d1dfd6f2-0c3a-489e-bfcb-106fad3ac6b8\">\n",
              "    <div class=\"colab-df-container\">\n",
              "      <div>\n",
              "<style scoped>\n",
              "    .dataframe tbody tr th:only-of-type {\n",
              "        vertical-align: middle;\n",
              "    }\n",
              "\n",
              "    .dataframe tbody tr th {\n",
              "        vertical-align: top;\n",
              "    }\n",
              "\n",
              "    .dataframe thead th {\n",
              "        text-align: right;\n",
              "    }\n",
              "</style>\n",
              "<table border=\"1\" class=\"dataframe\">\n",
              "  <thead>\n",
              "    <tr style=\"text-align: right;\">\n",
              "      <th></th>\n",
              "      <th>Entity</th>\n",
              "      <th>True_Label</th>\n",
              "      <th>Model_Label</th>\n",
              "    </tr>\n",
              "  </thead>\n",
              "  <tbody>\n",
              "    <tr>\n",
              "      <th>0</th>\n",
              "      <td>L&amp;T</td>\n",
              "      <td>positive</td>\n",
              "      <td>positive</td>\n",
              "    </tr>\n",
              "    <tr>\n",
              "      <th>1</th>\n",
              "      <td>Voltas</td>\n",
              "      <td>positive</td>\n",
              "      <td>positive</td>\n",
              "    </tr>\n",
              "    <tr>\n",
              "      <th>2</th>\n",
              "      <td>Bank Nifty</td>\n",
              "      <td>neutral</td>\n",
              "      <td>positive</td>\n",
              "    </tr>\n",
              "    <tr>\n",
              "      <th>3</th>\n",
              "      <td>Gold</td>\n",
              "      <td>negative</td>\n",
              "      <td>negative</td>\n",
              "    </tr>\n",
              "    <tr>\n",
              "      <th>4</th>\n",
              "      <td>Citigroup</td>\n",
              "      <td>neutral</td>\n",
              "      <td>neutral</td>\n",
              "    </tr>\n",
              "    <tr>\n",
              "      <th>...</th>\n",
              "      <td>...</td>\n",
              "      <td>...</td>\n",
              "      <td>...</td>\n",
              "    </tr>\n",
              "    <tr>\n",
              "      <th>1179</th>\n",
              "      <td>BNP Paribas</td>\n",
              "      <td>neutral</td>\n",
              "      <td>neutral</td>\n",
              "    </tr>\n",
              "    <tr>\n",
              "      <th>1180</th>\n",
              "      <td>Gold</td>\n",
              "      <td>negative</td>\n",
              "      <td>negative</td>\n",
              "    </tr>\n",
              "    <tr>\n",
              "      <th>1181</th>\n",
              "      <td>Havells</td>\n",
              "      <td>negative</td>\n",
              "      <td>negative</td>\n",
              "    </tr>\n",
              "    <tr>\n",
              "      <th>1182</th>\n",
              "      <td>Nirmal Bang Securities</td>\n",
              "      <td>neutral</td>\n",
              "      <td>neutral</td>\n",
              "    </tr>\n",
              "    <tr>\n",
              "      <th>1183</th>\n",
              "      <td>DLF</td>\n",
              "      <td>neutral</td>\n",
              "      <td>negative</td>\n",
              "    </tr>\n",
              "  </tbody>\n",
              "</table>\n",
              "<p>1184 rows × 3 columns</p>\n",
              "</div>\n",
              "      <button class=\"colab-df-convert\" onclick=\"convertToInteractive('df-d1dfd6f2-0c3a-489e-bfcb-106fad3ac6b8')\"\n",
              "              title=\"Convert this dataframe to an interactive table.\"\n",
              "              style=\"display:none;\">\n",
              "        \n",
              "  <svg xmlns=\"http://www.w3.org/2000/svg\" height=\"24px\"viewBox=\"0 0 24 24\"\n",
              "       width=\"24px\">\n",
              "    <path d=\"M0 0h24v24H0V0z\" fill=\"none\"/>\n",
              "    <path d=\"M18.56 5.44l.94 2.06.94-2.06 2.06-.94-2.06-.94-.94-2.06-.94 2.06-2.06.94zm-11 1L8.5 8.5l.94-2.06 2.06-.94-2.06-.94L8.5 2.5l-.94 2.06-2.06.94zm10 10l.94 2.06.94-2.06 2.06-.94-2.06-.94-.94-2.06-.94 2.06-2.06.94z\"/><path d=\"M17.41 7.96l-1.37-1.37c-.4-.4-.92-.59-1.43-.59-.52 0-1.04.2-1.43.59L10.3 9.45l-7.72 7.72c-.78.78-.78 2.05 0 2.83L4 21.41c.39.39.9.59 1.41.59.51 0 1.02-.2 1.41-.59l7.78-7.78 2.81-2.81c.8-.78.8-2.07 0-2.86zM5.41 20L4 18.59l7.72-7.72 1.47 1.35L5.41 20z\"/>\n",
              "  </svg>\n",
              "      </button>\n",
              "      \n",
              "  <style>\n",
              "    .colab-df-container {\n",
              "      display:flex;\n",
              "      flex-wrap:wrap;\n",
              "      gap: 12px;\n",
              "    }\n",
              "\n",
              "    .colab-df-convert {\n",
              "      background-color: #E8F0FE;\n",
              "      border: none;\n",
              "      border-radius: 50%;\n",
              "      cursor: pointer;\n",
              "      display: none;\n",
              "      fill: #1967D2;\n",
              "      height: 32px;\n",
              "      padding: 0 0 0 0;\n",
              "      width: 32px;\n",
              "    }\n",
              "\n",
              "    .colab-df-convert:hover {\n",
              "      background-color: #E2EBFA;\n",
              "      box-shadow: 0px 1px 2px rgba(60, 64, 67, 0.3), 0px 1px 3px 1px rgba(60, 64, 67, 0.15);\n",
              "      fill: #174EA6;\n",
              "    }\n",
              "\n",
              "    [theme=dark] .colab-df-convert {\n",
              "      background-color: #3B4455;\n",
              "      fill: #D2E3FC;\n",
              "    }\n",
              "\n",
              "    [theme=dark] .colab-df-convert:hover {\n",
              "      background-color: #434B5C;\n",
              "      box-shadow: 0px 1px 3px 1px rgba(0, 0, 0, 0.15);\n",
              "      filter: drop-shadow(0px 1px 2px rgba(0, 0, 0, 0.3));\n",
              "      fill: #FFFFFF;\n",
              "    }\n",
              "  </style>\n",
              "\n",
              "      <script>\n",
              "        const buttonEl =\n",
              "          document.querySelector('#df-d1dfd6f2-0c3a-489e-bfcb-106fad3ac6b8 button.colab-df-convert');\n",
              "        buttonEl.style.display =\n",
              "          google.colab.kernel.accessAllowed ? 'block' : 'none';\n",
              "\n",
              "        async function convertToInteractive(key) {\n",
              "          const element = document.querySelector('#df-d1dfd6f2-0c3a-489e-bfcb-106fad3ac6b8');\n",
              "          const dataTable =\n",
              "            await google.colab.kernel.invokeFunction('convertToInteractive',\n",
              "                                                     [key], {});\n",
              "          if (!dataTable) return;\n",
              "\n",
              "          const docLinkHtml = 'Like what you see? Visit the ' +\n",
              "            '<a target=\"_blank\" href=https://colab.research.google.com/notebooks/data_table.ipynb>data table notebook</a>'\n",
              "            + ' to learn more about interactive tables.';\n",
              "          element.innerHTML = '';\n",
              "          dataTable['output_type'] = 'display_data';\n",
              "          await google.colab.output.renderOutput(dataTable, element);\n",
              "          const docLink = document.createElement('div');\n",
              "          docLink.innerHTML = docLinkHtml;\n",
              "          element.appendChild(docLink);\n",
              "        }\n",
              "      </script>\n",
              "    </div>\n",
              "  </div>\n",
              "  "
            ]
          },
          "metadata": {},
          "execution_count": 35
        }
      ]
    },
    {
      "cell_type": "code",
      "source": [
        "t5_roberta_single_df = pd.DataFrame(get_single(t5_roberta_results_df)).T\n",
        "t5_roberta_single_df.columns = [\"Entity\", \"True_Label\", \"Model_Label\"]\n",
        "t5_roberta_single_df"
      ],
      "metadata": {
        "colab": {
          "base_uri": "https://localhost:8080/",
          "height": 419
        },
        "id": "L2BrHMGRhocj",
        "outputId": "09df0d73-2fdd-447e-9a84-0cf0fe165ac3"
      },
      "execution_count": 36,
      "outputs": [
        {
          "output_type": "execute_result",
          "data": {
            "text/plain": [
              "                      Entity True_Label Model_Label\n",
              "0                        L&T   positive    positive\n",
              "1                     Voltas   positive    positive\n",
              "2                 Bank Nifty    neutral     neutral\n",
              "3                       Gold   negative    negative\n",
              "4                  Citigroup    neutral     neutral\n",
              "...                      ...        ...         ...\n",
              "1313             BNP Paribas    neutral     neutral\n",
              "1314                    Gold   negative    negative\n",
              "1315                 Havells   negative    negative\n",
              "1316  Nirmal Bang Securities    neutral     neutral\n",
              "1317                     DLF    neutral     neutral\n",
              "\n",
              "[1318 rows x 3 columns]"
            ],
            "text/html": [
              "\n",
              "  <div id=\"df-74e99e38-3d95-44d7-aed3-573ceee2ed6b\">\n",
              "    <div class=\"colab-df-container\">\n",
              "      <div>\n",
              "<style scoped>\n",
              "    .dataframe tbody tr th:only-of-type {\n",
              "        vertical-align: middle;\n",
              "    }\n",
              "\n",
              "    .dataframe tbody tr th {\n",
              "        vertical-align: top;\n",
              "    }\n",
              "\n",
              "    .dataframe thead th {\n",
              "        text-align: right;\n",
              "    }\n",
              "</style>\n",
              "<table border=\"1\" class=\"dataframe\">\n",
              "  <thead>\n",
              "    <tr style=\"text-align: right;\">\n",
              "      <th></th>\n",
              "      <th>Entity</th>\n",
              "      <th>True_Label</th>\n",
              "      <th>Model_Label</th>\n",
              "    </tr>\n",
              "  </thead>\n",
              "  <tbody>\n",
              "    <tr>\n",
              "      <th>0</th>\n",
              "      <td>L&amp;T</td>\n",
              "      <td>positive</td>\n",
              "      <td>positive</td>\n",
              "    </tr>\n",
              "    <tr>\n",
              "      <th>1</th>\n",
              "      <td>Voltas</td>\n",
              "      <td>positive</td>\n",
              "      <td>positive</td>\n",
              "    </tr>\n",
              "    <tr>\n",
              "      <th>2</th>\n",
              "      <td>Bank Nifty</td>\n",
              "      <td>neutral</td>\n",
              "      <td>neutral</td>\n",
              "    </tr>\n",
              "    <tr>\n",
              "      <th>3</th>\n",
              "      <td>Gold</td>\n",
              "      <td>negative</td>\n",
              "      <td>negative</td>\n",
              "    </tr>\n",
              "    <tr>\n",
              "      <th>4</th>\n",
              "      <td>Citigroup</td>\n",
              "      <td>neutral</td>\n",
              "      <td>neutral</td>\n",
              "    </tr>\n",
              "    <tr>\n",
              "      <th>...</th>\n",
              "      <td>...</td>\n",
              "      <td>...</td>\n",
              "      <td>...</td>\n",
              "    </tr>\n",
              "    <tr>\n",
              "      <th>1313</th>\n",
              "      <td>BNP Paribas</td>\n",
              "      <td>neutral</td>\n",
              "      <td>neutral</td>\n",
              "    </tr>\n",
              "    <tr>\n",
              "      <th>1314</th>\n",
              "      <td>Gold</td>\n",
              "      <td>negative</td>\n",
              "      <td>negative</td>\n",
              "    </tr>\n",
              "    <tr>\n",
              "      <th>1315</th>\n",
              "      <td>Havells</td>\n",
              "      <td>negative</td>\n",
              "      <td>negative</td>\n",
              "    </tr>\n",
              "    <tr>\n",
              "      <th>1316</th>\n",
              "      <td>Nirmal Bang Securities</td>\n",
              "      <td>neutral</td>\n",
              "      <td>neutral</td>\n",
              "    </tr>\n",
              "    <tr>\n",
              "      <th>1317</th>\n",
              "      <td>DLF</td>\n",
              "      <td>neutral</td>\n",
              "      <td>neutral</td>\n",
              "    </tr>\n",
              "  </tbody>\n",
              "</table>\n",
              "<p>1318 rows × 3 columns</p>\n",
              "</div>\n",
              "      <button class=\"colab-df-convert\" onclick=\"convertToInteractive('df-74e99e38-3d95-44d7-aed3-573ceee2ed6b')\"\n",
              "              title=\"Convert this dataframe to an interactive table.\"\n",
              "              style=\"display:none;\">\n",
              "        \n",
              "  <svg xmlns=\"http://www.w3.org/2000/svg\" height=\"24px\"viewBox=\"0 0 24 24\"\n",
              "       width=\"24px\">\n",
              "    <path d=\"M0 0h24v24H0V0z\" fill=\"none\"/>\n",
              "    <path d=\"M18.56 5.44l.94 2.06.94-2.06 2.06-.94-2.06-.94-.94-2.06-.94 2.06-2.06.94zm-11 1L8.5 8.5l.94-2.06 2.06-.94-2.06-.94L8.5 2.5l-.94 2.06-2.06.94zm10 10l.94 2.06.94-2.06 2.06-.94-2.06-.94-.94-2.06-.94 2.06-2.06.94z\"/><path d=\"M17.41 7.96l-1.37-1.37c-.4-.4-.92-.59-1.43-.59-.52 0-1.04.2-1.43.59L10.3 9.45l-7.72 7.72c-.78.78-.78 2.05 0 2.83L4 21.41c.39.39.9.59 1.41.59.51 0 1.02-.2 1.41-.59l7.78-7.78 2.81-2.81c.8-.78.8-2.07 0-2.86zM5.41 20L4 18.59l7.72-7.72 1.47 1.35L5.41 20z\"/>\n",
              "  </svg>\n",
              "      </button>\n",
              "      \n",
              "  <style>\n",
              "    .colab-df-container {\n",
              "      display:flex;\n",
              "      flex-wrap:wrap;\n",
              "      gap: 12px;\n",
              "    }\n",
              "\n",
              "    .colab-df-convert {\n",
              "      background-color: #E8F0FE;\n",
              "      border: none;\n",
              "      border-radius: 50%;\n",
              "      cursor: pointer;\n",
              "      display: none;\n",
              "      fill: #1967D2;\n",
              "      height: 32px;\n",
              "      padding: 0 0 0 0;\n",
              "      width: 32px;\n",
              "    }\n",
              "\n",
              "    .colab-df-convert:hover {\n",
              "      background-color: #E2EBFA;\n",
              "      box-shadow: 0px 1px 2px rgba(60, 64, 67, 0.3), 0px 1px 3px 1px rgba(60, 64, 67, 0.15);\n",
              "      fill: #174EA6;\n",
              "    }\n",
              "\n",
              "    [theme=dark] .colab-df-convert {\n",
              "      background-color: #3B4455;\n",
              "      fill: #D2E3FC;\n",
              "    }\n",
              "\n",
              "    [theme=dark] .colab-df-convert:hover {\n",
              "      background-color: #434B5C;\n",
              "      box-shadow: 0px 1px 3px 1px rgba(0, 0, 0, 0.15);\n",
              "      filter: drop-shadow(0px 1px 2px rgba(0, 0, 0, 0.3));\n",
              "      fill: #FFFFFF;\n",
              "    }\n",
              "  </style>\n",
              "\n",
              "      <script>\n",
              "        const buttonEl =\n",
              "          document.querySelector('#df-74e99e38-3d95-44d7-aed3-573ceee2ed6b button.colab-df-convert');\n",
              "        buttonEl.style.display =\n",
              "          google.colab.kernel.accessAllowed ? 'block' : 'none';\n",
              "\n",
              "        async function convertToInteractive(key) {\n",
              "          const element = document.querySelector('#df-74e99e38-3d95-44d7-aed3-573ceee2ed6b');\n",
              "          const dataTable =\n",
              "            await google.colab.kernel.invokeFunction('convertToInteractive',\n",
              "                                                     [key], {});\n",
              "          if (!dataTable) return;\n",
              "\n",
              "          const docLinkHtml = 'Like what you see? Visit the ' +\n",
              "            '<a target=\"_blank\" href=https://colab.research.google.com/notebooks/data_table.ipynb>data table notebook</a>'\n",
              "            + ' to learn more about interactive tables.';\n",
              "          element.innerHTML = '';\n",
              "          dataTable['output_type'] = 'display_data';\n",
              "          await google.colab.output.renderOutput(dataTable, element);\n",
              "          const docLink = document.createElement('div');\n",
              "          docLink.innerHTML = docLinkHtml;\n",
              "          element.appendChild(docLink);\n",
              "        }\n",
              "      </script>\n",
              "    </div>\n",
              "  </div>\n",
              "  "
            ]
          },
          "metadata": {},
          "execution_count": 36
        }
      ]
    },
    {
      "cell_type": "code",
      "source": [
        "print(classification_report(t5_unified_single_df.True_Label, t5_unified_single_df.Model_Label, digits=4))"
      ],
      "metadata": {
        "colab": {
          "base_uri": "https://localhost:8080/"
        },
        "id": "DLJ-5zz-juz2",
        "outputId": "7d5c49c5-9f8e-46d4-febd-4156af21043a"
      },
      "execution_count": 42,
      "outputs": [
        {
          "output_type": "stream",
          "name": "stdout",
          "text": [
            "              precision    recall  f1-score   support\n",
            "\n",
            "    negative     0.8143    0.8457    0.8297       337\n",
            "     neutral     0.7936    0.7600    0.7764       425\n",
            "    neutral,     0.0000    0.0000    0.0000         0\n",
            "    positive     0.8568    0.8649    0.8608       422\n",
            "\n",
            "    accuracy                         0.8218      1184\n",
            "   macro avg     0.6162    0.6177    0.6167      1184\n",
            "weighted avg     0.8220    0.8218    0.8217      1184\n",
            "\n"
          ]
        },
        {
          "output_type": "stream",
          "name": "stderr",
          "text": [
            "/usr/local/lib/python3.9/dist-packages/sklearn/metrics/_classification.py:1344: UndefinedMetricWarning: Recall and F-score are ill-defined and being set to 0.0 in labels with no true samples. Use `zero_division` parameter to control this behavior.\n",
            "  _warn_prf(average, modifier, msg_start, len(result))\n",
            "/usr/local/lib/python3.9/dist-packages/sklearn/metrics/_classification.py:1344: UndefinedMetricWarning: Recall and F-score are ill-defined and being set to 0.0 in labels with no true samples. Use `zero_division` parameter to control this behavior.\n",
            "  _warn_prf(average, modifier, msg_start, len(result))\n",
            "/usr/local/lib/python3.9/dist-packages/sklearn/metrics/_classification.py:1344: UndefinedMetricWarning: Recall and F-score are ill-defined and being set to 0.0 in labels with no true samples. Use `zero_division` parameter to control this behavior.\n",
            "  _warn_prf(average, modifier, msg_start, len(result))\n"
          ]
        }
      ]
    },
    {
      "cell_type": "code",
      "source": [
        "print(classification_report(t5_roberta_single_df.True_Label, t5_roberta_single_df.Model_Label, digits=4))"
      ],
      "metadata": {
        "colab": {
          "base_uri": "https://localhost:8080/"
        },
        "id": "cv1-El0Ikbr_",
        "outputId": "62d6f7b3-84cc-4ce5-8948-290c908467b1"
      },
      "execution_count": 41,
      "outputs": [
        {
          "output_type": "stream",
          "name": "stdout",
          "text": [
            "              precision    recall  f1-score   support\n",
            "\n",
            "    negative     0.9093    0.8917    0.9004       360\n",
            "     neutral     0.8713    0.8730    0.8722       504\n",
            "    positive     0.8957    0.9075    0.9015       454\n",
            "\n",
            "    accuracy                         0.8900      1318\n",
            "   macro avg     0.8921    0.8907    0.8914      1318\n",
            "weighted avg     0.8901    0.8900    0.8900      1318\n",
            "\n"
          ]
        }
      ]
    },
    {
      "cell_type": "code",
      "source": [],
      "metadata": {
        "id": "-hMDRuhPkqTy"
      },
      "execution_count": null,
      "outputs": []
    }
  ],
  "metadata": {
    "accelerator": "GPU",
    "colab": {
      "machine_shape": "hm",
      "toc_visible": true,
      "provenance": []
    },
    "gpuClass": "premium",
    "kernelspec": {
      "display_name": "Python 3",
      "name": "python3"
    },
    "language_info": {
      "name": "python"
    },
    "widgets": {
      "application/vnd.jupyter.widget-state+json": {
        "107be313df9f4d7ca45fcc75671ed99a": {
          "model_module": "@jupyter-widgets/controls",
          "model_name": "HBoxModel",
          "model_module_version": "1.5.0",
          "state": {
            "_dom_classes": [],
            "_model_module": "@jupyter-widgets/controls",
            "_model_module_version": "1.5.0",
            "_model_name": "HBoxModel",
            "_view_count": null,
            "_view_module": "@jupyter-widgets/controls",
            "_view_module_version": "1.5.0",
            "_view_name": "HBoxView",
            "box_style": "",
            "children": [
              "IPY_MODEL_c95f9bde7a2341c88a116e4ff77367c9",
              "IPY_MODEL_7045ad1018f6470db2a969e3e75dab9d",
              "IPY_MODEL_7ce5ebbecae1472fbd27e0cbeee4df46"
            ],
            "layout": "IPY_MODEL_06367ae1dfa64897b47b2df48c8e8bb5"
          }
        },
        "c95f9bde7a2341c88a116e4ff77367c9": {
          "model_module": "@jupyter-widgets/controls",
          "model_name": "HTMLModel",
          "model_module_version": "1.5.0",
          "state": {
            "_dom_classes": [],
            "_model_module": "@jupyter-widgets/controls",
            "_model_module_version": "1.5.0",
            "_model_name": "HTMLModel",
            "_view_count": null,
            "_view_module": "@jupyter-widgets/controls",
            "_view_module_version": "1.5.0",
            "_view_name": "HTMLView",
            "description": "",
            "description_tooltip": null,
            "layout": "IPY_MODEL_b20608ef499f457ba4cdea623c531e29",
            "placeholder": "​",
            "style": "IPY_MODEL_8aad7ff1f8ac47a68988f04e1dbd8f65",
            "value": "Downloading (…)solve/main/vocab.txt: 100%"
          }
        },
        "7045ad1018f6470db2a969e3e75dab9d": {
          "model_module": "@jupyter-widgets/controls",
          "model_name": "FloatProgressModel",
          "model_module_version": "1.5.0",
          "state": {
            "_dom_classes": [],
            "_model_module": "@jupyter-widgets/controls",
            "_model_module_version": "1.5.0",
            "_model_name": "FloatProgressModel",
            "_view_count": null,
            "_view_module": "@jupyter-widgets/controls",
            "_view_module_version": "1.5.0",
            "_view_name": "ProgressView",
            "bar_style": "success",
            "description": "",
            "description_tooltip": null,
            "layout": "IPY_MODEL_a11b79d254bf4228b03ede6829db1dc4",
            "max": 213450,
            "min": 0,
            "orientation": "horizontal",
            "style": "IPY_MODEL_ebcdd21ed8ae482e81e393960e79a79c",
            "value": 213450
          }
        },
        "7ce5ebbecae1472fbd27e0cbeee4df46": {
          "model_module": "@jupyter-widgets/controls",
          "model_name": "HTMLModel",
          "model_module_version": "1.5.0",
          "state": {
            "_dom_classes": [],
            "_model_module": "@jupyter-widgets/controls",
            "_model_module_version": "1.5.0",
            "_model_name": "HTMLModel",
            "_view_count": null,
            "_view_module": "@jupyter-widgets/controls",
            "_view_module_version": "1.5.0",
            "_view_name": "HTMLView",
            "description": "",
            "description_tooltip": null,
            "layout": "IPY_MODEL_a0a7b2d6760141a694f3e98632558568",
            "placeholder": "​",
            "style": "IPY_MODEL_0c164088d1d54de1814c8d167d9b7d5c",
            "value": " 213k/213k [00:00&lt;00:00, 508kB/s]"
          }
        },
        "06367ae1dfa64897b47b2df48c8e8bb5": {
          "model_module": "@jupyter-widgets/base",
          "model_name": "LayoutModel",
          "model_module_version": "1.2.0",
          "state": {
            "_model_module": "@jupyter-widgets/base",
            "_model_module_version": "1.2.0",
            "_model_name": "LayoutModel",
            "_view_count": null,
            "_view_module": "@jupyter-widgets/base",
            "_view_module_version": "1.2.0",
            "_view_name": "LayoutView",
            "align_content": null,
            "align_items": null,
            "align_self": null,
            "border": null,
            "bottom": null,
            "display": null,
            "flex": null,
            "flex_flow": null,
            "grid_area": null,
            "grid_auto_columns": null,
            "grid_auto_flow": null,
            "grid_auto_rows": null,
            "grid_column": null,
            "grid_gap": null,
            "grid_row": null,
            "grid_template_areas": null,
            "grid_template_columns": null,
            "grid_template_rows": null,
            "height": null,
            "justify_content": null,
            "justify_items": null,
            "left": null,
            "margin": null,
            "max_height": null,
            "max_width": null,
            "min_height": null,
            "min_width": null,
            "object_fit": null,
            "object_position": null,
            "order": null,
            "overflow": null,
            "overflow_x": null,
            "overflow_y": null,
            "padding": null,
            "right": null,
            "top": null,
            "visibility": null,
            "width": null
          }
        },
        "b20608ef499f457ba4cdea623c531e29": {
          "model_module": "@jupyter-widgets/base",
          "model_name": "LayoutModel",
          "model_module_version": "1.2.0",
          "state": {
            "_model_module": "@jupyter-widgets/base",
            "_model_module_version": "1.2.0",
            "_model_name": "LayoutModel",
            "_view_count": null,
            "_view_module": "@jupyter-widgets/base",
            "_view_module_version": "1.2.0",
            "_view_name": "LayoutView",
            "align_content": null,
            "align_items": null,
            "align_self": null,
            "border": null,
            "bottom": null,
            "display": null,
            "flex": null,
            "flex_flow": null,
            "grid_area": null,
            "grid_auto_columns": null,
            "grid_auto_flow": null,
            "grid_auto_rows": null,
            "grid_column": null,
            "grid_gap": null,
            "grid_row": null,
            "grid_template_areas": null,
            "grid_template_columns": null,
            "grid_template_rows": null,
            "height": null,
            "justify_content": null,
            "justify_items": null,
            "left": null,
            "margin": null,
            "max_height": null,
            "max_width": null,
            "min_height": null,
            "min_width": null,
            "object_fit": null,
            "object_position": null,
            "order": null,
            "overflow": null,
            "overflow_x": null,
            "overflow_y": null,
            "padding": null,
            "right": null,
            "top": null,
            "visibility": null,
            "width": null
          }
        },
        "8aad7ff1f8ac47a68988f04e1dbd8f65": {
          "model_module": "@jupyter-widgets/controls",
          "model_name": "DescriptionStyleModel",
          "model_module_version": "1.5.0",
          "state": {
            "_model_module": "@jupyter-widgets/controls",
            "_model_module_version": "1.5.0",
            "_model_name": "DescriptionStyleModel",
            "_view_count": null,
            "_view_module": "@jupyter-widgets/base",
            "_view_module_version": "1.2.0",
            "_view_name": "StyleView",
            "description_width": ""
          }
        },
        "a11b79d254bf4228b03ede6829db1dc4": {
          "model_module": "@jupyter-widgets/base",
          "model_name": "LayoutModel",
          "model_module_version": "1.2.0",
          "state": {
            "_model_module": "@jupyter-widgets/base",
            "_model_module_version": "1.2.0",
            "_model_name": "LayoutModel",
            "_view_count": null,
            "_view_module": "@jupyter-widgets/base",
            "_view_module_version": "1.2.0",
            "_view_name": "LayoutView",
            "align_content": null,
            "align_items": null,
            "align_self": null,
            "border": null,
            "bottom": null,
            "display": null,
            "flex": null,
            "flex_flow": null,
            "grid_area": null,
            "grid_auto_columns": null,
            "grid_auto_flow": null,
            "grid_auto_rows": null,
            "grid_column": null,
            "grid_gap": null,
            "grid_row": null,
            "grid_template_areas": null,
            "grid_template_columns": null,
            "grid_template_rows": null,
            "height": null,
            "justify_content": null,
            "justify_items": null,
            "left": null,
            "margin": null,
            "max_height": null,
            "max_width": null,
            "min_height": null,
            "min_width": null,
            "object_fit": null,
            "object_position": null,
            "order": null,
            "overflow": null,
            "overflow_x": null,
            "overflow_y": null,
            "padding": null,
            "right": null,
            "top": null,
            "visibility": null,
            "width": null
          }
        },
        "ebcdd21ed8ae482e81e393960e79a79c": {
          "model_module": "@jupyter-widgets/controls",
          "model_name": "ProgressStyleModel",
          "model_module_version": "1.5.0",
          "state": {
            "_model_module": "@jupyter-widgets/controls",
            "_model_module_version": "1.5.0",
            "_model_name": "ProgressStyleModel",
            "_view_count": null,
            "_view_module": "@jupyter-widgets/base",
            "_view_module_version": "1.2.0",
            "_view_name": "StyleView",
            "bar_color": null,
            "description_width": ""
          }
        },
        "a0a7b2d6760141a694f3e98632558568": {
          "model_module": "@jupyter-widgets/base",
          "model_name": "LayoutModel",
          "model_module_version": "1.2.0",
          "state": {
            "_model_module": "@jupyter-widgets/base",
            "_model_module_version": "1.2.0",
            "_model_name": "LayoutModel",
            "_view_count": null,
            "_view_module": "@jupyter-widgets/base",
            "_view_module_version": "1.2.0",
            "_view_name": "LayoutView",
            "align_content": null,
            "align_items": null,
            "align_self": null,
            "border": null,
            "bottom": null,
            "display": null,
            "flex": null,
            "flex_flow": null,
            "grid_area": null,
            "grid_auto_columns": null,
            "grid_auto_flow": null,
            "grid_auto_rows": null,
            "grid_column": null,
            "grid_gap": null,
            "grid_row": null,
            "grid_template_areas": null,
            "grid_template_columns": null,
            "grid_template_rows": null,
            "height": null,
            "justify_content": null,
            "justify_items": null,
            "left": null,
            "margin": null,
            "max_height": null,
            "max_width": null,
            "min_height": null,
            "min_width": null,
            "object_fit": null,
            "object_position": null,
            "order": null,
            "overflow": null,
            "overflow_x": null,
            "overflow_y": null,
            "padding": null,
            "right": null,
            "top": null,
            "visibility": null,
            "width": null
          }
        },
        "0c164088d1d54de1814c8d167d9b7d5c": {
          "model_module": "@jupyter-widgets/controls",
          "model_name": "DescriptionStyleModel",
          "model_module_version": "1.5.0",
          "state": {
            "_model_module": "@jupyter-widgets/controls",
            "_model_module_version": "1.5.0",
            "_model_name": "DescriptionStyleModel",
            "_view_count": null,
            "_view_module": "@jupyter-widgets/base",
            "_view_module_version": "1.2.0",
            "_view_name": "StyleView",
            "description_width": ""
          }
        },
        "71de8e839a61488d937454429f2d834b": {
          "model_module": "@jupyter-widgets/controls",
          "model_name": "HBoxModel",
          "model_module_version": "1.5.0",
          "state": {
            "_dom_classes": [],
            "_model_module": "@jupyter-widgets/controls",
            "_model_module_version": "1.5.0",
            "_model_name": "HBoxModel",
            "_view_count": null,
            "_view_module": "@jupyter-widgets/controls",
            "_view_module_version": "1.5.0",
            "_view_name": "HBoxView",
            "box_style": "",
            "children": [
              "IPY_MODEL_929d0fd63fc641cc98c2dbe867d2891c",
              "IPY_MODEL_36b52691fc5c4a4ca30987c9201a2ae0",
              "IPY_MODEL_f451fe07e7b941c4a1150328b66d65bb"
            ],
            "layout": "IPY_MODEL_3ffc9397153648ff964d95033e792f98"
          }
        },
        "929d0fd63fc641cc98c2dbe867d2891c": {
          "model_module": "@jupyter-widgets/controls",
          "model_name": "HTMLModel",
          "model_module_version": "1.5.0",
          "state": {
            "_dom_classes": [],
            "_model_module": "@jupyter-widgets/controls",
            "_model_module_version": "1.5.0",
            "_model_name": "HTMLModel",
            "_view_count": null,
            "_view_module": "@jupyter-widgets/controls",
            "_view_module_version": "1.5.0",
            "_view_name": "HTMLView",
            "description": "",
            "description_tooltip": null,
            "layout": "IPY_MODEL_3129a94deb1a4b4f9653dac2bf4bf392",
            "placeholder": "​",
            "style": "IPY_MODEL_ba3a8c4db05f4cde968f1b025a186412",
            "value": "Downloading (…)okenizer_config.json: 100%"
          }
        },
        "36b52691fc5c4a4ca30987c9201a2ae0": {
          "model_module": "@jupyter-widgets/controls",
          "model_name": "FloatProgressModel",
          "model_module_version": "1.5.0",
          "state": {
            "_dom_classes": [],
            "_model_module": "@jupyter-widgets/controls",
            "_model_module_version": "1.5.0",
            "_model_name": "FloatProgressModel",
            "_view_count": null,
            "_view_module": "@jupyter-widgets/controls",
            "_view_module_version": "1.5.0",
            "_view_name": "ProgressView",
            "bar_style": "success",
            "description": "",
            "description_tooltip": null,
            "layout": "IPY_MODEL_1169f0c19aea44bc9830a2aeee35e7eb",
            "max": 29,
            "min": 0,
            "orientation": "horizontal",
            "style": "IPY_MODEL_d6163efecab44b29b9b3b894d8447099",
            "value": 29
          }
        },
        "f451fe07e7b941c4a1150328b66d65bb": {
          "model_module": "@jupyter-widgets/controls",
          "model_name": "HTMLModel",
          "model_module_version": "1.5.0",
          "state": {
            "_dom_classes": [],
            "_model_module": "@jupyter-widgets/controls",
            "_model_module_version": "1.5.0",
            "_model_name": "HTMLModel",
            "_view_count": null,
            "_view_module": "@jupyter-widgets/controls",
            "_view_module_version": "1.5.0",
            "_view_name": "HTMLView",
            "description": "",
            "description_tooltip": null,
            "layout": "IPY_MODEL_04eb1594e1ab424591b16d6f8eb2467e",
            "placeholder": "​",
            "style": "IPY_MODEL_626c782ad6234cda86eb0e9aef51a21b",
            "value": " 29.0/29.0 [00:00&lt;00:00, 1.61kB/s]"
          }
        },
        "3ffc9397153648ff964d95033e792f98": {
          "model_module": "@jupyter-widgets/base",
          "model_name": "LayoutModel",
          "model_module_version": "1.2.0",
          "state": {
            "_model_module": "@jupyter-widgets/base",
            "_model_module_version": "1.2.0",
            "_model_name": "LayoutModel",
            "_view_count": null,
            "_view_module": "@jupyter-widgets/base",
            "_view_module_version": "1.2.0",
            "_view_name": "LayoutView",
            "align_content": null,
            "align_items": null,
            "align_self": null,
            "border": null,
            "bottom": null,
            "display": null,
            "flex": null,
            "flex_flow": null,
            "grid_area": null,
            "grid_auto_columns": null,
            "grid_auto_flow": null,
            "grid_auto_rows": null,
            "grid_column": null,
            "grid_gap": null,
            "grid_row": null,
            "grid_template_areas": null,
            "grid_template_columns": null,
            "grid_template_rows": null,
            "height": null,
            "justify_content": null,
            "justify_items": null,
            "left": null,
            "margin": null,
            "max_height": null,
            "max_width": null,
            "min_height": null,
            "min_width": null,
            "object_fit": null,
            "object_position": null,
            "order": null,
            "overflow": null,
            "overflow_x": null,
            "overflow_y": null,
            "padding": null,
            "right": null,
            "top": null,
            "visibility": null,
            "width": null
          }
        },
        "3129a94deb1a4b4f9653dac2bf4bf392": {
          "model_module": "@jupyter-widgets/base",
          "model_name": "LayoutModel",
          "model_module_version": "1.2.0",
          "state": {
            "_model_module": "@jupyter-widgets/base",
            "_model_module_version": "1.2.0",
            "_model_name": "LayoutModel",
            "_view_count": null,
            "_view_module": "@jupyter-widgets/base",
            "_view_module_version": "1.2.0",
            "_view_name": "LayoutView",
            "align_content": null,
            "align_items": null,
            "align_self": null,
            "border": null,
            "bottom": null,
            "display": null,
            "flex": null,
            "flex_flow": null,
            "grid_area": null,
            "grid_auto_columns": null,
            "grid_auto_flow": null,
            "grid_auto_rows": null,
            "grid_column": null,
            "grid_gap": null,
            "grid_row": null,
            "grid_template_areas": null,
            "grid_template_columns": null,
            "grid_template_rows": null,
            "height": null,
            "justify_content": null,
            "justify_items": null,
            "left": null,
            "margin": null,
            "max_height": null,
            "max_width": null,
            "min_height": null,
            "min_width": null,
            "object_fit": null,
            "object_position": null,
            "order": null,
            "overflow": null,
            "overflow_x": null,
            "overflow_y": null,
            "padding": null,
            "right": null,
            "top": null,
            "visibility": null,
            "width": null
          }
        },
        "ba3a8c4db05f4cde968f1b025a186412": {
          "model_module": "@jupyter-widgets/controls",
          "model_name": "DescriptionStyleModel",
          "model_module_version": "1.5.0",
          "state": {
            "_model_module": "@jupyter-widgets/controls",
            "_model_module_version": "1.5.0",
            "_model_name": "DescriptionStyleModel",
            "_view_count": null,
            "_view_module": "@jupyter-widgets/base",
            "_view_module_version": "1.2.0",
            "_view_name": "StyleView",
            "description_width": ""
          }
        },
        "1169f0c19aea44bc9830a2aeee35e7eb": {
          "model_module": "@jupyter-widgets/base",
          "model_name": "LayoutModel",
          "model_module_version": "1.2.0",
          "state": {
            "_model_module": "@jupyter-widgets/base",
            "_model_module_version": "1.2.0",
            "_model_name": "LayoutModel",
            "_view_count": null,
            "_view_module": "@jupyter-widgets/base",
            "_view_module_version": "1.2.0",
            "_view_name": "LayoutView",
            "align_content": null,
            "align_items": null,
            "align_self": null,
            "border": null,
            "bottom": null,
            "display": null,
            "flex": null,
            "flex_flow": null,
            "grid_area": null,
            "grid_auto_columns": null,
            "grid_auto_flow": null,
            "grid_auto_rows": null,
            "grid_column": null,
            "grid_gap": null,
            "grid_row": null,
            "grid_template_areas": null,
            "grid_template_columns": null,
            "grid_template_rows": null,
            "height": null,
            "justify_content": null,
            "justify_items": null,
            "left": null,
            "margin": null,
            "max_height": null,
            "max_width": null,
            "min_height": null,
            "min_width": null,
            "object_fit": null,
            "object_position": null,
            "order": null,
            "overflow": null,
            "overflow_x": null,
            "overflow_y": null,
            "padding": null,
            "right": null,
            "top": null,
            "visibility": null,
            "width": null
          }
        },
        "d6163efecab44b29b9b3b894d8447099": {
          "model_module": "@jupyter-widgets/controls",
          "model_name": "ProgressStyleModel",
          "model_module_version": "1.5.0",
          "state": {
            "_model_module": "@jupyter-widgets/controls",
            "_model_module_version": "1.5.0",
            "_model_name": "ProgressStyleModel",
            "_view_count": null,
            "_view_module": "@jupyter-widgets/base",
            "_view_module_version": "1.2.0",
            "_view_name": "StyleView",
            "bar_color": null,
            "description_width": ""
          }
        },
        "04eb1594e1ab424591b16d6f8eb2467e": {
          "model_module": "@jupyter-widgets/base",
          "model_name": "LayoutModel",
          "model_module_version": "1.2.0",
          "state": {
            "_model_module": "@jupyter-widgets/base",
            "_model_module_version": "1.2.0",
            "_model_name": "LayoutModel",
            "_view_count": null,
            "_view_module": "@jupyter-widgets/base",
            "_view_module_version": "1.2.0",
            "_view_name": "LayoutView",
            "align_content": null,
            "align_items": null,
            "align_self": null,
            "border": null,
            "bottom": null,
            "display": null,
            "flex": null,
            "flex_flow": null,
            "grid_area": null,
            "grid_auto_columns": null,
            "grid_auto_flow": null,
            "grid_auto_rows": null,
            "grid_column": null,
            "grid_gap": null,
            "grid_row": null,
            "grid_template_areas": null,
            "grid_template_columns": null,
            "grid_template_rows": null,
            "height": null,
            "justify_content": null,
            "justify_items": null,
            "left": null,
            "margin": null,
            "max_height": null,
            "max_width": null,
            "min_height": null,
            "min_width": null,
            "object_fit": null,
            "object_position": null,
            "order": null,
            "overflow": null,
            "overflow_x": null,
            "overflow_y": null,
            "padding": null,
            "right": null,
            "top": null,
            "visibility": null,
            "width": null
          }
        },
        "626c782ad6234cda86eb0e9aef51a21b": {
          "model_module": "@jupyter-widgets/controls",
          "model_name": "DescriptionStyleModel",
          "model_module_version": "1.5.0",
          "state": {
            "_model_module": "@jupyter-widgets/controls",
            "_model_module_version": "1.5.0",
            "_model_name": "DescriptionStyleModel",
            "_view_count": null,
            "_view_module": "@jupyter-widgets/base",
            "_view_module_version": "1.2.0",
            "_view_name": "StyleView",
            "description_width": ""
          }
        },
        "dd036c1e1ed6432cb96e207296008724": {
          "model_module": "@jupyter-widgets/controls",
          "model_name": "HBoxModel",
          "model_module_version": "1.5.0",
          "state": {
            "_dom_classes": [],
            "_model_module": "@jupyter-widgets/controls",
            "_model_module_version": "1.5.0",
            "_model_name": "HBoxModel",
            "_view_count": null,
            "_view_module": "@jupyter-widgets/controls",
            "_view_module_version": "1.5.0",
            "_view_name": "HBoxView",
            "box_style": "",
            "children": [
              "IPY_MODEL_fdc8d283630b450fa4bec1931dad90e1",
              "IPY_MODEL_ef29ca7ddf424adfa10d9823910a4f23",
              "IPY_MODEL_270dd3a16bb64451b07b34e676fe6037"
            ],
            "layout": "IPY_MODEL_396573cf7f9f4ae3ba117170b6ab8a70"
          }
        },
        "fdc8d283630b450fa4bec1931dad90e1": {
          "model_module": "@jupyter-widgets/controls",
          "model_name": "HTMLModel",
          "model_module_version": "1.5.0",
          "state": {
            "_dom_classes": [],
            "_model_module": "@jupyter-widgets/controls",
            "_model_module_version": "1.5.0",
            "_model_name": "HTMLModel",
            "_view_count": null,
            "_view_module": "@jupyter-widgets/controls",
            "_view_module_version": "1.5.0",
            "_view_name": "HTMLView",
            "description": "",
            "description_tooltip": null,
            "layout": "IPY_MODEL_1dfd9cde169348ba9fd7e47b48ed251b",
            "placeholder": "​",
            "style": "IPY_MODEL_969f9d8c9b1047c3b3777b5006a65399",
            "value": "Downloading (…)lve/main/config.json: 100%"
          }
        },
        "ef29ca7ddf424adfa10d9823910a4f23": {
          "model_module": "@jupyter-widgets/controls",
          "model_name": "FloatProgressModel",
          "model_module_version": "1.5.0",
          "state": {
            "_dom_classes": [],
            "_model_module": "@jupyter-widgets/controls",
            "_model_module_version": "1.5.0",
            "_model_name": "FloatProgressModel",
            "_view_count": null,
            "_view_module": "@jupyter-widgets/controls",
            "_view_module_version": "1.5.0",
            "_view_name": "ProgressView",
            "bar_style": "success",
            "description": "",
            "description_tooltip": null,
            "layout": "IPY_MODEL_e63b709b7ddd4b0abb0e0b5e1aebc60e",
            "max": 570,
            "min": 0,
            "orientation": "horizontal",
            "style": "IPY_MODEL_a7385a94d192404b871ebbc27d817b80",
            "value": 570
          }
        },
        "270dd3a16bb64451b07b34e676fe6037": {
          "model_module": "@jupyter-widgets/controls",
          "model_name": "HTMLModel",
          "model_module_version": "1.5.0",
          "state": {
            "_dom_classes": [],
            "_model_module": "@jupyter-widgets/controls",
            "_model_module_version": "1.5.0",
            "_model_name": "HTMLModel",
            "_view_count": null,
            "_view_module": "@jupyter-widgets/controls",
            "_view_module_version": "1.5.0",
            "_view_name": "HTMLView",
            "description": "",
            "description_tooltip": null,
            "layout": "IPY_MODEL_8ac3e2687bec41dbbfe91b5d3ad7e258",
            "placeholder": "​",
            "style": "IPY_MODEL_759e7e8fadb342f49898e667f53c9c87",
            "value": " 570/570 [00:00&lt;00:00, 39.5kB/s]"
          }
        },
        "396573cf7f9f4ae3ba117170b6ab8a70": {
          "model_module": "@jupyter-widgets/base",
          "model_name": "LayoutModel",
          "model_module_version": "1.2.0",
          "state": {
            "_model_module": "@jupyter-widgets/base",
            "_model_module_version": "1.2.0",
            "_model_name": "LayoutModel",
            "_view_count": null,
            "_view_module": "@jupyter-widgets/base",
            "_view_module_version": "1.2.0",
            "_view_name": "LayoutView",
            "align_content": null,
            "align_items": null,
            "align_self": null,
            "border": null,
            "bottom": null,
            "display": null,
            "flex": null,
            "flex_flow": null,
            "grid_area": null,
            "grid_auto_columns": null,
            "grid_auto_flow": null,
            "grid_auto_rows": null,
            "grid_column": null,
            "grid_gap": null,
            "grid_row": null,
            "grid_template_areas": null,
            "grid_template_columns": null,
            "grid_template_rows": null,
            "height": null,
            "justify_content": null,
            "justify_items": null,
            "left": null,
            "margin": null,
            "max_height": null,
            "max_width": null,
            "min_height": null,
            "min_width": null,
            "object_fit": null,
            "object_position": null,
            "order": null,
            "overflow": null,
            "overflow_x": null,
            "overflow_y": null,
            "padding": null,
            "right": null,
            "top": null,
            "visibility": null,
            "width": null
          }
        },
        "1dfd9cde169348ba9fd7e47b48ed251b": {
          "model_module": "@jupyter-widgets/base",
          "model_name": "LayoutModel",
          "model_module_version": "1.2.0",
          "state": {
            "_model_module": "@jupyter-widgets/base",
            "_model_module_version": "1.2.0",
            "_model_name": "LayoutModel",
            "_view_count": null,
            "_view_module": "@jupyter-widgets/base",
            "_view_module_version": "1.2.0",
            "_view_name": "LayoutView",
            "align_content": null,
            "align_items": null,
            "align_self": null,
            "border": null,
            "bottom": null,
            "display": null,
            "flex": null,
            "flex_flow": null,
            "grid_area": null,
            "grid_auto_columns": null,
            "grid_auto_flow": null,
            "grid_auto_rows": null,
            "grid_column": null,
            "grid_gap": null,
            "grid_row": null,
            "grid_template_areas": null,
            "grid_template_columns": null,
            "grid_template_rows": null,
            "height": null,
            "justify_content": null,
            "justify_items": null,
            "left": null,
            "margin": null,
            "max_height": null,
            "max_width": null,
            "min_height": null,
            "min_width": null,
            "object_fit": null,
            "object_position": null,
            "order": null,
            "overflow": null,
            "overflow_x": null,
            "overflow_y": null,
            "padding": null,
            "right": null,
            "top": null,
            "visibility": null,
            "width": null
          }
        },
        "969f9d8c9b1047c3b3777b5006a65399": {
          "model_module": "@jupyter-widgets/controls",
          "model_name": "DescriptionStyleModel",
          "model_module_version": "1.5.0",
          "state": {
            "_model_module": "@jupyter-widgets/controls",
            "_model_module_version": "1.5.0",
            "_model_name": "DescriptionStyleModel",
            "_view_count": null,
            "_view_module": "@jupyter-widgets/base",
            "_view_module_version": "1.2.0",
            "_view_name": "StyleView",
            "description_width": ""
          }
        },
        "e63b709b7ddd4b0abb0e0b5e1aebc60e": {
          "model_module": "@jupyter-widgets/base",
          "model_name": "LayoutModel",
          "model_module_version": "1.2.0",
          "state": {
            "_model_module": "@jupyter-widgets/base",
            "_model_module_version": "1.2.0",
            "_model_name": "LayoutModel",
            "_view_count": null,
            "_view_module": "@jupyter-widgets/base",
            "_view_module_version": "1.2.0",
            "_view_name": "LayoutView",
            "align_content": null,
            "align_items": null,
            "align_self": null,
            "border": null,
            "bottom": null,
            "display": null,
            "flex": null,
            "flex_flow": null,
            "grid_area": null,
            "grid_auto_columns": null,
            "grid_auto_flow": null,
            "grid_auto_rows": null,
            "grid_column": null,
            "grid_gap": null,
            "grid_row": null,
            "grid_template_areas": null,
            "grid_template_columns": null,
            "grid_template_rows": null,
            "height": null,
            "justify_content": null,
            "justify_items": null,
            "left": null,
            "margin": null,
            "max_height": null,
            "max_width": null,
            "min_height": null,
            "min_width": null,
            "object_fit": null,
            "object_position": null,
            "order": null,
            "overflow": null,
            "overflow_x": null,
            "overflow_y": null,
            "padding": null,
            "right": null,
            "top": null,
            "visibility": null,
            "width": null
          }
        },
        "a7385a94d192404b871ebbc27d817b80": {
          "model_module": "@jupyter-widgets/controls",
          "model_name": "ProgressStyleModel",
          "model_module_version": "1.5.0",
          "state": {
            "_model_module": "@jupyter-widgets/controls",
            "_model_module_version": "1.5.0",
            "_model_name": "ProgressStyleModel",
            "_view_count": null,
            "_view_module": "@jupyter-widgets/base",
            "_view_module_version": "1.2.0",
            "_view_name": "StyleView",
            "bar_color": null,
            "description_width": ""
          }
        },
        "8ac3e2687bec41dbbfe91b5d3ad7e258": {
          "model_module": "@jupyter-widgets/base",
          "model_name": "LayoutModel",
          "model_module_version": "1.2.0",
          "state": {
            "_model_module": "@jupyter-widgets/base",
            "_model_module_version": "1.2.0",
            "_model_name": "LayoutModel",
            "_view_count": null,
            "_view_module": "@jupyter-widgets/base",
            "_view_module_version": "1.2.0",
            "_view_name": "LayoutView",
            "align_content": null,
            "align_items": null,
            "align_self": null,
            "border": null,
            "bottom": null,
            "display": null,
            "flex": null,
            "flex_flow": null,
            "grid_area": null,
            "grid_auto_columns": null,
            "grid_auto_flow": null,
            "grid_auto_rows": null,
            "grid_column": null,
            "grid_gap": null,
            "grid_row": null,
            "grid_template_areas": null,
            "grid_template_columns": null,
            "grid_template_rows": null,
            "height": null,
            "justify_content": null,
            "justify_items": null,
            "left": null,
            "margin": null,
            "max_height": null,
            "max_width": null,
            "min_height": null,
            "min_width": null,
            "object_fit": null,
            "object_position": null,
            "order": null,
            "overflow": null,
            "overflow_x": null,
            "overflow_y": null,
            "padding": null,
            "right": null,
            "top": null,
            "visibility": null,
            "width": null
          }
        },
        "759e7e8fadb342f49898e667f53c9c87": {
          "model_module": "@jupyter-widgets/controls",
          "model_name": "DescriptionStyleModel",
          "model_module_version": "1.5.0",
          "state": {
            "_model_module": "@jupyter-widgets/controls",
            "_model_module_version": "1.5.0",
            "_model_name": "DescriptionStyleModel",
            "_view_count": null,
            "_view_module": "@jupyter-widgets/base",
            "_view_module_version": "1.2.0",
            "_view_name": "StyleView",
            "description_width": ""
          }
        },
        "2621bec3935044e096259aba54955cbe": {
          "model_module": "@jupyter-widgets/controls",
          "model_name": "HBoxModel",
          "model_module_version": "1.5.0",
          "state": {
            "_dom_classes": [],
            "_model_module": "@jupyter-widgets/controls",
            "_model_module_version": "1.5.0",
            "_model_name": "HBoxModel",
            "_view_count": null,
            "_view_module": "@jupyter-widgets/controls",
            "_view_module_version": "1.5.0",
            "_view_name": "HBoxView",
            "box_style": "",
            "children": [
              "IPY_MODEL_b5f94ec0cb1d47fa849c829d48728f21",
              "IPY_MODEL_05dafb5882a84211b13b56abbdfef81c",
              "IPY_MODEL_44e05868e45e4c7b9758c570f4d65aa4"
            ],
            "layout": "IPY_MODEL_a1635228fc2b418d94736042065d6911"
          }
        },
        "b5f94ec0cb1d47fa849c829d48728f21": {
          "model_module": "@jupyter-widgets/controls",
          "model_name": "HTMLModel",
          "model_module_version": "1.5.0",
          "state": {
            "_dom_classes": [],
            "_model_module": "@jupyter-widgets/controls",
            "_model_module_version": "1.5.0",
            "_model_name": "HTMLModel",
            "_view_count": null,
            "_view_module": "@jupyter-widgets/controls",
            "_view_module_version": "1.5.0",
            "_view_name": "HTMLView",
            "description": "",
            "description_tooltip": null,
            "layout": "IPY_MODEL_54397c0f506345aea83e31ad4db97672",
            "placeholder": "​",
            "style": "IPY_MODEL_0470000de82e45a0b5321c21b7ad2193",
            "value": "Downloading tf_model.h5: 100%"
          }
        },
        "05dafb5882a84211b13b56abbdfef81c": {
          "model_module": "@jupyter-widgets/controls",
          "model_name": "FloatProgressModel",
          "model_module_version": "1.5.0",
          "state": {
            "_dom_classes": [],
            "_model_module": "@jupyter-widgets/controls",
            "_model_module_version": "1.5.0",
            "_model_name": "FloatProgressModel",
            "_view_count": null,
            "_view_module": "@jupyter-widgets/controls",
            "_view_module_version": "1.5.0",
            "_view_name": "ProgressView",
            "bar_style": "success",
            "description": "",
            "description_tooltip": null,
            "layout": "IPY_MODEL_202e97a105f7482bb64e75584fe8985e",
            "max": 526681800,
            "min": 0,
            "orientation": "horizontal",
            "style": "IPY_MODEL_87c0bbf30e9b4c158846cf8b87f6524b",
            "value": 526681800
          }
        },
        "44e05868e45e4c7b9758c570f4d65aa4": {
          "model_module": "@jupyter-widgets/controls",
          "model_name": "HTMLModel",
          "model_module_version": "1.5.0",
          "state": {
            "_dom_classes": [],
            "_model_module": "@jupyter-widgets/controls",
            "_model_module_version": "1.5.0",
            "_model_name": "HTMLModel",
            "_view_count": null,
            "_view_module": "@jupyter-widgets/controls",
            "_view_module_version": "1.5.0",
            "_view_name": "HTMLView",
            "description": "",
            "description_tooltip": null,
            "layout": "IPY_MODEL_9b3e21d911624775ad6bcaa4144cbb78",
            "placeholder": "​",
            "style": "IPY_MODEL_5c1f9dc92f2049f093beb5385ff9bf6e",
            "value": " 527M/527M [00:01&lt;00:00, 502MB/s]"
          }
        },
        "a1635228fc2b418d94736042065d6911": {
          "model_module": "@jupyter-widgets/base",
          "model_name": "LayoutModel",
          "model_module_version": "1.2.0",
          "state": {
            "_model_module": "@jupyter-widgets/base",
            "_model_module_version": "1.2.0",
            "_model_name": "LayoutModel",
            "_view_count": null,
            "_view_module": "@jupyter-widgets/base",
            "_view_module_version": "1.2.0",
            "_view_name": "LayoutView",
            "align_content": null,
            "align_items": null,
            "align_self": null,
            "border": null,
            "bottom": null,
            "display": null,
            "flex": null,
            "flex_flow": null,
            "grid_area": null,
            "grid_auto_columns": null,
            "grid_auto_flow": null,
            "grid_auto_rows": null,
            "grid_column": null,
            "grid_gap": null,
            "grid_row": null,
            "grid_template_areas": null,
            "grid_template_columns": null,
            "grid_template_rows": null,
            "height": null,
            "justify_content": null,
            "justify_items": null,
            "left": null,
            "margin": null,
            "max_height": null,
            "max_width": null,
            "min_height": null,
            "min_width": null,
            "object_fit": null,
            "object_position": null,
            "order": null,
            "overflow": null,
            "overflow_x": null,
            "overflow_y": null,
            "padding": null,
            "right": null,
            "top": null,
            "visibility": null,
            "width": null
          }
        },
        "54397c0f506345aea83e31ad4db97672": {
          "model_module": "@jupyter-widgets/base",
          "model_name": "LayoutModel",
          "model_module_version": "1.2.0",
          "state": {
            "_model_module": "@jupyter-widgets/base",
            "_model_module_version": "1.2.0",
            "_model_name": "LayoutModel",
            "_view_count": null,
            "_view_module": "@jupyter-widgets/base",
            "_view_module_version": "1.2.0",
            "_view_name": "LayoutView",
            "align_content": null,
            "align_items": null,
            "align_self": null,
            "border": null,
            "bottom": null,
            "display": null,
            "flex": null,
            "flex_flow": null,
            "grid_area": null,
            "grid_auto_columns": null,
            "grid_auto_flow": null,
            "grid_auto_rows": null,
            "grid_column": null,
            "grid_gap": null,
            "grid_row": null,
            "grid_template_areas": null,
            "grid_template_columns": null,
            "grid_template_rows": null,
            "height": null,
            "justify_content": null,
            "justify_items": null,
            "left": null,
            "margin": null,
            "max_height": null,
            "max_width": null,
            "min_height": null,
            "min_width": null,
            "object_fit": null,
            "object_position": null,
            "order": null,
            "overflow": null,
            "overflow_x": null,
            "overflow_y": null,
            "padding": null,
            "right": null,
            "top": null,
            "visibility": null,
            "width": null
          }
        },
        "0470000de82e45a0b5321c21b7ad2193": {
          "model_module": "@jupyter-widgets/controls",
          "model_name": "DescriptionStyleModel",
          "model_module_version": "1.5.0",
          "state": {
            "_model_module": "@jupyter-widgets/controls",
            "_model_module_version": "1.5.0",
            "_model_name": "DescriptionStyleModel",
            "_view_count": null,
            "_view_module": "@jupyter-widgets/base",
            "_view_module_version": "1.2.0",
            "_view_name": "StyleView",
            "description_width": ""
          }
        },
        "202e97a105f7482bb64e75584fe8985e": {
          "model_module": "@jupyter-widgets/base",
          "model_name": "LayoutModel",
          "model_module_version": "1.2.0",
          "state": {
            "_model_module": "@jupyter-widgets/base",
            "_model_module_version": "1.2.0",
            "_model_name": "LayoutModel",
            "_view_count": null,
            "_view_module": "@jupyter-widgets/base",
            "_view_module_version": "1.2.0",
            "_view_name": "LayoutView",
            "align_content": null,
            "align_items": null,
            "align_self": null,
            "border": null,
            "bottom": null,
            "display": null,
            "flex": null,
            "flex_flow": null,
            "grid_area": null,
            "grid_auto_columns": null,
            "grid_auto_flow": null,
            "grid_auto_rows": null,
            "grid_column": null,
            "grid_gap": null,
            "grid_row": null,
            "grid_template_areas": null,
            "grid_template_columns": null,
            "grid_template_rows": null,
            "height": null,
            "justify_content": null,
            "justify_items": null,
            "left": null,
            "margin": null,
            "max_height": null,
            "max_width": null,
            "min_height": null,
            "min_width": null,
            "object_fit": null,
            "object_position": null,
            "order": null,
            "overflow": null,
            "overflow_x": null,
            "overflow_y": null,
            "padding": null,
            "right": null,
            "top": null,
            "visibility": null,
            "width": null
          }
        },
        "87c0bbf30e9b4c158846cf8b87f6524b": {
          "model_module": "@jupyter-widgets/controls",
          "model_name": "ProgressStyleModel",
          "model_module_version": "1.5.0",
          "state": {
            "_model_module": "@jupyter-widgets/controls",
            "_model_module_version": "1.5.0",
            "_model_name": "ProgressStyleModel",
            "_view_count": null,
            "_view_module": "@jupyter-widgets/base",
            "_view_module_version": "1.2.0",
            "_view_name": "StyleView",
            "bar_color": null,
            "description_width": ""
          }
        },
        "9b3e21d911624775ad6bcaa4144cbb78": {
          "model_module": "@jupyter-widgets/base",
          "model_name": "LayoutModel",
          "model_module_version": "1.2.0",
          "state": {
            "_model_module": "@jupyter-widgets/base",
            "_model_module_version": "1.2.0",
            "_model_name": "LayoutModel",
            "_view_count": null,
            "_view_module": "@jupyter-widgets/base",
            "_view_module_version": "1.2.0",
            "_view_name": "LayoutView",
            "align_content": null,
            "align_items": null,
            "align_self": null,
            "border": null,
            "bottom": null,
            "display": null,
            "flex": null,
            "flex_flow": null,
            "grid_area": null,
            "grid_auto_columns": null,
            "grid_auto_flow": null,
            "grid_auto_rows": null,
            "grid_column": null,
            "grid_gap": null,
            "grid_row": null,
            "grid_template_areas": null,
            "grid_template_columns": null,
            "grid_template_rows": null,
            "height": null,
            "justify_content": null,
            "justify_items": null,
            "left": null,
            "margin": null,
            "max_height": null,
            "max_width": null,
            "min_height": null,
            "min_width": null,
            "object_fit": null,
            "object_position": null,
            "order": null,
            "overflow": null,
            "overflow_x": null,
            "overflow_y": null,
            "padding": null,
            "right": null,
            "top": null,
            "visibility": null,
            "width": null
          }
        },
        "5c1f9dc92f2049f093beb5385ff9bf6e": {
          "model_module": "@jupyter-widgets/controls",
          "model_name": "DescriptionStyleModel",
          "model_module_version": "1.5.0",
          "state": {
            "_model_module": "@jupyter-widgets/controls",
            "_model_module_version": "1.5.0",
            "_model_name": "DescriptionStyleModel",
            "_view_count": null,
            "_view_module": "@jupyter-widgets/base",
            "_view_module_version": "1.2.0",
            "_view_name": "StyleView",
            "description_width": ""
          }
        },
        "43c1701af67f49d1ba204be5f4f2672e": {
          "model_module": "@jupyter-widgets/controls",
          "model_name": "HBoxModel",
          "model_module_version": "1.5.0",
          "state": {
            "_dom_classes": [],
            "_model_module": "@jupyter-widgets/controls",
            "_model_module_version": "1.5.0",
            "_model_name": "HBoxModel",
            "_view_count": null,
            "_view_module": "@jupyter-widgets/controls",
            "_view_module_version": "1.5.0",
            "_view_name": "HBoxView",
            "box_style": "",
            "children": [
              "IPY_MODEL_f34863fbf79945b88cc6cb65d7b438c8",
              "IPY_MODEL_a0d8034045194d298ab7c81e1a8f7c53",
              "IPY_MODEL_a8bf999d27dc439193d680d247d78f23"
            ],
            "layout": "IPY_MODEL_a44f96a7e9634b53ab8e85a5d5dc4196"
          }
        },
        "f34863fbf79945b88cc6cb65d7b438c8": {
          "model_module": "@jupyter-widgets/controls",
          "model_name": "HTMLModel",
          "model_module_version": "1.5.0",
          "state": {
            "_dom_classes": [],
            "_model_module": "@jupyter-widgets/controls",
            "_model_module_version": "1.5.0",
            "_model_name": "HTMLModel",
            "_view_count": null,
            "_view_module": "@jupyter-widgets/controls",
            "_view_module_version": "1.5.0",
            "_view_name": "HTMLView",
            "description": "",
            "description_tooltip": null,
            "layout": "IPY_MODEL_6c4aed14005440ada12a7116c2ca46c3",
            "placeholder": "​",
            "style": "IPY_MODEL_f200b33d64374786810343374d7a5330",
            "value": "Downloading (…)solve/main/vocab.txt: 100%"
          }
        },
        "a0d8034045194d298ab7c81e1a8f7c53": {
          "model_module": "@jupyter-widgets/controls",
          "model_name": "FloatProgressModel",
          "model_module_version": "1.5.0",
          "state": {
            "_dom_classes": [],
            "_model_module": "@jupyter-widgets/controls",
            "_model_module_version": "1.5.0",
            "_model_name": "FloatProgressModel",
            "_view_count": null,
            "_view_module": "@jupyter-widgets/controls",
            "_view_module_version": "1.5.0",
            "_view_name": "ProgressView",
            "bar_style": "success",
            "description": "",
            "description_tooltip": null,
            "layout": "IPY_MODEL_726e772ae3a14b62831bf63c636ec86e",
            "max": 231508,
            "min": 0,
            "orientation": "horizontal",
            "style": "IPY_MODEL_e38a50d932e1413bba7c72f0d44660ce",
            "value": 231508
          }
        },
        "a8bf999d27dc439193d680d247d78f23": {
          "model_module": "@jupyter-widgets/controls",
          "model_name": "HTMLModel",
          "model_module_version": "1.5.0",
          "state": {
            "_dom_classes": [],
            "_model_module": "@jupyter-widgets/controls",
            "_model_module_version": "1.5.0",
            "_model_name": "HTMLModel",
            "_view_count": null,
            "_view_module": "@jupyter-widgets/controls",
            "_view_module_version": "1.5.0",
            "_view_name": "HTMLView",
            "description": "",
            "description_tooltip": null,
            "layout": "IPY_MODEL_f8c0a02bc5434625a5db86b54293a132",
            "placeholder": "​",
            "style": "IPY_MODEL_fb3d4263c8474fd0b4197c24f3ce2069",
            "value": " 232k/232k [00:00&lt;00:00, 552kB/s]"
          }
        },
        "a44f96a7e9634b53ab8e85a5d5dc4196": {
          "model_module": "@jupyter-widgets/base",
          "model_name": "LayoutModel",
          "model_module_version": "1.2.0",
          "state": {
            "_model_module": "@jupyter-widgets/base",
            "_model_module_version": "1.2.0",
            "_model_name": "LayoutModel",
            "_view_count": null,
            "_view_module": "@jupyter-widgets/base",
            "_view_module_version": "1.2.0",
            "_view_name": "LayoutView",
            "align_content": null,
            "align_items": null,
            "align_self": null,
            "border": null,
            "bottom": null,
            "display": null,
            "flex": null,
            "flex_flow": null,
            "grid_area": null,
            "grid_auto_columns": null,
            "grid_auto_flow": null,
            "grid_auto_rows": null,
            "grid_column": null,
            "grid_gap": null,
            "grid_row": null,
            "grid_template_areas": null,
            "grid_template_columns": null,
            "grid_template_rows": null,
            "height": null,
            "justify_content": null,
            "justify_items": null,
            "left": null,
            "margin": null,
            "max_height": null,
            "max_width": null,
            "min_height": null,
            "min_width": null,
            "object_fit": null,
            "object_position": null,
            "order": null,
            "overflow": null,
            "overflow_x": null,
            "overflow_y": null,
            "padding": null,
            "right": null,
            "top": null,
            "visibility": null,
            "width": null
          }
        },
        "6c4aed14005440ada12a7116c2ca46c3": {
          "model_module": "@jupyter-widgets/base",
          "model_name": "LayoutModel",
          "model_module_version": "1.2.0",
          "state": {
            "_model_module": "@jupyter-widgets/base",
            "_model_module_version": "1.2.0",
            "_model_name": "LayoutModel",
            "_view_count": null,
            "_view_module": "@jupyter-widgets/base",
            "_view_module_version": "1.2.0",
            "_view_name": "LayoutView",
            "align_content": null,
            "align_items": null,
            "align_self": null,
            "border": null,
            "bottom": null,
            "display": null,
            "flex": null,
            "flex_flow": null,
            "grid_area": null,
            "grid_auto_columns": null,
            "grid_auto_flow": null,
            "grid_auto_rows": null,
            "grid_column": null,
            "grid_gap": null,
            "grid_row": null,
            "grid_template_areas": null,
            "grid_template_columns": null,
            "grid_template_rows": null,
            "height": null,
            "justify_content": null,
            "justify_items": null,
            "left": null,
            "margin": null,
            "max_height": null,
            "max_width": null,
            "min_height": null,
            "min_width": null,
            "object_fit": null,
            "object_position": null,
            "order": null,
            "overflow": null,
            "overflow_x": null,
            "overflow_y": null,
            "padding": null,
            "right": null,
            "top": null,
            "visibility": null,
            "width": null
          }
        },
        "f200b33d64374786810343374d7a5330": {
          "model_module": "@jupyter-widgets/controls",
          "model_name": "DescriptionStyleModel",
          "model_module_version": "1.5.0",
          "state": {
            "_model_module": "@jupyter-widgets/controls",
            "_model_module_version": "1.5.0",
            "_model_name": "DescriptionStyleModel",
            "_view_count": null,
            "_view_module": "@jupyter-widgets/base",
            "_view_module_version": "1.2.0",
            "_view_name": "StyleView",
            "description_width": ""
          }
        },
        "726e772ae3a14b62831bf63c636ec86e": {
          "model_module": "@jupyter-widgets/base",
          "model_name": "LayoutModel",
          "model_module_version": "1.2.0",
          "state": {
            "_model_module": "@jupyter-widgets/base",
            "_model_module_version": "1.2.0",
            "_model_name": "LayoutModel",
            "_view_count": null,
            "_view_module": "@jupyter-widgets/base",
            "_view_module_version": "1.2.0",
            "_view_name": "LayoutView",
            "align_content": null,
            "align_items": null,
            "align_self": null,
            "border": null,
            "bottom": null,
            "display": null,
            "flex": null,
            "flex_flow": null,
            "grid_area": null,
            "grid_auto_columns": null,
            "grid_auto_flow": null,
            "grid_auto_rows": null,
            "grid_column": null,
            "grid_gap": null,
            "grid_row": null,
            "grid_template_areas": null,
            "grid_template_columns": null,
            "grid_template_rows": null,
            "height": null,
            "justify_content": null,
            "justify_items": null,
            "left": null,
            "margin": null,
            "max_height": null,
            "max_width": null,
            "min_height": null,
            "min_width": null,
            "object_fit": null,
            "object_position": null,
            "order": null,
            "overflow": null,
            "overflow_x": null,
            "overflow_y": null,
            "padding": null,
            "right": null,
            "top": null,
            "visibility": null,
            "width": null
          }
        },
        "e38a50d932e1413bba7c72f0d44660ce": {
          "model_module": "@jupyter-widgets/controls",
          "model_name": "ProgressStyleModel",
          "model_module_version": "1.5.0",
          "state": {
            "_model_module": "@jupyter-widgets/controls",
            "_model_module_version": "1.5.0",
            "_model_name": "ProgressStyleModel",
            "_view_count": null,
            "_view_module": "@jupyter-widgets/base",
            "_view_module_version": "1.2.0",
            "_view_name": "StyleView",
            "bar_color": null,
            "description_width": ""
          }
        },
        "f8c0a02bc5434625a5db86b54293a132": {
          "model_module": "@jupyter-widgets/base",
          "model_name": "LayoutModel",
          "model_module_version": "1.2.0",
          "state": {
            "_model_module": "@jupyter-widgets/base",
            "_model_module_version": "1.2.0",
            "_model_name": "LayoutModel",
            "_view_count": null,
            "_view_module": "@jupyter-widgets/base",
            "_view_module_version": "1.2.0",
            "_view_name": "LayoutView",
            "align_content": null,
            "align_items": null,
            "align_self": null,
            "border": null,
            "bottom": null,
            "display": null,
            "flex": null,
            "flex_flow": null,
            "grid_area": null,
            "grid_auto_columns": null,
            "grid_auto_flow": null,
            "grid_auto_rows": null,
            "grid_column": null,
            "grid_gap": null,
            "grid_row": null,
            "grid_template_areas": null,
            "grid_template_columns": null,
            "grid_template_rows": null,
            "height": null,
            "justify_content": null,
            "justify_items": null,
            "left": null,
            "margin": null,
            "max_height": null,
            "max_width": null,
            "min_height": null,
            "min_width": null,
            "object_fit": null,
            "object_position": null,
            "order": null,
            "overflow": null,
            "overflow_x": null,
            "overflow_y": null,
            "padding": null,
            "right": null,
            "top": null,
            "visibility": null,
            "width": null
          }
        },
        "fb3d4263c8474fd0b4197c24f3ce2069": {
          "model_module": "@jupyter-widgets/controls",
          "model_name": "DescriptionStyleModel",
          "model_module_version": "1.5.0",
          "state": {
            "_model_module": "@jupyter-widgets/controls",
            "_model_module_version": "1.5.0",
            "_model_name": "DescriptionStyleModel",
            "_view_count": null,
            "_view_module": "@jupyter-widgets/base",
            "_view_module_version": "1.2.0",
            "_view_name": "StyleView",
            "description_width": ""
          }
        },
        "fc904dc1646746e890adef0bdc651488": {
          "model_module": "@jupyter-widgets/controls",
          "model_name": "HBoxModel",
          "model_module_version": "1.5.0",
          "state": {
            "_dom_classes": [],
            "_model_module": "@jupyter-widgets/controls",
            "_model_module_version": "1.5.0",
            "_model_name": "HBoxModel",
            "_view_count": null,
            "_view_module": "@jupyter-widgets/controls",
            "_view_module_version": "1.5.0",
            "_view_name": "HBoxView",
            "box_style": "",
            "children": [
              "IPY_MODEL_154384175e384ad6b2f7a71140add9fc",
              "IPY_MODEL_4e1b4120caab4cc0bd4d79d15ca3410b",
              "IPY_MODEL_4f5e7b28add94e29923641ab34be4409"
            ],
            "layout": "IPY_MODEL_7aa31d9bb6d1400f87de6733463be877"
          }
        },
        "154384175e384ad6b2f7a71140add9fc": {
          "model_module": "@jupyter-widgets/controls",
          "model_name": "HTMLModel",
          "model_module_version": "1.5.0",
          "state": {
            "_dom_classes": [],
            "_model_module": "@jupyter-widgets/controls",
            "_model_module_version": "1.5.0",
            "_model_name": "HTMLModel",
            "_view_count": null,
            "_view_module": "@jupyter-widgets/controls",
            "_view_module_version": "1.5.0",
            "_view_name": "HTMLView",
            "description": "",
            "description_tooltip": null,
            "layout": "IPY_MODEL_43624c3e104948a9a4fb8708b5bd7eaa",
            "placeholder": "​",
            "style": "IPY_MODEL_8300dcc2aa694ac38a301f057eac3bbe",
            "value": "Downloading (…)cial_tokens_map.json: 100%"
          }
        },
        "4e1b4120caab4cc0bd4d79d15ca3410b": {
          "model_module": "@jupyter-widgets/controls",
          "model_name": "FloatProgressModel",
          "model_module_version": "1.5.0",
          "state": {
            "_dom_classes": [],
            "_model_module": "@jupyter-widgets/controls",
            "_model_module_version": "1.5.0",
            "_model_name": "FloatProgressModel",
            "_view_count": null,
            "_view_module": "@jupyter-widgets/controls",
            "_view_module_version": "1.5.0",
            "_view_name": "ProgressView",
            "bar_style": "success",
            "description": "",
            "description_tooltip": null,
            "layout": "IPY_MODEL_80ea2cd1ef2f4a439e397d92f0c06c55",
            "max": 112,
            "min": 0,
            "orientation": "horizontal",
            "style": "IPY_MODEL_3fa8f2607e114b9681041b798b2cd02e",
            "value": 112
          }
        },
        "4f5e7b28add94e29923641ab34be4409": {
          "model_module": "@jupyter-widgets/controls",
          "model_name": "HTMLModel",
          "model_module_version": "1.5.0",
          "state": {
            "_dom_classes": [],
            "_model_module": "@jupyter-widgets/controls",
            "_model_module_version": "1.5.0",
            "_model_name": "HTMLModel",
            "_view_count": null,
            "_view_module": "@jupyter-widgets/controls",
            "_view_module_version": "1.5.0",
            "_view_name": "HTMLView",
            "description": "",
            "description_tooltip": null,
            "layout": "IPY_MODEL_0460907dbc704018a2605ececdcd58a7",
            "placeholder": "​",
            "style": "IPY_MODEL_b653dcec78f24e29a60856f2f35fed3e",
            "value": " 112/112 [00:00&lt;00:00, 7.91kB/s]"
          }
        },
        "7aa31d9bb6d1400f87de6733463be877": {
          "model_module": "@jupyter-widgets/base",
          "model_name": "LayoutModel",
          "model_module_version": "1.2.0",
          "state": {
            "_model_module": "@jupyter-widgets/base",
            "_model_module_version": "1.2.0",
            "_model_name": "LayoutModel",
            "_view_count": null,
            "_view_module": "@jupyter-widgets/base",
            "_view_module_version": "1.2.0",
            "_view_name": "LayoutView",
            "align_content": null,
            "align_items": null,
            "align_self": null,
            "border": null,
            "bottom": null,
            "display": null,
            "flex": null,
            "flex_flow": null,
            "grid_area": null,
            "grid_auto_columns": null,
            "grid_auto_flow": null,
            "grid_auto_rows": null,
            "grid_column": null,
            "grid_gap": null,
            "grid_row": null,
            "grid_template_areas": null,
            "grid_template_columns": null,
            "grid_template_rows": null,
            "height": null,
            "justify_content": null,
            "justify_items": null,
            "left": null,
            "margin": null,
            "max_height": null,
            "max_width": null,
            "min_height": null,
            "min_width": null,
            "object_fit": null,
            "object_position": null,
            "order": null,
            "overflow": null,
            "overflow_x": null,
            "overflow_y": null,
            "padding": null,
            "right": null,
            "top": null,
            "visibility": null,
            "width": null
          }
        },
        "43624c3e104948a9a4fb8708b5bd7eaa": {
          "model_module": "@jupyter-widgets/base",
          "model_name": "LayoutModel",
          "model_module_version": "1.2.0",
          "state": {
            "_model_module": "@jupyter-widgets/base",
            "_model_module_version": "1.2.0",
            "_model_name": "LayoutModel",
            "_view_count": null,
            "_view_module": "@jupyter-widgets/base",
            "_view_module_version": "1.2.0",
            "_view_name": "LayoutView",
            "align_content": null,
            "align_items": null,
            "align_self": null,
            "border": null,
            "bottom": null,
            "display": null,
            "flex": null,
            "flex_flow": null,
            "grid_area": null,
            "grid_auto_columns": null,
            "grid_auto_flow": null,
            "grid_auto_rows": null,
            "grid_column": null,
            "grid_gap": null,
            "grid_row": null,
            "grid_template_areas": null,
            "grid_template_columns": null,
            "grid_template_rows": null,
            "height": null,
            "justify_content": null,
            "justify_items": null,
            "left": null,
            "margin": null,
            "max_height": null,
            "max_width": null,
            "min_height": null,
            "min_width": null,
            "object_fit": null,
            "object_position": null,
            "order": null,
            "overflow": null,
            "overflow_x": null,
            "overflow_y": null,
            "padding": null,
            "right": null,
            "top": null,
            "visibility": null,
            "width": null
          }
        },
        "8300dcc2aa694ac38a301f057eac3bbe": {
          "model_module": "@jupyter-widgets/controls",
          "model_name": "DescriptionStyleModel",
          "model_module_version": "1.5.0",
          "state": {
            "_model_module": "@jupyter-widgets/controls",
            "_model_module_version": "1.5.0",
            "_model_name": "DescriptionStyleModel",
            "_view_count": null,
            "_view_module": "@jupyter-widgets/base",
            "_view_module_version": "1.2.0",
            "_view_name": "StyleView",
            "description_width": ""
          }
        },
        "80ea2cd1ef2f4a439e397d92f0c06c55": {
          "model_module": "@jupyter-widgets/base",
          "model_name": "LayoutModel",
          "model_module_version": "1.2.0",
          "state": {
            "_model_module": "@jupyter-widgets/base",
            "_model_module_version": "1.2.0",
            "_model_name": "LayoutModel",
            "_view_count": null,
            "_view_module": "@jupyter-widgets/base",
            "_view_module_version": "1.2.0",
            "_view_name": "LayoutView",
            "align_content": null,
            "align_items": null,
            "align_self": null,
            "border": null,
            "bottom": null,
            "display": null,
            "flex": null,
            "flex_flow": null,
            "grid_area": null,
            "grid_auto_columns": null,
            "grid_auto_flow": null,
            "grid_auto_rows": null,
            "grid_column": null,
            "grid_gap": null,
            "grid_row": null,
            "grid_template_areas": null,
            "grid_template_columns": null,
            "grid_template_rows": null,
            "height": null,
            "justify_content": null,
            "justify_items": null,
            "left": null,
            "margin": null,
            "max_height": null,
            "max_width": null,
            "min_height": null,
            "min_width": null,
            "object_fit": null,
            "object_position": null,
            "order": null,
            "overflow": null,
            "overflow_x": null,
            "overflow_y": null,
            "padding": null,
            "right": null,
            "top": null,
            "visibility": null,
            "width": null
          }
        },
        "3fa8f2607e114b9681041b798b2cd02e": {
          "model_module": "@jupyter-widgets/controls",
          "model_name": "ProgressStyleModel",
          "model_module_version": "1.5.0",
          "state": {
            "_model_module": "@jupyter-widgets/controls",
            "_model_module_version": "1.5.0",
            "_model_name": "ProgressStyleModel",
            "_view_count": null,
            "_view_module": "@jupyter-widgets/base",
            "_view_module_version": "1.2.0",
            "_view_name": "StyleView",
            "bar_color": null,
            "description_width": ""
          }
        },
        "0460907dbc704018a2605ececdcd58a7": {
          "model_module": "@jupyter-widgets/base",
          "model_name": "LayoutModel",
          "model_module_version": "1.2.0",
          "state": {
            "_model_module": "@jupyter-widgets/base",
            "_model_module_version": "1.2.0",
            "_model_name": "LayoutModel",
            "_view_count": null,
            "_view_module": "@jupyter-widgets/base",
            "_view_module_version": "1.2.0",
            "_view_name": "LayoutView",
            "align_content": null,
            "align_items": null,
            "align_self": null,
            "border": null,
            "bottom": null,
            "display": null,
            "flex": null,
            "flex_flow": null,
            "grid_area": null,
            "grid_auto_columns": null,
            "grid_auto_flow": null,
            "grid_auto_rows": null,
            "grid_column": null,
            "grid_gap": null,
            "grid_row": null,
            "grid_template_areas": null,
            "grid_template_columns": null,
            "grid_template_rows": null,
            "height": null,
            "justify_content": null,
            "justify_items": null,
            "left": null,
            "margin": null,
            "max_height": null,
            "max_width": null,
            "min_height": null,
            "min_width": null,
            "object_fit": null,
            "object_position": null,
            "order": null,
            "overflow": null,
            "overflow_x": null,
            "overflow_y": null,
            "padding": null,
            "right": null,
            "top": null,
            "visibility": null,
            "width": null
          }
        },
        "b653dcec78f24e29a60856f2f35fed3e": {
          "model_module": "@jupyter-widgets/controls",
          "model_name": "DescriptionStyleModel",
          "model_module_version": "1.5.0",
          "state": {
            "_model_module": "@jupyter-widgets/controls",
            "_model_module_version": "1.5.0",
            "_model_name": "DescriptionStyleModel",
            "_view_count": null,
            "_view_module": "@jupyter-widgets/base",
            "_view_module_version": "1.2.0",
            "_view_name": "StyleView",
            "description_width": ""
          }
        },
        "7b4891de6250409f940925eb52654320": {
          "model_module": "@jupyter-widgets/controls",
          "model_name": "HBoxModel",
          "model_module_version": "1.5.0",
          "state": {
            "_dom_classes": [],
            "_model_module": "@jupyter-widgets/controls",
            "_model_module_version": "1.5.0",
            "_model_name": "HBoxModel",
            "_view_count": null,
            "_view_module": "@jupyter-widgets/controls",
            "_view_module_version": "1.5.0",
            "_view_name": "HBoxView",
            "box_style": "",
            "children": [
              "IPY_MODEL_fd7f6992c9c7452dad2fca611d56b0ee",
              "IPY_MODEL_50976e87bec1477aba3197f4cf5e8af0",
              "IPY_MODEL_e8045bdf0fe24c7aae5d1b9cb312053d"
            ],
            "layout": "IPY_MODEL_67c9b6d5af1d406bad703effa2aec34e"
          }
        },
        "fd7f6992c9c7452dad2fca611d56b0ee": {
          "model_module": "@jupyter-widgets/controls",
          "model_name": "HTMLModel",
          "model_module_version": "1.5.0",
          "state": {
            "_dom_classes": [],
            "_model_module": "@jupyter-widgets/controls",
            "_model_module_version": "1.5.0",
            "_model_name": "HTMLModel",
            "_view_count": null,
            "_view_module": "@jupyter-widgets/controls",
            "_view_module_version": "1.5.0",
            "_view_name": "HTMLView",
            "description": "",
            "description_tooltip": null,
            "layout": "IPY_MODEL_1a4db082c94d46e5aae539449b42abb0",
            "placeholder": "​",
            "style": "IPY_MODEL_74082944fede4f11a80a40ef9828f4df",
            "value": "Downloading (…)okenizer_config.json: 100%"
          }
        },
        "50976e87bec1477aba3197f4cf5e8af0": {
          "model_module": "@jupyter-widgets/controls",
          "model_name": "FloatProgressModel",
          "model_module_version": "1.5.0",
          "state": {
            "_dom_classes": [],
            "_model_module": "@jupyter-widgets/controls",
            "_model_module_version": "1.5.0",
            "_model_name": "FloatProgressModel",
            "_view_count": null,
            "_view_module": "@jupyter-widgets/controls",
            "_view_module_version": "1.5.0",
            "_view_name": "ProgressView",
            "bar_style": "success",
            "description": "",
            "description_tooltip": null,
            "layout": "IPY_MODEL_03294c07175a4800b3439d65bfb433b4",
            "max": 252,
            "min": 0,
            "orientation": "horizontal",
            "style": "IPY_MODEL_634cca6d80634252bc8af0cfa0d9985b",
            "value": 252
          }
        },
        "e8045bdf0fe24c7aae5d1b9cb312053d": {
          "model_module": "@jupyter-widgets/controls",
          "model_name": "HTMLModel",
          "model_module_version": "1.5.0",
          "state": {
            "_dom_classes": [],
            "_model_module": "@jupyter-widgets/controls",
            "_model_module_version": "1.5.0",
            "_model_name": "HTMLModel",
            "_view_count": null,
            "_view_module": "@jupyter-widgets/controls",
            "_view_module_version": "1.5.0",
            "_view_name": "HTMLView",
            "description": "",
            "description_tooltip": null,
            "layout": "IPY_MODEL_77e9ab22e1b54417ada445e39272fdd6",
            "placeholder": "​",
            "style": "IPY_MODEL_51de038b848342f58b91987a34715fba",
            "value": " 252/252 [00:00&lt;00:00, 16.5kB/s]"
          }
        },
        "67c9b6d5af1d406bad703effa2aec34e": {
          "model_module": "@jupyter-widgets/base",
          "model_name": "LayoutModel",
          "model_module_version": "1.2.0",
          "state": {
            "_model_module": "@jupyter-widgets/base",
            "_model_module_version": "1.2.0",
            "_model_name": "LayoutModel",
            "_view_count": null,
            "_view_module": "@jupyter-widgets/base",
            "_view_module_version": "1.2.0",
            "_view_name": "LayoutView",
            "align_content": null,
            "align_items": null,
            "align_self": null,
            "border": null,
            "bottom": null,
            "display": null,
            "flex": null,
            "flex_flow": null,
            "grid_area": null,
            "grid_auto_columns": null,
            "grid_auto_flow": null,
            "grid_auto_rows": null,
            "grid_column": null,
            "grid_gap": null,
            "grid_row": null,
            "grid_template_areas": null,
            "grid_template_columns": null,
            "grid_template_rows": null,
            "height": null,
            "justify_content": null,
            "justify_items": null,
            "left": null,
            "margin": null,
            "max_height": null,
            "max_width": null,
            "min_height": null,
            "min_width": null,
            "object_fit": null,
            "object_position": null,
            "order": null,
            "overflow": null,
            "overflow_x": null,
            "overflow_y": null,
            "padding": null,
            "right": null,
            "top": null,
            "visibility": null,
            "width": null
          }
        },
        "1a4db082c94d46e5aae539449b42abb0": {
          "model_module": "@jupyter-widgets/base",
          "model_name": "LayoutModel",
          "model_module_version": "1.2.0",
          "state": {
            "_model_module": "@jupyter-widgets/base",
            "_model_module_version": "1.2.0",
            "_model_name": "LayoutModel",
            "_view_count": null,
            "_view_module": "@jupyter-widgets/base",
            "_view_module_version": "1.2.0",
            "_view_name": "LayoutView",
            "align_content": null,
            "align_items": null,
            "align_self": null,
            "border": null,
            "bottom": null,
            "display": null,
            "flex": null,
            "flex_flow": null,
            "grid_area": null,
            "grid_auto_columns": null,
            "grid_auto_flow": null,
            "grid_auto_rows": null,
            "grid_column": null,
            "grid_gap": null,
            "grid_row": null,
            "grid_template_areas": null,
            "grid_template_columns": null,
            "grid_template_rows": null,
            "height": null,
            "justify_content": null,
            "justify_items": null,
            "left": null,
            "margin": null,
            "max_height": null,
            "max_width": null,
            "min_height": null,
            "min_width": null,
            "object_fit": null,
            "object_position": null,
            "order": null,
            "overflow": null,
            "overflow_x": null,
            "overflow_y": null,
            "padding": null,
            "right": null,
            "top": null,
            "visibility": null,
            "width": null
          }
        },
        "74082944fede4f11a80a40ef9828f4df": {
          "model_module": "@jupyter-widgets/controls",
          "model_name": "DescriptionStyleModel",
          "model_module_version": "1.5.0",
          "state": {
            "_model_module": "@jupyter-widgets/controls",
            "_model_module_version": "1.5.0",
            "_model_name": "DescriptionStyleModel",
            "_view_count": null,
            "_view_module": "@jupyter-widgets/base",
            "_view_module_version": "1.2.0",
            "_view_name": "StyleView",
            "description_width": ""
          }
        },
        "03294c07175a4800b3439d65bfb433b4": {
          "model_module": "@jupyter-widgets/base",
          "model_name": "LayoutModel",
          "model_module_version": "1.2.0",
          "state": {
            "_model_module": "@jupyter-widgets/base",
            "_model_module_version": "1.2.0",
            "_model_name": "LayoutModel",
            "_view_count": null,
            "_view_module": "@jupyter-widgets/base",
            "_view_module_version": "1.2.0",
            "_view_name": "LayoutView",
            "align_content": null,
            "align_items": null,
            "align_self": null,
            "border": null,
            "bottom": null,
            "display": null,
            "flex": null,
            "flex_flow": null,
            "grid_area": null,
            "grid_auto_columns": null,
            "grid_auto_flow": null,
            "grid_auto_rows": null,
            "grid_column": null,
            "grid_gap": null,
            "grid_row": null,
            "grid_template_areas": null,
            "grid_template_columns": null,
            "grid_template_rows": null,
            "height": null,
            "justify_content": null,
            "justify_items": null,
            "left": null,
            "margin": null,
            "max_height": null,
            "max_width": null,
            "min_height": null,
            "min_width": null,
            "object_fit": null,
            "object_position": null,
            "order": null,
            "overflow": null,
            "overflow_x": null,
            "overflow_y": null,
            "padding": null,
            "right": null,
            "top": null,
            "visibility": null,
            "width": null
          }
        },
        "634cca6d80634252bc8af0cfa0d9985b": {
          "model_module": "@jupyter-widgets/controls",
          "model_name": "ProgressStyleModel",
          "model_module_version": "1.5.0",
          "state": {
            "_model_module": "@jupyter-widgets/controls",
            "_model_module_version": "1.5.0",
            "_model_name": "ProgressStyleModel",
            "_view_count": null,
            "_view_module": "@jupyter-widgets/base",
            "_view_module_version": "1.2.0",
            "_view_name": "StyleView",
            "bar_color": null,
            "description_width": ""
          }
        },
        "77e9ab22e1b54417ada445e39272fdd6": {
          "model_module": "@jupyter-widgets/base",
          "model_name": "LayoutModel",
          "model_module_version": "1.2.0",
          "state": {
            "_model_module": "@jupyter-widgets/base",
            "_model_module_version": "1.2.0",
            "_model_name": "LayoutModel",
            "_view_count": null,
            "_view_module": "@jupyter-widgets/base",
            "_view_module_version": "1.2.0",
            "_view_name": "LayoutView",
            "align_content": null,
            "align_items": null,
            "align_self": null,
            "border": null,
            "bottom": null,
            "display": null,
            "flex": null,
            "flex_flow": null,
            "grid_area": null,
            "grid_auto_columns": null,
            "grid_auto_flow": null,
            "grid_auto_rows": null,
            "grid_column": null,
            "grid_gap": null,
            "grid_row": null,
            "grid_template_areas": null,
            "grid_template_columns": null,
            "grid_template_rows": null,
            "height": null,
            "justify_content": null,
            "justify_items": null,
            "left": null,
            "margin": null,
            "max_height": null,
            "max_width": null,
            "min_height": null,
            "min_width": null,
            "object_fit": null,
            "object_position": null,
            "order": null,
            "overflow": null,
            "overflow_x": null,
            "overflow_y": null,
            "padding": null,
            "right": null,
            "top": null,
            "visibility": null,
            "width": null
          }
        },
        "51de038b848342f58b91987a34715fba": {
          "model_module": "@jupyter-widgets/controls",
          "model_name": "DescriptionStyleModel",
          "model_module_version": "1.5.0",
          "state": {
            "_model_module": "@jupyter-widgets/controls",
            "_model_module_version": "1.5.0",
            "_model_name": "DescriptionStyleModel",
            "_view_count": null,
            "_view_module": "@jupyter-widgets/base",
            "_view_module_version": "1.2.0",
            "_view_name": "StyleView",
            "description_width": ""
          }
        },
        "6d8ed2f8ad4d4f4eab8173c479b2bfff": {
          "model_module": "@jupyter-widgets/controls",
          "model_name": "HBoxModel",
          "model_module_version": "1.5.0",
          "state": {
            "_dom_classes": [],
            "_model_module": "@jupyter-widgets/controls",
            "_model_module_version": "1.5.0",
            "_model_name": "HBoxModel",
            "_view_count": null,
            "_view_module": "@jupyter-widgets/controls",
            "_view_module_version": "1.5.0",
            "_view_name": "HBoxView",
            "box_style": "",
            "children": [
              "IPY_MODEL_81c5e943a40c42abbcb15c5782f5861a",
              "IPY_MODEL_a4857f987b7347f2ac4cbe5d14f1555c",
              "IPY_MODEL_ad43e58cbd6849898204605558957ffe"
            ],
            "layout": "IPY_MODEL_c924a40c47e942e49558aba895595da6"
          }
        },
        "81c5e943a40c42abbcb15c5782f5861a": {
          "model_module": "@jupyter-widgets/controls",
          "model_name": "HTMLModel",
          "model_module_version": "1.5.0",
          "state": {
            "_dom_classes": [],
            "_model_module": "@jupyter-widgets/controls",
            "_model_module_version": "1.5.0",
            "_model_name": "HTMLModel",
            "_view_count": null,
            "_view_module": "@jupyter-widgets/controls",
            "_view_module_version": "1.5.0",
            "_view_name": "HTMLView",
            "description": "",
            "description_tooltip": null,
            "layout": "IPY_MODEL_8ac7b1221e9a423abf8f76b906291320",
            "placeholder": "​",
            "style": "IPY_MODEL_28c395779395453db1bf5820e3b1ec03",
            "value": "Downloading (…)lve/main/config.json: 100%"
          }
        },
        "a4857f987b7347f2ac4cbe5d14f1555c": {
          "model_module": "@jupyter-widgets/controls",
          "model_name": "FloatProgressModel",
          "model_module_version": "1.5.0",
          "state": {
            "_dom_classes": [],
            "_model_module": "@jupyter-widgets/controls",
            "_model_module_version": "1.5.0",
            "_model_name": "FloatProgressModel",
            "_view_count": null,
            "_view_module": "@jupyter-widgets/controls",
            "_view_module_version": "1.5.0",
            "_view_name": "ProgressView",
            "bar_style": "success",
            "description": "",
            "description_tooltip": null,
            "layout": "IPY_MODEL_eee4ae673cdc48f993f996be292941d0",
            "max": 758,
            "min": 0,
            "orientation": "horizontal",
            "style": "IPY_MODEL_ac11c07e80d844b2bce6116ec3f49b5a",
            "value": 758
          }
        },
        "ad43e58cbd6849898204605558957ffe": {
          "model_module": "@jupyter-widgets/controls",
          "model_name": "HTMLModel",
          "model_module_version": "1.5.0",
          "state": {
            "_dom_classes": [],
            "_model_module": "@jupyter-widgets/controls",
            "_model_module_version": "1.5.0",
            "_model_name": "HTMLModel",
            "_view_count": null,
            "_view_module": "@jupyter-widgets/controls",
            "_view_module_version": "1.5.0",
            "_view_name": "HTMLView",
            "description": "",
            "description_tooltip": null,
            "layout": "IPY_MODEL_926867f7dee642a6b5758bf9b14623ab",
            "placeholder": "​",
            "style": "IPY_MODEL_7f03045574ba401d927aa5492fdd2f4d",
            "value": " 758/758 [00:00&lt;00:00, 48.7kB/s]"
          }
        },
        "c924a40c47e942e49558aba895595da6": {
          "model_module": "@jupyter-widgets/base",
          "model_name": "LayoutModel",
          "model_module_version": "1.2.0",
          "state": {
            "_model_module": "@jupyter-widgets/base",
            "_model_module_version": "1.2.0",
            "_model_name": "LayoutModel",
            "_view_count": null,
            "_view_module": "@jupyter-widgets/base",
            "_view_module_version": "1.2.0",
            "_view_name": "LayoutView",
            "align_content": null,
            "align_items": null,
            "align_self": null,
            "border": null,
            "bottom": null,
            "display": null,
            "flex": null,
            "flex_flow": null,
            "grid_area": null,
            "grid_auto_columns": null,
            "grid_auto_flow": null,
            "grid_auto_rows": null,
            "grid_column": null,
            "grid_gap": null,
            "grid_row": null,
            "grid_template_areas": null,
            "grid_template_columns": null,
            "grid_template_rows": null,
            "height": null,
            "justify_content": null,
            "justify_items": null,
            "left": null,
            "margin": null,
            "max_height": null,
            "max_width": null,
            "min_height": null,
            "min_width": null,
            "object_fit": null,
            "object_position": null,
            "order": null,
            "overflow": null,
            "overflow_x": null,
            "overflow_y": null,
            "padding": null,
            "right": null,
            "top": null,
            "visibility": null,
            "width": null
          }
        },
        "8ac7b1221e9a423abf8f76b906291320": {
          "model_module": "@jupyter-widgets/base",
          "model_name": "LayoutModel",
          "model_module_version": "1.2.0",
          "state": {
            "_model_module": "@jupyter-widgets/base",
            "_model_module_version": "1.2.0",
            "_model_name": "LayoutModel",
            "_view_count": null,
            "_view_module": "@jupyter-widgets/base",
            "_view_module_version": "1.2.0",
            "_view_name": "LayoutView",
            "align_content": null,
            "align_items": null,
            "align_self": null,
            "border": null,
            "bottom": null,
            "display": null,
            "flex": null,
            "flex_flow": null,
            "grid_area": null,
            "grid_auto_columns": null,
            "grid_auto_flow": null,
            "grid_auto_rows": null,
            "grid_column": null,
            "grid_gap": null,
            "grid_row": null,
            "grid_template_areas": null,
            "grid_template_columns": null,
            "grid_template_rows": null,
            "height": null,
            "justify_content": null,
            "justify_items": null,
            "left": null,
            "margin": null,
            "max_height": null,
            "max_width": null,
            "min_height": null,
            "min_width": null,
            "object_fit": null,
            "object_position": null,
            "order": null,
            "overflow": null,
            "overflow_x": null,
            "overflow_y": null,
            "padding": null,
            "right": null,
            "top": null,
            "visibility": null,
            "width": null
          }
        },
        "28c395779395453db1bf5820e3b1ec03": {
          "model_module": "@jupyter-widgets/controls",
          "model_name": "DescriptionStyleModel",
          "model_module_version": "1.5.0",
          "state": {
            "_model_module": "@jupyter-widgets/controls",
            "_model_module_version": "1.5.0",
            "_model_name": "DescriptionStyleModel",
            "_view_count": null,
            "_view_module": "@jupyter-widgets/base",
            "_view_module_version": "1.2.0",
            "_view_name": "StyleView",
            "description_width": ""
          }
        },
        "eee4ae673cdc48f993f996be292941d0": {
          "model_module": "@jupyter-widgets/base",
          "model_name": "LayoutModel",
          "model_module_version": "1.2.0",
          "state": {
            "_model_module": "@jupyter-widgets/base",
            "_model_module_version": "1.2.0",
            "_model_name": "LayoutModel",
            "_view_count": null,
            "_view_module": "@jupyter-widgets/base",
            "_view_module_version": "1.2.0",
            "_view_name": "LayoutView",
            "align_content": null,
            "align_items": null,
            "align_self": null,
            "border": null,
            "bottom": null,
            "display": null,
            "flex": null,
            "flex_flow": null,
            "grid_area": null,
            "grid_auto_columns": null,
            "grid_auto_flow": null,
            "grid_auto_rows": null,
            "grid_column": null,
            "grid_gap": null,
            "grid_row": null,
            "grid_template_areas": null,
            "grid_template_columns": null,
            "grid_template_rows": null,
            "height": null,
            "justify_content": null,
            "justify_items": null,
            "left": null,
            "margin": null,
            "max_height": null,
            "max_width": null,
            "min_height": null,
            "min_width": null,
            "object_fit": null,
            "object_position": null,
            "order": null,
            "overflow": null,
            "overflow_x": null,
            "overflow_y": null,
            "padding": null,
            "right": null,
            "top": null,
            "visibility": null,
            "width": null
          }
        },
        "ac11c07e80d844b2bce6116ec3f49b5a": {
          "model_module": "@jupyter-widgets/controls",
          "model_name": "ProgressStyleModel",
          "model_module_version": "1.5.0",
          "state": {
            "_model_module": "@jupyter-widgets/controls",
            "_model_module_version": "1.5.0",
            "_model_name": "ProgressStyleModel",
            "_view_count": null,
            "_view_module": "@jupyter-widgets/base",
            "_view_module_version": "1.2.0",
            "_view_name": "StyleView",
            "bar_color": null,
            "description_width": ""
          }
        },
        "926867f7dee642a6b5758bf9b14623ab": {
          "model_module": "@jupyter-widgets/base",
          "model_name": "LayoutModel",
          "model_module_version": "1.2.0",
          "state": {
            "_model_module": "@jupyter-widgets/base",
            "_model_module_version": "1.2.0",
            "_model_name": "LayoutModel",
            "_view_count": null,
            "_view_module": "@jupyter-widgets/base",
            "_view_module_version": "1.2.0",
            "_view_name": "LayoutView",
            "align_content": null,
            "align_items": null,
            "align_self": null,
            "border": null,
            "bottom": null,
            "display": null,
            "flex": null,
            "flex_flow": null,
            "grid_area": null,
            "grid_auto_columns": null,
            "grid_auto_flow": null,
            "grid_auto_rows": null,
            "grid_column": null,
            "grid_gap": null,
            "grid_row": null,
            "grid_template_areas": null,
            "grid_template_columns": null,
            "grid_template_rows": null,
            "height": null,
            "justify_content": null,
            "justify_items": null,
            "left": null,
            "margin": null,
            "max_height": null,
            "max_width": null,
            "min_height": null,
            "min_width": null,
            "object_fit": null,
            "object_position": null,
            "order": null,
            "overflow": null,
            "overflow_x": null,
            "overflow_y": null,
            "padding": null,
            "right": null,
            "top": null,
            "visibility": null,
            "width": null
          }
        },
        "7f03045574ba401d927aa5492fdd2f4d": {
          "model_module": "@jupyter-widgets/controls",
          "model_name": "DescriptionStyleModel",
          "model_module_version": "1.5.0",
          "state": {
            "_model_module": "@jupyter-widgets/controls",
            "_model_module_version": "1.5.0",
            "_model_name": "DescriptionStyleModel",
            "_view_count": null,
            "_view_module": "@jupyter-widgets/base",
            "_view_module_version": "1.2.0",
            "_view_name": "StyleView",
            "description_width": ""
          }
        },
        "487e595339774ee999baee84be68698d": {
          "model_module": "@jupyter-widgets/controls",
          "model_name": "HBoxModel",
          "model_module_version": "1.5.0",
          "state": {
            "_dom_classes": [],
            "_model_module": "@jupyter-widgets/controls",
            "_model_module_version": "1.5.0",
            "_model_name": "HBoxModel",
            "_view_count": null,
            "_view_module": "@jupyter-widgets/controls",
            "_view_module_version": "1.5.0",
            "_view_name": "HBoxView",
            "box_style": "",
            "children": [
              "IPY_MODEL_e008ec34eb2641079c6a7caab2fb8351",
              "IPY_MODEL_ff8bc08f8fab4712b66707e0c25f8285",
              "IPY_MODEL_c104913d24b34604a446d4f504fe4516"
            ],
            "layout": "IPY_MODEL_6d30644fba244f4798d9f2a8229a5811"
          }
        },
        "e008ec34eb2641079c6a7caab2fb8351": {
          "model_module": "@jupyter-widgets/controls",
          "model_name": "HTMLModel",
          "model_module_version": "1.5.0",
          "state": {
            "_dom_classes": [],
            "_model_module": "@jupyter-widgets/controls",
            "_model_module_version": "1.5.0",
            "_model_name": "HTMLModel",
            "_view_count": null,
            "_view_module": "@jupyter-widgets/controls",
            "_view_module_version": "1.5.0",
            "_view_name": "HTMLView",
            "description": "",
            "description_tooltip": null,
            "layout": "IPY_MODEL_6b7585622cdc4808b3b415dcb676d028",
            "placeholder": "​",
            "style": "IPY_MODEL_7d1545cbd86947428f1b757eaf4dc9aa",
            "value": "Downloading (…)lve/main/config.json: 100%"
          }
        },
        "ff8bc08f8fab4712b66707e0c25f8285": {
          "model_module": "@jupyter-widgets/controls",
          "model_name": "FloatProgressModel",
          "model_module_version": "1.5.0",
          "state": {
            "_dom_classes": [],
            "_model_module": "@jupyter-widgets/controls",
            "_model_module_version": "1.5.0",
            "_model_name": "FloatProgressModel",
            "_view_count": null,
            "_view_module": "@jupyter-widgets/controls",
            "_view_module_version": "1.5.0",
            "_view_name": "ProgressView",
            "bar_style": "success",
            "description": "",
            "description_tooltip": null,
            "layout": "IPY_MODEL_8e84896e940f49cbb0b3e5198401a6fd",
            "max": 1404,
            "min": 0,
            "orientation": "horizontal",
            "style": "IPY_MODEL_ae617ecaa6b04b48864dfcf55b8ec2c7",
            "value": 1404
          }
        },
        "c104913d24b34604a446d4f504fe4516": {
          "model_module": "@jupyter-widgets/controls",
          "model_name": "HTMLModel",
          "model_module_version": "1.5.0",
          "state": {
            "_dom_classes": [],
            "_model_module": "@jupyter-widgets/controls",
            "_model_module_version": "1.5.0",
            "_model_name": "HTMLModel",
            "_view_count": null,
            "_view_module": "@jupyter-widgets/controls",
            "_view_module_version": "1.5.0",
            "_view_name": "HTMLView",
            "description": "",
            "description_tooltip": null,
            "layout": "IPY_MODEL_c29fef76307441bcae59e626d76acaf6",
            "placeholder": "​",
            "style": "IPY_MODEL_7f5f3bc0b6674d59961c0a4872e52f4e",
            "value": " 1.40k/1.40k [00:00&lt;00:00, 80.9kB/s]"
          }
        },
        "6d30644fba244f4798d9f2a8229a5811": {
          "model_module": "@jupyter-widgets/base",
          "model_name": "LayoutModel",
          "model_module_version": "1.2.0",
          "state": {
            "_model_module": "@jupyter-widgets/base",
            "_model_module_version": "1.2.0",
            "_model_name": "LayoutModel",
            "_view_count": null,
            "_view_module": "@jupyter-widgets/base",
            "_view_module_version": "1.2.0",
            "_view_name": "LayoutView",
            "align_content": null,
            "align_items": null,
            "align_self": null,
            "border": null,
            "bottom": null,
            "display": null,
            "flex": null,
            "flex_flow": null,
            "grid_area": null,
            "grid_auto_columns": null,
            "grid_auto_flow": null,
            "grid_auto_rows": null,
            "grid_column": null,
            "grid_gap": null,
            "grid_row": null,
            "grid_template_areas": null,
            "grid_template_columns": null,
            "grid_template_rows": null,
            "height": null,
            "justify_content": null,
            "justify_items": null,
            "left": null,
            "margin": null,
            "max_height": null,
            "max_width": null,
            "min_height": null,
            "min_width": null,
            "object_fit": null,
            "object_position": null,
            "order": null,
            "overflow": null,
            "overflow_x": null,
            "overflow_y": null,
            "padding": null,
            "right": null,
            "top": null,
            "visibility": null,
            "width": null
          }
        },
        "6b7585622cdc4808b3b415dcb676d028": {
          "model_module": "@jupyter-widgets/base",
          "model_name": "LayoutModel",
          "model_module_version": "1.2.0",
          "state": {
            "_model_module": "@jupyter-widgets/base",
            "_model_module_version": "1.2.0",
            "_model_name": "LayoutModel",
            "_view_count": null,
            "_view_module": "@jupyter-widgets/base",
            "_view_module_version": "1.2.0",
            "_view_name": "LayoutView",
            "align_content": null,
            "align_items": null,
            "align_self": null,
            "border": null,
            "bottom": null,
            "display": null,
            "flex": null,
            "flex_flow": null,
            "grid_area": null,
            "grid_auto_columns": null,
            "grid_auto_flow": null,
            "grid_auto_rows": null,
            "grid_column": null,
            "grid_gap": null,
            "grid_row": null,
            "grid_template_areas": null,
            "grid_template_columns": null,
            "grid_template_rows": null,
            "height": null,
            "justify_content": null,
            "justify_items": null,
            "left": null,
            "margin": null,
            "max_height": null,
            "max_width": null,
            "min_height": null,
            "min_width": null,
            "object_fit": null,
            "object_position": null,
            "order": null,
            "overflow": null,
            "overflow_x": null,
            "overflow_y": null,
            "padding": null,
            "right": null,
            "top": null,
            "visibility": null,
            "width": null
          }
        },
        "7d1545cbd86947428f1b757eaf4dc9aa": {
          "model_module": "@jupyter-widgets/controls",
          "model_name": "DescriptionStyleModel",
          "model_module_version": "1.5.0",
          "state": {
            "_model_module": "@jupyter-widgets/controls",
            "_model_module_version": "1.5.0",
            "_model_name": "DescriptionStyleModel",
            "_view_count": null,
            "_view_module": "@jupyter-widgets/base",
            "_view_module_version": "1.2.0",
            "_view_name": "StyleView",
            "description_width": ""
          }
        },
        "8e84896e940f49cbb0b3e5198401a6fd": {
          "model_module": "@jupyter-widgets/base",
          "model_name": "LayoutModel",
          "model_module_version": "1.2.0",
          "state": {
            "_model_module": "@jupyter-widgets/base",
            "_model_module_version": "1.2.0",
            "_model_name": "LayoutModel",
            "_view_count": null,
            "_view_module": "@jupyter-widgets/base",
            "_view_module_version": "1.2.0",
            "_view_name": "LayoutView",
            "align_content": null,
            "align_items": null,
            "align_self": null,
            "border": null,
            "bottom": null,
            "display": null,
            "flex": null,
            "flex_flow": null,
            "grid_area": null,
            "grid_auto_columns": null,
            "grid_auto_flow": null,
            "grid_auto_rows": null,
            "grid_column": null,
            "grid_gap": null,
            "grid_row": null,
            "grid_template_areas": null,
            "grid_template_columns": null,
            "grid_template_rows": null,
            "height": null,
            "justify_content": null,
            "justify_items": null,
            "left": null,
            "margin": null,
            "max_height": null,
            "max_width": null,
            "min_height": null,
            "min_width": null,
            "object_fit": null,
            "object_position": null,
            "order": null,
            "overflow": null,
            "overflow_x": null,
            "overflow_y": null,
            "padding": null,
            "right": null,
            "top": null,
            "visibility": null,
            "width": null
          }
        },
        "ae617ecaa6b04b48864dfcf55b8ec2c7": {
          "model_module": "@jupyter-widgets/controls",
          "model_name": "ProgressStyleModel",
          "model_module_version": "1.5.0",
          "state": {
            "_model_module": "@jupyter-widgets/controls",
            "_model_module_version": "1.5.0",
            "_model_name": "ProgressStyleModel",
            "_view_count": null,
            "_view_module": "@jupyter-widgets/base",
            "_view_module_version": "1.2.0",
            "_view_name": "StyleView",
            "bar_color": null,
            "description_width": ""
          }
        },
        "c29fef76307441bcae59e626d76acaf6": {
          "model_module": "@jupyter-widgets/base",
          "model_name": "LayoutModel",
          "model_module_version": "1.2.0",
          "state": {
            "_model_module": "@jupyter-widgets/base",
            "_model_module_version": "1.2.0",
            "_model_name": "LayoutModel",
            "_view_count": null,
            "_view_module": "@jupyter-widgets/base",
            "_view_module_version": "1.2.0",
            "_view_name": "LayoutView",
            "align_content": null,
            "align_items": null,
            "align_self": null,
            "border": null,
            "bottom": null,
            "display": null,
            "flex": null,
            "flex_flow": null,
            "grid_area": null,
            "grid_auto_columns": null,
            "grid_auto_flow": null,
            "grid_auto_rows": null,
            "grid_column": null,
            "grid_gap": null,
            "grid_row": null,
            "grid_template_areas": null,
            "grid_template_columns": null,
            "grid_template_rows": null,
            "height": null,
            "justify_content": null,
            "justify_items": null,
            "left": null,
            "margin": null,
            "max_height": null,
            "max_width": null,
            "min_height": null,
            "min_width": null,
            "object_fit": null,
            "object_position": null,
            "order": null,
            "overflow": null,
            "overflow_x": null,
            "overflow_y": null,
            "padding": null,
            "right": null,
            "top": null,
            "visibility": null,
            "width": null
          }
        },
        "7f5f3bc0b6674d59961c0a4872e52f4e": {
          "model_module": "@jupyter-widgets/controls",
          "model_name": "DescriptionStyleModel",
          "model_module_version": "1.5.0",
          "state": {
            "_model_module": "@jupyter-widgets/controls",
            "_model_module_version": "1.5.0",
            "_model_name": "DescriptionStyleModel",
            "_view_count": null,
            "_view_module": "@jupyter-widgets/base",
            "_view_module_version": "1.2.0",
            "_view_name": "StyleView",
            "description_width": ""
          }
        },
        "958fbcc1075a46c591331b77b6d1f3af": {
          "model_module": "@jupyter-widgets/controls",
          "model_name": "HBoxModel",
          "model_module_version": "1.5.0",
          "state": {
            "_dom_classes": [],
            "_model_module": "@jupyter-widgets/controls",
            "_model_module_version": "1.5.0",
            "_model_name": "HBoxModel",
            "_view_count": null,
            "_view_module": "@jupyter-widgets/controls",
            "_view_module_version": "1.5.0",
            "_view_name": "HBoxView",
            "box_style": "",
            "children": [
              "IPY_MODEL_fa1a6583f8d3403d842b1e42c56c33a4",
              "IPY_MODEL_65f83b47cca24737a6ecb9e75ca9e691",
              "IPY_MODEL_9f9c393b26e0488ba701f10ceb8a2b01"
            ],
            "layout": "IPY_MODEL_206c791f3a234219936aaed4bd4e953f"
          }
        },
        "fa1a6583f8d3403d842b1e42c56c33a4": {
          "model_module": "@jupyter-widgets/controls",
          "model_name": "HTMLModel",
          "model_module_version": "1.5.0",
          "state": {
            "_dom_classes": [],
            "_model_module": "@jupyter-widgets/controls",
            "_model_module_version": "1.5.0",
            "_model_name": "HTMLModel",
            "_view_count": null,
            "_view_module": "@jupyter-widgets/controls",
            "_view_module_version": "1.5.0",
            "_view_name": "HTMLView",
            "description": "",
            "description_tooltip": null,
            "layout": "IPY_MODEL_9c557cb1f5874b8c942db772e09050ba",
            "placeholder": "​",
            "style": "IPY_MODEL_e905df2a75554304943854b62ec242cd",
            "value": "Downloading tf_model.h5: 100%"
          }
        },
        "65f83b47cca24737a6ecb9e75ca9e691": {
          "model_module": "@jupyter-widgets/controls",
          "model_name": "FloatProgressModel",
          "model_module_version": "1.5.0",
          "state": {
            "_dom_classes": [],
            "_model_module": "@jupyter-widgets/controls",
            "_model_module_version": "1.5.0",
            "_model_name": "FloatProgressModel",
            "_view_count": null,
            "_view_module": "@jupyter-widgets/controls",
            "_view_module_version": "1.5.0",
            "_view_name": "ProgressView",
            "bar_style": "success",
            "description": "",
            "description_tooltip": null,
            "layout": "IPY_MODEL_8a661f77aebb4f14ae4dc4b46c56a3dc",
            "max": 1188285040,
            "min": 0,
            "orientation": "horizontal",
            "style": "IPY_MODEL_fe0ce3dfe7b04ce78dca32efdd80a554",
            "value": 1188285040
          }
        },
        "9f9c393b26e0488ba701f10ceb8a2b01": {
          "model_module": "@jupyter-widgets/controls",
          "model_name": "HTMLModel",
          "model_module_version": "1.5.0",
          "state": {
            "_dom_classes": [],
            "_model_module": "@jupyter-widgets/controls",
            "_model_module_version": "1.5.0",
            "_model_name": "HTMLModel",
            "_view_count": null,
            "_view_module": "@jupyter-widgets/controls",
            "_view_module_version": "1.5.0",
            "_view_name": "HTMLView",
            "description": "",
            "description_tooltip": null,
            "layout": "IPY_MODEL_bf44b677f3c34fc4ba3cb1763ab5a34c",
            "placeholder": "​",
            "style": "IPY_MODEL_1c700ef1898145fba913d2de633360e9",
            "value": " 1.19G/1.19G [00:14&lt;00:00, 84.3MB/s]"
          }
        },
        "206c791f3a234219936aaed4bd4e953f": {
          "model_module": "@jupyter-widgets/base",
          "model_name": "LayoutModel",
          "model_module_version": "1.2.0",
          "state": {
            "_model_module": "@jupyter-widgets/base",
            "_model_module_version": "1.2.0",
            "_model_name": "LayoutModel",
            "_view_count": null,
            "_view_module": "@jupyter-widgets/base",
            "_view_module_version": "1.2.0",
            "_view_name": "LayoutView",
            "align_content": null,
            "align_items": null,
            "align_self": null,
            "border": null,
            "bottom": null,
            "display": null,
            "flex": null,
            "flex_flow": null,
            "grid_area": null,
            "grid_auto_columns": null,
            "grid_auto_flow": null,
            "grid_auto_rows": null,
            "grid_column": null,
            "grid_gap": null,
            "grid_row": null,
            "grid_template_areas": null,
            "grid_template_columns": null,
            "grid_template_rows": null,
            "height": null,
            "justify_content": null,
            "justify_items": null,
            "left": null,
            "margin": null,
            "max_height": null,
            "max_width": null,
            "min_height": null,
            "min_width": null,
            "object_fit": null,
            "object_position": null,
            "order": null,
            "overflow": null,
            "overflow_x": null,
            "overflow_y": null,
            "padding": null,
            "right": null,
            "top": null,
            "visibility": null,
            "width": null
          }
        },
        "9c557cb1f5874b8c942db772e09050ba": {
          "model_module": "@jupyter-widgets/base",
          "model_name": "LayoutModel",
          "model_module_version": "1.2.0",
          "state": {
            "_model_module": "@jupyter-widgets/base",
            "_model_module_version": "1.2.0",
            "_model_name": "LayoutModel",
            "_view_count": null,
            "_view_module": "@jupyter-widgets/base",
            "_view_module_version": "1.2.0",
            "_view_name": "LayoutView",
            "align_content": null,
            "align_items": null,
            "align_self": null,
            "border": null,
            "bottom": null,
            "display": null,
            "flex": null,
            "flex_flow": null,
            "grid_area": null,
            "grid_auto_columns": null,
            "grid_auto_flow": null,
            "grid_auto_rows": null,
            "grid_column": null,
            "grid_gap": null,
            "grid_row": null,
            "grid_template_areas": null,
            "grid_template_columns": null,
            "grid_template_rows": null,
            "height": null,
            "justify_content": null,
            "justify_items": null,
            "left": null,
            "margin": null,
            "max_height": null,
            "max_width": null,
            "min_height": null,
            "min_width": null,
            "object_fit": null,
            "object_position": null,
            "order": null,
            "overflow": null,
            "overflow_x": null,
            "overflow_y": null,
            "padding": null,
            "right": null,
            "top": null,
            "visibility": null,
            "width": null
          }
        },
        "e905df2a75554304943854b62ec242cd": {
          "model_module": "@jupyter-widgets/controls",
          "model_name": "DescriptionStyleModel",
          "model_module_version": "1.5.0",
          "state": {
            "_model_module": "@jupyter-widgets/controls",
            "_model_module_version": "1.5.0",
            "_model_name": "DescriptionStyleModel",
            "_view_count": null,
            "_view_module": "@jupyter-widgets/base",
            "_view_module_version": "1.2.0",
            "_view_name": "StyleView",
            "description_width": ""
          }
        },
        "8a661f77aebb4f14ae4dc4b46c56a3dc": {
          "model_module": "@jupyter-widgets/base",
          "model_name": "LayoutModel",
          "model_module_version": "1.2.0",
          "state": {
            "_model_module": "@jupyter-widgets/base",
            "_model_module_version": "1.2.0",
            "_model_name": "LayoutModel",
            "_view_count": null,
            "_view_module": "@jupyter-widgets/base",
            "_view_module_version": "1.2.0",
            "_view_name": "LayoutView",
            "align_content": null,
            "align_items": null,
            "align_self": null,
            "border": null,
            "bottom": null,
            "display": null,
            "flex": null,
            "flex_flow": null,
            "grid_area": null,
            "grid_auto_columns": null,
            "grid_auto_flow": null,
            "grid_auto_rows": null,
            "grid_column": null,
            "grid_gap": null,
            "grid_row": null,
            "grid_template_areas": null,
            "grid_template_columns": null,
            "grid_template_rows": null,
            "height": null,
            "justify_content": null,
            "justify_items": null,
            "left": null,
            "margin": null,
            "max_height": null,
            "max_width": null,
            "min_height": null,
            "min_width": null,
            "object_fit": null,
            "object_position": null,
            "order": null,
            "overflow": null,
            "overflow_x": null,
            "overflow_y": null,
            "padding": null,
            "right": null,
            "top": null,
            "visibility": null,
            "width": null
          }
        },
        "fe0ce3dfe7b04ce78dca32efdd80a554": {
          "model_module": "@jupyter-widgets/controls",
          "model_name": "ProgressStyleModel",
          "model_module_version": "1.5.0",
          "state": {
            "_model_module": "@jupyter-widgets/controls",
            "_model_module_version": "1.5.0",
            "_model_name": "ProgressStyleModel",
            "_view_count": null,
            "_view_module": "@jupyter-widgets/base",
            "_view_module_version": "1.2.0",
            "_view_name": "StyleView",
            "bar_color": null,
            "description_width": ""
          }
        },
        "bf44b677f3c34fc4ba3cb1763ab5a34c": {
          "model_module": "@jupyter-widgets/base",
          "model_name": "LayoutModel",
          "model_module_version": "1.2.0",
          "state": {
            "_model_module": "@jupyter-widgets/base",
            "_model_module_version": "1.2.0",
            "_model_name": "LayoutModel",
            "_view_count": null,
            "_view_module": "@jupyter-widgets/base",
            "_view_module_version": "1.2.0",
            "_view_name": "LayoutView",
            "align_content": null,
            "align_items": null,
            "align_self": null,
            "border": null,
            "bottom": null,
            "display": null,
            "flex": null,
            "flex_flow": null,
            "grid_area": null,
            "grid_auto_columns": null,
            "grid_auto_flow": null,
            "grid_auto_rows": null,
            "grid_column": null,
            "grid_gap": null,
            "grid_row": null,
            "grid_template_areas": null,
            "grid_template_columns": null,
            "grid_template_rows": null,
            "height": null,
            "justify_content": null,
            "justify_items": null,
            "left": null,
            "margin": null,
            "max_height": null,
            "max_width": null,
            "min_height": null,
            "min_width": null,
            "object_fit": null,
            "object_position": null,
            "order": null,
            "overflow": null,
            "overflow_x": null,
            "overflow_y": null,
            "padding": null,
            "right": null,
            "top": null,
            "visibility": null,
            "width": null
          }
        },
        "1c700ef1898145fba913d2de633360e9": {
          "model_module": "@jupyter-widgets/controls",
          "model_name": "DescriptionStyleModel",
          "model_module_version": "1.5.0",
          "state": {
            "_model_module": "@jupyter-widgets/controls",
            "_model_module_version": "1.5.0",
            "_model_name": "DescriptionStyleModel",
            "_view_count": null,
            "_view_module": "@jupyter-widgets/base",
            "_view_module_version": "1.2.0",
            "_view_name": "StyleView",
            "description_width": ""
          }
        },
        "2ae9209bcab140f7b6769f2464048856": {
          "model_module": "@jupyter-widgets/controls",
          "model_name": "HBoxModel",
          "model_module_version": "1.5.0",
          "state": {
            "_dom_classes": [],
            "_model_module": "@jupyter-widgets/controls",
            "_model_module_version": "1.5.0",
            "_model_name": "HBoxModel",
            "_view_count": null,
            "_view_module": "@jupyter-widgets/controls",
            "_view_module_version": "1.5.0",
            "_view_name": "HBoxView",
            "box_style": "",
            "children": [
              "IPY_MODEL_6a8a2067129d484fa230c06dc20d9d33",
              "IPY_MODEL_ab5a2c6033c542448bcbe1a1247a6038",
              "IPY_MODEL_bfb657c0fa0344abad88984d07d9cdb1"
            ],
            "layout": "IPY_MODEL_e78bac266f7446e791a7efe5c209a8e8"
          }
        },
        "6a8a2067129d484fa230c06dc20d9d33": {
          "model_module": "@jupyter-widgets/controls",
          "model_name": "HTMLModel",
          "model_module_version": "1.5.0",
          "state": {
            "_dom_classes": [],
            "_model_module": "@jupyter-widgets/controls",
            "_model_module_version": "1.5.0",
            "_model_name": "HTMLModel",
            "_view_count": null,
            "_view_module": "@jupyter-widgets/controls",
            "_view_module_version": "1.5.0",
            "_view_name": "HTMLView",
            "description": "",
            "description_tooltip": null,
            "layout": "IPY_MODEL_b0e3b2d5f3064aa8a10e282933d48fcf",
            "placeholder": "​",
            "style": "IPY_MODEL_27e9107a75f5459daf24b859896ef1bc",
            "value": "Downloading (…)neration_config.json: 100%"
          }
        },
        "ab5a2c6033c542448bcbe1a1247a6038": {
          "model_module": "@jupyter-widgets/controls",
          "model_name": "FloatProgressModel",
          "model_module_version": "1.5.0",
          "state": {
            "_dom_classes": [],
            "_model_module": "@jupyter-widgets/controls",
            "_model_module_version": "1.5.0",
            "_model_name": "FloatProgressModel",
            "_view_count": null,
            "_view_module": "@jupyter-widgets/controls",
            "_view_module_version": "1.5.0",
            "_view_name": "ProgressView",
            "bar_style": "success",
            "description": "",
            "description_tooltip": null,
            "layout": "IPY_MODEL_39f2f1d4c8304e98890c3ab09ce1813d",
            "max": 147,
            "min": 0,
            "orientation": "horizontal",
            "style": "IPY_MODEL_52f49d1707fb4f89bfac2ca31e2a59b0",
            "value": 147
          }
        },
        "bfb657c0fa0344abad88984d07d9cdb1": {
          "model_module": "@jupyter-widgets/controls",
          "model_name": "HTMLModel",
          "model_module_version": "1.5.0",
          "state": {
            "_dom_classes": [],
            "_model_module": "@jupyter-widgets/controls",
            "_model_module_version": "1.5.0",
            "_model_name": "HTMLModel",
            "_view_count": null,
            "_view_module": "@jupyter-widgets/controls",
            "_view_module_version": "1.5.0",
            "_view_name": "HTMLView",
            "description": "",
            "description_tooltip": null,
            "layout": "IPY_MODEL_30db86df001e48e8ad8fe143f93fdc3c",
            "placeholder": "​",
            "style": "IPY_MODEL_e75b10a5b4514a6a9c81ee933a199fed",
            "value": " 147/147 [00:00&lt;00:00, 9.17kB/s]"
          }
        },
        "e78bac266f7446e791a7efe5c209a8e8": {
          "model_module": "@jupyter-widgets/base",
          "model_name": "LayoutModel",
          "model_module_version": "1.2.0",
          "state": {
            "_model_module": "@jupyter-widgets/base",
            "_model_module_version": "1.2.0",
            "_model_name": "LayoutModel",
            "_view_count": null,
            "_view_module": "@jupyter-widgets/base",
            "_view_module_version": "1.2.0",
            "_view_name": "LayoutView",
            "align_content": null,
            "align_items": null,
            "align_self": null,
            "border": null,
            "bottom": null,
            "display": null,
            "flex": null,
            "flex_flow": null,
            "grid_area": null,
            "grid_auto_columns": null,
            "grid_auto_flow": null,
            "grid_auto_rows": null,
            "grid_column": null,
            "grid_gap": null,
            "grid_row": null,
            "grid_template_areas": null,
            "grid_template_columns": null,
            "grid_template_rows": null,
            "height": null,
            "justify_content": null,
            "justify_items": null,
            "left": null,
            "margin": null,
            "max_height": null,
            "max_width": null,
            "min_height": null,
            "min_width": null,
            "object_fit": null,
            "object_position": null,
            "order": null,
            "overflow": null,
            "overflow_x": null,
            "overflow_y": null,
            "padding": null,
            "right": null,
            "top": null,
            "visibility": null,
            "width": null
          }
        },
        "b0e3b2d5f3064aa8a10e282933d48fcf": {
          "model_module": "@jupyter-widgets/base",
          "model_name": "LayoutModel",
          "model_module_version": "1.2.0",
          "state": {
            "_model_module": "@jupyter-widgets/base",
            "_model_module_version": "1.2.0",
            "_model_name": "LayoutModel",
            "_view_count": null,
            "_view_module": "@jupyter-widgets/base",
            "_view_module_version": "1.2.0",
            "_view_name": "LayoutView",
            "align_content": null,
            "align_items": null,
            "align_self": null,
            "border": null,
            "bottom": null,
            "display": null,
            "flex": null,
            "flex_flow": null,
            "grid_area": null,
            "grid_auto_columns": null,
            "grid_auto_flow": null,
            "grid_auto_rows": null,
            "grid_column": null,
            "grid_gap": null,
            "grid_row": null,
            "grid_template_areas": null,
            "grid_template_columns": null,
            "grid_template_rows": null,
            "height": null,
            "justify_content": null,
            "justify_items": null,
            "left": null,
            "margin": null,
            "max_height": null,
            "max_width": null,
            "min_height": null,
            "min_width": null,
            "object_fit": null,
            "object_position": null,
            "order": null,
            "overflow": null,
            "overflow_x": null,
            "overflow_y": null,
            "padding": null,
            "right": null,
            "top": null,
            "visibility": null,
            "width": null
          }
        },
        "27e9107a75f5459daf24b859896ef1bc": {
          "model_module": "@jupyter-widgets/controls",
          "model_name": "DescriptionStyleModel",
          "model_module_version": "1.5.0",
          "state": {
            "_model_module": "@jupyter-widgets/controls",
            "_model_module_version": "1.5.0",
            "_model_name": "DescriptionStyleModel",
            "_view_count": null,
            "_view_module": "@jupyter-widgets/base",
            "_view_module_version": "1.2.0",
            "_view_name": "StyleView",
            "description_width": ""
          }
        },
        "39f2f1d4c8304e98890c3ab09ce1813d": {
          "model_module": "@jupyter-widgets/base",
          "model_name": "LayoutModel",
          "model_module_version": "1.2.0",
          "state": {
            "_model_module": "@jupyter-widgets/base",
            "_model_module_version": "1.2.0",
            "_model_name": "LayoutModel",
            "_view_count": null,
            "_view_module": "@jupyter-widgets/base",
            "_view_module_version": "1.2.0",
            "_view_name": "LayoutView",
            "align_content": null,
            "align_items": null,
            "align_self": null,
            "border": null,
            "bottom": null,
            "display": null,
            "flex": null,
            "flex_flow": null,
            "grid_area": null,
            "grid_auto_columns": null,
            "grid_auto_flow": null,
            "grid_auto_rows": null,
            "grid_column": null,
            "grid_gap": null,
            "grid_row": null,
            "grid_template_areas": null,
            "grid_template_columns": null,
            "grid_template_rows": null,
            "height": null,
            "justify_content": null,
            "justify_items": null,
            "left": null,
            "margin": null,
            "max_height": null,
            "max_width": null,
            "min_height": null,
            "min_width": null,
            "object_fit": null,
            "object_position": null,
            "order": null,
            "overflow": null,
            "overflow_x": null,
            "overflow_y": null,
            "padding": null,
            "right": null,
            "top": null,
            "visibility": null,
            "width": null
          }
        },
        "52f49d1707fb4f89bfac2ca31e2a59b0": {
          "model_module": "@jupyter-widgets/controls",
          "model_name": "ProgressStyleModel",
          "model_module_version": "1.5.0",
          "state": {
            "_model_module": "@jupyter-widgets/controls",
            "_model_module_version": "1.5.0",
            "_model_name": "ProgressStyleModel",
            "_view_count": null,
            "_view_module": "@jupyter-widgets/base",
            "_view_module_version": "1.2.0",
            "_view_name": "StyleView",
            "bar_color": null,
            "description_width": ""
          }
        },
        "30db86df001e48e8ad8fe143f93fdc3c": {
          "model_module": "@jupyter-widgets/base",
          "model_name": "LayoutModel",
          "model_module_version": "1.2.0",
          "state": {
            "_model_module": "@jupyter-widgets/base",
            "_model_module_version": "1.2.0",
            "_model_name": "LayoutModel",
            "_view_count": null,
            "_view_module": "@jupyter-widgets/base",
            "_view_module_version": "1.2.0",
            "_view_name": "LayoutView",
            "align_content": null,
            "align_items": null,
            "align_self": null,
            "border": null,
            "bottom": null,
            "display": null,
            "flex": null,
            "flex_flow": null,
            "grid_area": null,
            "grid_auto_columns": null,
            "grid_auto_flow": null,
            "grid_auto_rows": null,
            "grid_column": null,
            "grid_gap": null,
            "grid_row": null,
            "grid_template_areas": null,
            "grid_template_columns": null,
            "grid_template_rows": null,
            "height": null,
            "justify_content": null,
            "justify_items": null,
            "left": null,
            "margin": null,
            "max_height": null,
            "max_width": null,
            "min_height": null,
            "min_width": null,
            "object_fit": null,
            "object_position": null,
            "order": null,
            "overflow": null,
            "overflow_x": null,
            "overflow_y": null,
            "padding": null,
            "right": null,
            "top": null,
            "visibility": null,
            "width": null
          }
        },
        "e75b10a5b4514a6a9c81ee933a199fed": {
          "model_module": "@jupyter-widgets/controls",
          "model_name": "DescriptionStyleModel",
          "model_module_version": "1.5.0",
          "state": {
            "_model_module": "@jupyter-widgets/controls",
            "_model_module_version": "1.5.0",
            "_model_name": "DescriptionStyleModel",
            "_view_count": null,
            "_view_module": "@jupyter-widgets/base",
            "_view_module_version": "1.2.0",
            "_view_name": "StyleView",
            "description_width": ""
          }
        },
        "24307d54ab9d470888e26f945ffa0c45": {
          "model_module": "@jupyter-widgets/controls",
          "model_name": "HBoxModel",
          "model_module_version": "1.5.0",
          "state": {
            "_dom_classes": [],
            "_model_module": "@jupyter-widgets/controls",
            "_model_module_version": "1.5.0",
            "_model_name": "HBoxModel",
            "_view_count": null,
            "_view_module": "@jupyter-widgets/controls",
            "_view_module_version": "1.5.0",
            "_view_name": "HBoxView",
            "box_style": "",
            "children": [
              "IPY_MODEL_3efa0e2f1a094978906b7b1f8ede6bd1",
              "IPY_MODEL_dfc3a6ca89254818b2d4fd2d79540407",
              "IPY_MODEL_dc5f93ed8b07424ca4e4e58837002905"
            ],
            "layout": "IPY_MODEL_ff4571aae5cd4696860682f464cc67bf"
          }
        },
        "3efa0e2f1a094978906b7b1f8ede6bd1": {
          "model_module": "@jupyter-widgets/controls",
          "model_name": "HTMLModel",
          "model_module_version": "1.5.0",
          "state": {
            "_dom_classes": [],
            "_model_module": "@jupyter-widgets/controls",
            "_model_module_version": "1.5.0",
            "_model_name": "HTMLModel",
            "_view_count": null,
            "_view_module": "@jupyter-widgets/controls",
            "_view_module_version": "1.5.0",
            "_view_name": "HTMLView",
            "description": "",
            "description_tooltip": null,
            "layout": "IPY_MODEL_32adbdf3223b49eb968b25d0b9ac0957",
            "placeholder": "​",
            "style": "IPY_MODEL_0066cc5c46c6444abadd48bfb67ee284",
            "value": "Downloading spiece.model: 100%"
          }
        },
        "dfc3a6ca89254818b2d4fd2d79540407": {
          "model_module": "@jupyter-widgets/controls",
          "model_name": "FloatProgressModel",
          "model_module_version": "1.5.0",
          "state": {
            "_dom_classes": [],
            "_model_module": "@jupyter-widgets/controls",
            "_model_module_version": "1.5.0",
            "_model_name": "FloatProgressModel",
            "_view_count": null,
            "_view_module": "@jupyter-widgets/controls",
            "_view_module_version": "1.5.0",
            "_view_name": "ProgressView",
            "bar_style": "success",
            "description": "",
            "description_tooltip": null,
            "layout": "IPY_MODEL_62a1824579854654b0ea69ef90871a35",
            "max": 791656,
            "min": 0,
            "orientation": "horizontal",
            "style": "IPY_MODEL_cef45491aa1c496c85fb37a2e2419cf6",
            "value": 791656
          }
        },
        "dc5f93ed8b07424ca4e4e58837002905": {
          "model_module": "@jupyter-widgets/controls",
          "model_name": "HTMLModel",
          "model_module_version": "1.5.0",
          "state": {
            "_dom_classes": [],
            "_model_module": "@jupyter-widgets/controls",
            "_model_module_version": "1.5.0",
            "_model_name": "HTMLModel",
            "_view_count": null,
            "_view_module": "@jupyter-widgets/controls",
            "_view_module_version": "1.5.0",
            "_view_name": "HTMLView",
            "description": "",
            "description_tooltip": null,
            "layout": "IPY_MODEL_5fdc999838d64e7ea7442dbdd278af13",
            "placeholder": "​",
            "style": "IPY_MODEL_f738aa8acb3b4ba183d8e350b55ad192",
            "value": " 792k/792k [00:00&lt;00:00, 38.5MB/s]"
          }
        },
        "ff4571aae5cd4696860682f464cc67bf": {
          "model_module": "@jupyter-widgets/base",
          "model_name": "LayoutModel",
          "model_module_version": "1.2.0",
          "state": {
            "_model_module": "@jupyter-widgets/base",
            "_model_module_version": "1.2.0",
            "_model_name": "LayoutModel",
            "_view_count": null,
            "_view_module": "@jupyter-widgets/base",
            "_view_module_version": "1.2.0",
            "_view_name": "LayoutView",
            "align_content": null,
            "align_items": null,
            "align_self": null,
            "border": null,
            "bottom": null,
            "display": null,
            "flex": null,
            "flex_flow": null,
            "grid_area": null,
            "grid_auto_columns": null,
            "grid_auto_flow": null,
            "grid_auto_rows": null,
            "grid_column": null,
            "grid_gap": null,
            "grid_row": null,
            "grid_template_areas": null,
            "grid_template_columns": null,
            "grid_template_rows": null,
            "height": null,
            "justify_content": null,
            "justify_items": null,
            "left": null,
            "margin": null,
            "max_height": null,
            "max_width": null,
            "min_height": null,
            "min_width": null,
            "object_fit": null,
            "object_position": null,
            "order": null,
            "overflow": null,
            "overflow_x": null,
            "overflow_y": null,
            "padding": null,
            "right": null,
            "top": null,
            "visibility": null,
            "width": null
          }
        },
        "32adbdf3223b49eb968b25d0b9ac0957": {
          "model_module": "@jupyter-widgets/base",
          "model_name": "LayoutModel",
          "model_module_version": "1.2.0",
          "state": {
            "_model_module": "@jupyter-widgets/base",
            "_model_module_version": "1.2.0",
            "_model_name": "LayoutModel",
            "_view_count": null,
            "_view_module": "@jupyter-widgets/base",
            "_view_module_version": "1.2.0",
            "_view_name": "LayoutView",
            "align_content": null,
            "align_items": null,
            "align_self": null,
            "border": null,
            "bottom": null,
            "display": null,
            "flex": null,
            "flex_flow": null,
            "grid_area": null,
            "grid_auto_columns": null,
            "grid_auto_flow": null,
            "grid_auto_rows": null,
            "grid_column": null,
            "grid_gap": null,
            "grid_row": null,
            "grid_template_areas": null,
            "grid_template_columns": null,
            "grid_template_rows": null,
            "height": null,
            "justify_content": null,
            "justify_items": null,
            "left": null,
            "margin": null,
            "max_height": null,
            "max_width": null,
            "min_height": null,
            "min_width": null,
            "object_fit": null,
            "object_position": null,
            "order": null,
            "overflow": null,
            "overflow_x": null,
            "overflow_y": null,
            "padding": null,
            "right": null,
            "top": null,
            "visibility": null,
            "width": null
          }
        },
        "0066cc5c46c6444abadd48bfb67ee284": {
          "model_module": "@jupyter-widgets/controls",
          "model_name": "DescriptionStyleModel",
          "model_module_version": "1.5.0",
          "state": {
            "_model_module": "@jupyter-widgets/controls",
            "_model_module_version": "1.5.0",
            "_model_name": "DescriptionStyleModel",
            "_view_count": null,
            "_view_module": "@jupyter-widgets/base",
            "_view_module_version": "1.2.0",
            "_view_name": "StyleView",
            "description_width": ""
          }
        },
        "62a1824579854654b0ea69ef90871a35": {
          "model_module": "@jupyter-widgets/base",
          "model_name": "LayoutModel",
          "model_module_version": "1.2.0",
          "state": {
            "_model_module": "@jupyter-widgets/base",
            "_model_module_version": "1.2.0",
            "_model_name": "LayoutModel",
            "_view_count": null,
            "_view_module": "@jupyter-widgets/base",
            "_view_module_version": "1.2.0",
            "_view_name": "LayoutView",
            "align_content": null,
            "align_items": null,
            "align_self": null,
            "border": null,
            "bottom": null,
            "display": null,
            "flex": null,
            "flex_flow": null,
            "grid_area": null,
            "grid_auto_columns": null,
            "grid_auto_flow": null,
            "grid_auto_rows": null,
            "grid_column": null,
            "grid_gap": null,
            "grid_row": null,
            "grid_template_areas": null,
            "grid_template_columns": null,
            "grid_template_rows": null,
            "height": null,
            "justify_content": null,
            "justify_items": null,
            "left": null,
            "margin": null,
            "max_height": null,
            "max_width": null,
            "min_height": null,
            "min_width": null,
            "object_fit": null,
            "object_position": null,
            "order": null,
            "overflow": null,
            "overflow_x": null,
            "overflow_y": null,
            "padding": null,
            "right": null,
            "top": null,
            "visibility": null,
            "width": null
          }
        },
        "cef45491aa1c496c85fb37a2e2419cf6": {
          "model_module": "@jupyter-widgets/controls",
          "model_name": "ProgressStyleModel",
          "model_module_version": "1.5.0",
          "state": {
            "_model_module": "@jupyter-widgets/controls",
            "_model_module_version": "1.5.0",
            "_model_name": "ProgressStyleModel",
            "_view_count": null,
            "_view_module": "@jupyter-widgets/base",
            "_view_module_version": "1.2.0",
            "_view_name": "StyleView",
            "bar_color": null,
            "description_width": ""
          }
        },
        "5fdc999838d64e7ea7442dbdd278af13": {
          "model_module": "@jupyter-widgets/base",
          "model_name": "LayoutModel",
          "model_module_version": "1.2.0",
          "state": {
            "_model_module": "@jupyter-widgets/base",
            "_model_module_version": "1.2.0",
            "_model_name": "LayoutModel",
            "_view_count": null,
            "_view_module": "@jupyter-widgets/base",
            "_view_module_version": "1.2.0",
            "_view_name": "LayoutView",
            "align_content": null,
            "align_items": null,
            "align_self": null,
            "border": null,
            "bottom": null,
            "display": null,
            "flex": null,
            "flex_flow": null,
            "grid_area": null,
            "grid_auto_columns": null,
            "grid_auto_flow": null,
            "grid_auto_rows": null,
            "grid_column": null,
            "grid_gap": null,
            "grid_row": null,
            "grid_template_areas": null,
            "grid_template_columns": null,
            "grid_template_rows": null,
            "height": null,
            "justify_content": null,
            "justify_items": null,
            "left": null,
            "margin": null,
            "max_height": null,
            "max_width": null,
            "min_height": null,
            "min_width": null,
            "object_fit": null,
            "object_position": null,
            "order": null,
            "overflow": null,
            "overflow_x": null,
            "overflow_y": null,
            "padding": null,
            "right": null,
            "top": null,
            "visibility": null,
            "width": null
          }
        },
        "f738aa8acb3b4ba183d8e350b55ad192": {
          "model_module": "@jupyter-widgets/controls",
          "model_name": "DescriptionStyleModel",
          "model_module_version": "1.5.0",
          "state": {
            "_model_module": "@jupyter-widgets/controls",
            "_model_module_version": "1.5.0",
            "_model_name": "DescriptionStyleModel",
            "_view_count": null,
            "_view_module": "@jupyter-widgets/base",
            "_view_module_version": "1.2.0",
            "_view_name": "StyleView",
            "description_width": ""
          }
        },
        "4b28c4196ef946d387a774795a50d9ea": {
          "model_module": "@jupyter-widgets/controls",
          "model_name": "HBoxModel",
          "model_module_version": "1.5.0",
          "state": {
            "_dom_classes": [],
            "_model_module": "@jupyter-widgets/controls",
            "_model_module_version": "1.5.0",
            "_model_name": "HBoxModel",
            "_view_count": null,
            "_view_module": "@jupyter-widgets/controls",
            "_view_module_version": "1.5.0",
            "_view_name": "HBoxView",
            "box_style": "",
            "children": [
              "IPY_MODEL_26bc4924324f4e20b3fa0cb1a33cbbdc",
              "IPY_MODEL_c735b9d4f96743d4b7218c2eb6c4dfa9",
              "IPY_MODEL_44ae297a1b6c4068a0adeeecc09960ee"
            ],
            "layout": "IPY_MODEL_a770e8202095427ea962c5222e5081ed"
          }
        },
        "26bc4924324f4e20b3fa0cb1a33cbbdc": {
          "model_module": "@jupyter-widgets/controls",
          "model_name": "HTMLModel",
          "model_module_version": "1.5.0",
          "state": {
            "_dom_classes": [],
            "_model_module": "@jupyter-widgets/controls",
            "_model_module_version": "1.5.0",
            "_model_name": "HTMLModel",
            "_view_count": null,
            "_view_module": "@jupyter-widgets/controls",
            "_view_module_version": "1.5.0",
            "_view_name": "HTMLView",
            "description": "",
            "description_tooltip": null,
            "layout": "IPY_MODEL_2db7cc7e151f4541b16774a9e2c29654",
            "placeholder": "​",
            "style": "IPY_MODEL_c7c0e31097bf4bd0b805987f22b3a876",
            "value": "Downloading (…)cial_tokens_map.json: 100%"
          }
        },
        "c735b9d4f96743d4b7218c2eb6c4dfa9": {
          "model_module": "@jupyter-widgets/controls",
          "model_name": "FloatProgressModel",
          "model_module_version": "1.5.0",
          "state": {
            "_dom_classes": [],
            "_model_module": "@jupyter-widgets/controls",
            "_model_module_version": "1.5.0",
            "_model_name": "FloatProgressModel",
            "_view_count": null,
            "_view_module": "@jupyter-widgets/controls",
            "_view_module_version": "1.5.0",
            "_view_name": "ProgressView",
            "bar_style": "success",
            "description": "",
            "description_tooltip": null,
            "layout": "IPY_MODEL_5d5f17c2c6b94944b99a8a80d91f4db0",
            "max": 2201,
            "min": 0,
            "orientation": "horizontal",
            "style": "IPY_MODEL_46d270dd05f3461c9e9ac9dd9c2269ed",
            "value": 2201
          }
        },
        "44ae297a1b6c4068a0adeeecc09960ee": {
          "model_module": "@jupyter-widgets/controls",
          "model_name": "HTMLModel",
          "model_module_version": "1.5.0",
          "state": {
            "_dom_classes": [],
            "_model_module": "@jupyter-widgets/controls",
            "_model_module_version": "1.5.0",
            "_model_name": "HTMLModel",
            "_view_count": null,
            "_view_module": "@jupyter-widgets/controls",
            "_view_module_version": "1.5.0",
            "_view_name": "HTMLView",
            "description": "",
            "description_tooltip": null,
            "layout": "IPY_MODEL_f4b4d4eccf1443d0a3f755578cc76412",
            "placeholder": "​",
            "style": "IPY_MODEL_add9eb8277ea41da8b9c96f25e957e62",
            "value": " 2.20k/2.20k [00:00&lt;00:00, 159kB/s]"
          }
        },
        "a770e8202095427ea962c5222e5081ed": {
          "model_module": "@jupyter-widgets/base",
          "model_name": "LayoutModel",
          "model_module_version": "1.2.0",
          "state": {
            "_model_module": "@jupyter-widgets/base",
            "_model_module_version": "1.2.0",
            "_model_name": "LayoutModel",
            "_view_count": null,
            "_view_module": "@jupyter-widgets/base",
            "_view_module_version": "1.2.0",
            "_view_name": "LayoutView",
            "align_content": null,
            "align_items": null,
            "align_self": null,
            "border": null,
            "bottom": null,
            "display": null,
            "flex": null,
            "flex_flow": null,
            "grid_area": null,
            "grid_auto_columns": null,
            "grid_auto_flow": null,
            "grid_auto_rows": null,
            "grid_column": null,
            "grid_gap": null,
            "grid_row": null,
            "grid_template_areas": null,
            "grid_template_columns": null,
            "grid_template_rows": null,
            "height": null,
            "justify_content": null,
            "justify_items": null,
            "left": null,
            "margin": null,
            "max_height": null,
            "max_width": null,
            "min_height": null,
            "min_width": null,
            "object_fit": null,
            "object_position": null,
            "order": null,
            "overflow": null,
            "overflow_x": null,
            "overflow_y": null,
            "padding": null,
            "right": null,
            "top": null,
            "visibility": null,
            "width": null
          }
        },
        "2db7cc7e151f4541b16774a9e2c29654": {
          "model_module": "@jupyter-widgets/base",
          "model_name": "LayoutModel",
          "model_module_version": "1.2.0",
          "state": {
            "_model_module": "@jupyter-widgets/base",
            "_model_module_version": "1.2.0",
            "_model_name": "LayoutModel",
            "_view_count": null,
            "_view_module": "@jupyter-widgets/base",
            "_view_module_version": "1.2.0",
            "_view_name": "LayoutView",
            "align_content": null,
            "align_items": null,
            "align_self": null,
            "border": null,
            "bottom": null,
            "display": null,
            "flex": null,
            "flex_flow": null,
            "grid_area": null,
            "grid_auto_columns": null,
            "grid_auto_flow": null,
            "grid_auto_rows": null,
            "grid_column": null,
            "grid_gap": null,
            "grid_row": null,
            "grid_template_areas": null,
            "grid_template_columns": null,
            "grid_template_rows": null,
            "height": null,
            "justify_content": null,
            "justify_items": null,
            "left": null,
            "margin": null,
            "max_height": null,
            "max_width": null,
            "min_height": null,
            "min_width": null,
            "object_fit": null,
            "object_position": null,
            "order": null,
            "overflow": null,
            "overflow_x": null,
            "overflow_y": null,
            "padding": null,
            "right": null,
            "top": null,
            "visibility": null,
            "width": null
          }
        },
        "c7c0e31097bf4bd0b805987f22b3a876": {
          "model_module": "@jupyter-widgets/controls",
          "model_name": "DescriptionStyleModel",
          "model_module_version": "1.5.0",
          "state": {
            "_model_module": "@jupyter-widgets/controls",
            "_model_module_version": "1.5.0",
            "_model_name": "DescriptionStyleModel",
            "_view_count": null,
            "_view_module": "@jupyter-widgets/base",
            "_view_module_version": "1.2.0",
            "_view_name": "StyleView",
            "description_width": ""
          }
        },
        "5d5f17c2c6b94944b99a8a80d91f4db0": {
          "model_module": "@jupyter-widgets/base",
          "model_name": "LayoutModel",
          "model_module_version": "1.2.0",
          "state": {
            "_model_module": "@jupyter-widgets/base",
            "_model_module_version": "1.2.0",
            "_model_name": "LayoutModel",
            "_view_count": null,
            "_view_module": "@jupyter-widgets/base",
            "_view_module_version": "1.2.0",
            "_view_name": "LayoutView",
            "align_content": null,
            "align_items": null,
            "align_self": null,
            "border": null,
            "bottom": null,
            "display": null,
            "flex": null,
            "flex_flow": null,
            "grid_area": null,
            "grid_auto_columns": null,
            "grid_auto_flow": null,
            "grid_auto_rows": null,
            "grid_column": null,
            "grid_gap": null,
            "grid_row": null,
            "grid_template_areas": null,
            "grid_template_columns": null,
            "grid_template_rows": null,
            "height": null,
            "justify_content": null,
            "justify_items": null,
            "left": null,
            "margin": null,
            "max_height": null,
            "max_width": null,
            "min_height": null,
            "min_width": null,
            "object_fit": null,
            "object_position": null,
            "order": null,
            "overflow": null,
            "overflow_x": null,
            "overflow_y": null,
            "padding": null,
            "right": null,
            "top": null,
            "visibility": null,
            "width": null
          }
        },
        "46d270dd05f3461c9e9ac9dd9c2269ed": {
          "model_module": "@jupyter-widgets/controls",
          "model_name": "ProgressStyleModel",
          "model_module_version": "1.5.0",
          "state": {
            "_model_module": "@jupyter-widgets/controls",
            "_model_module_version": "1.5.0",
            "_model_name": "ProgressStyleModel",
            "_view_count": null,
            "_view_module": "@jupyter-widgets/base",
            "_view_module_version": "1.2.0",
            "_view_name": "StyleView",
            "bar_color": null,
            "description_width": ""
          }
        },
        "f4b4d4eccf1443d0a3f755578cc76412": {
          "model_module": "@jupyter-widgets/base",
          "model_name": "LayoutModel",
          "model_module_version": "1.2.0",
          "state": {
            "_model_module": "@jupyter-widgets/base",
            "_model_module_version": "1.2.0",
            "_model_name": "LayoutModel",
            "_view_count": null,
            "_view_module": "@jupyter-widgets/base",
            "_view_module_version": "1.2.0",
            "_view_name": "LayoutView",
            "align_content": null,
            "align_items": null,
            "align_self": null,
            "border": null,
            "bottom": null,
            "display": null,
            "flex": null,
            "flex_flow": null,
            "grid_area": null,
            "grid_auto_columns": null,
            "grid_auto_flow": null,
            "grid_auto_rows": null,
            "grid_column": null,
            "grid_gap": null,
            "grid_row": null,
            "grid_template_areas": null,
            "grid_template_columns": null,
            "grid_template_rows": null,
            "height": null,
            "justify_content": null,
            "justify_items": null,
            "left": null,
            "margin": null,
            "max_height": null,
            "max_width": null,
            "min_height": null,
            "min_width": null,
            "object_fit": null,
            "object_position": null,
            "order": null,
            "overflow": null,
            "overflow_x": null,
            "overflow_y": null,
            "padding": null,
            "right": null,
            "top": null,
            "visibility": null,
            "width": null
          }
        },
        "add9eb8277ea41da8b9c96f25e957e62": {
          "model_module": "@jupyter-widgets/controls",
          "model_name": "DescriptionStyleModel",
          "model_module_version": "1.5.0",
          "state": {
            "_model_module": "@jupyter-widgets/controls",
            "_model_module_version": "1.5.0",
            "_model_name": "DescriptionStyleModel",
            "_view_count": null,
            "_view_module": "@jupyter-widgets/base",
            "_view_module_version": "1.2.0",
            "_view_name": "StyleView",
            "description_width": ""
          }
        },
        "75273fd16cc548189fe53ede2089796b": {
          "model_module": "@jupyter-widgets/controls",
          "model_name": "HBoxModel",
          "model_module_version": "1.5.0",
          "state": {
            "_dom_classes": [],
            "_model_module": "@jupyter-widgets/controls",
            "_model_module_version": "1.5.0",
            "_model_name": "HBoxModel",
            "_view_count": null,
            "_view_module": "@jupyter-widgets/controls",
            "_view_module_version": "1.5.0",
            "_view_name": "HBoxView",
            "box_style": "",
            "children": [
              "IPY_MODEL_c20954ecad174168b5484276ba793905",
              "IPY_MODEL_492b31835fb0433094a7e9d3c267d0f4",
              "IPY_MODEL_56ab08546af04314aa7a2aaeb9d5d720"
            ],
            "layout": "IPY_MODEL_b578e251668441bb8a83f06715b3f1df"
          }
        },
        "c20954ecad174168b5484276ba793905": {
          "model_module": "@jupyter-widgets/controls",
          "model_name": "HTMLModel",
          "model_module_version": "1.5.0",
          "state": {
            "_dom_classes": [],
            "_model_module": "@jupyter-widgets/controls",
            "_model_module_version": "1.5.0",
            "_model_name": "HTMLModel",
            "_view_count": null,
            "_view_module": "@jupyter-widgets/controls",
            "_view_module_version": "1.5.0",
            "_view_name": "HTMLView",
            "description": "",
            "description_tooltip": null,
            "layout": "IPY_MODEL_5fa37b7e86164185856e07a9c9ddeb4a",
            "placeholder": "​",
            "style": "IPY_MODEL_0c1faa55eab849edaf2135a47cc6a46b",
            "value": "Downloading (…)okenizer_config.json: 100%"
          }
        },
        "492b31835fb0433094a7e9d3c267d0f4": {
          "model_module": "@jupyter-widgets/controls",
          "model_name": "FloatProgressModel",
          "model_module_version": "1.5.0",
          "state": {
            "_dom_classes": [],
            "_model_module": "@jupyter-widgets/controls",
            "_model_module_version": "1.5.0",
            "_model_name": "FloatProgressModel",
            "_view_count": null,
            "_view_module": "@jupyter-widgets/controls",
            "_view_module_version": "1.5.0",
            "_view_name": "ProgressView",
            "bar_style": "success",
            "description": "",
            "description_tooltip": null,
            "layout": "IPY_MODEL_f0e5748586f24f449fc49ad6fe69175e",
            "max": 2537,
            "min": 0,
            "orientation": "horizontal",
            "style": "IPY_MODEL_3b1f1156cc854289821eb35d920d9cb7",
            "value": 2537
          }
        },
        "56ab08546af04314aa7a2aaeb9d5d720": {
          "model_module": "@jupyter-widgets/controls",
          "model_name": "HTMLModel",
          "model_module_version": "1.5.0",
          "state": {
            "_dom_classes": [],
            "_model_module": "@jupyter-widgets/controls",
            "_model_module_version": "1.5.0",
            "_model_name": "HTMLModel",
            "_view_count": null,
            "_view_module": "@jupyter-widgets/controls",
            "_view_module_version": "1.5.0",
            "_view_name": "HTMLView",
            "description": "",
            "description_tooltip": null,
            "layout": "IPY_MODEL_b57f76c854f343bbb785f19176c79e2f",
            "placeholder": "​",
            "style": "IPY_MODEL_f8bd323fcac54779b39c98ba111bb20b",
            "value": " 2.54k/2.54k [00:00&lt;00:00, 167kB/s]"
          }
        },
        "b578e251668441bb8a83f06715b3f1df": {
          "model_module": "@jupyter-widgets/base",
          "model_name": "LayoutModel",
          "model_module_version": "1.2.0",
          "state": {
            "_model_module": "@jupyter-widgets/base",
            "_model_module_version": "1.2.0",
            "_model_name": "LayoutModel",
            "_view_count": null,
            "_view_module": "@jupyter-widgets/base",
            "_view_module_version": "1.2.0",
            "_view_name": "LayoutView",
            "align_content": null,
            "align_items": null,
            "align_self": null,
            "border": null,
            "bottom": null,
            "display": null,
            "flex": null,
            "flex_flow": null,
            "grid_area": null,
            "grid_auto_columns": null,
            "grid_auto_flow": null,
            "grid_auto_rows": null,
            "grid_column": null,
            "grid_gap": null,
            "grid_row": null,
            "grid_template_areas": null,
            "grid_template_columns": null,
            "grid_template_rows": null,
            "height": null,
            "justify_content": null,
            "justify_items": null,
            "left": null,
            "margin": null,
            "max_height": null,
            "max_width": null,
            "min_height": null,
            "min_width": null,
            "object_fit": null,
            "object_position": null,
            "order": null,
            "overflow": null,
            "overflow_x": null,
            "overflow_y": null,
            "padding": null,
            "right": null,
            "top": null,
            "visibility": null,
            "width": null
          }
        },
        "5fa37b7e86164185856e07a9c9ddeb4a": {
          "model_module": "@jupyter-widgets/base",
          "model_name": "LayoutModel",
          "model_module_version": "1.2.0",
          "state": {
            "_model_module": "@jupyter-widgets/base",
            "_model_module_version": "1.2.0",
            "_model_name": "LayoutModel",
            "_view_count": null,
            "_view_module": "@jupyter-widgets/base",
            "_view_module_version": "1.2.0",
            "_view_name": "LayoutView",
            "align_content": null,
            "align_items": null,
            "align_self": null,
            "border": null,
            "bottom": null,
            "display": null,
            "flex": null,
            "flex_flow": null,
            "grid_area": null,
            "grid_auto_columns": null,
            "grid_auto_flow": null,
            "grid_auto_rows": null,
            "grid_column": null,
            "grid_gap": null,
            "grid_row": null,
            "grid_template_areas": null,
            "grid_template_columns": null,
            "grid_template_rows": null,
            "height": null,
            "justify_content": null,
            "justify_items": null,
            "left": null,
            "margin": null,
            "max_height": null,
            "max_width": null,
            "min_height": null,
            "min_width": null,
            "object_fit": null,
            "object_position": null,
            "order": null,
            "overflow": null,
            "overflow_x": null,
            "overflow_y": null,
            "padding": null,
            "right": null,
            "top": null,
            "visibility": null,
            "width": null
          }
        },
        "0c1faa55eab849edaf2135a47cc6a46b": {
          "model_module": "@jupyter-widgets/controls",
          "model_name": "DescriptionStyleModel",
          "model_module_version": "1.5.0",
          "state": {
            "_model_module": "@jupyter-widgets/controls",
            "_model_module_version": "1.5.0",
            "_model_name": "DescriptionStyleModel",
            "_view_count": null,
            "_view_module": "@jupyter-widgets/base",
            "_view_module_version": "1.2.0",
            "_view_name": "StyleView",
            "description_width": ""
          }
        },
        "f0e5748586f24f449fc49ad6fe69175e": {
          "model_module": "@jupyter-widgets/base",
          "model_name": "LayoutModel",
          "model_module_version": "1.2.0",
          "state": {
            "_model_module": "@jupyter-widgets/base",
            "_model_module_version": "1.2.0",
            "_model_name": "LayoutModel",
            "_view_count": null,
            "_view_module": "@jupyter-widgets/base",
            "_view_module_version": "1.2.0",
            "_view_name": "LayoutView",
            "align_content": null,
            "align_items": null,
            "align_self": null,
            "border": null,
            "bottom": null,
            "display": null,
            "flex": null,
            "flex_flow": null,
            "grid_area": null,
            "grid_auto_columns": null,
            "grid_auto_flow": null,
            "grid_auto_rows": null,
            "grid_column": null,
            "grid_gap": null,
            "grid_row": null,
            "grid_template_areas": null,
            "grid_template_columns": null,
            "grid_template_rows": null,
            "height": null,
            "justify_content": null,
            "justify_items": null,
            "left": null,
            "margin": null,
            "max_height": null,
            "max_width": null,
            "min_height": null,
            "min_width": null,
            "object_fit": null,
            "object_position": null,
            "order": null,
            "overflow": null,
            "overflow_x": null,
            "overflow_y": null,
            "padding": null,
            "right": null,
            "top": null,
            "visibility": null,
            "width": null
          }
        },
        "3b1f1156cc854289821eb35d920d9cb7": {
          "model_module": "@jupyter-widgets/controls",
          "model_name": "ProgressStyleModel",
          "model_module_version": "1.5.0",
          "state": {
            "_model_module": "@jupyter-widgets/controls",
            "_model_module_version": "1.5.0",
            "_model_name": "ProgressStyleModel",
            "_view_count": null,
            "_view_module": "@jupyter-widgets/base",
            "_view_module_version": "1.2.0",
            "_view_name": "StyleView",
            "bar_color": null,
            "description_width": ""
          }
        },
        "b57f76c854f343bbb785f19176c79e2f": {
          "model_module": "@jupyter-widgets/base",
          "model_name": "LayoutModel",
          "model_module_version": "1.2.0",
          "state": {
            "_model_module": "@jupyter-widgets/base",
            "_model_module_version": "1.2.0",
            "_model_name": "LayoutModel",
            "_view_count": null,
            "_view_module": "@jupyter-widgets/base",
            "_view_module_version": "1.2.0",
            "_view_name": "LayoutView",
            "align_content": null,
            "align_items": null,
            "align_self": null,
            "border": null,
            "bottom": null,
            "display": null,
            "flex": null,
            "flex_flow": null,
            "grid_area": null,
            "grid_auto_columns": null,
            "grid_auto_flow": null,
            "grid_auto_rows": null,
            "grid_column": null,
            "grid_gap": null,
            "grid_row": null,
            "grid_template_areas": null,
            "grid_template_columns": null,
            "grid_template_rows": null,
            "height": null,
            "justify_content": null,
            "justify_items": null,
            "left": null,
            "margin": null,
            "max_height": null,
            "max_width": null,
            "min_height": null,
            "min_width": null,
            "object_fit": null,
            "object_position": null,
            "order": null,
            "overflow": null,
            "overflow_x": null,
            "overflow_y": null,
            "padding": null,
            "right": null,
            "top": null,
            "visibility": null,
            "width": null
          }
        },
        "f8bd323fcac54779b39c98ba111bb20b": {
          "model_module": "@jupyter-widgets/controls",
          "model_name": "DescriptionStyleModel",
          "model_module_version": "1.5.0",
          "state": {
            "_model_module": "@jupyter-widgets/controls",
            "_model_module_version": "1.5.0",
            "_model_name": "DescriptionStyleModel",
            "_view_count": null,
            "_view_module": "@jupyter-widgets/base",
            "_view_module_version": "1.2.0",
            "_view_name": "StyleView",
            "description_width": ""
          }
        },
        "f5f801e719814b4cb50907ca1265ee1b": {
          "model_module": "@jupyter-widgets/controls",
          "model_name": "HBoxModel",
          "model_module_version": "1.5.0",
          "state": {
            "_dom_classes": [],
            "_model_module": "@jupyter-widgets/controls",
            "_model_module_version": "1.5.0",
            "_model_name": "HBoxModel",
            "_view_count": null,
            "_view_module": "@jupyter-widgets/controls",
            "_view_module_version": "1.5.0",
            "_view_name": "HBoxView",
            "box_style": "",
            "children": [
              "IPY_MODEL_d848e7044b8d41f090c7e1d440c9767a",
              "IPY_MODEL_78f2a7c135164bbb8b57a3168dda18a7",
              "IPY_MODEL_377dbe4dd30a4f0e9118da997e81aae2"
            ],
            "layout": "IPY_MODEL_96cafcea8c544fff83036550e9849f13"
          }
        },
        "d848e7044b8d41f090c7e1d440c9767a": {
          "model_module": "@jupyter-widgets/controls",
          "model_name": "HTMLModel",
          "model_module_version": "1.5.0",
          "state": {
            "_dom_classes": [],
            "_model_module": "@jupyter-widgets/controls",
            "_model_module_version": "1.5.0",
            "_model_name": "HTMLModel",
            "_view_count": null,
            "_view_module": "@jupyter-widgets/controls",
            "_view_module_version": "1.5.0",
            "_view_name": "HTMLView",
            "description": "",
            "description_tooltip": null,
            "layout": "IPY_MODEL_79bae772acf14a94bdba9715856731ee",
            "placeholder": "​",
            "style": "IPY_MODEL_7495cb2382714f9c9e573e8b26d9dce0",
            "value": "Downloading (…)olve/main/vocab.json: 100%"
          }
        },
        "78f2a7c135164bbb8b57a3168dda18a7": {
          "model_module": "@jupyter-widgets/controls",
          "model_name": "FloatProgressModel",
          "model_module_version": "1.5.0",
          "state": {
            "_dom_classes": [],
            "_model_module": "@jupyter-widgets/controls",
            "_model_module_version": "1.5.0",
            "_model_name": "FloatProgressModel",
            "_view_count": null,
            "_view_module": "@jupyter-widgets/controls",
            "_view_module_version": "1.5.0",
            "_view_name": "ProgressView",
            "bar_style": "success",
            "description": "",
            "description_tooltip": null,
            "layout": "IPY_MODEL_081c5a0bbdeb4eb299d3babe7696fba3",
            "max": 898823,
            "min": 0,
            "orientation": "horizontal",
            "style": "IPY_MODEL_a279986419244eca865b23d95ff3ed63",
            "value": 898823
          }
        },
        "377dbe4dd30a4f0e9118da997e81aae2": {
          "model_module": "@jupyter-widgets/controls",
          "model_name": "HTMLModel",
          "model_module_version": "1.5.0",
          "state": {
            "_dom_classes": [],
            "_model_module": "@jupyter-widgets/controls",
            "_model_module_version": "1.5.0",
            "_model_name": "HTMLModel",
            "_view_count": null,
            "_view_module": "@jupyter-widgets/controls",
            "_view_module_version": "1.5.0",
            "_view_name": "HTMLView",
            "description": "",
            "description_tooltip": null,
            "layout": "IPY_MODEL_d9d4e842f6c747c28aa6351b299245bb",
            "placeholder": "​",
            "style": "IPY_MODEL_4581d4eae8b64993b8695c18671af9c2",
            "value": " 899k/899k [00:00&lt;00:00, 8.31MB/s]"
          }
        },
        "96cafcea8c544fff83036550e9849f13": {
          "model_module": "@jupyter-widgets/base",
          "model_name": "LayoutModel",
          "model_module_version": "1.2.0",
          "state": {
            "_model_module": "@jupyter-widgets/base",
            "_model_module_version": "1.2.0",
            "_model_name": "LayoutModel",
            "_view_count": null,
            "_view_module": "@jupyter-widgets/base",
            "_view_module_version": "1.2.0",
            "_view_name": "LayoutView",
            "align_content": null,
            "align_items": null,
            "align_self": null,
            "border": null,
            "bottom": null,
            "display": null,
            "flex": null,
            "flex_flow": null,
            "grid_area": null,
            "grid_auto_columns": null,
            "grid_auto_flow": null,
            "grid_auto_rows": null,
            "grid_column": null,
            "grid_gap": null,
            "grid_row": null,
            "grid_template_areas": null,
            "grid_template_columns": null,
            "grid_template_rows": null,
            "height": null,
            "justify_content": null,
            "justify_items": null,
            "left": null,
            "margin": null,
            "max_height": null,
            "max_width": null,
            "min_height": null,
            "min_width": null,
            "object_fit": null,
            "object_position": null,
            "order": null,
            "overflow": null,
            "overflow_x": null,
            "overflow_y": null,
            "padding": null,
            "right": null,
            "top": null,
            "visibility": null,
            "width": null
          }
        },
        "79bae772acf14a94bdba9715856731ee": {
          "model_module": "@jupyter-widgets/base",
          "model_name": "LayoutModel",
          "model_module_version": "1.2.0",
          "state": {
            "_model_module": "@jupyter-widgets/base",
            "_model_module_version": "1.2.0",
            "_model_name": "LayoutModel",
            "_view_count": null,
            "_view_module": "@jupyter-widgets/base",
            "_view_module_version": "1.2.0",
            "_view_name": "LayoutView",
            "align_content": null,
            "align_items": null,
            "align_self": null,
            "border": null,
            "bottom": null,
            "display": null,
            "flex": null,
            "flex_flow": null,
            "grid_area": null,
            "grid_auto_columns": null,
            "grid_auto_flow": null,
            "grid_auto_rows": null,
            "grid_column": null,
            "grid_gap": null,
            "grid_row": null,
            "grid_template_areas": null,
            "grid_template_columns": null,
            "grid_template_rows": null,
            "height": null,
            "justify_content": null,
            "justify_items": null,
            "left": null,
            "margin": null,
            "max_height": null,
            "max_width": null,
            "min_height": null,
            "min_width": null,
            "object_fit": null,
            "object_position": null,
            "order": null,
            "overflow": null,
            "overflow_x": null,
            "overflow_y": null,
            "padding": null,
            "right": null,
            "top": null,
            "visibility": null,
            "width": null
          }
        },
        "7495cb2382714f9c9e573e8b26d9dce0": {
          "model_module": "@jupyter-widgets/controls",
          "model_name": "DescriptionStyleModel",
          "model_module_version": "1.5.0",
          "state": {
            "_model_module": "@jupyter-widgets/controls",
            "_model_module_version": "1.5.0",
            "_model_name": "DescriptionStyleModel",
            "_view_count": null,
            "_view_module": "@jupyter-widgets/base",
            "_view_module_version": "1.2.0",
            "_view_name": "StyleView",
            "description_width": ""
          }
        },
        "081c5a0bbdeb4eb299d3babe7696fba3": {
          "model_module": "@jupyter-widgets/base",
          "model_name": "LayoutModel",
          "model_module_version": "1.2.0",
          "state": {
            "_model_module": "@jupyter-widgets/base",
            "_model_module_version": "1.2.0",
            "_model_name": "LayoutModel",
            "_view_count": null,
            "_view_module": "@jupyter-widgets/base",
            "_view_module_version": "1.2.0",
            "_view_name": "LayoutView",
            "align_content": null,
            "align_items": null,
            "align_self": null,
            "border": null,
            "bottom": null,
            "display": null,
            "flex": null,
            "flex_flow": null,
            "grid_area": null,
            "grid_auto_columns": null,
            "grid_auto_flow": null,
            "grid_auto_rows": null,
            "grid_column": null,
            "grid_gap": null,
            "grid_row": null,
            "grid_template_areas": null,
            "grid_template_columns": null,
            "grid_template_rows": null,
            "height": null,
            "justify_content": null,
            "justify_items": null,
            "left": null,
            "margin": null,
            "max_height": null,
            "max_width": null,
            "min_height": null,
            "min_width": null,
            "object_fit": null,
            "object_position": null,
            "order": null,
            "overflow": null,
            "overflow_x": null,
            "overflow_y": null,
            "padding": null,
            "right": null,
            "top": null,
            "visibility": null,
            "width": null
          }
        },
        "a279986419244eca865b23d95ff3ed63": {
          "model_module": "@jupyter-widgets/controls",
          "model_name": "ProgressStyleModel",
          "model_module_version": "1.5.0",
          "state": {
            "_model_module": "@jupyter-widgets/controls",
            "_model_module_version": "1.5.0",
            "_model_name": "ProgressStyleModel",
            "_view_count": null,
            "_view_module": "@jupyter-widgets/base",
            "_view_module_version": "1.2.0",
            "_view_name": "StyleView",
            "bar_color": null,
            "description_width": ""
          }
        },
        "d9d4e842f6c747c28aa6351b299245bb": {
          "model_module": "@jupyter-widgets/base",
          "model_name": "LayoutModel",
          "model_module_version": "1.2.0",
          "state": {
            "_model_module": "@jupyter-widgets/base",
            "_model_module_version": "1.2.0",
            "_model_name": "LayoutModel",
            "_view_count": null,
            "_view_module": "@jupyter-widgets/base",
            "_view_module_version": "1.2.0",
            "_view_name": "LayoutView",
            "align_content": null,
            "align_items": null,
            "align_self": null,
            "border": null,
            "bottom": null,
            "display": null,
            "flex": null,
            "flex_flow": null,
            "grid_area": null,
            "grid_auto_columns": null,
            "grid_auto_flow": null,
            "grid_auto_rows": null,
            "grid_column": null,
            "grid_gap": null,
            "grid_row": null,
            "grid_template_areas": null,
            "grid_template_columns": null,
            "grid_template_rows": null,
            "height": null,
            "justify_content": null,
            "justify_items": null,
            "left": null,
            "margin": null,
            "max_height": null,
            "max_width": null,
            "min_height": null,
            "min_width": null,
            "object_fit": null,
            "object_position": null,
            "order": null,
            "overflow": null,
            "overflow_x": null,
            "overflow_y": null,
            "padding": null,
            "right": null,
            "top": null,
            "visibility": null,
            "width": null
          }
        },
        "4581d4eae8b64993b8695c18671af9c2": {
          "model_module": "@jupyter-widgets/controls",
          "model_name": "DescriptionStyleModel",
          "model_module_version": "1.5.0",
          "state": {
            "_model_module": "@jupyter-widgets/controls",
            "_model_module_version": "1.5.0",
            "_model_name": "DescriptionStyleModel",
            "_view_count": null,
            "_view_module": "@jupyter-widgets/base",
            "_view_module_version": "1.2.0",
            "_view_name": "StyleView",
            "description_width": ""
          }
        },
        "691c7f8d054542a5859592be13ec9df6": {
          "model_module": "@jupyter-widgets/controls",
          "model_name": "HBoxModel",
          "model_module_version": "1.5.0",
          "state": {
            "_dom_classes": [],
            "_model_module": "@jupyter-widgets/controls",
            "_model_module_version": "1.5.0",
            "_model_name": "HBoxModel",
            "_view_count": null,
            "_view_module": "@jupyter-widgets/controls",
            "_view_module_version": "1.5.0",
            "_view_name": "HBoxView",
            "box_style": "",
            "children": [
              "IPY_MODEL_b2f4b57800f649e6b299d186dc1133dd",
              "IPY_MODEL_ad0b197e0cb545838e7466c25409e3e3",
              "IPY_MODEL_0146d22002c046ffac38ab33144d1ff1"
            ],
            "layout": "IPY_MODEL_9710dd9309bf4fb98fa2ce4d2739cade"
          }
        },
        "b2f4b57800f649e6b299d186dc1133dd": {
          "model_module": "@jupyter-widgets/controls",
          "model_name": "HTMLModel",
          "model_module_version": "1.5.0",
          "state": {
            "_dom_classes": [],
            "_model_module": "@jupyter-widgets/controls",
            "_model_module_version": "1.5.0",
            "_model_name": "HTMLModel",
            "_view_count": null,
            "_view_module": "@jupyter-widgets/controls",
            "_view_module_version": "1.5.0",
            "_view_name": "HTMLView",
            "description": "",
            "description_tooltip": null,
            "layout": "IPY_MODEL_bb79489f65294cda90b9952d245acd7d",
            "placeholder": "​",
            "style": "IPY_MODEL_c72f30a44faf435aae3af9f1d44cc72c",
            "value": "Downloading (…)olve/main/merges.txt: 100%"
          }
        },
        "ad0b197e0cb545838e7466c25409e3e3": {
          "model_module": "@jupyter-widgets/controls",
          "model_name": "FloatProgressModel",
          "model_module_version": "1.5.0",
          "state": {
            "_dom_classes": [],
            "_model_module": "@jupyter-widgets/controls",
            "_model_module_version": "1.5.0",
            "_model_name": "FloatProgressModel",
            "_view_count": null,
            "_view_module": "@jupyter-widgets/controls",
            "_view_module_version": "1.5.0",
            "_view_name": "ProgressView",
            "bar_style": "success",
            "description": "",
            "description_tooltip": null,
            "layout": "IPY_MODEL_d2f5fd0a313440438b2b9155b79520d9",
            "max": 456318,
            "min": 0,
            "orientation": "horizontal",
            "style": "IPY_MODEL_1373a027179448ec8da316f7f77e8e7d",
            "value": 456318
          }
        },
        "0146d22002c046ffac38ab33144d1ff1": {
          "model_module": "@jupyter-widgets/controls",
          "model_name": "HTMLModel",
          "model_module_version": "1.5.0",
          "state": {
            "_dom_classes": [],
            "_model_module": "@jupyter-widgets/controls",
            "_model_module_version": "1.5.0",
            "_model_name": "HTMLModel",
            "_view_count": null,
            "_view_module": "@jupyter-widgets/controls",
            "_view_module_version": "1.5.0",
            "_view_name": "HTMLView",
            "description": "",
            "description_tooltip": null,
            "layout": "IPY_MODEL_4d76f90671744e08a278dd4fe9e71891",
            "placeholder": "​",
            "style": "IPY_MODEL_d8d807ef34694699a6e682cfe42490c7",
            "value": " 456k/456k [00:00&lt;00:00, 4.51MB/s]"
          }
        },
        "9710dd9309bf4fb98fa2ce4d2739cade": {
          "model_module": "@jupyter-widgets/base",
          "model_name": "LayoutModel",
          "model_module_version": "1.2.0",
          "state": {
            "_model_module": "@jupyter-widgets/base",
            "_model_module_version": "1.2.0",
            "_model_name": "LayoutModel",
            "_view_count": null,
            "_view_module": "@jupyter-widgets/base",
            "_view_module_version": "1.2.0",
            "_view_name": "LayoutView",
            "align_content": null,
            "align_items": null,
            "align_self": null,
            "border": null,
            "bottom": null,
            "display": null,
            "flex": null,
            "flex_flow": null,
            "grid_area": null,
            "grid_auto_columns": null,
            "grid_auto_flow": null,
            "grid_auto_rows": null,
            "grid_column": null,
            "grid_gap": null,
            "grid_row": null,
            "grid_template_areas": null,
            "grid_template_columns": null,
            "grid_template_rows": null,
            "height": null,
            "justify_content": null,
            "justify_items": null,
            "left": null,
            "margin": null,
            "max_height": null,
            "max_width": null,
            "min_height": null,
            "min_width": null,
            "object_fit": null,
            "object_position": null,
            "order": null,
            "overflow": null,
            "overflow_x": null,
            "overflow_y": null,
            "padding": null,
            "right": null,
            "top": null,
            "visibility": null,
            "width": null
          }
        },
        "bb79489f65294cda90b9952d245acd7d": {
          "model_module": "@jupyter-widgets/base",
          "model_name": "LayoutModel",
          "model_module_version": "1.2.0",
          "state": {
            "_model_module": "@jupyter-widgets/base",
            "_model_module_version": "1.2.0",
            "_model_name": "LayoutModel",
            "_view_count": null,
            "_view_module": "@jupyter-widgets/base",
            "_view_module_version": "1.2.0",
            "_view_name": "LayoutView",
            "align_content": null,
            "align_items": null,
            "align_self": null,
            "border": null,
            "bottom": null,
            "display": null,
            "flex": null,
            "flex_flow": null,
            "grid_area": null,
            "grid_auto_columns": null,
            "grid_auto_flow": null,
            "grid_auto_rows": null,
            "grid_column": null,
            "grid_gap": null,
            "grid_row": null,
            "grid_template_areas": null,
            "grid_template_columns": null,
            "grid_template_rows": null,
            "height": null,
            "justify_content": null,
            "justify_items": null,
            "left": null,
            "margin": null,
            "max_height": null,
            "max_width": null,
            "min_height": null,
            "min_width": null,
            "object_fit": null,
            "object_position": null,
            "order": null,
            "overflow": null,
            "overflow_x": null,
            "overflow_y": null,
            "padding": null,
            "right": null,
            "top": null,
            "visibility": null,
            "width": null
          }
        },
        "c72f30a44faf435aae3af9f1d44cc72c": {
          "model_module": "@jupyter-widgets/controls",
          "model_name": "DescriptionStyleModel",
          "model_module_version": "1.5.0",
          "state": {
            "_model_module": "@jupyter-widgets/controls",
            "_model_module_version": "1.5.0",
            "_model_name": "DescriptionStyleModel",
            "_view_count": null,
            "_view_module": "@jupyter-widgets/base",
            "_view_module_version": "1.2.0",
            "_view_name": "StyleView",
            "description_width": ""
          }
        },
        "d2f5fd0a313440438b2b9155b79520d9": {
          "model_module": "@jupyter-widgets/base",
          "model_name": "LayoutModel",
          "model_module_version": "1.2.0",
          "state": {
            "_model_module": "@jupyter-widgets/base",
            "_model_module_version": "1.2.0",
            "_model_name": "LayoutModel",
            "_view_count": null,
            "_view_module": "@jupyter-widgets/base",
            "_view_module_version": "1.2.0",
            "_view_name": "LayoutView",
            "align_content": null,
            "align_items": null,
            "align_self": null,
            "border": null,
            "bottom": null,
            "display": null,
            "flex": null,
            "flex_flow": null,
            "grid_area": null,
            "grid_auto_columns": null,
            "grid_auto_flow": null,
            "grid_auto_rows": null,
            "grid_column": null,
            "grid_gap": null,
            "grid_row": null,
            "grid_template_areas": null,
            "grid_template_columns": null,
            "grid_template_rows": null,
            "height": null,
            "justify_content": null,
            "justify_items": null,
            "left": null,
            "margin": null,
            "max_height": null,
            "max_width": null,
            "min_height": null,
            "min_width": null,
            "object_fit": null,
            "object_position": null,
            "order": null,
            "overflow": null,
            "overflow_x": null,
            "overflow_y": null,
            "padding": null,
            "right": null,
            "top": null,
            "visibility": null,
            "width": null
          }
        },
        "1373a027179448ec8da316f7f77e8e7d": {
          "model_module": "@jupyter-widgets/controls",
          "model_name": "ProgressStyleModel",
          "model_module_version": "1.5.0",
          "state": {
            "_model_module": "@jupyter-widgets/controls",
            "_model_module_version": "1.5.0",
            "_model_name": "ProgressStyleModel",
            "_view_count": null,
            "_view_module": "@jupyter-widgets/base",
            "_view_module_version": "1.2.0",
            "_view_name": "StyleView",
            "bar_color": null,
            "description_width": ""
          }
        },
        "4d76f90671744e08a278dd4fe9e71891": {
          "model_module": "@jupyter-widgets/base",
          "model_name": "LayoutModel",
          "model_module_version": "1.2.0",
          "state": {
            "_model_module": "@jupyter-widgets/base",
            "_model_module_version": "1.2.0",
            "_model_name": "LayoutModel",
            "_view_count": null,
            "_view_module": "@jupyter-widgets/base",
            "_view_module_version": "1.2.0",
            "_view_name": "LayoutView",
            "align_content": null,
            "align_items": null,
            "align_self": null,
            "border": null,
            "bottom": null,
            "display": null,
            "flex": null,
            "flex_flow": null,
            "grid_area": null,
            "grid_auto_columns": null,
            "grid_auto_flow": null,
            "grid_auto_rows": null,
            "grid_column": null,
            "grid_gap": null,
            "grid_row": null,
            "grid_template_areas": null,
            "grid_template_columns": null,
            "grid_template_rows": null,
            "height": null,
            "justify_content": null,
            "justify_items": null,
            "left": null,
            "margin": null,
            "max_height": null,
            "max_width": null,
            "min_height": null,
            "min_width": null,
            "object_fit": null,
            "object_position": null,
            "order": null,
            "overflow": null,
            "overflow_x": null,
            "overflow_y": null,
            "padding": null,
            "right": null,
            "top": null,
            "visibility": null,
            "width": null
          }
        },
        "d8d807ef34694699a6e682cfe42490c7": {
          "model_module": "@jupyter-widgets/controls",
          "model_name": "DescriptionStyleModel",
          "model_module_version": "1.5.0",
          "state": {
            "_model_module": "@jupyter-widgets/controls",
            "_model_module_version": "1.5.0",
            "_model_name": "DescriptionStyleModel",
            "_view_count": null,
            "_view_module": "@jupyter-widgets/base",
            "_view_module_version": "1.2.0",
            "_view_name": "StyleView",
            "description_width": ""
          }
        },
        "7883f63b62db443f99e93386013a45c3": {
          "model_module": "@jupyter-widgets/controls",
          "model_name": "HBoxModel",
          "model_module_version": "1.5.0",
          "state": {
            "_dom_classes": [],
            "_model_module": "@jupyter-widgets/controls",
            "_model_module_version": "1.5.0",
            "_model_name": "HBoxModel",
            "_view_count": null,
            "_view_module": "@jupyter-widgets/controls",
            "_view_module_version": "1.5.0",
            "_view_name": "HBoxView",
            "box_style": "",
            "children": [
              "IPY_MODEL_33d832a9729341d9a08c20df388ebe35",
              "IPY_MODEL_acaed442c5cf46cdb1a3eceebc493e52",
              "IPY_MODEL_00e67176012f4a97a78bb4e8d93d1136"
            ],
            "layout": "IPY_MODEL_748305866d9b4efcb0c020a7154ae8a9"
          }
        },
        "33d832a9729341d9a08c20df388ebe35": {
          "model_module": "@jupyter-widgets/controls",
          "model_name": "HTMLModel",
          "model_module_version": "1.5.0",
          "state": {
            "_dom_classes": [],
            "_model_module": "@jupyter-widgets/controls",
            "_model_module_version": "1.5.0",
            "_model_name": "HTMLModel",
            "_view_count": null,
            "_view_module": "@jupyter-widgets/controls",
            "_view_module_version": "1.5.0",
            "_view_name": "HTMLView",
            "description": "",
            "description_tooltip": null,
            "layout": "IPY_MODEL_c7a061cd845d4649840683a67b909724",
            "placeholder": "​",
            "style": "IPY_MODEL_728052a170a140a5af58f7e0392644eb",
            "value": "Downloading (…)lve/main/config.json: 100%"
          }
        },
        "acaed442c5cf46cdb1a3eceebc493e52": {
          "model_module": "@jupyter-widgets/controls",
          "model_name": "FloatProgressModel",
          "model_module_version": "1.5.0",
          "state": {
            "_dom_classes": [],
            "_model_module": "@jupyter-widgets/controls",
            "_model_module_version": "1.5.0",
            "_model_name": "FloatProgressModel",
            "_view_count": null,
            "_view_module": "@jupyter-widgets/controls",
            "_view_module_version": "1.5.0",
            "_view_name": "ProgressView",
            "bar_style": "success",
            "description": "",
            "description_tooltip": null,
            "layout": "IPY_MODEL_d4b03cefeea1496aab9e9f8e07610000",
            "max": 481,
            "min": 0,
            "orientation": "horizontal",
            "style": "IPY_MODEL_b2420daf015e4f47b7c7d894d9186a93",
            "value": 481
          }
        },
        "00e67176012f4a97a78bb4e8d93d1136": {
          "model_module": "@jupyter-widgets/controls",
          "model_name": "HTMLModel",
          "model_module_version": "1.5.0",
          "state": {
            "_dom_classes": [],
            "_model_module": "@jupyter-widgets/controls",
            "_model_module_version": "1.5.0",
            "_model_name": "HTMLModel",
            "_view_count": null,
            "_view_module": "@jupyter-widgets/controls",
            "_view_module_version": "1.5.0",
            "_view_name": "HTMLView",
            "description": "",
            "description_tooltip": null,
            "layout": "IPY_MODEL_f3696a45a67a4333a02fecccbb8ff3fc",
            "placeholder": "​",
            "style": "IPY_MODEL_1a553f68e4ae4ca8972798d09cf8fc4c",
            "value": " 481/481 [00:00&lt;00:00, 32.4kB/s]"
          }
        },
        "748305866d9b4efcb0c020a7154ae8a9": {
          "model_module": "@jupyter-widgets/base",
          "model_name": "LayoutModel",
          "model_module_version": "1.2.0",
          "state": {
            "_model_module": "@jupyter-widgets/base",
            "_model_module_version": "1.2.0",
            "_model_name": "LayoutModel",
            "_view_count": null,
            "_view_module": "@jupyter-widgets/base",
            "_view_module_version": "1.2.0",
            "_view_name": "LayoutView",
            "align_content": null,
            "align_items": null,
            "align_self": null,
            "border": null,
            "bottom": null,
            "display": null,
            "flex": null,
            "flex_flow": null,
            "grid_area": null,
            "grid_auto_columns": null,
            "grid_auto_flow": null,
            "grid_auto_rows": null,
            "grid_column": null,
            "grid_gap": null,
            "grid_row": null,
            "grid_template_areas": null,
            "grid_template_columns": null,
            "grid_template_rows": null,
            "height": null,
            "justify_content": null,
            "justify_items": null,
            "left": null,
            "margin": null,
            "max_height": null,
            "max_width": null,
            "min_height": null,
            "min_width": null,
            "object_fit": null,
            "object_position": null,
            "order": null,
            "overflow": null,
            "overflow_x": null,
            "overflow_y": null,
            "padding": null,
            "right": null,
            "top": null,
            "visibility": null,
            "width": null
          }
        },
        "c7a061cd845d4649840683a67b909724": {
          "model_module": "@jupyter-widgets/base",
          "model_name": "LayoutModel",
          "model_module_version": "1.2.0",
          "state": {
            "_model_module": "@jupyter-widgets/base",
            "_model_module_version": "1.2.0",
            "_model_name": "LayoutModel",
            "_view_count": null,
            "_view_module": "@jupyter-widgets/base",
            "_view_module_version": "1.2.0",
            "_view_name": "LayoutView",
            "align_content": null,
            "align_items": null,
            "align_self": null,
            "border": null,
            "bottom": null,
            "display": null,
            "flex": null,
            "flex_flow": null,
            "grid_area": null,
            "grid_auto_columns": null,
            "grid_auto_flow": null,
            "grid_auto_rows": null,
            "grid_column": null,
            "grid_gap": null,
            "grid_row": null,
            "grid_template_areas": null,
            "grid_template_columns": null,
            "grid_template_rows": null,
            "height": null,
            "justify_content": null,
            "justify_items": null,
            "left": null,
            "margin": null,
            "max_height": null,
            "max_width": null,
            "min_height": null,
            "min_width": null,
            "object_fit": null,
            "object_position": null,
            "order": null,
            "overflow": null,
            "overflow_x": null,
            "overflow_y": null,
            "padding": null,
            "right": null,
            "top": null,
            "visibility": null,
            "width": null
          }
        },
        "728052a170a140a5af58f7e0392644eb": {
          "model_module": "@jupyter-widgets/controls",
          "model_name": "DescriptionStyleModel",
          "model_module_version": "1.5.0",
          "state": {
            "_model_module": "@jupyter-widgets/controls",
            "_model_module_version": "1.5.0",
            "_model_name": "DescriptionStyleModel",
            "_view_count": null,
            "_view_module": "@jupyter-widgets/base",
            "_view_module_version": "1.2.0",
            "_view_name": "StyleView",
            "description_width": ""
          }
        },
        "d4b03cefeea1496aab9e9f8e07610000": {
          "model_module": "@jupyter-widgets/base",
          "model_name": "LayoutModel",
          "model_module_version": "1.2.0",
          "state": {
            "_model_module": "@jupyter-widgets/base",
            "_model_module_version": "1.2.0",
            "_model_name": "LayoutModel",
            "_view_count": null,
            "_view_module": "@jupyter-widgets/base",
            "_view_module_version": "1.2.0",
            "_view_name": "LayoutView",
            "align_content": null,
            "align_items": null,
            "align_self": null,
            "border": null,
            "bottom": null,
            "display": null,
            "flex": null,
            "flex_flow": null,
            "grid_area": null,
            "grid_auto_columns": null,
            "grid_auto_flow": null,
            "grid_auto_rows": null,
            "grid_column": null,
            "grid_gap": null,
            "grid_row": null,
            "grid_template_areas": null,
            "grid_template_columns": null,
            "grid_template_rows": null,
            "height": null,
            "justify_content": null,
            "justify_items": null,
            "left": null,
            "margin": null,
            "max_height": null,
            "max_width": null,
            "min_height": null,
            "min_width": null,
            "object_fit": null,
            "object_position": null,
            "order": null,
            "overflow": null,
            "overflow_x": null,
            "overflow_y": null,
            "padding": null,
            "right": null,
            "top": null,
            "visibility": null,
            "width": null
          }
        },
        "b2420daf015e4f47b7c7d894d9186a93": {
          "model_module": "@jupyter-widgets/controls",
          "model_name": "ProgressStyleModel",
          "model_module_version": "1.5.0",
          "state": {
            "_model_module": "@jupyter-widgets/controls",
            "_model_module_version": "1.5.0",
            "_model_name": "ProgressStyleModel",
            "_view_count": null,
            "_view_module": "@jupyter-widgets/base",
            "_view_module_version": "1.2.0",
            "_view_name": "StyleView",
            "bar_color": null,
            "description_width": ""
          }
        },
        "f3696a45a67a4333a02fecccbb8ff3fc": {
          "model_module": "@jupyter-widgets/base",
          "model_name": "LayoutModel",
          "model_module_version": "1.2.0",
          "state": {
            "_model_module": "@jupyter-widgets/base",
            "_model_module_version": "1.2.0",
            "_model_name": "LayoutModel",
            "_view_count": null,
            "_view_module": "@jupyter-widgets/base",
            "_view_module_version": "1.2.0",
            "_view_name": "LayoutView",
            "align_content": null,
            "align_items": null,
            "align_self": null,
            "border": null,
            "bottom": null,
            "display": null,
            "flex": null,
            "flex_flow": null,
            "grid_area": null,
            "grid_auto_columns": null,
            "grid_auto_flow": null,
            "grid_auto_rows": null,
            "grid_column": null,
            "grid_gap": null,
            "grid_row": null,
            "grid_template_areas": null,
            "grid_template_columns": null,
            "grid_template_rows": null,
            "height": null,
            "justify_content": null,
            "justify_items": null,
            "left": null,
            "margin": null,
            "max_height": null,
            "max_width": null,
            "min_height": null,
            "min_width": null,
            "object_fit": null,
            "object_position": null,
            "order": null,
            "overflow": null,
            "overflow_x": null,
            "overflow_y": null,
            "padding": null,
            "right": null,
            "top": null,
            "visibility": null,
            "width": null
          }
        },
        "1a553f68e4ae4ca8972798d09cf8fc4c": {
          "model_module": "@jupyter-widgets/controls",
          "model_name": "DescriptionStyleModel",
          "model_module_version": "1.5.0",
          "state": {
            "_model_module": "@jupyter-widgets/controls",
            "_model_module_version": "1.5.0",
            "_model_name": "DescriptionStyleModel",
            "_view_count": null,
            "_view_module": "@jupyter-widgets/base",
            "_view_module_version": "1.2.0",
            "_view_name": "StyleView",
            "description_width": ""
          }
        },
        "5500e7a76f5345c4a89870675b8f6453": {
          "model_module": "@jupyter-widgets/controls",
          "model_name": "HBoxModel",
          "model_module_version": "1.5.0",
          "state": {
            "_dom_classes": [],
            "_model_module": "@jupyter-widgets/controls",
            "_model_module_version": "1.5.0",
            "_model_name": "HBoxModel",
            "_view_count": null,
            "_view_module": "@jupyter-widgets/controls",
            "_view_module_version": "1.5.0",
            "_view_name": "HBoxView",
            "box_style": "",
            "children": [
              "IPY_MODEL_a7bae32de33448408d578374626b36eb",
              "IPY_MODEL_413044330e4b403496e90bd361b22d11",
              "IPY_MODEL_be4746f7868a42a4b9e9216ca2704590"
            ],
            "layout": "IPY_MODEL_11da005025714df8b6effbe14a053e6f"
          }
        },
        "a7bae32de33448408d578374626b36eb": {
          "model_module": "@jupyter-widgets/controls",
          "model_name": "HTMLModel",
          "model_module_version": "1.5.0",
          "state": {
            "_dom_classes": [],
            "_model_module": "@jupyter-widgets/controls",
            "_model_module_version": "1.5.0",
            "_model_name": "HTMLModel",
            "_view_count": null,
            "_view_module": "@jupyter-widgets/controls",
            "_view_module_version": "1.5.0",
            "_view_name": "HTMLView",
            "description": "",
            "description_tooltip": null,
            "layout": "IPY_MODEL_df284b59c62248e9a225e77a90a1c110",
            "placeholder": "​",
            "style": "IPY_MODEL_08aac7848daf45fea34245bfecb14fca",
            "value": "Downloading tf_model.h5: 100%"
          }
        },
        "413044330e4b403496e90bd361b22d11": {
          "model_module": "@jupyter-widgets/controls",
          "model_name": "FloatProgressModel",
          "model_module_version": "1.5.0",
          "state": {
            "_dom_classes": [],
            "_model_module": "@jupyter-widgets/controls",
            "_model_module_version": "1.5.0",
            "_model_name": "FloatProgressModel",
            "_view_count": null,
            "_view_module": "@jupyter-widgets/controls",
            "_view_module_version": "1.5.0",
            "_view_name": "ProgressView",
            "bar_style": "success",
            "description": "",
            "description_tooltip": null,
            "layout": "IPY_MODEL_ef73f0d0a9314e3bb8f0e828dec9a77f",
            "max": 657434796,
            "min": 0,
            "orientation": "horizontal",
            "style": "IPY_MODEL_67d7853844c14771b84225590fb9c3bb",
            "value": 657434796
          }
        },
        "be4746f7868a42a4b9e9216ca2704590": {
          "model_module": "@jupyter-widgets/controls",
          "model_name": "HTMLModel",
          "model_module_version": "1.5.0",
          "state": {
            "_dom_classes": [],
            "_model_module": "@jupyter-widgets/controls",
            "_model_module_version": "1.5.0",
            "_model_name": "HTMLModel",
            "_view_count": null,
            "_view_module": "@jupyter-widgets/controls",
            "_view_module_version": "1.5.0",
            "_view_name": "HTMLView",
            "description": "",
            "description_tooltip": null,
            "layout": "IPY_MODEL_cb85352d4d814eabb7695b7e736603bb",
            "placeholder": "​",
            "style": "IPY_MODEL_e41d2e400e394f26b2845a77051bd268",
            "value": " 657M/657M [00:05&lt;00:00, 134MB/s]"
          }
        },
        "11da005025714df8b6effbe14a053e6f": {
          "model_module": "@jupyter-widgets/base",
          "model_name": "LayoutModel",
          "model_module_version": "1.2.0",
          "state": {
            "_model_module": "@jupyter-widgets/base",
            "_model_module_version": "1.2.0",
            "_model_name": "LayoutModel",
            "_view_count": null,
            "_view_module": "@jupyter-widgets/base",
            "_view_module_version": "1.2.0",
            "_view_name": "LayoutView",
            "align_content": null,
            "align_items": null,
            "align_self": null,
            "border": null,
            "bottom": null,
            "display": null,
            "flex": null,
            "flex_flow": null,
            "grid_area": null,
            "grid_auto_columns": null,
            "grid_auto_flow": null,
            "grid_auto_rows": null,
            "grid_column": null,
            "grid_gap": null,
            "grid_row": null,
            "grid_template_areas": null,
            "grid_template_columns": null,
            "grid_template_rows": null,
            "height": null,
            "justify_content": null,
            "justify_items": null,
            "left": null,
            "margin": null,
            "max_height": null,
            "max_width": null,
            "min_height": null,
            "min_width": null,
            "object_fit": null,
            "object_position": null,
            "order": null,
            "overflow": null,
            "overflow_x": null,
            "overflow_y": null,
            "padding": null,
            "right": null,
            "top": null,
            "visibility": null,
            "width": null
          }
        },
        "df284b59c62248e9a225e77a90a1c110": {
          "model_module": "@jupyter-widgets/base",
          "model_name": "LayoutModel",
          "model_module_version": "1.2.0",
          "state": {
            "_model_module": "@jupyter-widgets/base",
            "_model_module_version": "1.2.0",
            "_model_name": "LayoutModel",
            "_view_count": null,
            "_view_module": "@jupyter-widgets/base",
            "_view_module_version": "1.2.0",
            "_view_name": "LayoutView",
            "align_content": null,
            "align_items": null,
            "align_self": null,
            "border": null,
            "bottom": null,
            "display": null,
            "flex": null,
            "flex_flow": null,
            "grid_area": null,
            "grid_auto_columns": null,
            "grid_auto_flow": null,
            "grid_auto_rows": null,
            "grid_column": null,
            "grid_gap": null,
            "grid_row": null,
            "grid_template_areas": null,
            "grid_template_columns": null,
            "grid_template_rows": null,
            "height": null,
            "justify_content": null,
            "justify_items": null,
            "left": null,
            "margin": null,
            "max_height": null,
            "max_width": null,
            "min_height": null,
            "min_width": null,
            "object_fit": null,
            "object_position": null,
            "order": null,
            "overflow": null,
            "overflow_x": null,
            "overflow_y": null,
            "padding": null,
            "right": null,
            "top": null,
            "visibility": null,
            "width": null
          }
        },
        "08aac7848daf45fea34245bfecb14fca": {
          "model_module": "@jupyter-widgets/controls",
          "model_name": "DescriptionStyleModel",
          "model_module_version": "1.5.0",
          "state": {
            "_model_module": "@jupyter-widgets/controls",
            "_model_module_version": "1.5.0",
            "_model_name": "DescriptionStyleModel",
            "_view_count": null,
            "_view_module": "@jupyter-widgets/base",
            "_view_module_version": "1.2.0",
            "_view_name": "StyleView",
            "description_width": ""
          }
        },
        "ef73f0d0a9314e3bb8f0e828dec9a77f": {
          "model_module": "@jupyter-widgets/base",
          "model_name": "LayoutModel",
          "model_module_version": "1.2.0",
          "state": {
            "_model_module": "@jupyter-widgets/base",
            "_model_module_version": "1.2.0",
            "_model_name": "LayoutModel",
            "_view_count": null,
            "_view_module": "@jupyter-widgets/base",
            "_view_module_version": "1.2.0",
            "_view_name": "LayoutView",
            "align_content": null,
            "align_items": null,
            "align_self": null,
            "border": null,
            "bottom": null,
            "display": null,
            "flex": null,
            "flex_flow": null,
            "grid_area": null,
            "grid_auto_columns": null,
            "grid_auto_flow": null,
            "grid_auto_rows": null,
            "grid_column": null,
            "grid_gap": null,
            "grid_row": null,
            "grid_template_areas": null,
            "grid_template_columns": null,
            "grid_template_rows": null,
            "height": null,
            "justify_content": null,
            "justify_items": null,
            "left": null,
            "margin": null,
            "max_height": null,
            "max_width": null,
            "min_height": null,
            "min_width": null,
            "object_fit": null,
            "object_position": null,
            "order": null,
            "overflow": null,
            "overflow_x": null,
            "overflow_y": null,
            "padding": null,
            "right": null,
            "top": null,
            "visibility": null,
            "width": null
          }
        },
        "67d7853844c14771b84225590fb9c3bb": {
          "model_module": "@jupyter-widgets/controls",
          "model_name": "ProgressStyleModel",
          "model_module_version": "1.5.0",
          "state": {
            "_model_module": "@jupyter-widgets/controls",
            "_model_module_version": "1.5.0",
            "_model_name": "ProgressStyleModel",
            "_view_count": null,
            "_view_module": "@jupyter-widgets/base",
            "_view_module_version": "1.2.0",
            "_view_name": "StyleView",
            "bar_color": null,
            "description_width": ""
          }
        },
        "cb85352d4d814eabb7695b7e736603bb": {
          "model_module": "@jupyter-widgets/base",
          "model_name": "LayoutModel",
          "model_module_version": "1.2.0",
          "state": {
            "_model_module": "@jupyter-widgets/base",
            "_model_module_version": "1.2.0",
            "_model_name": "LayoutModel",
            "_view_count": null,
            "_view_module": "@jupyter-widgets/base",
            "_view_module_version": "1.2.0",
            "_view_name": "LayoutView",
            "align_content": null,
            "align_items": null,
            "align_self": null,
            "border": null,
            "bottom": null,
            "display": null,
            "flex": null,
            "flex_flow": null,
            "grid_area": null,
            "grid_auto_columns": null,
            "grid_auto_flow": null,
            "grid_auto_rows": null,
            "grid_column": null,
            "grid_gap": null,
            "grid_row": null,
            "grid_template_areas": null,
            "grid_template_columns": null,
            "grid_template_rows": null,
            "height": null,
            "justify_content": null,
            "justify_items": null,
            "left": null,
            "margin": null,
            "max_height": null,
            "max_width": null,
            "min_height": null,
            "min_width": null,
            "object_fit": null,
            "object_position": null,
            "order": null,
            "overflow": null,
            "overflow_x": null,
            "overflow_y": null,
            "padding": null,
            "right": null,
            "top": null,
            "visibility": null,
            "width": null
          }
        },
        "e41d2e400e394f26b2845a77051bd268": {
          "model_module": "@jupyter-widgets/controls",
          "model_name": "DescriptionStyleModel",
          "model_module_version": "1.5.0",
          "state": {
            "_model_module": "@jupyter-widgets/controls",
            "_model_module_version": "1.5.0",
            "_model_name": "DescriptionStyleModel",
            "_view_count": null,
            "_view_module": "@jupyter-widgets/base",
            "_view_module_version": "1.2.0",
            "_view_name": "StyleView",
            "description_width": ""
          }
        },
        "358eee69c2d84df7a57789d7a1af71e7": {
          "model_module": "@jupyter-widgets/controls",
          "model_name": "HBoxModel",
          "model_module_version": "1.5.0",
          "state": {
            "_dom_classes": [],
            "_model_module": "@jupyter-widgets/controls",
            "_model_module_version": "1.5.0",
            "_model_name": "HBoxModel",
            "_view_count": null,
            "_view_module": "@jupyter-widgets/controls",
            "_view_module_version": "1.5.0",
            "_view_name": "HBoxView",
            "box_style": "",
            "children": [
              "IPY_MODEL_d129b701331549ca876cf0dcf68128df",
              "IPY_MODEL_31a4a5290ef74d6684666e363af34515",
              "IPY_MODEL_3be9f96269854d2d9976ca244761c67d"
            ],
            "layout": "IPY_MODEL_0529a585e03b4ada9337f65ac7853bbb"
          }
        },
        "d129b701331549ca876cf0dcf68128df": {
          "model_module": "@jupyter-widgets/controls",
          "model_name": "HTMLModel",
          "model_module_version": "1.5.0",
          "state": {
            "_dom_classes": [],
            "_model_module": "@jupyter-widgets/controls",
            "_model_module_version": "1.5.0",
            "_model_name": "HTMLModel",
            "_view_count": null,
            "_view_module": "@jupyter-widgets/controls",
            "_view_module_version": "1.5.0",
            "_view_name": "HTMLView",
            "description": "",
            "description_tooltip": null,
            "layout": "IPY_MODEL_feee42395c774c69b21e3d11167eee9a",
            "placeholder": "​",
            "style": "IPY_MODEL_1beae0cced8347b39704cc2f841fef5b",
            "value": "Downloading (…)lve/main/config.json: 100%"
          }
        },
        "31a4a5290ef74d6684666e363af34515": {
          "model_module": "@jupyter-widgets/controls",
          "model_name": "FloatProgressModel",
          "model_module_version": "1.5.0",
          "state": {
            "_dom_classes": [],
            "_model_module": "@jupyter-widgets/controls",
            "_model_module_version": "1.5.0",
            "_model_name": "FloatProgressModel",
            "_view_count": null,
            "_view_module": "@jupyter-widgets/controls",
            "_view_module_version": "1.5.0",
            "_view_name": "ProgressView",
            "bar_style": "success",
            "description": "",
            "description_tooltip": null,
            "layout": "IPY_MODEL_c6cea9ad1bc6484d95d30499451ad809",
            "max": 1208,
            "min": 0,
            "orientation": "horizontal",
            "style": "IPY_MODEL_ee82013eadf24fc3b951b33f82d9d0a8",
            "value": 1208
          }
        },
        "3be9f96269854d2d9976ca244761c67d": {
          "model_module": "@jupyter-widgets/controls",
          "model_name": "HTMLModel",
          "model_module_version": "1.5.0",
          "state": {
            "_dom_classes": [],
            "_model_module": "@jupyter-widgets/controls",
            "_model_module_version": "1.5.0",
            "_model_name": "HTMLModel",
            "_view_count": null,
            "_view_module": "@jupyter-widgets/controls",
            "_view_module_version": "1.5.0",
            "_view_name": "HTMLView",
            "description": "",
            "description_tooltip": null,
            "layout": "IPY_MODEL_42fdfbc7185e4e77bdc2154fa755d859",
            "placeholder": "​",
            "style": "IPY_MODEL_432b094f9df34711932eac425ad37b53",
            "value": " 1.21k/1.21k [00:00&lt;00:00, 60.1kB/s]"
          }
        },
        "0529a585e03b4ada9337f65ac7853bbb": {
          "model_module": "@jupyter-widgets/base",
          "model_name": "LayoutModel",
          "model_module_version": "1.2.0",
          "state": {
            "_model_module": "@jupyter-widgets/base",
            "_model_module_version": "1.2.0",
            "_model_name": "LayoutModel",
            "_view_count": null,
            "_view_module": "@jupyter-widgets/base",
            "_view_module_version": "1.2.0",
            "_view_name": "LayoutView",
            "align_content": null,
            "align_items": null,
            "align_self": null,
            "border": null,
            "bottom": null,
            "display": null,
            "flex": null,
            "flex_flow": null,
            "grid_area": null,
            "grid_auto_columns": null,
            "grid_auto_flow": null,
            "grid_auto_rows": null,
            "grid_column": null,
            "grid_gap": null,
            "grid_row": null,
            "grid_template_areas": null,
            "grid_template_columns": null,
            "grid_template_rows": null,
            "height": null,
            "justify_content": null,
            "justify_items": null,
            "left": null,
            "margin": null,
            "max_height": null,
            "max_width": null,
            "min_height": null,
            "min_width": null,
            "object_fit": null,
            "object_position": null,
            "order": null,
            "overflow": null,
            "overflow_x": null,
            "overflow_y": null,
            "padding": null,
            "right": null,
            "top": null,
            "visibility": null,
            "width": null
          }
        },
        "feee42395c774c69b21e3d11167eee9a": {
          "model_module": "@jupyter-widgets/base",
          "model_name": "LayoutModel",
          "model_module_version": "1.2.0",
          "state": {
            "_model_module": "@jupyter-widgets/base",
            "_model_module_version": "1.2.0",
            "_model_name": "LayoutModel",
            "_view_count": null,
            "_view_module": "@jupyter-widgets/base",
            "_view_module_version": "1.2.0",
            "_view_name": "LayoutView",
            "align_content": null,
            "align_items": null,
            "align_self": null,
            "border": null,
            "bottom": null,
            "display": null,
            "flex": null,
            "flex_flow": null,
            "grid_area": null,
            "grid_auto_columns": null,
            "grid_auto_flow": null,
            "grid_auto_rows": null,
            "grid_column": null,
            "grid_gap": null,
            "grid_row": null,
            "grid_template_areas": null,
            "grid_template_columns": null,
            "grid_template_rows": null,
            "height": null,
            "justify_content": null,
            "justify_items": null,
            "left": null,
            "margin": null,
            "max_height": null,
            "max_width": null,
            "min_height": null,
            "min_width": null,
            "object_fit": null,
            "object_position": null,
            "order": null,
            "overflow": null,
            "overflow_x": null,
            "overflow_y": null,
            "padding": null,
            "right": null,
            "top": null,
            "visibility": null,
            "width": null
          }
        },
        "1beae0cced8347b39704cc2f841fef5b": {
          "model_module": "@jupyter-widgets/controls",
          "model_name": "DescriptionStyleModel",
          "model_module_version": "1.5.0",
          "state": {
            "_model_module": "@jupyter-widgets/controls",
            "_model_module_version": "1.5.0",
            "_model_name": "DescriptionStyleModel",
            "_view_count": null,
            "_view_module": "@jupyter-widgets/base",
            "_view_module_version": "1.2.0",
            "_view_name": "StyleView",
            "description_width": ""
          }
        },
        "c6cea9ad1bc6484d95d30499451ad809": {
          "model_module": "@jupyter-widgets/base",
          "model_name": "LayoutModel",
          "model_module_version": "1.2.0",
          "state": {
            "_model_module": "@jupyter-widgets/base",
            "_model_module_version": "1.2.0",
            "_model_name": "LayoutModel",
            "_view_count": null,
            "_view_module": "@jupyter-widgets/base",
            "_view_module_version": "1.2.0",
            "_view_name": "LayoutView",
            "align_content": null,
            "align_items": null,
            "align_self": null,
            "border": null,
            "bottom": null,
            "display": null,
            "flex": null,
            "flex_flow": null,
            "grid_area": null,
            "grid_auto_columns": null,
            "grid_auto_flow": null,
            "grid_auto_rows": null,
            "grid_column": null,
            "grid_gap": null,
            "grid_row": null,
            "grid_template_areas": null,
            "grid_template_columns": null,
            "grid_template_rows": null,
            "height": null,
            "justify_content": null,
            "justify_items": null,
            "left": null,
            "margin": null,
            "max_height": null,
            "max_width": null,
            "min_height": null,
            "min_width": null,
            "object_fit": null,
            "object_position": null,
            "order": null,
            "overflow": null,
            "overflow_x": null,
            "overflow_y": null,
            "padding": null,
            "right": null,
            "top": null,
            "visibility": null,
            "width": null
          }
        },
        "ee82013eadf24fc3b951b33f82d9d0a8": {
          "model_module": "@jupyter-widgets/controls",
          "model_name": "ProgressStyleModel",
          "model_module_version": "1.5.0",
          "state": {
            "_model_module": "@jupyter-widgets/controls",
            "_model_module_version": "1.5.0",
            "_model_name": "ProgressStyleModel",
            "_view_count": null,
            "_view_module": "@jupyter-widgets/base",
            "_view_module_version": "1.2.0",
            "_view_name": "StyleView",
            "bar_color": null,
            "description_width": ""
          }
        },
        "42fdfbc7185e4e77bdc2154fa755d859": {
          "model_module": "@jupyter-widgets/base",
          "model_name": "LayoutModel",
          "model_module_version": "1.2.0",
          "state": {
            "_model_module": "@jupyter-widgets/base",
            "_model_module_version": "1.2.0",
            "_model_name": "LayoutModel",
            "_view_count": null,
            "_view_module": "@jupyter-widgets/base",
            "_view_module_version": "1.2.0",
            "_view_name": "LayoutView",
            "align_content": null,
            "align_items": null,
            "align_self": null,
            "border": null,
            "bottom": null,
            "display": null,
            "flex": null,
            "flex_flow": null,
            "grid_area": null,
            "grid_auto_columns": null,
            "grid_auto_flow": null,
            "grid_auto_rows": null,
            "grid_column": null,
            "grid_gap": null,
            "grid_row": null,
            "grid_template_areas": null,
            "grid_template_columns": null,
            "grid_template_rows": null,
            "height": null,
            "justify_content": null,
            "justify_items": null,
            "left": null,
            "margin": null,
            "max_height": null,
            "max_width": null,
            "min_height": null,
            "min_width": null,
            "object_fit": null,
            "object_position": null,
            "order": null,
            "overflow": null,
            "overflow_x": null,
            "overflow_y": null,
            "padding": null,
            "right": null,
            "top": null,
            "visibility": null,
            "width": null
          }
        },
        "432b094f9df34711932eac425ad37b53": {
          "model_module": "@jupyter-widgets/controls",
          "model_name": "DescriptionStyleModel",
          "model_module_version": "1.5.0",
          "state": {
            "_model_module": "@jupyter-widgets/controls",
            "_model_module_version": "1.5.0",
            "_model_name": "DescriptionStyleModel",
            "_view_count": null,
            "_view_module": "@jupyter-widgets/base",
            "_view_module_version": "1.2.0",
            "_view_name": "StyleView",
            "description_width": ""
          }
        },
        "b85a109d4c2e435da3fbd77ce81909e0": {
          "model_module": "@jupyter-widgets/controls",
          "model_name": "HBoxModel",
          "model_module_version": "1.5.0",
          "state": {
            "_dom_classes": [],
            "_model_module": "@jupyter-widgets/controls",
            "_model_module_version": "1.5.0",
            "_model_name": "HBoxModel",
            "_view_count": null,
            "_view_module": "@jupyter-widgets/controls",
            "_view_module_version": "1.5.0",
            "_view_name": "HBoxView",
            "box_style": "",
            "children": [
              "IPY_MODEL_5a21e0235c4645bba2e7d296c8eab07d",
              "IPY_MODEL_392fe3d498c14d248dedb3f88641bb16",
              "IPY_MODEL_c80314f8cdaf40e2baf931471c3ac182"
            ],
            "layout": "IPY_MODEL_a4177dd8ccfb4b9189fca2b6d1171d18"
          }
        },
        "5a21e0235c4645bba2e7d296c8eab07d": {
          "model_module": "@jupyter-widgets/controls",
          "model_name": "HTMLModel",
          "model_module_version": "1.5.0",
          "state": {
            "_dom_classes": [],
            "_model_module": "@jupyter-widgets/controls",
            "_model_module_version": "1.5.0",
            "_model_name": "HTMLModel",
            "_view_count": null,
            "_view_module": "@jupyter-widgets/controls",
            "_view_module_version": "1.5.0",
            "_view_name": "HTMLView",
            "description": "",
            "description_tooltip": null,
            "layout": "IPY_MODEL_2fd9422390b041d7a3fe4ed0b7cba88b",
            "placeholder": "​",
            "style": "IPY_MODEL_902c88fc8d4d4e8ca700dc7206ce3567",
            "value": "Downloading tf_model.h5: 100%"
          }
        },
        "392fe3d498c14d248dedb3f88641bb16": {
          "model_module": "@jupyter-widgets/controls",
          "model_name": "FloatProgressModel",
          "model_module_version": "1.5.0",
          "state": {
            "_dom_classes": [],
            "_model_module": "@jupyter-widgets/controls",
            "_model_module_version": "1.5.0",
            "_model_name": "FloatProgressModel",
            "_view_count": null,
            "_view_module": "@jupyter-widgets/controls",
            "_view_module_version": "1.5.0",
            "_view_name": "ProgressView",
            "bar_style": "success",
            "description": "",
            "description_tooltip": null,
            "layout": "IPY_MODEL_b25f94fd0757478db6de6d2f6e73c000",
            "max": 892146080,
            "min": 0,
            "orientation": "horizontal",
            "style": "IPY_MODEL_e524dd6f07244dc5802526ebc3378f7f",
            "value": 892146080
          }
        },
        "c80314f8cdaf40e2baf931471c3ac182": {
          "model_module": "@jupyter-widgets/controls",
          "model_name": "HTMLModel",
          "model_module_version": "1.5.0",
          "state": {
            "_dom_classes": [],
            "_model_module": "@jupyter-widgets/controls",
            "_model_module_version": "1.5.0",
            "_model_name": "HTMLModel",
            "_view_count": null,
            "_view_module": "@jupyter-widgets/controls",
            "_view_module_version": "1.5.0",
            "_view_name": "HTMLView",
            "description": "",
            "description_tooltip": null,
            "layout": "IPY_MODEL_3985813c39ab4b93bfbc880d3af62a22",
            "placeholder": "​",
            "style": "IPY_MODEL_9cf77328f15a4eefa05d712d31d2f2d0",
            "value": " 892M/892M [00:06&lt;00:00, 133MB/s]"
          }
        },
        "a4177dd8ccfb4b9189fca2b6d1171d18": {
          "model_module": "@jupyter-widgets/base",
          "model_name": "LayoutModel",
          "model_module_version": "1.2.0",
          "state": {
            "_model_module": "@jupyter-widgets/base",
            "_model_module_version": "1.2.0",
            "_model_name": "LayoutModel",
            "_view_count": null,
            "_view_module": "@jupyter-widgets/base",
            "_view_module_version": "1.2.0",
            "_view_name": "LayoutView",
            "align_content": null,
            "align_items": null,
            "align_self": null,
            "border": null,
            "bottom": null,
            "display": null,
            "flex": null,
            "flex_flow": null,
            "grid_area": null,
            "grid_auto_columns": null,
            "grid_auto_flow": null,
            "grid_auto_rows": null,
            "grid_column": null,
            "grid_gap": null,
            "grid_row": null,
            "grid_template_areas": null,
            "grid_template_columns": null,
            "grid_template_rows": null,
            "height": null,
            "justify_content": null,
            "justify_items": null,
            "left": null,
            "margin": null,
            "max_height": null,
            "max_width": null,
            "min_height": null,
            "min_width": null,
            "object_fit": null,
            "object_position": null,
            "order": null,
            "overflow": null,
            "overflow_x": null,
            "overflow_y": null,
            "padding": null,
            "right": null,
            "top": null,
            "visibility": null,
            "width": null
          }
        },
        "2fd9422390b041d7a3fe4ed0b7cba88b": {
          "model_module": "@jupyter-widgets/base",
          "model_name": "LayoutModel",
          "model_module_version": "1.2.0",
          "state": {
            "_model_module": "@jupyter-widgets/base",
            "_model_module_version": "1.2.0",
            "_model_name": "LayoutModel",
            "_view_count": null,
            "_view_module": "@jupyter-widgets/base",
            "_view_module_version": "1.2.0",
            "_view_name": "LayoutView",
            "align_content": null,
            "align_items": null,
            "align_self": null,
            "border": null,
            "bottom": null,
            "display": null,
            "flex": null,
            "flex_flow": null,
            "grid_area": null,
            "grid_auto_columns": null,
            "grid_auto_flow": null,
            "grid_auto_rows": null,
            "grid_column": null,
            "grid_gap": null,
            "grid_row": null,
            "grid_template_areas": null,
            "grid_template_columns": null,
            "grid_template_rows": null,
            "height": null,
            "justify_content": null,
            "justify_items": null,
            "left": null,
            "margin": null,
            "max_height": null,
            "max_width": null,
            "min_height": null,
            "min_width": null,
            "object_fit": null,
            "object_position": null,
            "order": null,
            "overflow": null,
            "overflow_x": null,
            "overflow_y": null,
            "padding": null,
            "right": null,
            "top": null,
            "visibility": null,
            "width": null
          }
        },
        "902c88fc8d4d4e8ca700dc7206ce3567": {
          "model_module": "@jupyter-widgets/controls",
          "model_name": "DescriptionStyleModel",
          "model_module_version": "1.5.0",
          "state": {
            "_model_module": "@jupyter-widgets/controls",
            "_model_module_version": "1.5.0",
            "_model_name": "DescriptionStyleModel",
            "_view_count": null,
            "_view_module": "@jupyter-widgets/base",
            "_view_module_version": "1.2.0",
            "_view_name": "StyleView",
            "description_width": ""
          }
        },
        "b25f94fd0757478db6de6d2f6e73c000": {
          "model_module": "@jupyter-widgets/base",
          "model_name": "LayoutModel",
          "model_module_version": "1.2.0",
          "state": {
            "_model_module": "@jupyter-widgets/base",
            "_model_module_version": "1.2.0",
            "_model_name": "LayoutModel",
            "_view_count": null,
            "_view_module": "@jupyter-widgets/base",
            "_view_module_version": "1.2.0",
            "_view_name": "LayoutView",
            "align_content": null,
            "align_items": null,
            "align_self": null,
            "border": null,
            "bottom": null,
            "display": null,
            "flex": null,
            "flex_flow": null,
            "grid_area": null,
            "grid_auto_columns": null,
            "grid_auto_flow": null,
            "grid_auto_rows": null,
            "grid_column": null,
            "grid_gap": null,
            "grid_row": null,
            "grid_template_areas": null,
            "grid_template_columns": null,
            "grid_template_rows": null,
            "height": null,
            "justify_content": null,
            "justify_items": null,
            "left": null,
            "margin": null,
            "max_height": null,
            "max_width": null,
            "min_height": null,
            "min_width": null,
            "object_fit": null,
            "object_position": null,
            "order": null,
            "overflow": null,
            "overflow_x": null,
            "overflow_y": null,
            "padding": null,
            "right": null,
            "top": null,
            "visibility": null,
            "width": null
          }
        },
        "e524dd6f07244dc5802526ebc3378f7f": {
          "model_module": "@jupyter-widgets/controls",
          "model_name": "ProgressStyleModel",
          "model_module_version": "1.5.0",
          "state": {
            "_model_module": "@jupyter-widgets/controls",
            "_model_module_version": "1.5.0",
            "_model_name": "ProgressStyleModel",
            "_view_count": null,
            "_view_module": "@jupyter-widgets/base",
            "_view_module_version": "1.2.0",
            "_view_name": "StyleView",
            "bar_color": null,
            "description_width": ""
          }
        },
        "3985813c39ab4b93bfbc880d3af62a22": {
          "model_module": "@jupyter-widgets/base",
          "model_name": "LayoutModel",
          "model_module_version": "1.2.0",
          "state": {
            "_model_module": "@jupyter-widgets/base",
            "_model_module_version": "1.2.0",
            "_model_name": "LayoutModel",
            "_view_count": null,
            "_view_module": "@jupyter-widgets/base",
            "_view_module_version": "1.2.0",
            "_view_name": "LayoutView",
            "align_content": null,
            "align_items": null,
            "align_self": null,
            "border": null,
            "bottom": null,
            "display": null,
            "flex": null,
            "flex_flow": null,
            "grid_area": null,
            "grid_auto_columns": null,
            "grid_auto_flow": null,
            "grid_auto_rows": null,
            "grid_column": null,
            "grid_gap": null,
            "grid_row": null,
            "grid_template_areas": null,
            "grid_template_columns": null,
            "grid_template_rows": null,
            "height": null,
            "justify_content": null,
            "justify_items": null,
            "left": null,
            "margin": null,
            "max_height": null,
            "max_width": null,
            "min_height": null,
            "min_width": null,
            "object_fit": null,
            "object_position": null,
            "order": null,
            "overflow": null,
            "overflow_x": null,
            "overflow_y": null,
            "padding": null,
            "right": null,
            "top": null,
            "visibility": null,
            "width": null
          }
        },
        "9cf77328f15a4eefa05d712d31d2f2d0": {
          "model_module": "@jupyter-widgets/controls",
          "model_name": "DescriptionStyleModel",
          "model_module_version": "1.5.0",
          "state": {
            "_model_module": "@jupyter-widgets/controls",
            "_model_module_version": "1.5.0",
            "_model_name": "DescriptionStyleModel",
            "_view_count": null,
            "_view_module": "@jupyter-widgets/base",
            "_view_module_version": "1.2.0",
            "_view_name": "StyleView",
            "description_width": ""
          }
        },
        "c581fd372e9c47d29bd73fb4c3623590": {
          "model_module": "@jupyter-widgets/controls",
          "model_name": "HBoxModel",
          "model_module_version": "1.5.0",
          "state": {
            "_dom_classes": [],
            "_model_module": "@jupyter-widgets/controls",
            "_model_module_version": "1.5.0",
            "_model_name": "HBoxModel",
            "_view_count": null,
            "_view_module": "@jupyter-widgets/controls",
            "_view_module_version": "1.5.0",
            "_view_name": "HBoxView",
            "box_style": "",
            "children": [
              "IPY_MODEL_94d7e48df3af4813a88c3feec31acfa9",
              "IPY_MODEL_703bd852711e4715a7968a7e51495635",
              "IPY_MODEL_4da35b3662de42828e39627e783286af"
            ],
            "layout": "IPY_MODEL_2e579634f0784c02af400f830622adc7"
          }
        },
        "94d7e48df3af4813a88c3feec31acfa9": {
          "model_module": "@jupyter-widgets/controls",
          "model_name": "HTMLModel",
          "model_module_version": "1.5.0",
          "state": {
            "_dom_classes": [],
            "_model_module": "@jupyter-widgets/controls",
            "_model_module_version": "1.5.0",
            "_model_name": "HTMLModel",
            "_view_count": null,
            "_view_module": "@jupyter-widgets/controls",
            "_view_module_version": "1.5.0",
            "_view_name": "HTMLView",
            "description": "",
            "description_tooltip": null,
            "layout": "IPY_MODEL_fbbb637cd1304838938d8bb678a28ab5",
            "placeholder": "​",
            "style": "IPY_MODEL_9aefd9773ee44aa48b7182a39a9639da",
            "value": "Downloading (…)neration_config.json: 100%"
          }
        },
        "703bd852711e4715a7968a7e51495635": {
          "model_module": "@jupyter-widgets/controls",
          "model_name": "FloatProgressModel",
          "model_module_version": "1.5.0",
          "state": {
            "_dom_classes": [],
            "_model_module": "@jupyter-widgets/controls",
            "_model_module_version": "1.5.0",
            "_model_name": "FloatProgressModel",
            "_view_count": null,
            "_view_module": "@jupyter-widgets/controls",
            "_view_module_version": "1.5.0",
            "_view_name": "ProgressView",
            "bar_style": "success",
            "description": "",
            "description_tooltip": null,
            "layout": "IPY_MODEL_2d3281a9aecf439aa54c4cb1be808eb8",
            "max": 147,
            "min": 0,
            "orientation": "horizontal",
            "style": "IPY_MODEL_3a9b7f5d32fd490e8afaa42316c09a97",
            "value": 147
          }
        },
        "4da35b3662de42828e39627e783286af": {
          "model_module": "@jupyter-widgets/controls",
          "model_name": "HTMLModel",
          "model_module_version": "1.5.0",
          "state": {
            "_dom_classes": [],
            "_model_module": "@jupyter-widgets/controls",
            "_model_module_version": "1.5.0",
            "_model_name": "HTMLModel",
            "_view_count": null,
            "_view_module": "@jupyter-widgets/controls",
            "_view_module_version": "1.5.0",
            "_view_name": "HTMLView",
            "description": "",
            "description_tooltip": null,
            "layout": "IPY_MODEL_7bc4ab424a23407e802782425410db5e",
            "placeholder": "​",
            "style": "IPY_MODEL_1bc8b71748d943e6bcc1b5ff16952416",
            "value": " 147/147 [00:00&lt;00:00, 8.08kB/s]"
          }
        },
        "2e579634f0784c02af400f830622adc7": {
          "model_module": "@jupyter-widgets/base",
          "model_name": "LayoutModel",
          "model_module_version": "1.2.0",
          "state": {
            "_model_module": "@jupyter-widgets/base",
            "_model_module_version": "1.2.0",
            "_model_name": "LayoutModel",
            "_view_count": null,
            "_view_module": "@jupyter-widgets/base",
            "_view_module_version": "1.2.0",
            "_view_name": "LayoutView",
            "align_content": null,
            "align_items": null,
            "align_self": null,
            "border": null,
            "bottom": null,
            "display": null,
            "flex": null,
            "flex_flow": null,
            "grid_area": null,
            "grid_auto_columns": null,
            "grid_auto_flow": null,
            "grid_auto_rows": null,
            "grid_column": null,
            "grid_gap": null,
            "grid_row": null,
            "grid_template_areas": null,
            "grid_template_columns": null,
            "grid_template_rows": null,
            "height": null,
            "justify_content": null,
            "justify_items": null,
            "left": null,
            "margin": null,
            "max_height": null,
            "max_width": null,
            "min_height": null,
            "min_width": null,
            "object_fit": null,
            "object_position": null,
            "order": null,
            "overflow": null,
            "overflow_x": null,
            "overflow_y": null,
            "padding": null,
            "right": null,
            "top": null,
            "visibility": null,
            "width": null
          }
        },
        "fbbb637cd1304838938d8bb678a28ab5": {
          "model_module": "@jupyter-widgets/base",
          "model_name": "LayoutModel",
          "model_module_version": "1.2.0",
          "state": {
            "_model_module": "@jupyter-widgets/base",
            "_model_module_version": "1.2.0",
            "_model_name": "LayoutModel",
            "_view_count": null,
            "_view_module": "@jupyter-widgets/base",
            "_view_module_version": "1.2.0",
            "_view_name": "LayoutView",
            "align_content": null,
            "align_items": null,
            "align_self": null,
            "border": null,
            "bottom": null,
            "display": null,
            "flex": null,
            "flex_flow": null,
            "grid_area": null,
            "grid_auto_columns": null,
            "grid_auto_flow": null,
            "grid_auto_rows": null,
            "grid_column": null,
            "grid_gap": null,
            "grid_row": null,
            "grid_template_areas": null,
            "grid_template_columns": null,
            "grid_template_rows": null,
            "height": null,
            "justify_content": null,
            "justify_items": null,
            "left": null,
            "margin": null,
            "max_height": null,
            "max_width": null,
            "min_height": null,
            "min_width": null,
            "object_fit": null,
            "object_position": null,
            "order": null,
            "overflow": null,
            "overflow_x": null,
            "overflow_y": null,
            "padding": null,
            "right": null,
            "top": null,
            "visibility": null,
            "width": null
          }
        },
        "9aefd9773ee44aa48b7182a39a9639da": {
          "model_module": "@jupyter-widgets/controls",
          "model_name": "DescriptionStyleModel",
          "model_module_version": "1.5.0",
          "state": {
            "_model_module": "@jupyter-widgets/controls",
            "_model_module_version": "1.5.0",
            "_model_name": "DescriptionStyleModel",
            "_view_count": null,
            "_view_module": "@jupyter-widgets/base",
            "_view_module_version": "1.2.0",
            "_view_name": "StyleView",
            "description_width": ""
          }
        },
        "2d3281a9aecf439aa54c4cb1be808eb8": {
          "model_module": "@jupyter-widgets/base",
          "model_name": "LayoutModel",
          "model_module_version": "1.2.0",
          "state": {
            "_model_module": "@jupyter-widgets/base",
            "_model_module_version": "1.2.0",
            "_model_name": "LayoutModel",
            "_view_count": null,
            "_view_module": "@jupyter-widgets/base",
            "_view_module_version": "1.2.0",
            "_view_name": "LayoutView",
            "align_content": null,
            "align_items": null,
            "align_self": null,
            "border": null,
            "bottom": null,
            "display": null,
            "flex": null,
            "flex_flow": null,
            "grid_area": null,
            "grid_auto_columns": null,
            "grid_auto_flow": null,
            "grid_auto_rows": null,
            "grid_column": null,
            "grid_gap": null,
            "grid_row": null,
            "grid_template_areas": null,
            "grid_template_columns": null,
            "grid_template_rows": null,
            "height": null,
            "justify_content": null,
            "justify_items": null,
            "left": null,
            "margin": null,
            "max_height": null,
            "max_width": null,
            "min_height": null,
            "min_width": null,
            "object_fit": null,
            "object_position": null,
            "order": null,
            "overflow": null,
            "overflow_x": null,
            "overflow_y": null,
            "padding": null,
            "right": null,
            "top": null,
            "visibility": null,
            "width": null
          }
        },
        "3a9b7f5d32fd490e8afaa42316c09a97": {
          "model_module": "@jupyter-widgets/controls",
          "model_name": "ProgressStyleModel",
          "model_module_version": "1.5.0",
          "state": {
            "_model_module": "@jupyter-widgets/controls",
            "_model_module_version": "1.5.0",
            "_model_name": "ProgressStyleModel",
            "_view_count": null,
            "_view_module": "@jupyter-widgets/base",
            "_view_module_version": "1.2.0",
            "_view_name": "StyleView",
            "bar_color": null,
            "description_width": ""
          }
        },
        "7bc4ab424a23407e802782425410db5e": {
          "model_module": "@jupyter-widgets/base",
          "model_name": "LayoutModel",
          "model_module_version": "1.2.0",
          "state": {
            "_model_module": "@jupyter-widgets/base",
            "_model_module_version": "1.2.0",
            "_model_name": "LayoutModel",
            "_view_count": null,
            "_view_module": "@jupyter-widgets/base",
            "_view_module_version": "1.2.0",
            "_view_name": "LayoutView",
            "align_content": null,
            "align_items": null,
            "align_self": null,
            "border": null,
            "bottom": null,
            "display": null,
            "flex": null,
            "flex_flow": null,
            "grid_area": null,
            "grid_auto_columns": null,
            "grid_auto_flow": null,
            "grid_auto_rows": null,
            "grid_column": null,
            "grid_gap": null,
            "grid_row": null,
            "grid_template_areas": null,
            "grid_template_columns": null,
            "grid_template_rows": null,
            "height": null,
            "justify_content": null,
            "justify_items": null,
            "left": null,
            "margin": null,
            "max_height": null,
            "max_width": null,
            "min_height": null,
            "min_width": null,
            "object_fit": null,
            "object_position": null,
            "order": null,
            "overflow": null,
            "overflow_x": null,
            "overflow_y": null,
            "padding": null,
            "right": null,
            "top": null,
            "visibility": null,
            "width": null
          }
        },
        "1bc8b71748d943e6bcc1b5ff16952416": {
          "model_module": "@jupyter-widgets/controls",
          "model_name": "DescriptionStyleModel",
          "model_module_version": "1.5.0",
          "state": {
            "_model_module": "@jupyter-widgets/controls",
            "_model_module_version": "1.5.0",
            "_model_name": "DescriptionStyleModel",
            "_view_count": null,
            "_view_module": "@jupyter-widgets/base",
            "_view_module_version": "1.2.0",
            "_view_name": "StyleView",
            "description_width": ""
          }
        },
        "e6f6f67e620d4726abf9da223fea47d3": {
          "model_module": "@jupyter-widgets/controls",
          "model_name": "HBoxModel",
          "model_module_version": "1.5.0",
          "state": {
            "_dom_classes": [],
            "_model_module": "@jupyter-widgets/controls",
            "_model_module_version": "1.5.0",
            "_model_name": "HBoxModel",
            "_view_count": null,
            "_view_module": "@jupyter-widgets/controls",
            "_view_module_version": "1.5.0",
            "_view_name": "HBoxView",
            "box_style": "",
            "children": [
              "IPY_MODEL_090734df28c74f0294be45fdb73d3503",
              "IPY_MODEL_8c72ac334be0472bb7285fb8fd30a93a",
              "IPY_MODEL_f02c13eb98044a53a1c3d5986cc38176"
            ],
            "layout": "IPY_MODEL_eb262e356d724396a20865094dd1df33"
          }
        },
        "090734df28c74f0294be45fdb73d3503": {
          "model_module": "@jupyter-widgets/controls",
          "model_name": "HTMLModel",
          "model_module_version": "1.5.0",
          "state": {
            "_dom_classes": [],
            "_model_module": "@jupyter-widgets/controls",
            "_model_module_version": "1.5.0",
            "_model_name": "HTMLModel",
            "_view_count": null,
            "_view_module": "@jupyter-widgets/controls",
            "_view_module_version": "1.5.0",
            "_view_name": "HTMLView",
            "description": "",
            "description_tooltip": null,
            "layout": "IPY_MODEL_7a75441b593447adaac41e68e9aaa5b0",
            "placeholder": "​",
            "style": "IPY_MODEL_b89d28070a154047b86b1f5fe5642211",
            "value": "Downloading (…)ve/main/spiece.model: 100%"
          }
        },
        "8c72ac334be0472bb7285fb8fd30a93a": {
          "model_module": "@jupyter-widgets/controls",
          "model_name": "FloatProgressModel",
          "model_module_version": "1.5.0",
          "state": {
            "_dom_classes": [],
            "_model_module": "@jupyter-widgets/controls",
            "_model_module_version": "1.5.0",
            "_model_name": "FloatProgressModel",
            "_view_count": null,
            "_view_module": "@jupyter-widgets/controls",
            "_view_module_version": "1.5.0",
            "_view_name": "ProgressView",
            "bar_style": "success",
            "description": "",
            "description_tooltip": null,
            "layout": "IPY_MODEL_77b3f5dcb4014810a8c4ea7d48845d38",
            "max": 791656,
            "min": 0,
            "orientation": "horizontal",
            "style": "IPY_MODEL_5a07977a94c2455a847aa0cc9f22d2a2",
            "value": 791656
          }
        },
        "f02c13eb98044a53a1c3d5986cc38176": {
          "model_module": "@jupyter-widgets/controls",
          "model_name": "HTMLModel",
          "model_module_version": "1.5.0",
          "state": {
            "_dom_classes": [],
            "_model_module": "@jupyter-widgets/controls",
            "_model_module_version": "1.5.0",
            "_model_name": "HTMLModel",
            "_view_count": null,
            "_view_module": "@jupyter-widgets/controls",
            "_view_module_version": "1.5.0",
            "_view_name": "HTMLView",
            "description": "",
            "description_tooltip": null,
            "layout": "IPY_MODEL_b6764a39be0343bcb3b7257c42b4972e",
            "placeholder": "​",
            "style": "IPY_MODEL_1c446df6e0034a7eb2f57a1ee225bd40",
            "value": " 792k/792k [00:00&lt;00:00, 6.72MB/s]"
          }
        },
        "eb262e356d724396a20865094dd1df33": {
          "model_module": "@jupyter-widgets/base",
          "model_name": "LayoutModel",
          "model_module_version": "1.2.0",
          "state": {
            "_model_module": "@jupyter-widgets/base",
            "_model_module_version": "1.2.0",
            "_model_name": "LayoutModel",
            "_view_count": null,
            "_view_module": "@jupyter-widgets/base",
            "_view_module_version": "1.2.0",
            "_view_name": "LayoutView",
            "align_content": null,
            "align_items": null,
            "align_self": null,
            "border": null,
            "bottom": null,
            "display": null,
            "flex": null,
            "flex_flow": null,
            "grid_area": null,
            "grid_auto_columns": null,
            "grid_auto_flow": null,
            "grid_auto_rows": null,
            "grid_column": null,
            "grid_gap": null,
            "grid_row": null,
            "grid_template_areas": null,
            "grid_template_columns": null,
            "grid_template_rows": null,
            "height": null,
            "justify_content": null,
            "justify_items": null,
            "left": null,
            "margin": null,
            "max_height": null,
            "max_width": null,
            "min_height": null,
            "min_width": null,
            "object_fit": null,
            "object_position": null,
            "order": null,
            "overflow": null,
            "overflow_x": null,
            "overflow_y": null,
            "padding": null,
            "right": null,
            "top": null,
            "visibility": null,
            "width": null
          }
        },
        "7a75441b593447adaac41e68e9aaa5b0": {
          "model_module": "@jupyter-widgets/base",
          "model_name": "LayoutModel",
          "model_module_version": "1.2.0",
          "state": {
            "_model_module": "@jupyter-widgets/base",
            "_model_module_version": "1.2.0",
            "_model_name": "LayoutModel",
            "_view_count": null,
            "_view_module": "@jupyter-widgets/base",
            "_view_module_version": "1.2.0",
            "_view_name": "LayoutView",
            "align_content": null,
            "align_items": null,
            "align_self": null,
            "border": null,
            "bottom": null,
            "display": null,
            "flex": null,
            "flex_flow": null,
            "grid_area": null,
            "grid_auto_columns": null,
            "grid_auto_flow": null,
            "grid_auto_rows": null,
            "grid_column": null,
            "grid_gap": null,
            "grid_row": null,
            "grid_template_areas": null,
            "grid_template_columns": null,
            "grid_template_rows": null,
            "height": null,
            "justify_content": null,
            "justify_items": null,
            "left": null,
            "margin": null,
            "max_height": null,
            "max_width": null,
            "min_height": null,
            "min_width": null,
            "object_fit": null,
            "object_position": null,
            "order": null,
            "overflow": null,
            "overflow_x": null,
            "overflow_y": null,
            "padding": null,
            "right": null,
            "top": null,
            "visibility": null,
            "width": null
          }
        },
        "b89d28070a154047b86b1f5fe5642211": {
          "model_module": "@jupyter-widgets/controls",
          "model_name": "DescriptionStyleModel",
          "model_module_version": "1.5.0",
          "state": {
            "_model_module": "@jupyter-widgets/controls",
            "_model_module_version": "1.5.0",
            "_model_name": "DescriptionStyleModel",
            "_view_count": null,
            "_view_module": "@jupyter-widgets/base",
            "_view_module_version": "1.2.0",
            "_view_name": "StyleView",
            "description_width": ""
          }
        },
        "77b3f5dcb4014810a8c4ea7d48845d38": {
          "model_module": "@jupyter-widgets/base",
          "model_name": "LayoutModel",
          "model_module_version": "1.2.0",
          "state": {
            "_model_module": "@jupyter-widgets/base",
            "_model_module_version": "1.2.0",
            "_model_name": "LayoutModel",
            "_view_count": null,
            "_view_module": "@jupyter-widgets/base",
            "_view_module_version": "1.2.0",
            "_view_name": "LayoutView",
            "align_content": null,
            "align_items": null,
            "align_self": null,
            "border": null,
            "bottom": null,
            "display": null,
            "flex": null,
            "flex_flow": null,
            "grid_area": null,
            "grid_auto_columns": null,
            "grid_auto_flow": null,
            "grid_auto_rows": null,
            "grid_column": null,
            "grid_gap": null,
            "grid_row": null,
            "grid_template_areas": null,
            "grid_template_columns": null,
            "grid_template_rows": null,
            "height": null,
            "justify_content": null,
            "justify_items": null,
            "left": null,
            "margin": null,
            "max_height": null,
            "max_width": null,
            "min_height": null,
            "min_width": null,
            "object_fit": null,
            "object_position": null,
            "order": null,
            "overflow": null,
            "overflow_x": null,
            "overflow_y": null,
            "padding": null,
            "right": null,
            "top": null,
            "visibility": null,
            "width": null
          }
        },
        "5a07977a94c2455a847aa0cc9f22d2a2": {
          "model_module": "@jupyter-widgets/controls",
          "model_name": "ProgressStyleModel",
          "model_module_version": "1.5.0",
          "state": {
            "_model_module": "@jupyter-widgets/controls",
            "_model_module_version": "1.5.0",
            "_model_name": "ProgressStyleModel",
            "_view_count": null,
            "_view_module": "@jupyter-widgets/base",
            "_view_module_version": "1.2.0",
            "_view_name": "StyleView",
            "bar_color": null,
            "description_width": ""
          }
        },
        "b6764a39be0343bcb3b7257c42b4972e": {
          "model_module": "@jupyter-widgets/base",
          "model_name": "LayoutModel",
          "model_module_version": "1.2.0",
          "state": {
            "_model_module": "@jupyter-widgets/base",
            "_model_module_version": "1.2.0",
            "_model_name": "LayoutModel",
            "_view_count": null,
            "_view_module": "@jupyter-widgets/base",
            "_view_module_version": "1.2.0",
            "_view_name": "LayoutView",
            "align_content": null,
            "align_items": null,
            "align_self": null,
            "border": null,
            "bottom": null,
            "display": null,
            "flex": null,
            "flex_flow": null,
            "grid_area": null,
            "grid_auto_columns": null,
            "grid_auto_flow": null,
            "grid_auto_rows": null,
            "grid_column": null,
            "grid_gap": null,
            "grid_row": null,
            "grid_template_areas": null,
            "grid_template_columns": null,
            "grid_template_rows": null,
            "height": null,
            "justify_content": null,
            "justify_items": null,
            "left": null,
            "margin": null,
            "max_height": null,
            "max_width": null,
            "min_height": null,
            "min_width": null,
            "object_fit": null,
            "object_position": null,
            "order": null,
            "overflow": null,
            "overflow_x": null,
            "overflow_y": null,
            "padding": null,
            "right": null,
            "top": null,
            "visibility": null,
            "width": null
          }
        },
        "1c446df6e0034a7eb2f57a1ee225bd40": {
          "model_module": "@jupyter-widgets/controls",
          "model_name": "DescriptionStyleModel",
          "model_module_version": "1.5.0",
          "state": {
            "_model_module": "@jupyter-widgets/controls",
            "_model_module_version": "1.5.0",
            "_model_name": "DescriptionStyleModel",
            "_view_count": null,
            "_view_module": "@jupyter-widgets/base",
            "_view_module_version": "1.2.0",
            "_view_name": "StyleView",
            "description_width": ""
          }
        }
      }
    }
  },
  "nbformat": 4,
  "nbformat_minor": 0
}